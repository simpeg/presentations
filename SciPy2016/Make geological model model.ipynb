{
 "cells": [
  {
   "cell_type": "code",
   "execution_count": 2,
   "metadata": {
    "collapsed": true
   },
   "outputs": [],
   "source": [
    "# Import \n",
    "import SimPEG as simpeg, telluricpy\n",
    "import simpegViz"
   ]
  },
  {
   "cell_type": "code",
   "execution_count": 3,
   "metadata": {
    "collapsed": false
   },
   "outputs": [],
   "source": [
    "def simpeg2vtk(mesh,modDict):\n",
    "    \n",
    "    from vtk import vtkRectilinearGrid as rectGrid, vtkXMLRectilinearGridWriter as rectWriter, VTK_VERSION\n",
    "    from vtk.util.numpy_support import numpy_to_vtk\n",
    "\n",
    "    # Deal with dimensionalities\n",
    "    if mesh.dim >= 1:\n",
    "        vX = mesh.vectorNx\n",
    "        xD = mesh.nNx\n",
    "        yD,zD = 1,1\n",
    "        vY, vZ = np.array([0,0])\n",
    "    if mesh.dim >= 2:\n",
    "        vY = mesh.vectorNy\n",
    "        yD = mesh.nNy\n",
    "    if mesh.dim == 3:\n",
    "        vZ = mesh.vectorNz\n",
    "        zD = mesh.nNz\n",
    "    # Use rectilinear VTK grid.\n",
    "    # Assign the spatial information.\n",
    "    vtkObj = rectGrid()\n",
    "    vtkObj.SetDimensions(xD,yD,zD)\n",
    "    vtkObj.SetXCoordinates(numpy_to_vtk(vX,deep=1))\n",
    "    vtkObj.SetYCoordinates(numpy_to_vtk(vY,deep=1))\n",
    "    vtkObj.SetZCoordinates(numpy_to_vtk(vZ,deep=1))\n",
    "\n",
    "    # Assign the model('s) to the object\n",
    "    if modDict is not None:\n",
    "        for item in modDict.iteritems():\n",
    "            # Convert numpy array\n",
    "            vtkDoubleArr = numpy_to_vtk(item[1],deep=1)\n",
    "            vtkDoubleArr.SetName(item[0])\n",
    "            vtkObj.GetCellData().AddArray(vtkDoubleArr)\n",
    "        # Set the active scalar\n",
    "        vtkObj.GetCellData().SetActiveScalars(modDict.keys()[0])\n",
    "    return vtkObj"
   ]
  },
  {
   "cell_type": "code",
   "execution_count": 4,
   "metadata": {
    "collapsed": false
   },
   "outputs": [],
   "source": [
    "# Load all the data\n",
    "PK1 = telluricpy.vtkTools.io.readVTPFile('Geological_model/PK1.vtp')\n",
    "HK1 = telluricpy.vtkTools.io.readVTPFile('Geological_model/HK1.vtp')\n",
    "VK = telluricpy.vtkTools.io.readVTPFile('Geological_model/VK.vtp')\n",
    "VOI = telluricpy.vtkTools.polydata.triangulatePolyData(telluricpy.vtkTools.io.readVTPFile('Geological_model/VOI.vtp'))\n",
    "topo = telluricpy.vtkTools.polydata.cleanPolyData(telluricpy.vtkTools.io.readVTPFile('Geological_model/topo_VOI.vtp'))\n",
    "till = telluricpy.vtkTools.extraction.vtu2vtp(telluricpy.vtkTools.io.readVTUFile('Geological_model/till_VOI.vtu'))"
   ]
  },
  {
   "cell_type": "code",
   "execution_count": 5,
   "metadata": {
    "collapsed": false
   },
   "outputs": [],
   "source": [
    "# Make the background mesh\n",
    "x0 = np.array([557100.0,7133350.0,-100])\n",
    "mesh = simpeg.Mesh.TensorMesh([[(25,22)],[(25,24)],[(25,24)]],x0 = x0)\n",
    "# Mesh\n",
    "meshVTR = simpeg2vtk(mesh,{'id':np.arange(mesh.nC)})"
   ]
  },
  {
   "cell_type": "code",
   "execution_count": 6,
   "metadata": {
    "collapsed": true
   },
   "outputs": [],
   "source": [
    "# Clip the vtr mesh with the topo\n",
    "groundClip = telluricpy.vtkTools.extraction.clipDataSetWithPolygon(meshVTR,topo,insideOut=False,extractBounds=False)"
   ]
  },
  {
   "cell_type": "code",
   "execution_count": 7,
   "metadata": {
    "collapsed": false
   },
   "outputs": [],
   "source": [
    "# telluricpy.vtkTools.dataset.addNPDataArrays(groundClip,{'GeoType':np.ones(groundClip.GetNumberOfCells())*0})"
   ]
  },
  {
   "cell_type": "code",
   "execution_count": 8,
   "metadata": {
    "collapsed": true
   },
   "outputs": [],
   "source": [
    "telluricpy.vtkTools.io.writeVTUFile('groundMesh.vtu',groundClip)"
   ]
  },
  {
   "cell_type": "code",
   "execution_count": 9,
   "metadata": {
    "collapsed": false
   },
   "outputs": [],
   "source": [
    "# Till volume\n",
    "tillClip = telluricpy.vtkTools.extraction.clipDataSetWithPolygon(groundClip,till,insideOut=True,extractBounds=False)"
   ]
  },
  {
   "cell_type": "code",
   "execution_count": 10,
   "metadata": {
    "collapsed": true
   },
   "outputs": [],
   "source": [
    "telluricpy.vtkTools.dataset.addNPDataArrays(tillClip,{'GeoType':np.ones(groundClip.GetNumberOfCells())*1.})"
   ]
  },
  {
   "cell_type": "code",
   "execution_count": 11,
   "metadata": {
    "collapsed": false
   },
   "outputs": [],
   "source": [
    "telluricpy.vtkTools.io.writeVTUFile('tillMesh.vtu',tillClip)"
   ]
  },
  {
   "cell_type": "code",
   "execution_count": 12,
   "metadata": {
    "collapsed": true
   },
   "outputs": [],
   "source": [
    "# Background\n",
    "backClip = telluricpy.vtkTools.extraction.clipDataSetWithPolygon(groundClip,till,insideOut=False,extractBounds=False)"
   ]
  },
  {
   "cell_type": "code",
   "execution_count": 13,
   "metadata": {
    "collapsed": true
   },
   "outputs": [],
   "source": [
    "telluricpy.vtkTools.dataset.addNPDataArrays(backClip,{'GeoType':np.ones(groundClip.GetNumberOfCells())*0.})"
   ]
  },
  {
   "cell_type": "code",
   "execution_count": 14,
   "metadata": {
    "collapsed": true
   },
   "outputs": [],
   "source": [
    "telluricpy.vtkTools.io.writeVTUFile('backMesh.vtu',backClip)"
   ]
  },
  {
   "cell_type": "code",
   "execution_count": 15,
   "metadata": {
    "collapsed": true
   },
   "outputs": [],
   "source": [
    "# Append to a single mesh\n",
    "appFilt = vtk.vtkAppendFilter()\n",
    "appFilt.AddInputData(tillClip)\n",
    "appFilt.AddInputData(backClip)\n",
    "appFilt.Update()"
   ]
  },
  {
   "cell_type": "code",
   "execution_count": 16,
   "metadata": {
    "collapsed": true
   },
   "outputs": [],
   "source": [
    "tillbackMesh = appFilt.GetOutput()"
   ]
  },
  {
   "cell_type": "code",
   "execution_count": 17,
   "metadata": {
    "collapsed": false
   },
   "outputs": [],
   "source": [
    "telluricpy.vtkTools.io.writeVTUFile('tillbackMesh.vtu',tillbackMesh,compress=False)"
   ]
  },
  {
   "cell_type": "code",
   "execution_count": 18,
   "metadata": {
    "collapsed": true
   },
   "outputs": [],
   "source": [
    "# Cut all the diamond structures\n",
    "temp1 = telluricpy.vtkTools.extraction.clipDataSetWithPolygon(tillbackMesh,PK1,insideOut=False,extractBounds=False)"
   ]
  },
  {
   "cell_type": "code",
   "execution_count": 19,
   "metadata": {
    "collapsed": false
   },
   "outputs": [],
   "source": [
    "temp2 = telluricpy.vtkTools.extraction.clipDataSetWithPolygon(temp1,HK1,insideOut=False,extractBounds=False)\n",
    "tillbackNoStruct = telluricpy.vtkTools.extraction.clipDataSetWithPolygon(temp2,VK,insideOut=False,extractBounds=False)"
   ]
  },
  {
   "cell_type": "code",
   "execution_count": 20,
   "metadata": {
    "collapsed": false
   },
   "outputs": [],
   "source": [
    "telluricpy.vtkTools.io.writeVTUFile('tillback_noDiaStMesh.vtu',tillbackNoStruct)"
   ]
  },
  {
   "cell_type": "code",
   "execution_count": 21,
   "metadata": {
    "collapsed": true
   },
   "outputs": [],
   "source": [
    "# Make the \n",
    "appFilt = vtk.vtkAppendFilter()\n",
    "appFilt.AddInputData(tillbackNoStruct)\n",
    "for nr, vtpObj in enumerate([PK1,HK1,VK]):\n",
    "    tempObj = telluricpy.vtkTools.extraction.clipDataSetWithPolygon(groundClip,vtpObj,insideOut=True,extractBounds=True)\n",
    "    telluricpy.vtkTools.dataset.addNPDataArrays(tempObj,{'GeoType':np.ones(groundClip.GetNumberOfCells())* (nr+2.)})\n",
    "    appFilt.AddInputData(tempObj)\n",
    "appFilt.Update()\n",
    "# All the geo Unitis\n",
    "geoMesh = appFilt.GetOutput()\n",
    "# Save\n",
    "telluricpy.vtkTools.io.writeVTUFile('geoMesh_allUnits.vtu',geoMesh)"
   ]
  },
  {
   "cell_type": "code",
   "execution_count": null,
   "metadata": {
    "collapsed": false
   },
   "outputs": [],
   "source": [
    "# Something is curupt in the topo structure, restructure the polydata\n",
    "topopts = npsup.vtk_to_numpy(topo.GetPoints().GetData())\n",
    "ptopopts = vtk.vtkPoints()\n",
    "ptopopts.SetData(npsup.numpy_to_vtk(topopts,deep=1))\n",
    "# Make the cells array of polygons\n",
    "polys = vtk.vtkCellArray()\n",
    "poly = vtk.vtkTriangle()\n",
    "poly.GetPointIds().SetNumberOfIds(3)\n",
    "for i in range(topo.GetNumberOfCells()):\n",
    "    for j in range(topo.GetCell(i).GetPointIds().GetNumberOfIds()):\n",
    "        poly.GetPointIds().SetId(j,topo.GetCell(i).GetPointId(j))\n",
    "    polys.InsertNextCell(poly)\n",
    "\n",
    "topoPolyData = vtk.vtkPolyData()\n",
    "topoPolyData.SetPoints(ptopopts)\n",
    "# topoPolyData.SetPolys(polys)\n",
    "\n",
    "topoNorm = telluricpy.vtkTools.polydata.normFilter(topoPolyData)"
   ]
  },
  {
   "cell_type": "code",
   "execution_count": null,
   "metadata": {
    "collapsed": false
   },
   "outputs": [],
   "source": [
    "delFilt = vtk.vtkDelaunay2D()\n",
    "delFilt.SetInputData(topoPolyData)\n",
    "delFilt.Update()\n",
    "delPoly = delFilt.GetOutput()"
   ]
  },
  {
   "cell_type": "code",
   "execution_count": null,
   "metadata": {
    "collapsed": false
   },
   "outputs": [],
   "source": [
    "topoExt = telluricpy.vtkTools.extraction.extractDataSetWithPolygon(delPoly,VOI)\n",
    "topoNorm = telluricpy.vtkTools.polydata.normFilter(delFilt.GetOutput())#(topoExt)\n",
    "# Reverse the order\n",
    "reverseFilt = vtk.vtkReverseSense()\n",
    "reverseFilt.SetInputData(topoNorm);\n",
    "reverseFilt.ReverseCellsOn();\n",
    "reverseFilt.ReverseNormalsOn()\n",
    "reverseFilt.Update()\n",
    "topoNorm = reverseFilt.GetOutput()"
   ]
  },
  {
   "cell_type": "code",
   "execution_count": null,
   "metadata": {
    "collapsed": false
   },
   "outputs": [],
   "source": [
    "telluricpy.vtkTools.io.writeVTPFile('Geological_model/newtopo.vtp',topoNorm)"
   ]
  },
  {
   "cell_type": "code",
   "execution_count": null,
   "metadata": {
    "collapsed": false
   },
   "outputs": [],
   "source": [
    "# Make the background polygon\n",
    "backVTP = telluricpy.vtkTools.polydata.join2Polydata(VOI,till,'upper','lower')\n",
    "backVTU = telluricpy.vtkTools.extraction.makePolyhedronCell(backVTP,returnGrid=True)\n",
    "telluricpy.vtkTools.io.writeVTPFile('Geological_model/background.vtp',backVTP)\n",
    "telluricpy.vtkTools.io.writeVTUFile('Geological_model/background.vtu',backVTU,compress=False)"
   ]
  },
  {
   "cell_type": "code",
   "execution_count": null,
   "metadata": {
    "collapsed": true
   },
   "outputs": [],
   "source": [
    "# Clip the topo with the VOI\n",
    "temptopoVTP = telluricpy.vtkTools.extraction.clipDataSetWithPolygon(topoNorm,VOI)\n",
    "telluricpy.vtkTools.io.writeVTPFile('Geological_model/topo_VOI.vtp',temptopoVTP)\n",
    "# Clip the VOI with the Topo\n",
    "tempVOIVTP = telluricpy.vtkTools.extraction.clipDataSetWithPolygon(VOI,topoNorm,insideOut=False)\n",
    "telluricpy.vtkTools.io.writeVTPFile('Geological_model/VOI_cliptopo.vtp',tempVOIVTP)\n"
   ]
  },
  {
   "cell_type": "code",
   "execution_count": null,
   "metadata": {
    "collapsed": false
   },
   "outputs": [],
   "source": [
    "print topopts[topopts[:,1]<7134300].shape\n",
    "print topopts.shape\n"
   ]
  },
  {
   "cell_type": "code",
   "execution_count": null,
   "metadata": {
    "collapsed": true
   },
   "outputs": [],
   "source": [
    "# Test adding points for the topo and till together and make a surface from it.\n",
    "# Get the till points\n",
    "topofpts = topopts[topopts[:,1]<7134300].copy()\n",
    "tillpts = npsup.vtk_to_numpy(till.GetPoints().GetData())\n",
    "topotillpts = np.vstack((topofpts,tillpts))\n",
    "ttpts = vtk.vtkPoints()\n",
    "ttpts.SetData(npsup.numpy_to_vtk(topotillpts,deep=1))\n",
    "# Make a polydata\n",
    "topotillPolyData = vtk.vtkPolyData()\n",
    "topotillPolyData.SetPoints(ttpts)"
   ]
  },
  {
   "cell_type": "code",
   "execution_count": null,
   "metadata": {
    "collapsed": false
   },
   "outputs": [],
   "source": [
    "telluricpy.vtkTools.io.writeVTPFile('topotillpts.vtp',telluricpy.dataFiles.XYZtools.makeCylinderPtsVTP(topotillpts,height=5,radius=5))"
   ]
  },
  {
   "cell_type": "code",
   "execution_count": null,
   "metadata": {
    "collapsed": false
   },
   "outputs": [],
   "source": [
    "# surfFilt = vtk.vtkSurfaceReconstructionFilter()\n",
    "# surfFilt.SetInputData(topotillPolyData)\n",
    "# contFilt = vtk.vtkContourFilter() \n",
    "# contFilt.SetInputConnection(surfFilt.GetOutputPort())\n",
    "# contFilt.SetValue(0,-0.01)\n",
    "# reverseFilt = vtk.vtkReverseSense()\n",
    "# reverseFilt.SetInputConnection(contFilt.GetOutputPort())\n",
    "# reverseFilt.ReverseCellsOn()\n",
    "# reverseFilt.ReverseNormalsOn()\n",
    "# reverseFilt.Update()\n",
    "# # TopoTill volume\n",
    "# ttvolVTP = reverseFilt.GetOutput()\n",
    "# telluricpy.vtkTools.io.writeVTPFile('till_surfRec.vtp',ttvolVTP)"
   ]
  },
  {
   "cell_type": "code",
   "execution_count": null,
   "metadata": {
    "collapsed": true
   },
   "outputs": [],
   "source": [
    "# Make the surface\n",
    "# Test deleuny\n",
    "delTTFilt = vtk.vtkDelaunay2D()\n",
    "delTTFilt.SetInputData(topotillPolyData)\n",
    "delTTFilt.Update()\n",
    "delPoly = delTTFilt.GetOutput()\n",
    "telluricpy.vtkTools.io.writeVTPFile('till_surfDel.vtp',delPoly)\n",
    "# Get the polydata and add normals\n",
    "ttNorm = telluricpy.vtkTools.polydata.normFilter(delPoly)"
   ]
  },
  {
   "cell_type": "code",
   "execution_count": null,
   "metadata": {
    "collapsed": true
   },
   "outputs": [],
   "source": [
    "# Join the 2D del and the till surface to form a volume vtp\n",
    "ttVTP = telluricpy.vtkTools.polydata.join2Polydata(ttNorm,till,'lower','lower')\n",
    "telluricpy.vtkTools.io.writeVTPFile('till_TTvol.vtp',ttVTP)"
   ]
  },
  {
   "cell_type": "code",
   "execution_count": null,
   "metadata": {
    "collapsed": true
   },
   "outputs": [],
   "source": [
    "telluricpy.vtkTools.io.writeVTUFile('till_TTvol.vtu',telluricpy.vtkTools.extraction.makePolyhedronCell(ttVTP,returnGrid=True),compress=False)"
   ]
  },
  {
   "cell_type": "code",
   "execution_count": null,
   "metadata": {
    "collapsed": false
   },
   "outputs": [],
   "source": [
    "# Join with the VOI\n",
    "tillAbove = telluricpy.vtkTools.polydata.join2Polydata(VOI,ttVTP,'lower','lower')\n",
    "telluricpy.vtkTools.io.writeVTPFile('till_TTVOIvol.vtp',ttVTP)"
   ]
  },
  {
   "cell_type": "code",
   "execution_count": null,
   "metadata": {
    "collapsed": true
   },
   "outputs": [],
   "source": [
    "# Make the till polygons\n",
    "tillAbove = telluricpy.vtkTools.polydata.join2Polydata(VOI,till,'lower','lower')\n",
    "tillvolVTP = telluricpy.vtkTools.polydata.join2Polydata(tillAbove,topoNorm,'upper','lower')\n",
    "telluricpy.vtkTools.io.writeVTPFile('Geological_model/till_vol.vtp',tillvolVTP)"
   ]
  },
  {
   "cell_type": "code",
   "execution_count": null,
   "metadata": {
    "collapsed": true
   },
   "outputs": [],
   "source": [
    "# Clip the topo with the VOI\n",
    "tempVTP = telluricpy.vtkTools.extraction.clipDataSetWithPolygon(topoNorm,VOI)\n",
    "telluricpy.vtkTools.io.writeVTPFile('Geological_model/topo_VOI.vtp',tempVTP)"
   ]
  },
  {
   "cell_type": "code",
   "execution_count": null,
   "metadata": {
    "collapsed": false
   },
   "outputs": [],
   "source": [
    "# telluricpy.vtkTools.io.writeVTPFile('Geological_model/topoback_vol.vtp',tempVTP)"
   ]
  },
  {
   "cell_type": "code",
   "execution_count": null,
   "metadata": {
    "collapsed": false
   },
   "outputs": [],
   "source": [
    "tillVTP = telluricpy.vtkTools.polydata.join2Polydata(tempVTP,till,'upper','lower')\n",
    "telluricpy.vtkTools.io.writeVTPFile('Geological_model/till_vol.vtp',tillVTP)"
   ]
  },
  {
   "cell_type": "code",
   "execution_count": null,
   "metadata": {
    "collapsed": false
   },
   "outputs": [],
   "source": [
    "# Make the till polygons\n",
    "tempVTP = telluricpy.vtkTools.polydata.join2Polydata(tillVT,topoNorm,'lower','lower')"
   ]
  },
  {
   "cell_type": "code",
   "execution_count": null,
   "metadata": {
    "collapsed": false
   },
   "outputs": [],
   "source": [
    "appFilt = vtk.vtkAppendPolyData()\n",
    "for vtpFile in [PK1,HK1,VK]:\n",
    "    appFilt.AddInputData(vtpFile)\n",
    "appFilt.Update()\n",
    "unstructGeo = telluricpy.vtkTools.extraction.vtp2vtuPolyhedron(appFilt.GetOutput())"
   ]
  },
  {
   "cell_type": "code",
   "execution_count": null,
   "metadata": {
    "collapsed": true
   },
   "outputs": [],
   "source": [
    "# Make till\n",
    "temp = telluricpy.vtkTools.polydata.join2Polydata(backVTP,PK1,'upper','upper')\n",
    "\n",
    "telluricpy.vtkTools.io.writeVTPFile('backMinusPK1.vtp',temp)"
   ]
  },
  {
   "cell_type": "code",
   "execution_count": null,
   "metadata": {
    "collapsed": true
   },
   "outputs": [],
   "source": [
    "# unstructGeo = telluricpy.vtkTools.extraction.vtp2vtuPolyhedron(appFilt.GetOutput())\n",
    "appVTU = vtk.vtkAppendFilter()\n",
    "appVTU.AddInputData(backVTU)\n",
    "appVTU.AddInputData(unstructGeo)\n",
    "appFilt.Update()\n",
    "unstrBackGeo = appFilt.GetOutput()\n",
    "telluricpy.vtkTools.dataset.addNPDataArrays(unstrBackGeo,{'GeoType':np.arange(unstrBackGeo.GetNumberOfCells())},'Cell')\n",
    "telluricpy.vtkTools.io.writeVTUFile('BackPKHKVK1.vtu',unstrBackGeo,compress=False)"
   ]
  },
  {
   "cell_type": "code",
   "execution_count": null,
   "metadata": {
    "collapsed": false
   },
   "outputs": [],
   "source": [
    "# Add data array\n",
    "telluricpy.vtkTools.dataset.addNPDataArrays(unstructGeo,{'GeoType':np.arange(unstructGeo.GetNumberOfCells())},'Cell')\n",
    "unstructGeo"
   ]
  },
  {
   "cell_type": "code",
   "execution_count": null,
   "metadata": {
    "collapsed": true
   },
   "outputs": [],
   "source": []
  },
  {
   "cell_type": "code",
   "execution_count": null,
   "metadata": {
    "collapsed": false
   },
   "outputs": [],
   "source": [
    "# Make till\n",
    "temp = telluricpy.vtkTools.polydata.join2Polydata(backVTP,PK1,'upper','upper')\n",
    "temp = telluricpy.vtkTools.polydata.join2Polydata(temp,HK1,'upper','upper')\n",
    "temp = telluricpy.vtkTools.polydata.join2Polydata(temp,VK,'upper','upper')\n",
    "\n",
    "telluricpy.vtkTools.io.writeVTPFile('backMinusPKHK1VK.vtp',temp)"
   ]
  },
  {
   "cell_type": "code",
   "execution_count": null,
   "metadata": {
    "collapsed": false
   },
   "outputs": [],
   "source": [
    "telluricpy.vtkTools.io.writeVTUFile('BackPKHKVK1.vtu',temp,compress=False)\n"
   ]
  },
  {
   "cell_type": "code",
   "execution_count": null,
   "metadata": {
    "collapsed": false
   },
   "outputs": [],
   "source": [
    "telluricpy.vtkTools.io.writeVTUFile('Geological_model/PK1.vtu',telluricpy.vtkTools.extraction.makePolyhedronCell(PK1,returnGrid=True),compress=False)"
   ]
  },
  {
   "cell_type": "code",
   "execution_count": null,
   "metadata": {
    "collapsed": false
   },
   "outputs": [],
   "source": [
    "unstructGeo.GetNumberOfCells()"
   ]
  },
  {
   "cell_type": "code",
   "execution_count": null,
   "metadata": {
    "collapsed": false
   },
   "outputs": [],
   "source": [
    "telluricpy.vtkTools.extraction.makePolyhedronCell(backVTP,returnGrid=True).GetNumberOfCells()"
   ]
  },
  {
   "cell_type": "code",
   "execution_count": null,
   "metadata": {
    "collapsed": true
   },
   "outputs": [],
   "source": [
    "# Convert polydata to polyhydron's"
   ]
  }
 ],
 "metadata": {
  "kernelspec": {
   "display_name": "Python 2",
   "language": "python",
   "name": "python2"
  },
  "language_info": {
   "codemirror_mode": {
    "name": "ipython",
    "version": 2
   },
   "file_extension": ".py",
   "mimetype": "text/x-python",
   "name": "python",
   "nbconvert_exporter": "python",
   "pygments_lexer": "ipython2",
   "version": "2.7.11"
  }
 },
 "nbformat": 4,
 "nbformat_minor": 0
}
