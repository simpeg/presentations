{
 "cells": [
  {
   "cell_type": "code",
   "execution_count": 1,
   "metadata": {
    "collapsed": true
   },
   "outputs": [],
   "source": [
    "# Import \n",
    "import SimPEG as simpeg, telluricpy\n",
    "import simpegViz\n",
    "\n"
   ]
  },
  {
   "cell_type": "code",
   "execution_count": 2,
   "metadata": {
    "collapsed": false
   },
   "outputs": [
    {
     "name": "stdout",
     "output_type": "stream",
     "text": [
      "background.vtp          PK1_Extended.ts   TKCtopo.dat\r\n",
      "background.vtu          PK1_extended.vtp  topoback_vol.vtp\r\n",
      "CDED_Lake_Coarse.ts     PK1.ts            topo_VOI.vtu\r\n",
      "CDED_Lake_Coarse.vtp    PK1.vtp           TsSurf_VTK_2_3DModel.py\r\n",
      "FWR_Mag.dat             PK1.vtu           viewGeology.pvsm\r\n",
      "GKR_gocadUtils.py       PK2.ts            VK.ts\r\n",
      "GKR_gocadUtils.pyc      PK2.vtp           VK.vtp\r\n",
      "HK1.ts                  PK3.ts            VOI.vtp\r\n",
      "HK1.vtp                 PK3.vtp           VTKout.dat\r\n",
      "MEsh_TEst_extended.msh  testMesh.vtr      XVK.ts\r\n",
      "MEsh_TEst.msh           Till.ts           XVK.vtp\r\n",
      "newSubset.msh           till_VOI.vtu\r\n",
      "newtopo.vtp             Till.vtp\r\n"
     ]
    }
   ],
   "source": [
    "ls Geological_model/"
   ]
  },
  {
   "cell_type": "code",
   "execution_count": 3,
   "metadata": {
    "collapsed": false
   },
   "outputs": [],
   "source": [
    "# Load all the data\n",
    "PK1 = telluricpy.vtkTools.io.readVTPFile('Geological_model/PK1.vtp')\n",
    "HK1 = telluricpy.vtkTools.io.readVTPFile('Geological_model/HK1.vtp')\n",
    "VK = telluricpy.vtkTools.io.readVTPFile('Geological_model/VK.vtp')\n",
    "VOI = telluricpy.vtkTools.polydata.triangulatePolyData(telluricpy.vtkTools.io.readVTPFile('Geological_model/VOI.vtp'))\n",
    "topo = telluricpy.vtkTools.extraction.vtu2vtp(telluricpy.vtkTools.io.readVTUFile('Geological_model/topo_VOI.vtu'))\n",
    "till = telluricpy.vtkTools.extraction.vtu2vtp(telluricpy.vtkTools.io.readVTUFile('Geological_model/till_VOI.vtu'))"
   ]
  },
  {
   "cell_type": "code",
   "execution_count": 4,
   "metadata": {
    "collapsed": false
   },
   "outputs": [],
   "source": [
    "# Something is curupt in the topo structure, restructure the polydata\n",
    "pts = npsup.vtk_to_numpy(topo.GetPoints().GetData())\n",
    "ppts = vtk.vtkPoints()\n",
    "ppts.SetData(npsup.numpy_to_vtk(pts,deep=1))\n",
    "# Make the cells array of polygons\n",
    "polys = vtk.vtkCellArray()\n",
    "poly = vtk.vtkTriangle()\n",
    "poly.GetPointIds().SetNumberOfIds(3)\n",
    "for i in range(topo.GetNumberOfCells()):\n",
    "    for j in range(topo.GetCell(i).GetPointIds().GetNumberOfIds()):\n",
    "        poly.GetPointIds().SetId(j,topo.GetCell(i).GetPointId(j))\n",
    "    polys.InsertNextCell(poly)\n",
    "\n",
    "topoPolyData = vtk.vtkPolyData()\n",
    "topoPolyData.SetPoints(ppts)\n",
    "# topoPolyData.SetPolys(polys)\n",
    "\n",
    "topoNorm = telluricpy.vtkTools.polydata.normFilter(topoPolyData)"
   ]
  },
  {
   "cell_type": "code",
   "execution_count": 5,
   "metadata": {
    "collapsed": false
   },
   "outputs": [],
   "source": [
    "delFilt = vtk.vtkDelaunay2D()\n",
    "delFilt.SetInputData(topoPolyData)\n",
    "delFilt.Update()\n",
    "delPoly = delFilt.GetOutput()"
   ]
  },
  {
   "cell_type": "code",
   "execution_count": 6,
   "metadata": {
    "collapsed": false
   },
   "outputs": [],
   "source": [
    "topoExt = telluricpy.vtkTools.extraction.extractDataSetWithPolygon(delPoly,VOI)\n",
    "topoNorm = telluricpy.vtkTools.polydata.normFilter(topoExt)"
   ]
  },
  {
   "cell_type": "code",
   "execution_count": 7,
   "metadata": {
    "collapsed": false
   },
   "outputs": [],
   "source": [
    "telluricpy.vtkTools.io.writeVTPFile('Geological_model/newtopo.vtp',topoNorm)"
   ]
  },
  {
   "cell_type": "code",
   "execution_count": 8,
   "metadata": {
    "collapsed": false
   },
   "outputs": [],
   "source": [
    "# Make the till polygons\n",
    "# tempVTP = telluricpy.vtkTools.polydata.join2Polydata(VOI,topoNorm,'lower','lower')"
   ]
  },
  {
   "cell_type": "code",
   "execution_count": 9,
   "metadata": {
    "collapsed": false
   },
   "outputs": [],
   "source": [
    "# telluricpy.vtkTools.io.writeVTPFile('Geological_model/topoback_vol.vtp',tempVTP)"
   ]
  },
  {
   "cell_type": "code",
   "execution_count": 10,
   "metadata": {
    "collapsed": false
   },
   "outputs": [],
   "source": [
    "# tillVTP = telluricpy.vtkTools.polydata.join2Polydata(tempVTP,till,'upper','lower')\n",
    "# telluricpy.vtkTools.io.writeVTPFile('Geological_model/till_vol.vtp',tillVTP)"
   ]
  },
  {
   "cell_type": "code",
   "execution_count": 11,
   "metadata": {
    "collapsed": false
   },
   "outputs": [],
   "source": [
    "# Make the background polygon\n",
    "backVTP = telluricpy.vtkTools.polydata.join2Polydata(VOI,till,'upper','lower')\n",
    "backVTU = telluricpy.vtkTools.extraction.makePolyhedronCell(backVTP,returnGrid=True)\n",
    "telluricpy.vtkTools.io.writeVTPFile('Geological_model/background.vtp',backVTP)\n",
    "telluricpy.vtkTools.io.writeVTUFile('Geological_model/background.vtu',backVTU,compress=False)"
   ]
  },
  {
   "cell_type": "code",
   "execution_count": 12,
   "metadata": {
    "collapsed": false
   },
   "outputs": [],
   "source": [
    "appFilt = vtk.vtkAppendPolyData()\n",
    "for vtpFile in [PK1,HK1,VK]:\n",
    "    appFilt.AddInputData(vtpFile)\n",
    "appFilt.Update()\n",
    "unstructGeo = telluricpy.vtkTools.extraction.vtp2vtuPolyhedron(appFilt.GetOutput())"
   ]
  },
  {
   "cell_type": "code",
   "execution_count": 13,
   "metadata": {
    "collapsed": true
   },
   "outputs": [],
   "source": [
    "# Make till\n",
    "temp = telluricpy.vtkTools.polydata.join2Polydata(backVTP,PK1,'upper','upper')\n",
    "\n",
    "telluricpy.vtkTools.io.writeVTPFile('backMinusPK1.vtp',temp)"
   ]
  },
  {
   "cell_type": "code",
   "execution_count": 14,
   "metadata": {
    "collapsed": true
   },
   "outputs": [],
   "source": [
    "# unstructGeo = telluricpy.vtkTools.extraction.vtp2vtuPolyhedron(appFilt.GetOutput())\n",
    "appVTU = vtk.vtkAppendFilter()\n",
    "appVTU.AddInputData(backVTU)\n",
    "appVTU.AddInputData(unstructGeo)\n",
    "appFilt.Update()\n",
    "unstrBackGeo = appFilt.GetOutput()\n",
    "telluricpy.vtkTools.dataset.addNPDataArrays(unstrBackGeo,{'GeoType':np.arange(unstrBackGeo.GetNumberOfCells())},'Cell')\n",
    "telluricpy.vtkTools.io.writeVTUFile('BackPKHKVK1.vtu',unstrBackGeo,compress=False)"
   ]
  },
  {
   "cell_type": "code",
   "execution_count": 15,
   "metadata": {
    "collapsed": false
   },
   "outputs": [
    {
     "data": {
      "text/plain": [
       "(vtkUnstructuredGrid)0x7f1f7af943b0"
      ]
     },
     "execution_count": 15,
     "metadata": {},
     "output_type": "execute_result"
    }
   ],
   "source": [
    "# Add data array\n",
    "telluricpy.vtkTools.dataset.addNPDataArrays(unstructGeo,{'GeoType':np.arange(unstructGeo.GetNumberOfCells())},'Cell')\n",
    "unstructGeo"
   ]
  },
  {
   "cell_type": "code",
   "execution_count": null,
   "metadata": {
    "collapsed": true
   },
   "outputs": [],
   "source": []
  },
  {
   "cell_type": "code",
   "execution_count": 18,
   "metadata": {
    "collapsed": false
   },
   "outputs": [],
   "source": [
    "# Make till\n",
    "temp = telluricpy.vtkTools.polydata.join2Polydata(backVTP,PK1,'upper','upper')\n",
    "temp = telluricpy.vtkTools.polydata.join2Polydata(temp,HK1,'upper','upper')\n",
    "temp = telluricpy.vtkTools.polydata.join2Polydata(temp,VK,'upper','upper')\n",
    "\n",
    "telluricpy.vtkTools.io.writeVTPFile('backMinusPKHK1VK.vtp',temp)"
   ]
  },
  {
   "cell_type": "code",
   "execution_count": 32,
   "metadata": {
    "collapsed": false
   },
   "outputs": [],
   "source": [
    "telluricpy.vtkTools.io.writeVTUFile('BackPKHKVK1.vtu',unstructGeo,compress=False)\n"
   ]
  },
  {
   "cell_type": "code",
   "execution_count": 11,
   "metadata": {
    "collapsed": false
   },
   "outputs": [],
   "source": [
    "telluricpy.vtkTools.io.writeVTUFile('Geological_model/PK1.vtu',telluricpy.vtkTools.extraction.makePolyhedronCell(PK1,returnGrid=True),compress=False)"
   ]
  },
  {
   "cell_type": "code",
   "execution_count": 29,
   "metadata": {
    "collapsed": false
   },
   "outputs": [
    {
     "data": {
      "text/plain": [
       "9L"
      ]
     },
     "execution_count": 29,
     "metadata": {},
     "output_type": "execute_result"
    }
   ],
   "source": [
    "unstructGeo.GetNumberOfCells()"
   ]
  },
  {
   "cell_type": "code",
   "execution_count": 30,
   "metadata": {
    "collapsed": false
   },
   "outputs": [
    {
     "data": {
      "text/plain": [
       "1L"
      ]
     },
     "execution_count": 30,
     "metadata": {},
     "output_type": "execute_result"
    }
   ],
   "source": [
    "telluricpy.vtkTools.extraction.makePolyhedronCell(backVTP,returnGrid=True).GetNumberOfCells()"
   ]
  },
  {
   "cell_type": "code",
   "execution_count": null,
   "metadata": {
    "collapsed": true
   },
   "outputs": [],
   "source": [
    "# Convert polydata to polyhydron's"
   ]
  }
 ],
 "metadata": {
  "kernelspec": {
   "display_name": "Python 2",
   "language": "python",
   "name": "python2"
  },
  "language_info": {
   "codemirror_mode": {
    "name": "ipython",
    "version": 2
   },
   "file_extension": ".py",
   "mimetype": "text/x-python",
   "name": "python",
   "nbconvert_exporter": "python",
   "pygments_lexer": "ipython2",
   "version": "2.7.11"
  }
 },
 "nbformat": 4,
 "nbformat_minor": 0
}
