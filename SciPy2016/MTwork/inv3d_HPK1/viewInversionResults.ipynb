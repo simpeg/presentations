{
 "cells": [
  {
   "cell_type": "code",
   "execution_count": 48,
   "metadata": {
    "collapsed": false
   },
   "outputs": [],
   "source": [
    "import SimPEG as simpeg\n",
    "from SimPEG import NSEM\n",
    "from glob import glob\n",
    "import numpy as np, sys, matplotlib.pyplot as plt\n",
    "# sys.path.append('/home/gudni/Dropbox/Work/UBCwork/SyntheticModels/SynGeothermalStructures/ThesisModels')\n",
    "# import synhelpFunc\n",
    "%matplotlib inline\n",
    "import telluricpy"
   ]
  },
  {
   "cell_type": "code",
<<<<<<< HEAD
   "execution_count": 57,
=======
   "execution_count": 49,
>>>>>>> 7ac9fac90c367abad66b5505462b97e053309f86
   "metadata": {
    "collapsed": false
   },
   "outputs": [],
   "source": [
    "def convergeCurves(resList,ax1,ax2,color1,color2,fontsize):\n",
    "    its  = np.array([res['iter'] for res in resList]).T\n",
    "    ind = np.argsort(its)\n",
    "    phid = np.array([res['phi_d'] for res in resList]).T\n",
    "    try:\n",
    "        phim = np.array([res['phi_m'] for res in resList]).T\n",
    "    except:\n",
    "        phim = np.array([res['phi_ms'] for res in resList]).T + np.array([res['phi_mx'] for res in resList]).T + np.array([res['phi_my'] for res in resList]).T + np.array([res['phi_mz'] for res in resList]).T     \n",
    "    x = np.arange(len(its))\n",
    "\n",
    "    ax1.set_title('Data misfit $\\phi_d$ and regularization $\\phi_m$',fontsize=fontsize)\n",
    "    ax1.semilogy(x,phid[ind],'o--',color=color1)\n",
    "    ax1.set_ylabel('$\\phi_d$',fontsize=fontsize)\n",
    "    ax1.hlines(len(resList[0]['dpred'])*.5,0,len(x),colors='black',linestyles='-.')\n",
    "    #for tl in ax1.get_yticklabels():\n",
    "    #    tl.set_color(color1)\n",
    "         \n",
    "    ax2.semilogy(x,phim[ind],'x--',color=color2)\n",
    "    ax2.set_ylabel('$\\phi_m$',fontsize=fontsize)\n",
    "    #for tl in ax2.get_yticklabels():\n",
    "    #    tl.set_color(color2)\n",
    "    ax1.set_xlabel('iteration',fontsize=fontsize)\n",
    "    \n",
    "    ax1.tick_params(axis='x',labelsize=fontsize)\n",
    "    ax1.tick_params(axis='y',labelsize=fontsize)\n",
    "    ax2.tick_params(axis='y',labelsize=fontsize)\n",
    "    \n",
    "    return ax1,ax2\n",
    "    \n",
    "def tikanovCurve(resList):\n",
    "    its  = np.array([res['iter'] for res in resList]).T\n",
    "    ind = np.argsort(its)\n",
    "    phid = np.array([res['phi_d'] for res in resList]).T\n",
    "    phim = np.array([res['phi_m'] for res in resList]).T\n",
    "    x = np.arange(len(its))\n",
    "    fig, ax1 = plt.subplots()\n",
    "    ax1.loglog(phim[ind],phid[ind],'bx--')\n",
    "    ax1.set_ylabel('phi_d')\n",
    "    ax1.set_xlabel('phi_m')\n",
    "    plt.hlines(len(resList[0]['dpred'])*.5,np.min(phim),np.max(phim),colors='g',linestyles='-.')\n",
    "    plt.show()\n",
    "    \n",
    "def allconvergeCurves(resList):\n",
    "    its  = np.array([res['iter'] for res in resList]).T\n",
    "    ind = np.argsort(its)\n",
    "    phid = np.array([res['phi_d'] for res in resList]).T\n",
    "    #phim = np.array([res['phi_m'] for res in resList]).T\n",
    "    phims = np.array([res['phi_ms'] for res in resList]).T\n",
    "    phimx = np.array([res['phi_mx'] for res in resList]).T\n",
    "    phimy = np.array([res['phi_my'] for res in resList]).T\n",
    "    phimz = np.array([res['phi_mz'] for res in resList]).T\n",
    "    x = np.arange(len(its))\n",
    "    fig, ax1 = plt.subplots()\n",
    "    ax1.semilogy(x,phid[ind],'bx--',label='phid')\n",
<<<<<<< HEAD
    "    ax1.set_ylabel('phi_d', color='b',fontsize=fontsize)\n",
    "    \n",
    "    plt.hlines(len(resList[0]['dpred'])*.75,0,len(x),colors='g',linestyles='-.')\n",
=======
    "    ax1.set_ylabel('phi_d', color='b')\n",
    "    plt.hlines(len(resList[0]['dpred'])*.5,0,len(x),colors='g',linestyles='-.')\n",
>>>>>>> 7ac9fac90c367abad66b5505462b97e053309f86
    "    for tl in ax1.get_yticklabels():\n",
    "        tl.set_color('b')         \n",
    "    #ax1.semilogy(x,phim[ind],'gx--',label='phim')\n",
    "    ax1.semilogy(x,phims[ind],'y,--',label='phims')\n",
    "    ax1.semilogy(x,phimx[ind],'r.--',label='phimx')\n",
    "    ax1.semilogy(x,phimy[ind],'r+--',label='phimy')\n",
    "    ax1.semilogy(x,phimz[ind],'r*--',label='phimz')\n",
    "    \n",
    "    plt.legend()\n",
    "    plt.show()\n",
    "\n",
    "def loadInversionMakeVTRFiles(dirStr,mesh,mapping):\n",
    "    temp = [np.load(f) for f in glob(dirStr+'/*Inversion*.npz')]\n",
    "    iterResults = [i if len(i.keys()) > 1 else i['arr_0'].tolist() for i in temp ]\n",
    "    # Make the vtk models\n",
    "    for it in iterResults:\n",
    "        mesh.writeVTK(dirStr+'/recoveredMod_{:s}_it{:.0f}.vtr'.format(dirStr,int(it['iter'])),{'S/m':mapping*it['m']})\n",
    "    return iterResults\n",
    "\n",
    "def getDataInfo(MTdata):\n",
    "\n",
    "    dL, freqL, rxTL = [], [], []\n",
    "\n",
    "    for src in MTdata.survey.srcList:\n",
    "        for rx in src.rxList:\n",
    "            dL.append(MTdata[src,rx])\n",
    "            freqL.append(np.ones(rx.nD)*src.freq)\n",
    "            rxTL.extend( ((rx.rxType+' ')*rx.nD).split())\n",
    "    return np.concatenate(dL), np.concatenate(freqL), np.array(rxTL)\n"
   ]
  },
  {
   "cell_type": "code",
   "execution_count": 50,
   "metadata": {
    "collapsed": true
   },
   "outputs": [],
   "source": [
    "# Load the model\n",
    "mesh, modDict = simpeg.Mesh.TensorMesh.readVTK('../ForwardModeling_noExtension_Coarse/nsmesh_CoarseHKPK1_NoExtension.vtr')\n",
    "sigma = modDict['S/m']"
   ]
  },
  {
   "cell_type": "code",
   "execution_count": 51,
   "metadata": {
    "collapsed": false
   },
   "outputs": [],
   "source": [
    "# Make the mapping\n",
    "active = sigma != 1e-8\n",
    "actMap = simpeg.Maps.InjectActiveCells(mesh, active, np.log(1e-8), nC=mesh.nC)\n",
    "mappingExpAct = simpeg.Maps.ExpMap(mesh) * actMap"
   ]
  },
  {
   "cell_type": "markdown",
   "metadata": {},
   "source": [
    "### Run_thibaut4_offdiagonal inversion"
   ]
  },
  {
   "cell_type": "code",
   "execution_count": 5,
   "metadata": {
    "collapsed": false
   },
   "outputs": [],
   "source": [
    "# Load the observed data\n",
    "drecAll = np.load('./run_thibaut4_off/MTdataStArr_nsmesh_HKPK1Coarse_noExtension.npy')\n",
    "# Select larger frequency band for the MT data\n",
    "indMTFreq = np.sum([drecAll['freq'] == val for val in  np.unique(drecAll['freq'])],axis=0,dtype=bool)\n",
    "mtRecArr = drecAll[indMTFreq][['freq','x','y','z','zxy','zyx']]\n",
    "dUse = NSEM.Data.fromRecArray(mtRecArr)\n",
    "# Extract to survey\n",
    "survey = dUse.survey"
   ]
  },
  {
   "cell_type": "code",
   "execution_count": 38,
   "metadata": {
    "collapsed": false
   },
   "outputs": [],
   "source": [
    "mtlocPoly = telluricpy.dataFiles.XYZtools.makeCylinderPtsVTP(\n",
    "mtRecArr[['x','y','z']].view('<f8').reshape(-1,3),radius=5,height=10)\n",
    "telluricpy.vtkTools.io.writeVTPFile('MTdataLoc.vtp',mtlocPoly)"
   ]
  },
  {
   "cell_type": "code",
   "execution_count": 15,
   "metadata": {
    "collapsed": true
   },
   "outputs": [],
   "source": [
    "#Extract the structure of the observed data and reproduce the error tolerances\n",
    "\n",
    "dobs, freqArr, rxT = getDataInfo(dUse)\n",
    "# Set the data\n",
    "\n",
    "survey.dobs = dobs\n",
    "\n",
    "#Find index of each type of data\n",
    "offind = np.array([('zxy' in l or 'zyx' in l) for l in rxT],bool)\n",
    "tipind = np.array([('tzy' in l or 'tzx' in l) for l in rxT],bool)\n",
    "\n",
    "#Check if we got all data type covered\n",
    "assert (offind + tipind).all() , 'Some indicies not included'\n",
    "\n",
    "#Initialize std\n",
    "std = np.zeros_like(dobs) # 5% on all off-diagonals\n",
    "\n",
    "#Std for off diagonal 5% + 0.001*median floor\n",
    "std = np.abs(survey.dobs*0.05)\n",
    "\n",
    "#std for tipper: floor of 0.001*median\n",
    "#std[tipind] = np.abs(np.median(survey.dobs[tipind])*0.001)\n",
    "# std[np.array([ ('xx' in l or 'yy' in l) for l in rxT])] = 0.15 # 15% on the on-diagonal\n",
    "survey.std = std \n",
    "# Estimate a floor for the data.\n",
    "# Use the 10% of the mean of the off-diagonals for each frequency\n",
    "#onind = np.array([('zxx' in l or 'zyy' in l) for l in rxT],bool)\n",
    "\n",
    "floor = np.zeros_like(dobs)\n",
    "#floortip = 0.001\n",
    "\n",
    "for f in np.unique(freqArr):\n",
    "    freqInd = freqArr == f\n",
    "    floorFreq = floor[freqInd]\n",
    "    offD = np.sort(np.abs(dobs[freqInd*offind]))\n",
    "    floor[freqInd] = 0.001*np.mean(offD)\n",
    "    # onD = np.sort(np.abs(dobs[freqInd*onind]))\n",
    "    # floor[freqInd*onind] = 0.1*np.mean(onD)\n",
    "\n",
    "#floor[tipind] = floortip\n",
    "\n",
    "# Assign the data weight\n",
    "Wd = 1./(survey.std + floor)\n",
    "\n",
    "eps=(survey.std + floor)"
   ]
  },
  {
   "cell_type": "code",
   "execution_count": 59,
   "metadata": {
    "collapsed": true
   },
   "outputs": [],
   "source": [
    "#Load the iterations from inversions\n",
    "runT4fFiles = loadInversionMakeVTRFiles('run_thibaut4_off',mesh,mappingExpAct)"
   ]
  },
  {
   "cell_type": "code",
   "execution_count": 8,
   "metadata": {
    "collapsed": false
   },
   "outputs": [
    {
     "name": "stdout",
     "output_type": "stream",
     "text": [
      "{'dpred': array([ -3.24781003,  -2.8784831 ,  -2.48161968, ...,  27.30599333,\n",
      "        29.03636921,  31.28780134]), 'f': 15395.506490029129, 'm': array([-9.21095429, -9.21107076, -9.21115512, ..., -9.21775515,\n",
      "       -9.21870692, -9.21962864]), 'iter': 18, 'beta': 0.00024568852665015755, 'phi_my': 8940.5940464691121, 'phi_d': 14356.7114247545, 'phi_mz': 37163.51463371898, 'phi_ms': 357.1547391768604, 'phi_mx': 8041.8808941840671}\n"
     ]
    }
   ],
   "source": [
    "print runT4fFiles[-1]"
   ]
  },
  {
   "cell_type": "code",
   "execution_count": 9,
   "metadata": {
    "collapsed": true
   },
   "outputs": [],
   "source": [
    "#extract last dpred\n",
    "dpred = runT4fFiles[-1]['dpred']"
   ]
  },
  {
   "cell_type": "code",
   "execution_count": 10,
   "metadata": {
    "collapsed": false
   },
   "outputs": [
    {
     "data": {
      "text/plain": [
       "18"
      ]
     },
     "execution_count": 10,
     "metadata": {},
     "output_type": "execute_result"
    }
   ],
   "source": [
    "runT4fFiles[-1]['iter']"
   ]
  },
  {
   "cell_type": "code",
   "execution_count": 11,
   "metadata": {
    "collapsed": false
   },
   "outputs": [],
   "source": [
    "#Normalized misfit\n",
    "phi_d = (dpred-dobs)/eps"
   ]
  },
  {
   "cell_type": "code",
   "execution_count": 12,
   "metadata": {
    "collapsed": false
   },
   "outputs": [
    {
     "ename": "NameError",
     "evalue": "name 'phi_d_t' is not defined",
     "output_type": "error",
     "traceback": [
      "\u001b[0;31m---------------------------------------------------------------------------\u001b[0m",
      "\u001b[0;31mNameError\u001b[0m                                 Traceback (most recent call last)",
      "\u001b[0;32m<ipython-input-12-0cce83987181>\u001b[0m in \u001b[0;36m<module>\u001b[0;34m()\u001b[0m\n\u001b[0;32m----> 1\u001b[0;31m \u001b[0mphi_d_t\u001b[0m\u001b[0;34m.\u001b[0m\u001b[0mshape\u001b[0m\u001b[0;34m\u001b[0m\u001b[0m\n\u001b[0m",
      "\u001b[0;31mNameError\u001b[0m: name 'phi_d_t' is not defined"
     ]
    }
   ],
   "source": [
    "phi_d_t.shape"
   ]
  },
  {
   "cell_type": "code",
   "execution_count": null,
   "metadata": {
    "collapsed": false
   },
   "outputs": [],
   "source": [
    "fig=plt.figure(figsize=(10,5))\n",
    "ax=plt.subplot(111)\n",
    "\n",
    "n0 = ax.hist(phi_d,bins=50,color='blue')\n",
    "n1 = ax.hist(phi_d_t,bins=n0[1],color='green',alpha=0.7)\n",
    "\n",
    "ax.set_xlabel('Normalized misfit',fontsize=14)\n",
    "ax.set_ylabel('Count',fontsize=14)\n",
    "ax.set_title('Normalized data misfit $\\phi_d$ distribution',fontsize=16)\n",
    "ax.tick_params(axis='x',labelsize=14)\n",
    "ax.tick_params(axis='y',labelsize=14)\n",
    "ax.legend(('Off-diagonal','Tipper'),fontsize=14)\n",
    "\n",
    "fig.savefig('../Poster/MT_Normalized_misfit.png',dpi=300)"
   ]
  },
  {
   "cell_type": "code",
   "execution_count": 280,
   "metadata": {
    "collapsed": false
   },
   "outputs": [],
   "source": [
    "ax.hist??"
   ]
  },
  {
   "cell_type": "code",
   "execution_count": 58,
   "metadata": {
    "collapsed": false
   },
   "outputs": [
    {
     "data": {
      "image/png": "iVBORw0KGgoAAAANSUhEUgAAAmkAAAIfCAYAAAArCksOAAAABHNCSVQICAgIfAhkiAAAAAlwSFlz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\nmZmZWQW5kWZmZmZWQW6kmZmZmVXQ/wMQ+7otJUERSgAAAABJRU5ErkJggg==\n",
      "text/plain": [
       "<matplotlib.figure.Figure at 0x119e02690>"
      ]
     },
     "metadata": {},
     "output_type": "display_data"
    }
   ],
   "source": [
    "fig, ax1 = plt.subplots(figsize=(8,8))\n",
    "ax2=ax1.twinx()\n",
    "convergeCurves(runT4fFiles,ax1,ax2,'b','b',fontsize=24)\n",
    "convergeCurves(runT4tFiles,ax1,ax2,'g','g',fontsize=24)\n",
    "ax1.legend(('$\\phi_d$ off-diagonal','$\\phi_d$ tipper'),loc='upper right', bbox_to_anchor=(1., 0.6),fontsize=20)\n",
    "ax2.legend(('$\\phi_m$ off-diagonal','$\\phi_m$ tipper'),loc=4,fontsize=20)\n",
    "plt.show()\n",
    "fig.savefig('../Poster/MT_convergenceCurves.png',dpi=300)"
   ]
  },
  {
   "cell_type": "code",
   "execution_count": 43,
   "metadata": {
    "collapsed": true
   },
   "outputs": [],
   "source": [
    "ax.legend??"
   ]
  },
  {
   "cell_type": "code",
   "execution_count": null,
   "metadata": {
    "collapsed": true
   },
   "outputs": [],
   "source": [
    "fig, ax1 = plt.subplots()\n",
    "ax2=ax1.twinx()\n",
    "\n",
    "its  = np.array([res['iter'] for res in resList]).T\n",
    "ind = np.argsort(its)\n",
    "iphid = np.array([res['phi_d'] for res in resList]).T\n",
    "try:\n",
    "    phim = np.array([res['phi_m'] for res in resList]).T\n",
    "except:\n",
    "    phim = np.array([res['phi_ms'] for res in resList]).T + np.array([res['phi_mx'] for res in resList]).T + np.array([res['phi_my'] for res in resList]).T + np.array([res['phi_mz'] for res in resList]).T     \n",
    "x = np.arange(len(its))\n",
    "\n",
    "ax1.set_title('Data misfit $\\phi_d$ and regularization $\\phi_m$',fontsize=16)\n",
    "ax1.semilogy(x,phid[ind],'bx--')\n",
    "ax1.set_ylabel('$\\phi_d$', color='b',fontsize=14)\n",
    "    ax1.hlines(len(resList[0]['dpred'])*.5,0,len(x),colors='g',linestyles='-.')\n",
    "    for tl in ax1.get_yticklabels():\n",
    "        tl.set_color('b')\n",
    "         \n",
    "    ax2.semilogy(x,phim[ind],'rx--',)\n",
    "    ax2.set_ylabel('$\\phi_m$', color='r',fontsize=14)\n",
    "    for tl in ax2.get_yticklabels():\n",
    "        tl.set_color('r')\n",
    "    ax1.set_xlabel('iteration')"
   ]
  },
  {
   "cell_type": "code",
   "execution_count": null,
   "metadata": {
    "collapsed": false
   },
   "outputs": [],
   "source": [
    "allconvergeCurves(runT4fFiles)"
   ]
  },
  {
   "cell_type": "code",
   "execution_count": 14,
   "metadata": {
    "collapsed": true
   },
   "outputs": [],
   "source": [
    "mesh, modDict = simpeg.Mesh.TensorMesh.readVTK('../ForwardModeling_noExtension_Coarse/nsmesh_CoarseHKPK1_NoExtension.vtr')\n",
    "sigma = modDict['S/m']"
   ]
  },
  {
   "cell_type": "code",
   "execution_count": 15,
   "metadata": {
    "collapsed": false
   },
   "outputs": [],
   "source": [
    "mesh,inv= simpeg.Mesh.TensorMesh.readVTK('./run_thibaut4_off/recoveredMod_run_thibaut4_off_it18.vtr')\n",
    "siginv=inv['S/m']"
   ]
  },
  {
   "cell_type": "code",
   "execution_count": 16,
   "metadata": {
    "collapsed": false
   },
   "outputs": [
    {
     "data": {
      "text/plain": [
       "array([  9.99386268e-05,   9.99269880e-05,   9.99185583e-05, ...,\n",
       "         1.00000000e-08,   1.00000000e-08,   1.00000000e-08])"
      ]
     },
     "execution_count": 16,
     "metadata": {},
     "output_type": "execute_result"
    }
   ],
   "source": [
    "siginv"
   ]
  },
  {
   "cell_type": "code",
   "execution_count": 17,
   "metadata": {
    "collapsed": false
   },
   "outputs": [
    {
     "name": "stdout",
     "output_type": "stream",
     "text": [
      "99456\n",
      "  ---- 3-D TensorMesh ----  \n",
      "   x0: 554291.75\n",
      "   y0: 7130531.75\n",
      "   z0: -4530.95\n",
      "  nCx: 37\n",
      "  nCy: 42\n",
      "  nCz: 64\n",
      "   hx: 961.08, 640.72, 427.15, 284.77, 189.84, 126.56, 84.38, 56.25, 37.50, 19*25.00, 37.50, 56.25, 84.38, 126.56, 189.84, 284.77, 427.15, 640.72, 961.08\n",
      "   hy: 961.08, 640.72, 427.15, 284.77, 189.84, 126.56, 84.38, 56.25, 37.50, 24*25.00, 37.50, 56.25, 84.38, 126.56, 189.84, 284.77, 427.15, 640.72, 961.08\n",
      "   hz: 1393.75, 929.17, 619.45, 412.96, 275.31, 183.54, 122.36, 81.57, 2*62.75, 3*48.27, 4*37.13, 5*28.56, 6*21.97, 6*16.90, 6*13.00, 12*10.00, 15.00, 22.50, 33.75, 50.62, 75.94, 113.91, 170.86, 256.29, 384.43, 576.65, 864.98, 1297.46\n"
     ]
    }
   ],
   "source": [
    "print mesh.nC\n",
    "print mesh"
   ]
  },
  {
   "cell_type": "code",
   "execution_count": 18,
   "metadata": {
    "collapsed": true
   },
   "outputs": [],
   "source": [
    "# Define the area of interest\n",
    "bw, be = 557100, 557580\n",
    "bs, bn = 7133340, 7133960 \n",
    "bb, bt = 0,480"
   ]
  },
  {
   "cell_type": "code",
   "execution_count": 19,
   "metadata": {
    "collapsed": true
   },
   "outputs": [],
   "source": [
    "# Define the area of interest\n",
    "bw, be = 557100, 557580\n",
    "bs, bn = 7133340, 7133820 \n",
    "bb, bt = 0,480"
   ]
  },
  {
   "cell_type": "code",
   "execution_count": 20,
   "metadata": {
    "collapsed": false
   },
   "outputs": [
    {
     "data": {
      "text/plain": [
       "480"
      ]
     },
     "execution_count": 20,
     "metadata": {},
     "output_type": "execute_result"
    }
   ],
   "source": [
    "bn-bs"
   ]
  },
  {
   "cell_type": "code",
   "execution_count": 21,
   "metadata": {
    "collapsed": false
   },
   "outputs": [
    {
     "data": {
      "text/plain": [
       "820"
      ]
     },
     "execution_count": 21,
     "metadata": {},
     "output_type": "execute_result"
    }
   ],
   "source": [
    "960-140"
   ]
  },
  {
   "cell_type": "code",
   "execution_count": 22,
   "metadata": {
    "collapsed": false
   },
   "outputs": [
    {
     "ename": "NameError",
     "evalue": "name 'model' is not defined",
     "output_type": "error",
     "traceback": [
      "\u001b[0;31m---------------------------------------------------------------------------\u001b[0m",
      "\u001b[0;31mNameError\u001b[0m                                 Traceback (most recent call last)",
      "\u001b[0;32m<ipython-input-22-d65bcbc5cd14>\u001b[0m in \u001b[0;36m<module>\u001b[0;34m()\u001b[0m\n\u001b[0;32m----> 1\u001b[0;31m \u001b[0mmask0\u001b[0m \u001b[0;34m=\u001b[0m \u001b[0mnp\u001b[0m\u001b[0;34m.\u001b[0m\u001b[0mma\u001b[0m\u001b[0;34m.\u001b[0m\u001b[0mmasked_where\u001b[0m\u001b[0;34m(\u001b[0m\u001b[0mmodel\u001b[0m\u001b[0;34m==\u001b[0m\u001b[0;36m1e-8\u001b[0m\u001b[0;34m,\u001b[0m\u001b[0mmodel\u001b[0m\u001b[0;34m)\u001b[0m\u001b[0;34m\u001b[0m\u001b[0m\n\u001b[0m",
      "\u001b[0;31mNameError\u001b[0m: name 'model' is not defined"
     ]
    }
   ],
   "source": [
    "mask0 = np.ma.masked_where(model==1e-8,model)\n"
   ]
  },
  {
   "cell_type": "code",
   "execution_count": 23,
   "metadata": {
    "collapsed": false
   },
   "outputs": [
    {
     "data": {
      "text/plain": [
       "-140"
      ]
     },
     "execution_count": 23,
     "metadata": {},
     "output_type": "execute_result"
    }
   ],
   "source": [
    "480-620"
   ]
  },
  {
   "cell_type": "code",
   "execution_count": 24,
   "metadata": {
    "collapsed": true
   },
   "outputs": [],
   "source": [
    "np.ma.masked_where??"
   ]
  },
  {
   "cell_type": "code",
   "execution_count": 165,
   "metadata": {
    "collapsed": false
   },
   "outputs": [
    {
     "data": {
      "image/png": "iVBORw0KGgoAAAANSUhEUgAAAqQAAAJ/CAYAAACuv8FFAAAABHNCSVQICAgIfAhkiAAAAAlwSFlz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\nAABJRU5ErkJggg==\n",
      "text/plain": [
       "<matplotlib.figure.Figure at 0x11aafb810>"
      ]
     },
     "metadata": {},
     "output_type": "display_data"
    }
   ],
   "source": [
    "vmin,vmax=-4,-1.3\n",
    "fontsize=14\n",
    "titlesize=16\n",
    "\n",
    "slice_ver=20\n",
    "slice_hor=40\n",
    "\n",
    "\n",
    "#fig, axes = plt.subplots(nrows=2, ncols=2,figsize=(16,12))#,sharex=True)\n",
    "#ax0=axes[0,0]\n",
    "#ax1=axes[0,1]\n",
    "#ax2=axes[1,0]\n",
    "#ax3=axes[1,1]\n",
    "fig = plt.figure(figsize=(10,10))\n",
    "ax0=plt.subplot2grid((16,10), (0, 0),colspan=5,rowspan=7)\n",
    "#ax4=plt.subplot2grid((10,12),(0,11),colspan=1,rowspan=10)\n",
    "#ax0 = plt.subplot(221)\n",
    "model = sigma.reshape(mesh.vnC,order='F')\n",
    "mask0 = np.ma.masked_where(model==1e-8,model)\n",
    "\n",
    "a = ax0.pcolormesh(mesh.gridCC[:,0].reshape(mesh.vnC,order='F')[:,slice_ver,:],\n",
    "                   mesh.gridCC[:,2].reshape(mesh.vnC,order='F')[:,slice_ver,:],np.log10(mask0[:,slice_ver,:]),\n",
    "                   edgecolor='k',cmap='viridis')\n",
    "\n",
    "ax0.set_xlim([bw,be])\n",
    "ax0.set_ylim([-140,bt])\n",
    "#ax.grid(which=\"major\")\n",
    "#cb0 = plt.colorbar(a,ax=ax4)\n",
    "ax0.set_aspect(\"equal\")\n",
    "cb0.set_label(\"Log conductivity (S/m)\",fontsize=fontsize)\n",
    "cb0.set_clim(vmin,vmax)\n",
    "ax0.set_xlabel(\"Easting (m)\",fontsize=fontsize)\n",
    "ax0.set_ylabel(\"Elevation (m)\",fontsize=fontsize)\n",
    "ax0.set_title((\"True Model \\n at %1.0f m Northing \")%(np.unique(mesh.gridCC[:,1].reshape(mesh.vnC,order='F')[:,slice_ver,:])[0]),fontsize=titlesize)\n",
    "\n",
    "ax0.set_xticks([bw,(bw+be)/2,be])\n",
    "ax0.set_xticklabels([bw,(bw+be)/2,be])\n",
    "\n",
    "ax1=plt.subplot2grid((16,10), (0, 5),colspan=5,rowspan=7)\n",
    "#ax1 = plt.subplot(222)\n",
    "\n",
    "sinv = siginv.reshape(mesh.vnC,order='F')\n",
    "mask1= np.ma.masked_where(sinv<=9.9e-7,sinv)\n",
    "\n",
    "b = ax1.pcolormesh(mesh.gridCC[:,0].reshape(mesh.vnC,order='F')[:,slice_ver,:],\n",
    "                   mesh.gridCC[:,2].reshape(mesh.vnC,order='F')[:,slice_ver,:],np.log10(mask1[:,slice_ver,:]),\n",
    "                   edgecolor='k',cmap='viridis',vmin=vmin,vmax=vmax)\n",
    "\n",
    "ax1.set_xlim([bw,be])\n",
    "ax1.set_ylim([-140,bt])\n",
    "#ax.grid(which=\"major\")\n",
    "#cb1 = plt.colorbar(b,ax=ax1)\n",
    "#cb1.set_clim(vmin,vmax)\n",
    "ax1.set_aspect(\"equal\")\n",
    "#cb1.set_label(\"Log conductivity (S/m)\",fontsize=fontsize)\n",
    "ax1.set_xlabel(\"Easting (m)\",fontsize=fontsize)\n",
    "ax1.set_ylabel(\"Elevation (m)\",fontsize=fontsize)\n",
    "ax1.set_title((\"Recovered Model \\n at %1.0f m Northing \")%(np.unique(mesh.gridCC[:,1].reshape(mesh.vnC,order='F')[:,slice_ver,:])[0]),fontsize=titlesize)\n",
    "\n",
    "ax1.set_xticks([bw,(bw+be)/2,be])\n",
    "ax1.set_xticklabels([bw,(bw+be)/2,be])\n",
    "\n",
    "ax2=plt.subplot2grid((16,10), (9, 0),colspan=5,rowspan=7)\n",
    "#ax2 = plt.subplot(223)\n",
    "\n",
    "\n",
    "#print np.unique(mesh.gridCC[:,2].reshape(mesh.vnC,order='F')[:,:,slice])\n",
    "\n",
    "c = ax2.pcolormesh(mesh.gridCC[:,0].reshape(mesh.vnC,order='F')[:,:,slice_hor],mesh.gridCC[:,1].reshape(mesh.vnC,order='F')[:,:,slice_hor],\n",
    "                   np.log10(model[:,:,slice_hor]),edgecolor='k',cmap='viridis',vmin=vmin,vmax=vmax)\n",
    "\n",
    "ax2.set_xlim([bw,be])\n",
    "ax2.set_ylim([bs,bn])\n",
    "#ax.grid(which=\"major\")\n",
    "#cb2 = plt.colorbar(c,ax=ax2)\n",
    "ax2.set_aspect(\"equal\")\n",
    "#cb2.set_label(\"Log conductivity (S/m)\",fontsize=fontsize)\n",
    "#cb2.set_clim(vmin,vmax)\n",
    "ax2.set_xticks([bw,(bw+be)/2,be])\n",
    "ax2.set_xticklabels([bw,(bw+be)/2,be])\n",
    "\n",
    "ax2.set_yticks([bs,(bs+bn)/2,bn])\n",
    "ax2.set_yticklabels([bs-7133000,(bs+bn)/2-7133000,bn-7133000])\n",
    "#ax2.set_yticklabels(np.round((np.array(ax2.get_yticks().tolist(),dtype=int)/1000).tolist()))\n",
    "\n",
    "\n",
    "ax2.set_xlabel(\"Easting (m)\",fontsize=fontsize)\n",
    "ax2.set_ylabel(\"Northing 7133000+(m)\",fontsize=fontsize)\n",
    "ax2.set_title((\"True Model \\n at %1.0f m Elevation \")%(np.unique(mesh.gridCC[:,2].reshape(mesh.vnC,order='F')[:,:,slice_hor])[0]),fontsize=titlesize)\n",
    "\n",
    "ax3=plt.subplot2grid((16,10), (9, 5),colspan=5,rowspan=7)\n",
    "#ax3 = plt.subplot(224)\n",
    "\n",
    "d = ax3.pcolormesh(mesh.gridCC[:,0].reshape(mesh.vnC,order='F')[:,:,slice_hor],mesh.gridCC[:,1].reshape(mesh.vnC,order='F')[:,:,slice_hor],\n",
    "                   np.log10(sinv[:,:,slice_hor]),edgecolor='k',cmap='viridis',vmin=vmin,vmax=vmax)\n",
    "\n",
    "ax3.set_xlim([bw,be])\n",
    "ax3.set_ylim([bs,bn])\n",
    "#ax.grid(which=\"major\")\n",
    "#cb3 = plt.colorbar(d,ax=ax3)\n",
    "#cb3.set_clim(vmin,vmax)\n",
    "ax3.set_aspect(\"equal\")\n",
    "\n",
    "ax3.set_xticks([bw,(bw+be)/2,be])\n",
    "ax3.set_xticklabels([bw,(bw+be)/2,be])\n",
    "\n",
    "ax3.set_yticks([bs,(bs+bn)/2,bn])\n",
    "ax3.set_yticklabels([bs-7133000,(bs+bn)/2-7133000,bn-7133000])\n",
    "#ax3.set_yticklabels(np.round((np.array(ax3.get_yticks().tolist(),dtype=int)/1000).tolist()))\n",
    "\n",
    "\n",
    "#cb3.set_label(\"Log conductivity (S/m)\",fontsize=fontsize)\n",
    "ax3.set_xlabel(\"Easting (m)\",fontsize=fontsize)\n",
    "ax3.set_ylabel(\"Northing 7133000+(m)\",fontsize=fontsize)\n",
    "ax3.set_title((\"Recovered Model \\n at %1.0f m Elevation \")%(np.unique(mesh.gridCC[:,2].reshape(mesh.vnC,order='F')[:,:,slice_hor])[0]),fontsize=titlesize)\n",
    "\n",
    "\n",
    "fig.subplots_adjust(right=0.9)\n",
    "cbar_ax = fig.add_axes([0.95, 0.15, 0.02, 0.7])\n",
    "cbar = plt.colorbar(c, cax=cbar_ax)\n",
    "cbar.set_label(\"Log conductivity (S/m)\",fontsize=fontsize)\n",
    "cbar.set_ticks([-4,-3,-2,-1.3])\n",
    "\n",
    "\n",
    "plt.show()"
   ]
  },
  {
   "cell_type": "code",
   "execution_count": 42,
   "metadata": {
    "collapsed": false
   },
   "outputs": [
    {
     "data": {
      "image/png": "iVBORw0KGgoAAAANSUhEUgAAA/wAAAKaCAYAAACDe1IIAAAABHNCSVQICAgIfAhkiAAAAAlwSFlz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\nQmCC\n",
      "text/plain": [
       "<matplotlib.figure.Figure at 0x1197f1690>"
      ]
     },
     "metadata": {},
     "output_type": "display_data"
    }
   ],
   "source": [
    "vmin,vmax=-4,-1.3\n",
    "ticksize=14\n",
    "fontsize=14\n",
    "titlesize=16\n",
    "\n",
    "slice_ver=20\n",
    "slice_hor=40\n",
    "\n",
    "\n",
    "#fig, axes = plt.subplots(nrows=2, ncols=2,figsize=(16,12))#,sharex=True)\n",
    "#ax0=axes[0,0]\n",
    "#ax1=axes[0,1]\n",
    "#ax2=axes[1,0]\n",
    "#ax3=axes[1,1]\n",
    "fig = plt.figure(figsize=(15,10))\n",
    "ax0=plt.subplot2grid((12,18), (0, 0),colspan=6,rowspan=6)\n",
    "#ax4=plt.subplot2grid((10,12),(0,11),colspan=1,rowspan=10)\n",
    "#ax0 = plt.subplot(221)\n",
    "model = sigma.reshape(mesh.vnC,order='F')\n",
    "mask0 = np.ma.masked_where(model==1e-8,model)\n",
    "\n",
    "a = ax0.pcolormesh(mesh.gridCC[:,0].reshape(mesh.vnC,order='F')[:,slice_ver,:],\n",
    "                   mesh.gridCC[:,2].reshape(mesh.vnC,order='F')[:,slice_ver,:],np.log10(mask0[:,slice_ver,:]),\n",
    "                   edgecolor='k',cmap='viridis')\n",
    "\n",
    "ax0.set_xlim([bw,be])\n",
    "ax0.set_ylim([0,bt])\n",
    "#ax.grid(which=\"major\")\n",
    "#cb0 = plt.colorbar(a,ax=ax4)\n",
    "ax0.set_aspect(\"equal\")\n",
    "#cb0.set_label(\"Log conductivity (S/m)\",fontsize=fontsize)\n",
    "#cb0.set_clim(vmin,vmax)\n",
    "#ax0.set_xlabel(\"Easting (km)\",fontsize=fontsize)\n",
    "ax0.set_ylabel((\"at %1.0f m Northing \\n Elevation (m)\")%(np.unique(mesh.gridCC[:,1].reshape(mesh.vnC,order='F')[:,slice_ver,:])[0]),fontsize=titlesize)\n",
    "ax0.set_title(\"True Model\",fontsize=titlesize)\n",
    "\n",
    "#ax0.set_xticks([bw,(bw+be)/2,be])\n",
    "#ax0.set_xticklabels([bw,(bw+be)/2,be])\n",
    "#ax0.set_xticklabels(np.round((np.array(ax0.get_xticks().tolist(),dtype=float)/100).tolist())/10)\n",
    "ax0.set_xticklabels([])\n",
    "\n",
    "ax0.set_yticks([0,200,400])\n",
    "ax0.tick_params(axis='y', labelsize=ticksize)\n",
    "\n",
    "ax1=plt.subplot2grid((12,18), (0, 6),colspan=6,rowspan=6)\n",
    "#ax1 = plt.subplot(222)\n",
    "\n",
    "sinv = siginv.reshape(mesh.vnC,order='F')\n",
    "mask1= np.ma.masked_where(sinv<=9.9e-7,sinv)\n",
    "\n",
    "b = ax1.pcolormesh(mesh.gridCC[:,0].reshape(mesh.vnC,order='F')[:,slice_ver,:],\n",
    "                   mesh.gridCC[:,2].reshape(mesh.vnC,order='F')[:,slice_ver,:],np.log10(mask1[:,slice_ver,:]),\n",
    "                   edgecolor='k',cmap='viridis',vmin=vmin,vmax=vmax)\n",
    "\n",
    "ax1.set_xlim([bw,be])\n",
    "ax1.set_ylim([0,bt])\n",
    "#ax.grid(which=\"major\")\n",
    "#cb1 = plt.colorbar(b,ax=ax1)\n",
    "#cb1.set_clim(vmin,vmax)\n",
    "ax1.set_aspect(\"equal\")\n",
    "#cb1.set_label(\"Log conductivity (S/m)\",fontsize=fontsize)\n",
    "#ax1.set_xlabel(\"Easting (km)\",fontsize=fontsize)\n",
    "#ax1.set_ylabel(\"Elevation (m)\",fontsize=fontsize)\n",
    "ax1.set_yticklabels([])\n",
    "ax1.set_title((\"Off-diagonal \\n Recovered Model\")%(np.unique(mesh.gridCC[:,1].reshape(mesh.vnC,order='F')[:,slice_ver,:])[0]),fontsize=titlesize)\n",
    "\n",
    "#ax1.set_xticks([bw,(bw+be)/2,be])\n",
    "#ax1.set_xticklabels([bw,(bw+be)/2,be])\n",
    "#ax1.set_xticklabels(np.round((np.array(ax1.get_xticks().tolist(),dtype=float)/100).tolist())/10)\n",
    "ax1.set_xticklabels([])\n",
    "\n",
    "ax2=plt.subplot2grid((12,18), (6, 0),colspan=6,rowspan=6)\n",
    "#ax2 = plt.subplot(223)\n",
    "\n",
    "\n",
    "#print np.unique(mesh.gridCC[:,2].reshape(mesh.vnC,order='F')[:,:,slice])\n",
    "\n",
    "c = ax2.pcolormesh(mesh.gridCC[:,0].reshape(mesh.vnC,order='F')[:,:,slice_hor],mesh.gridCC[:,1].reshape(mesh.vnC,order='F')[:,:,slice_hor],\n",
    "                   np.log10(model[:,:,slice_hor]),edgecolor='k',cmap='viridis',vmin=vmin,vmax=vmax)\n",
    "\n",
    "ax2.set_xlim([bw,be])\n",
    "ax2.set_ylim([bs,bn])\n",
    "#ax.grid(which=\"major\")\n",
    "#cb2 = plt.colorbar(c,ax=ax2)\n",
    "ax2.set_aspect(\"equal\")\n",
    "#cb2.set_label(\"Log conductivity (S/m)\",fontsize=fontsize)\n",
    "#cb2.set_clim(vmin,vmax)\n",
    "ax2.set_xticks([bw,(bw+be)/2,be-80])\n",
    "ax2.set_xticklabels([bw,(bw+be)/2,be-80])\n",
    "ax2.set_xticklabels(np.round((np.array(ax2.get_xticks().tolist(),dtype=float)/100).tolist())/10)\n",
    "ax2xlabels=ax2.get_xticklabels()\n",
    "for label in ax2xlabels:\n",
    "    label.set_rotation(45)\n",
    "    \n",
    "ax2.set_yticks([7133400,7133600,7133800])\n",
    "ax2.set_yticklabels([400,600,800])\n",
    "ax2.tick_params(axis='y', labelsize=ticksize)\n",
    "\n",
    "#ax2.set_yticklabels(np.round((np.array(ax2.get_yticks().tolist(),dtype=int)/1000).tolist()))\n",
    "\n",
    "\n",
    "ax2.set_xlabel(\"Easting (km)\",fontsize=fontsize)\n",
    "ax2.set_ylabel((\"at %1.0f m Elevation \\n Northing 7133km+(m)\")%(np.unique(mesh.gridCC[:,2].reshape(mesh.vnC,order='F')[:,:,slice_hor])[0]),fontsize=titlesize)\n",
    "#ax2.set_title((\"True Model \\n at %1.0f m Elevation \")%(np.unique(mesh.gridCC[:,2].reshape(mesh.vnC,order='F')[:,:,slice_hor])[0]),fontsize=titlesize)\n",
    "\n",
    "ax3=plt.subplot2grid((12,18), (6, 6),colspan=6,rowspan=6)\n",
    "#ax3 = plt.subplot(224)\n",
    "\n",
    "d = ax3.pcolormesh(mesh.gridCC[:,0].reshape(mesh.vnC,order='F')[:,:,slice_hor],mesh.gridCC[:,1].reshape(mesh.vnC,order='F')[:,:,slice_hor],\n",
    "                   np.log10(sinv[:,:,slice_hor]),edgecolor='k',cmap='viridis',vmin=vmin,vmax=vmax)\n",
    "\n",
    "ax3.set_xlim([bw,be])\n",
    "ax3.set_ylim([bs,bn])\n",
    "#ax.grid(which=\"major\")\n",
    "#cb3 = plt.colorbar(d,ax=ax3)\n",
    "#cb3.set_clim(vmin,vmax)\n",
    "ax3.set_aspect(\"equal\")\n",
    "\n",
    "ax3.set_xticks([bw,(bw+be)/2,be-80])\n",
    "ax3.set_xticklabels([bw,(bw+be)/2,be-80])\n",
    "\n",
    "#ax3.set_yticks([bs,(bs+bn)/2,bn])\n",
    "#ax3.set_yticklabels([bs-7133000,(bs+bn)/2-7133000,bn-7133000])\n",
    "ax3.set_xticklabels(np.round((np.array(ax3.get_xticks().tolist(),dtype=float)/100).tolist())/10)\n",
    "\n",
    "ax3xlabels=ax3.get_xticklabels()\n",
    "for label in ax3xlabels:\n",
    "    label.set_rotation(45)\n",
    "    \n",
    "ax3.set_yticklabels([])\n",
    "\n",
    "#cb3.set_label(\"Log conductivity (S/m)\",fontsize=fontsize)\n",
    "ax3.set_xlabel(\"Easting (km)\",fontsize=fontsize)\n",
    "#ax3.set_ylabel(\"Northing 7133000+(m)\",fontsize=fontsize)\n",
    "#ax3.set_title((\"Off-Diagonal \\n Recovered Model\")%(np.unique(mesh.gridCC[:,2].reshape(mesh.vnC,order='F')[:,:,slice_hor])[0]),fontsize=titlesize)\n",
    "\n",
    "\n",
    "fig.subplots_adjust(right=0.9)\n",
    "cbar_ax = fig.add_axes([0.92, 0.15, 0.02, 0.7])\n",
    "cbar = plt.colorbar(c, cax=cbar_ax)\n",
    "cbar.set_label(\"Log conductivity (S/m)\",fontsize=titlesize)\n",
    "cbar.set_ticks([-4,-3,-2,-1.3])\n",
    "\n",
    "sinvtip = siginvtip.reshape(mesh.vnC,order='F')\n",
    "mask2= np.ma.masked_where(sinvtip<=9.9e-7,sinvtip)\n",
    "\n",
    "ax4=plt.subplot2grid((12,18), (0, 12),colspan=6,rowspan=6)\n",
    "\n",
    "e = ax4.pcolormesh(mesh.gridCC[:,0].reshape(mesh.vnC,order='F')[:,slice_ver,:],\n",
    "                   mesh.gridCC[:,2].reshape(mesh.vnC,order='F')[:,slice_ver,:],np.log10(mask2[:,slice_ver,:]),\n",
    "                   edgecolor='k',cmap='viridis',vmin=vmin,vmax=vmax)\n",
    "\n",
    "ax4.set_xlim([bw,be])\n",
    "ax4.set_ylim([0,bt])\n",
    "#ax.grid(which=\"major\")\n",
    "#cb1 = plt.colorbar(b,ax=ax1)\n",
    "#cb1.set_clim(vmin,vmax)\n",
    "ax4.set_aspect(\"equal\")\n",
    "ax4.set_yticklabels([])\n",
    "#cb1.set_label(\"Log conductivity (S/m)\",fontsize=fontsize)\n",
    "#ax4.set_xlabel(\"Easting (km)\",fontsize=fontsize)\n",
    "#ax4.set_ylabel(\"Elevation (m)\",fontsize=fontsize)\n",
    "ax4.set_title((\"Tipper \\n Recoverered Model\")%(np.unique(mesh.gridCC[:,1].reshape(mesh.vnC,order='F')[:,slice_ver,:])[0]),fontsize=titlesize)\n",
    "\n",
    "#ax4.set_xticks([bw,(bw+be)/2,be])\n",
    "#ax4.set_xticklabels([bw,(bw+be)/2,be])\n",
    "#ax4.set_xticklabels(np.round((np.array(ax4.get_xticks().tolist(),dtype=float)/100).tolist())/10)\n",
    "ax4.set_xticklabels([])\n",
    "\n",
    "ax5=plt.subplot2grid((12,18), (6, 12),colspan=6,rowspan=6)\n",
    "\n",
    "\n",
    "f = ax5.pcolormesh(mesh.gridCC[:,0].reshape(mesh.vnC,order='F')[:,:,slice_hor],mesh.gridCC[:,1].reshape(mesh.vnC,order='F')[:,:,slice_hor],\n",
    "                   np.log10(mask2[:,:,slice_hor]),edgecolor='k',cmap='viridis',vmin=vmin,vmax=vmax)\n",
    "\n",
    "ax5.set_xlim([bw,be])\n",
    "ax5.set_ylim([bs,bn])\n",
    "#ax.grid(which=\"major\")\n",
    "#cb3 = plt.colorbar(d,ax=ax3)\n",
    "#cb3.set_clim(vmin,vmax)\n",
    "ax5.set_aspect(\"equal\")\n",
    "\n",
    "ax5.set_xticks([bw,(bw+be)/2,be])\n",
    "ax5.set_xticklabels([bw,(bw+be)/2,be])\n",
    "ax5.set_xticklabels(np.round((np.array(ax5.get_xticks().tolist(),dtype=float)/100).tolist())/10)\n",
    "\n",
    "ax5xlabels=ax5.get_xticklabels()\n",
    "for label in ax5xlabels:\n",
    "    label.set_rotation(45)\n",
    "    \n",
    "#ax5.set_yticks([bs,(bs+bn)/2,bn])\n",
    "#ax5.set_yticklabels([bs,(bs+bn)/2,bn])\n",
    "ax5.set_yticklabels([])\n",
    "\n",
    "#cb3.set_label(\"Log conductivity (S/m)\",fontsize=fontsize)\n",
    "ax5.set_xlabel(\"Easting (km)\",fontsize=fontsize)\n",
    "#ax5.set_ylabel(\"Northing (m)\",fontsize=fontsize)\n",
    "#ax5.set_title((\"Tipper \\n Recovered Model\")%(np.unique(mesh.gridCC[:,2].reshape(mesh.vnC,order='F')[:,:,slice_hor])[0]),fontsize=titlesize)\n",
    "\n",
    "for ax in [ax0,ax1,ax2,ax3,ax4,ax5,cbar.ax]:\n",
    "    ax.tick_params(axis='y', labelsize=ticksize)\n",
    "    ax.tick_params(axis='x', labelsize=ticksize)\n",
    "\n",
    "\n",
    "plt.show()"
   ]
  },
  {
   "cell_type": "code",
   "execution_count": 250,
   "metadata": {
    "collapsed": false
   },
   "outputs": [],
   "source": [
    "fig.add_axes??"
   ]
  },
  {
   "cell_type": "code",
   "execution_count": 255,
   "metadata": {
    "collapsed": true
   },
   "outputs": [],
   "source": [
    "fig.savefig('../Poster/MT_offtip_results.png',dpi=300)"
   ]
  },
  {
   "cell_type": "code",
   "execution_count": 228,
   "metadata": {
    "collapsed": false
   },
   "outputs": [],
   "source": [
    "ax.set_yticklabels??"
   ]
  },
  {
   "cell_type": "code",
   "execution_count": 194,
   "metadata": {
    "collapsed": false
   },
   "outputs": [
    {
     "data": {
      "text/plain": [
       "-480"
      ]
     },
     "execution_count": 194,
     "metadata": {},
     "output_type": "execute_result"
    }
   ],
   "source": [
    "bw-be"
   ]
  },
  {
   "cell_type": "code",
   "execution_count": 25,
   "metadata": {
    "collapsed": false
   },
   "outputs": [],
   "source": [
    "# Load the FW tipper data from last iteration\n",
    "drecAllft = np.load('../FW_Test_it10_offdiag/MTdataStArr_recoveredMod_run_thibaut4_off_it10.npy')\n",
    "# Select larger frequency band for the MT data\n",
    "indMTFreqft = np.sum([drecAllft['freq'] == val for val in  np.unique(drecAllft['freq'])],axis=0,dtype=bool)\n",
    "mtRecArrft = drecAllft[indMTFreqft][['freq','x','y','z','tzx','tzy']]\n",
    "dUseft = NSEM.Data.fromRecArray(mtRecArrft)\n",
    "# Extract to survey\n",
    "surveyft = dUseft.survey"
   ]
  },
  {
   "cell_type": "code",
   "execution_count": 28,
   "metadata": {
    "collapsed": true
   },
   "outputs": [],
   "source": [
    "# # Add noise to the data\n",
    "dobsft, freqArr, rxT = getDataInfo(dUseft)\n",
    "# Set the data\n",
    "\n",
    "survey.dobs = dobsft\n",
    "# Assign std based on- and off-diagonal parts of the impedance tensor\n",
    "std = np.ones_like(dobsft)*.05 # 5% on all off-diagonals\n",
    "# std[np.array([ ('xx' in l or 'yy' in l) for l in rxT])] = 0.15 # 15% on the on-diagonal\n",
    "survey.std = np.abs(survey.dobs*std) #+ 0.01*np.linalg.norm(survey.dobs) #survey.dobs*0 + std\n",
    "# Estimate a floor for the data.\n",
    "# Use the 10% of the mean of the off-diagonals for each frequency\n",
    "floor = np.zeros_like(dobsft)\n",
    "offind = np.array([('zxy' in l or 'zyx' in l) for l in rxT],bool)\n",
    "onind = np.array([('zxx' in l or 'zyy' in l) for l in rxT],bool)\n",
    "tipind = np.array([('tzx' in l or 'tzy' in l) for l in rxT],bool)\n",
    "\n",
    "assert (offind+tipind+onind).all()\n",
    "\n",
    "for f in np.unique(freqArr):\n",
    "    freqInd = freqArr == f\n",
    "    floorFreq = floor[freqInd]\n",
    "    offD = np.sort(np.abs(dobs[freqInd*offind]))\n",
    "    floor[freqInd] = 0.0001*np.mean(offD)\n",
    "    onD = np.sort(np.abs(dobs[freqInd*onind]))\n",
    "    floor[freqInd*onind] = 0.1*np.mean(onD)\n",
    "    # Constant floor for the tipper.\n",
    "    floor[freqInd*tipind] = 0.001\n",
    "\n",
    "# Assign the data weight\n",
    "Wd = 1./(survey.std + floor)\n",
    "\n",
    "epsft=(survey.std + floor)"
   ]
  },
  {
   "cell_type": "code",
   "execution_count": null,
   "metadata": {
    "collapsed": true
   },
   "outputs": [],
   "source": [
    "phi_d_ft = (dobsft-dobst)/epsft"
   ]
  },
  {
   "cell_type": "code",
   "execution_count": null,
   "metadata": {
    "collapsed": false
   },
   "outputs": [],
   "source": [
    "n = plt.hist(phi_d_ft,bins=50,color='green')"
   ]
  },
  {
   "cell_type": "code",
   "execution_count": 52,
   "metadata": {
    "collapsed": true
   },
   "outputs": [],
   "source": [
    "%matplotlib qt\n",
    "sys.path.append('/home/gudni/Dropbox/code/python/MTview/')\n",
    "import interactivePlotFunctions as iPf"
   ]
  },
  {
   "cell_type": "code",
   "execution_count": 53,
   "metadata": {
    "collapsed": false
   },
   "outputs": [
    {
     "data": {
      "text/plain": [
       "[18, 17, 1, 5, 11, 10, 4, 7, 9, 13, 12, 8, 14, 3, 6, 16, 2, 15]"
      ]
     },
     "execution_count": 53,
     "metadata": {},
     "output_type": "execute_result"
    }
   ],
   "source": [
    "[f['iter'] for f in runT4fFiles]"
   ]
  },
  {
   "cell_type": "code",
   "execution_count": 62,
   "metadata": {
    "collapsed": false
   },
   "outputs": [],
   "source": [
    "finData=  NSEM.Data(surveyf,runT4fFiles[-1]['dpred']).toRecArray('Complex')"
   ]
  },
  {
   "cell_type": "code",
   "execution_count": 63,
   "metadata": {
    "collapsed": false
   },
   "outputs": [
    {
     "data": {
      "text/plain": [
       "<interactivePlotFunctions.MTinteractiveMap at 0x7f5396733f50>"
      ]
     },
     "execution_count": 63,
     "metadata": {},
     "output_type": "execute_result"
    }
   ],
   "source": [
    "%matplotlib qt\n",
    "iPf.MTinteractiveMap([dUse.toRecArray('Complex'),finData])"
   ]
  },
  {
   "cell_type": "code",
   "execution_count": 64,
   "metadata": {
    "collapsed": false
   },
   "outputs": [
    {
     "data": {
      "text/plain": [
       "array([ (1000.0, 557112.5, 7133352.5, 430.0, (nan+0j), (nan+0j), (nan+0j), (nan+0j), (-3.1626458088567886-2.8259053753455023j), (5.618414121399588+4.073614099604947j)),\n",
       "       (1000.0, 557137.5, 7133352.5, 430.0, (nan+0j), (nan+0j), (nan+0j), (nan+0j), (-2.7986580809800037-2.5625042462495418j), (6.0662491377788355+4.234059021065115j)),\n",
       "       (1000.0, 557162.5, 7133352.5, 430.0, (nan+0j), (nan+0j), (nan+0j), (nan+0j), (-2.4037620981778978-2.2813450587297983j), (6.265448832087991+4.243909632829268j)),\n",
       "       ...,\n",
       "       (100000.0, 557512.5, 7133952.5, 440.0, (nan+0j), (nan+0j), (nan+0j), (nan+0j), (-27.878492606144995-20.77865751782975j), (34.953532101151495+27.28026096500395j)),\n",
       "       (100000.0, 557537.5, 7133952.5, 440.0, (nan+0j), (nan+0j), (nan+0j), (nan+0j), (-32.430716367465806-23.82881358101504j), (37.53270529866346+28.959407235410605j)),\n",
       "       (100000.0, 557562.5, 7133952.5, 440.0, (nan+0j), (nan+0j), (nan+0j), (nan+0j), (-51.07831137669611-34.949144411761495j), (39.29283161109513+31.083050707975787j))], \n",
       "      dtype=[('freq', '<f8'), ('x', '<f8'), ('y', '<f8'), ('z', '<f8'), ('zxx', '<c16'), ('zxy', '<c16'), ('zyx', '<c16'), ('zyy', '<c16'), ('tzx', '<c16'), ('tzy', '<c16')])"
      ]
     },
     "execution_count": 64,
     "metadata": {},
     "output_type": "execute_result"
    }
   ],
   "source": [
    "finData"
   ]
  },
  {
   "cell_type": "markdown",
   "metadata": {
    "collapsed": true
   },
   "source": [
    "### Run_thibaut4_tip"
   ]
  },
  {
   "cell_type": "code",
   "execution_count": 26,
   "metadata": {
    "collapsed": true
   },
   "outputs": [],
   "source": [
    "# Load the data\n",
    "drecAllt = np.load('./run_thibaut4_tip/MTdataStArr_nsmesh_HKPK1Coarse_noExtension.npy')\n",
    "# Select larger frequency band for the MT data\n",
    "indMTFreqt = np.sum([drecAllt['freq'] == val for val in  np.unique(drecAllt['freq'])],axis=0,dtype=bool)\n",
    "mtRecArrt = drecAllt[indMTFreqt][['freq','x','y','z','tzx','tzy']]\n",
    "dUset = NSEM.Data.fromRecArray(mtRecArrt)\n",
    "# Extract to survey\n",
    "survey = dUset.survey"
   ]
  },
  {
   "cell_type": "code",
   "execution_count": 27,
   "metadata": {
    "collapsed": false,
    "scrolled": true
   },
   "outputs": [
    {
     "name": "stderr",
     "output_type": "stream",
     "text": [
<<<<<<< HEAD
      "/Applications/Anaconda/anaconda/lib/python2.7/site-packages/numpy/core/_methods.py:59: RuntimeWarning: Mean of empty slice.\n",
      "  warnings.warn(\"Mean of empty slice.\", RuntimeWarning)\n",
      "/Applications/Anaconda/anaconda/lib/python2.7/site-packages/numpy/core/_methods.py:70: RuntimeWarning: invalid value encountered in double_scalars\n",
=======
      "/home/gudni/anaconda2/lib/python2.7/site-packages/numpy/core/_methods.py:59: RuntimeWarning: Mean of empty slice.\n",
      "  warnings.warn(\"Mean of empty slice.\", RuntimeWarning)\n",
      "/home/gudni/anaconda2/lib/python2.7/site-packages/numpy/core/_methods.py:70: RuntimeWarning: invalid value encountered in double_scalars\n",
>>>>>>> 7ac9fac90c367abad66b5505462b97e053309f86
      "  ret = ret.dtype.type(ret / rcount)\n"
     ]
    }
   ],
   "source": [
    "# # Add noise to the data\n",
    "dobst, freqArr, rxT = getDataInfo(dUset)\n",
    "# Set the data\n",
    "\n",
    "survey.dobs = dobst\n",
    "# Assign std based on- and off-diagonal parts of the impedance tensor\n",
    "std = np.ones_like(dobst)*.05 # 5% on all off-diagonals\n",
    "# std[np.array([ ('xx' in l or 'yy' in l) for l in rxT])] = 0.15 # 15% on the on-diagonal\n",
    "survey.std = np.abs(survey.dobs*std) #+ 0.01*np.linalg.norm(survey.dobs) #survey.dobs*0 + std\n",
    "# Estimate a floor for the data.\n",
    "# Use the 10% of the mean of the off-diagonals for each frequency\n",
    "floor = np.zeros_like(dobst)\n",
    "offind = np.array([('zxy' in l or 'zyx' in l) for l in rxT],bool)\n",
    "onind = np.array([('zxx' in l or 'zyy' in l) for l in rxT],bool)\n",
    "tipind = np.array([('tzx' in l or 'tzy' in l) for l in rxT],bool)\n",
    "\n",
    "assert (offind+tipind+onind).all()\n",
    "\n",
    "for f in np.unique(freqArr):\n",
    "    freqInd = freqArr == f\n",
    "    floorFreq = floor[freqInd]\n",
    "    offD = np.sort(np.abs(dobst[freqInd*offind]))\n",
    "    floor[freqInd] = 0.0001*np.mean(offD)\n",
    "    onD = np.sort(np.abs(dobst[freqInd*onind]))\n",
    "    floor[freqInd*onind] = 0.1*np.mean(onD)\n",
    "    # Constant floor for the tipper.\n",
    "    floor[freqInd*tipind] = 0.001\n",
    "\n",
    "# Assign the data weight\n",
    "Wd = 1./(survey.std + floor)\n",
    "\n",
    "epst=(survey.std + floor)"
   ]
  },
  {
   "cell_type": "code",
   "execution_count": 28,
   "metadata": {
    "collapsed": true
   },
   "outputs": [],
   "source": [
    "runT4tFiles = loadInversionMakeVTRFiles('run_thibaut4_tip',mesh,mappingExpAct)"
   ]
  },
  {
   "cell_type": "code",
   "execution_count": 29,
   "metadata": {
    "collapsed": false
   },
   "outputs": [],
   "source": [
    "dpredt =runT4tFiles[-1]['dpred']"
   ]
  },
  {
   "cell_type": "code",
   "execution_count": 30,
   "metadata": {
    "collapsed": false
   },
   "outputs": [
    {
     "data": {
      "text/plain": [
       "[1,\n",
       " 2,\n",
       " 3,\n",
       " 4,\n",
       " 5,\n",
       " 6,\n",
       " 7,\n",
       " 8,\n",
       " 9,\n",
       " 10,\n",
       " 11,\n",
       " 12,\n",
       " 13,\n",
       " 14,\n",
       " 15,\n",
       " 16,\n",
       " 17,\n",
       " 18,\n",
       " 19,\n",
       " 20,\n",
       " 21,\n",
       " 22,\n",
       " 23,\n",
       " 24,\n",
       " 25,\n",
       " 26,\n",
       " 27,\n",
       " 28,\n",
       " 29,\n",
       " 30,\n",
       " 31,\n",
       " 32,\n",
       " 33,\n",
       " 34,\n",
       " 35,\n",
       " 36]"
      ]
     },
     "execution_count": 30,
     "metadata": {},
     "output_type": "execute_result"
    }
   ],
   "source": [
    "[i['iter'] for i in runT4tFiles]"
   ]
  },
  {
   "cell_type": "code",
   "execution_count": 31,
   "metadata": {
    "collapsed": true
   },
   "outputs": [],
   "source": [
    "phi_d_t = (dpredt-dobst)/epst"
   ]
  },
  {
   "cell_type": "code",
   "execution_count": 32,
   "metadata": {
    "collapsed": false
   },
   "outputs": [
    {
     "data": {
      "text/plain": [
       "0.97183127577573492"
      ]
     },
     "execution_count": 32,
     "metadata": {},
     "output_type": "execute_result"
    }
   ],
   "source": [
    "np.std(phi_d)"
   ]
  },
  {
   "cell_type": "code",
   "execution_count": 33,
   "metadata": {
    "collapsed": false,
    "scrolled": true
   },
   "outputs": [
    {
     "data": {
      "text/plain": [
       "1.6071295362349509"
      ]
     },
     "execution_count": 33,
     "metadata": {},
     "output_type": "execute_result"
    }
   ],
   "source": [
    "np.std(phi_d_t)"
   ]
  },
  {
   "cell_type": "code",
   "execution_count": 34,
   "metadata": {
    "collapsed": false
   },
   "outputs": [
    {
     "data": {
      "image/png": "iVBORw0KGgoAAAANSUhEUgAAAYEAAAEACAYAAABVtcpZAAAABHNCSVQICAgIfAhkiAAAAAlwSFlz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\nxhwCZmYZ+/9kehdyFpnK7AAAAABJRU5ErkJggg==\n",
      "text/plain": [
       "<matplotlib.figure.Figure at 0x1175276d0>"
      ]
     },
     "metadata": {},
     "output_type": "display_data"
    }
   ],
   "source": [
    "n = plt.hist(phi_d_t,bins=50,color='green')"
   ]
  },
  {
   "cell_type": "code",
   "execution_count": 35,
   "metadata": {
    "collapsed": false
   },
   "outputs": [
    {
     "data": {
      "image/png": "iVBORw0KGgoAAAANSUhEUgAAAYYAAAEACAYAAAC3adEgAAAABHNCSVQICAgIfAhkiAAAAAlwSFlz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\nAAAAAElFTkSuQmCC\n",
      "text/plain": [
       "<matplotlib.figure.Figure at 0x119879910>"
      ]
     },
     "metadata": {},
     "output_type": "display_data"
    }
   ],
   "source": [
    "n = plt.hist(np.log10(np.abs(epst)),bins=50,color='green')"
   ]
  },
  {
   "cell_type": "code",
   "execution_count": 36,
   "metadata": {
    "collapsed": false
   },
   "outputs": [
    {
     "data": {
      "image/png": "iVBORw0KGgoAAAANSUhEUgAAAX0AAAEACAYAAABfxaZOAAAABHNCSVQICAgIfAhkiAAAAAlwSFlz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\nSQ0x9CWpIYa+JDXk/wGSTjxSMHFx2AAAAABJRU5ErkJggg==\n",
      "text/plain": [
       "<matplotlib.figure.Figure at 0x119ae1110>"
      ]
     },
     "metadata": {},
     "output_type": "display_data"
    }
   ],
   "source": [
    "n = plt.hist(np.log10(np.abs(dpredt)),bins=50,color='green')"
   ]
  },
  {
   "cell_type": "code",
   "execution_count": 37,
   "metadata": {
    "collapsed": false
   },
   "outputs": [
    {
     "data": {
      "image/png": "iVBORw0KGgoAAAANSUhEUgAAAX0AAAEACAYAAABfxaZOAAAABHNCSVQICAgIfAhkiAAAAAlwSFlz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\nX5IaYuhLUkP+P6apVmVHr36RAAAAAElFTkSuQmCC\n",
      "text/plain": [
       "<matplotlib.figure.Figure at 0x119b918d0>"
      ]
     },
     "metadata": {},
     "output_type": "display_data"
    }
   ],
   "source": [
    "n = plt.hist(np.log10(np.abs(dobst)),bins=50,color='green')"
   ]
  },
  {
   "cell_type": "code",
   "execution_count": 38,
   "metadata": {
    "collapsed": false
   },
   "outputs": [
    {
     "ename": "TypeError",
     "evalue": "convergeCurves() takes exactly 6 arguments (1 given)",
     "output_type": "error",
     "traceback": [
      "\u001b[0;31m---------------------------------------------------------------------------\u001b[0m",
      "\u001b[0;31mTypeError\u001b[0m                                 Traceback (most recent call last)",
      "\u001b[0;32m<ipython-input-38-192800fd6361>\u001b[0m in \u001b[0;36m<module>\u001b[0;34m()\u001b[0m\n\u001b[0;32m----> 1\u001b[0;31m \u001b[0mconvergeCurves\u001b[0m\u001b[0;34m(\u001b[0m\u001b[0mrunT4tFiles\u001b[0m\u001b[0;34m)\u001b[0m\u001b[0;34m\u001b[0m\u001b[0m\n\u001b[0m",
      "\u001b[0;31mTypeError\u001b[0m: convergeCurves() takes exactly 6 arguments (1 given)"
     ]
    }
   ],
   "source": [
    "convergeCurves(runT4tFiles)"
   ]
  },
  {
   "cell_type": "code",
   "execution_count": 41,
   "metadata": {
    "collapsed": true
   },
   "outputs": [],
   "source": [
    "mesh,invtip= simpeg.Mesh.TensorMesh.readVTK('./run_thibaut4_tip/recoveredMod_run_thibaut4_tip_it36.vtr')\n",
    "siginvtip=invtip['S/m']"
   ]
  },
  {
   "cell_type": "code",
   "execution_count": 130,
   "metadata": {
    "collapsed": false
   },
   "outputs": [
    {
     "data": {
      "image/png": "iVBORw0KGgoAAAANSUhEUgAAA2AAAALJCAYAAADS9kA2AAAABHNCSVQICAgIfAhkiAAAAAlwSFlz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\ndR3hI5O8IcsAAAAASUVORK5CYII=\n",
      "text/plain": [
       "<matplotlib.figure.Figure at 0x11734d610>"
      ]
     },
     "metadata": {},
     "output_type": "display_data"
    }
   ],
   "source": [
    "vmin,vmax=-4,-1.3\n",
    "fontsize=14\n",
    "titlesize=16\n",
    "\n",
    "slice_ver=20\n",
    "slice_hor=40\n",
    "\n",
    "\n",
    "fig, axes = plt.subplots(nrows=2, ncols=2,figsize=(12,10))\n",
    "ax0=axes[0,0]\n",
    "ax1=axes[0,1]\n",
    "ax2=axes[1,0]\n",
    "ax3=axes[1,1]\n",
    "#fig = plt.figure(figsize=(10,10))\n",
    "#ax0=plt.subplot2grid((10,10), (0, 0),colspan=5,rowspan=5)\n",
    "#ax4=plt.subplot2grid((10,12),(0,11),colspan=1,rowspan=10)\n",
    "#ax0 = plt.subplot(221)\n",
    "model = sigma.reshape(mesh.vnC,order='F')\n",
    "mask0 = np.ma.masked_where(model==1e-8,model)\n",
    "\n",
    "a = ax0.pcolormesh(mesh.gridCC[:,0].reshape(mesh.vnC,order='F')[:,slice_ver,:],\n",
    "                   mesh.gridCC[:,2].reshape(mesh.vnC,order='F')[:,slice_ver,:],np.log10(mask0[:,slice_ver,:]),\n",
    "                   edgecolor='k',cmap='viridis')\n",
    "\n",
    "ax0.set_xlim([bw,be])\n",
    "ax0.set_ylim([0,bt])\n",
    "#ax.grid(which=\"major\")\n",
    "#cb0 = plt.colorbar(a,ax=ax4)\n",
    "ax0.set_aspect(\"equal\")\n",
    "cb0.set_label(\"Log conductivity (S/m)\",fontsize=fontsize)\n",
    "cb0.set_clim(vmin,vmax)\n",
    "ax0.set_xlabel(\"Easting (m)\",fontsize=fontsize)\n",
    "ax0.set_ylabel(\"Elevation (m)\",fontsize=fontsize)\n",
    "ax0.set_title((\"True Model at %1.0f m Northing \")%(np.unique(mesh.gridCC[:,1].reshape(mesh.vnC,order='F')[:,slice_ver,:])[0]),fontsize=titlesize)\n",
    "\n",
    "ax0.set_xticks([bw,(bw+be)/2,be])\n",
    "ax0.set_xticklabels([bw,(bw+be)/2,be])\n",
    "\n",
    "#ax1=plt.subplot2grid((10,10), (0, 5),colspan=5,rowspan=5)\n",
    "#ax1 = plt.subplot(222)\n",
    "\n",
    "sinvtip = siginvtip.reshape(mesh.vnC,order='F')\n",
    "mask1= np.ma.masked_where(sinvtip<=9.9e-7,sinvtip)\n",
    "\n",
    "b = ax1.pcolormesh(mesh.gridCC[:,0].reshape(mesh.vnC,order='F')[:,slice_ver,:],\n",
    "                   mesh.gridCC[:,2].reshape(mesh.vnC,order='F')[:,slice_ver,:],np.log10(mask1[:,slice_ver,:]),\n",
    "                   edgecolor='k',cmap='viridis',vmin=vmin,vmax=vmax)\n",
    "\n",
    "ax1.set_xlim([bw,be])\n",
    "ax1.set_ylim([0,bt])\n",
    "#ax.grid(which=\"major\")\n",
    "#cb1 = plt.colorbar(b,ax=ax1)\n",
    "#cb1.set_clim(vmin,vmax)\n",
    "ax1.set_aspect(\"equal\")\n",
    "#cb1.set_label(\"Log conductivity (S/m)\",fontsize=fontsize)\n",
    "ax1.set_xlabel(\"Easting (m)\",fontsize=fontsize)\n",
    "ax1.set_ylabel(\"Elevation (m)\",fontsize=fontsize)\n",
    "ax1.set_title((\"Recovered Model at %1.0f m Northing \")%(np.unique(mesh.gridCC[:,1].reshape(mesh.vnC,order='F')[:,slice_ver,:])[0]),fontsize=titlesize)\n",
    "\n",
    "ax1.set_xticks([bw,(bw+be)/2,be])\n",
    "ax1.set_xticklabels([bw,(bw+be)/2,be])\n",
    "\n",
    "#ax2=plt.subplot2grid((10,10), (5, 0),colspan=5,rowspan=5)\n",
    "#ax2 = plt.subplot(223)\n",
    "\n",
    "\n",
    "#print np.unique(mesh.gridCC[:,2].reshape(mesh.vnC,order='F')[:,:,slice])\n",
    "\n",
    "c = ax2.pcolormesh(mesh.gridCC[:,0].reshape(mesh.vnC,order='F')[:,:,slice_hor],mesh.gridCC[:,1].reshape(mesh.vnC,order='F')[:,:,slice_hor],\n",
    "                   np.log10(model[:,:,slice_hor]),edgecolor='k',cmap='viridis',vmin=vmin,vmax=vmax)\n",
    "\n",
    "ax2.set_xlim([bw,be])\n",
    "ax2.set_ylim([bs,bn])\n",
    "#ax.grid(which=\"major\")\n",
    "#cb2 = plt.colorbar(c,ax=ax2)\n",
    "ax2.set_aspect(\"equal\")\n",
    "#cb2.set_label(\"Log conductivity (S/m)\",fontsize=fontsize)\n",
    "#cb2.set_clim(vmin,vmax)\n",
    "ax2.set_xticks([bw,(bw+be)/2,be])\n",
    "ax2.set_xticklabels([bw,(bw+be)/2,be])\n",
    "\n",
    "ax2.set_yticks([bs,(bs+bn)/2,bn])\n",
    "ax2.set_yticklabels([bs,(bs+bn)/2,bn])\n",
    "\n",
    "ax2.set_xlabel(\"Easting (m)\",fontsize=fontsize)\n",
    "ax2.set_ylabel(\"Northing (m)\",fontsize=fontsize)\n",
    "ax2.set_title((\"True Model at %1.0f m Elevation \")%(np.unique(mesh.gridCC[:,2].reshape(mesh.vnC,order='F')[:,:,slice_hor])[0]),fontsize=titlesize)\n",
    "\n",
    "#ax3=plt.subplot2grid((10,10), (5, 5),colspan=5,rowspan=5)\n",
    "#ax3 = plt.subplot(224)\n",
    "\n",
    "d = ax3.pcolormesh(mesh.gridCC[:,0].reshape(mesh.vnC,order='F')[:,:,slice_hor],mesh.gridCC[:,1].reshape(mesh.vnC,order='F')[:,:,slice_hor],\n",
    "                   np.log10(sinvtip[:,:,slice_hor]),edgecolor='k',cmap='viridis',vmin=vmin,vmax=vmax)\n",
    "\n",
    "ax3.set_xlim([bw,be])\n",
    "ax3.set_ylim([bs,bn])\n",
    "#ax.grid(which=\"major\")\n",
    "#cb3 = plt.colorbar(d,ax=ax3)\n",
    "#cb3.set_clim(vmin,vmax)\n",
    "ax3.set_aspect(\"equal\")\n",
    "\n",
    "ax3.set_xticks([bw,(bw+be)/2,be])\n",
    "ax3.set_xticklabels([bw,(bw+be)/2,be])\n",
    "\n",
    "ax3.set_yticks([bs,(bs+bn)/2,bn])\n",
    "ax3.set_yticklabels([bs,(bs+bn)/2,bn])\n",
    "\n",
    "#cb3.set_label(\"Log conductivity (S/m)\",fontsize=fontsize)\n",
    "ax3.set_xlabel(\"Easting (m)\",fontsize=fontsize)\n",
    "ax3.set_ylabel(\"Northing (m)\",fontsize=fontsize)\n",
    "ax3.set_title((\"Recovered Model at %1.0f m Elevation \")%(np.unique(mesh.gridCC[:,2].reshape(mesh.vnC,order='F')[:,:,slice_hor])[0]),fontsize=titlesize)\n",
    "\n",
    "\n",
    "fig.subplots_adjust(right=0.9)\n",
    "cbar_ax = fig.add_axes([0.95, 0.15, 0.02, 0.7])\n",
    "cbar = plt.colorbar(c, cax=cbar_ax)\n",
    "cbar.set_label(\"Log conductivity (S/m)\",fontsize=fontsize)\n",
    "\n",
    "\n",
    "plt.tight_layout()\n",
    "\n",
    "fig.savefig('../Poster/MT_tipper.png',dpi=600)"
   ]
  },
  {
   "cell_type": "code",
   "execution_count": 128,
   "metadata": {
    "collapsed": true
   },
   "outputs": [],
   "source": [
    "fig.savefig??"
   ]
  },
  {
   "cell_type": "markdown",
   "metadata": {},
   "source": [
    "### run1\n"
   ]
  },
  {
   "cell_type": "code",
   "execution_count": 6,
   "metadata": {
    "collapsed": false
   },
   "outputs": [],
   "source": [
    "run1Files = loadInversionMakeVTRFiles('run1',mesh,mappingExpAct)"
   ]
  },
  {
   "cell_type": "code",
   "execution_count": 7,
   "metadata": {
    "collapsed": false
   },
   "outputs": [
    {
     "name": "stdout",
     "output_type": "stream",
     "text": [
      "001-InversionModel-2016-05-27-12-14.npz  recoveredMod_run1_it10.vtr\r\n",
      "002-InversionModel-2016-05-27-12-14.npz  recoveredMod_run1_it11.vtr\r\n",
      "003-InversionModel-2016-05-27-12-14.npz  recoveredMod_run1_it12.vtr\r\n",
      "004-InversionModel-2016-05-27-12-14.npz  recoveredMod_run1_it13.vtr\r\n",
      "005-InversionModel-2016-05-27-12-14.npz  recoveredMod_run1_it14.vtr\r\n",
      "006-InversionModel-2016-05-27-12-14.npz  recoveredMod_run1_it15.vtr\r\n",
      "007-InversionModel-2016-05-27-12-14.npz  recoveredMod_run1_it16.vtr\r\n",
      "008-InversionModel-2016-05-27-12-14.npz  recoveredMod_run1_it17.vtr\r\n",
      "009-InversionModel-2016-05-27-12-14.npz  recoveredMod_run1_it18.vtr\r\n",
      "010-InversionModel-2016-05-27-12-14.npz  recoveredMod_run1_it19.vtr\r\n",
      "011-InversionModel-2016-05-27-12-14.npz  recoveredMod_run1_it1.vtr\r\n",
      "012-InversionModel-2016-05-27-12-14.npz  recoveredMod_run1_it20.vtr\r\n",
      "013-InversionModel-2016-05-27-12-14.npz  recoveredMod_run1_it21.vtr\r\n",
      "014-InversionModel-2016-05-27-12-14.npz  recoveredMod_run1_it22.vtr\r\n",
      "015-InversionModel-2016-05-27-12-14.npz  recoveredMod_run1_it23.vtr\r\n",
      "016-InversionModel-2016-05-27-12-14.npz  recoveredMod_run1_it24.vtr\r\n",
      "017-InversionModel-2016-05-27-12-14.npz  recoveredMod_run1_it25.vtr\r\n",
      "018-InversionModel-2016-05-27-12-14.npz  recoveredMod_run1_it26.vtr\r\n",
      "019-InversionModel-2016-05-27-12-14.npz  recoveredMod_run1_it27.vtr\r\n",
      "020-InversionModel-2016-05-27-12-14.npz  recoveredMod_run1_it28.vtr\r\n",
      "021-InversionModel-2016-05-27-12-14.npz  recoveredMod_run1_it29.vtr\r\n",
      "022-InversionModel-2016-05-27-12-14.npz  recoveredMod_run1_it2.vtr\r\n",
      "023-InversionModel-2016-05-27-12-14.npz  recoveredMod_run1_it30.vtr\r\n",
      "024-InversionModel-2016-05-27-12-14.npz  recoveredMod_run1_it31.vtr\r\n",
      "025-InversionModel-2016-05-27-12-14.npz  recoveredMod_run1_it32.vtr\r\n",
      "026-InversionModel-2016-05-27-12-14.npz  recoveredMod_run1_it33.vtr\r\n",
      "027-InversionModel-2016-05-27-12-14.npz  recoveredMod_run1_it34.vtr\r\n",
      "028-InversionModel-2016-05-27-12-14.npz  recoveredMod_run1_it35.vtr\r\n",
      "029-InversionModel-2016-05-27-12-14.npz  recoveredMod_run1_it36.vtr\r\n",
      "030-InversionModel-2016-05-27-12-14.npz  recoveredMod_run1_it3.vtr\r\n",
      "031-InversionModel-2016-05-27-12-14.npz  recoveredMod_run1_it4.vtr\r\n",
      "032-InversionModel-2016-05-27-12-14.npz  recoveredMod_run1_it5.vtr\r\n",
      "033-InversionModel-2016-05-27-12-14.npz  recoveredMod_run1_it6.vtr\r\n",
      "034-InversionModel-2016-05-27-12-14.npz  recoveredMod_run1_it7.vtr\r\n",
      "035-InversionModel-2016-05-27-12-14.npz  recoveredMod_run1_it8.vtr\r\n",
      "036-InversionModel-2016-05-27-12-14.npz  recoveredMod_run1_it9.vtr\r\n",
      "findDiam_inversion.py\r\n"
     ]
    }
   ],
   "source": [
    "ls run1"
   ]
  },
  {
   "cell_type": "code",
   "execution_count": 8,
   "metadata": {
    "collapsed": false
   },
   "outputs": [
    {
     "data": {
      "image/png": "iVBORw0KGgoAAAANSUhEUgAAAasAAAECCAYAAABAAvhLAAAABHNCSVQICAgIfAhkiAAAAAlwSFlz\nAAALEgAACxIB0t1+/AAAIABJREFUeJzt3Xt4XFW9//H3KncUDKCAUGhBRK4FD1CKVQiitlCgeCpy\nVzhcBPyBICAolaQcew7QRw43rQesIOWUS7U9XMrBojRoK5WCQKGlXFOgSMulDRfRQunn98eaaSbJ\nJDNJZmbvnXxezzNPMnv27Plmp92frLXXXjtIwszMLM0GJF2AmZlZKQ4rMzNLPYeVmZmlnsPKzMxS\nz2FlZmap57AyM7PUc1iZmVnqOazMzCz11k66gGJCYBvgGuAt4DmJyxMuyczMCoUQgH8HNgbmIU2u\n5seltWW1OzBV4hRgz6SLMTOzDkYDA4EPgCXV/rCahFUITAqBZSEwv93ykSGwKASeDYELC16aC5wS\nAr8H7qtFjWZm/VoIkwhhGSHMb7d8JCEsIoRnCaHwOP05YA7S+cCZ1S6vVi2rG4ERhQtCYABwXW75\nrsAxIbBT7uWTgEskvgIcWqMazcz6sw7HaULocJwmhPxxegmwIvf9R9UuriZhJTGb1h8qbyjxfNRL\nEh8CtxGblRBbU98LgYlAcy1qNDPr16ROj9NILyG1P05PA0YSwtXAg9UuL8kBFlsDrxQ8X0LcMUgs\nAI7s6s0hBE8Xb2bWA5JCmat2epxG+gdwSmUr61xaB1iURVLqHw0NDYnX4DpdZ5brzEKNWaozq5IM\nq1eBbQueD8wtK1tjYyNNTU2VrMnMzFr1+jhdKbXsBgy5R948YIcQGAS8BhwNHNOdDTY2NlasODOz\nvqypqamcP+6LHqcJocfH6Uqp1dD1KcCfgR1D4OUQOEniI+AsYCawALhN4ula1FNL9fX1SZdQFtdZ\nWa6zcrJQI6S/zvr6+q7/wA9hzXGaEF4mhJOQOhynkRI5Toes9mGGENTQ0EB9fX3q/5GYmaVFCAGV\nP8AiNTIdVlmt3cwsKVkNq1TODWhmZpVV5jmr1Mp0y8rdgGZm3ZPVllWmwyqrtZuZJSWrYZXpi4LN\nzKx/8DkrM7N+wOesEuJzVmZm3ZfVbsBMh1VWazczS0pWw8rnrMzMLPUcVmZmlnqZDivPum5mVp6m\npqZMT/6d+XNWLS0wZw6MGpV0RWZm6edzVgloaYGLL4bhw5OuxMzMqinTLaszzxTjx0NdXdLVmJll\nQ1ZbVpkOq+ZmMXhw0pWYmWVHVsMq092Al14auwLNzKxvy3RY/fOfjZx4YpMDy8ysBI8GTEgIQddd\nJ447zqMBzczK5W7ABDz1VBxc4aAyM+vbMh1WCxYkXYGZmdVCpsPq7LOTrsDMzGoh0+esslq7mVlS\nfM7KzMysSjIdVp7I1sysPB66nhB3A5qZdZ+7Ac3MzKok02G1ciUccQS4gWVm1rdlOqzWWw/mzoUl\nS5KuxMzMqinTYQWw226+ONjMrK/LfFjtuqvDysyqZMaMjrd2aGmJy62m+kRYPfVU0lWYWeqUEzSl\n1hk+PN6OPL9O+9uTO8xqpk+ElVtWZn1MJUKgVNC0X0eCZcvg/PNhyJD4el0djB8f11m8GM45B775\nTXjttfj8s5+FCy6AN9/s/DOsMiRl8hFLl95/X3rsMZlZX7JihXTmmfFrseeSdM89bZ/n17vnnvj9\nBx9Is2dLBx0k3XJLx/dL0vXXS1ttJa2zjjRgQHxsvLF06aVt12tulkCaMEH6/OelnXaStt1W+tSn\npI99TNprr7hOsc9ImdyxM/FjeHcfmb4ouKGhgfr6eurr65Mux8wKzZgRWxd1da3LWlpabz5X6vX8\n89NOgxdegLfegvp62G472Gor2GWX2K1y8cWx5VNX17r+2mvDokXxsc02sMMOcO+90NwMgwe3rXP5\ncvj732HFCthjj+Lr5FtLF1wAEya0fl6hxYtjbcXenxJNTU00NTUxbty4TF4UnHha9vRBrmVlZilU\nqmVU+Py996QHHyzeKnniidiiuf566ec/l8aOlf7t36Rx49puJ9+qeegh6Re/kObOjdtt/3qxVk9X\n65TTwivnM1KEjLasEi+gx4U7rMzSrdhB/N13W7vRttlG2mADaf31pa23lpYvL/3+YvJddM3Nxd9f\nTtB0tk6prsZyPiNlHFYOK7P+oasD+DvvxFbQF74gLV3aMUhWrZIeeURasEB68UXp4Yd7HjSFy4sF\nWqmgKXednu6LlHJYOazM+of2wbF8uTRmjHTCCVJdnXTEEdKMGdKbb3bdMupt0GSwVZMGDqsEw2rl\nSmnHHeMfbWbWS90JiuZmae+9pUGDpP/4D+lvf2v7ejnnrIo9r1Sd1kFWwyrTowELa99uO5g5M172\nYGZdKDUSLz/6rXCU3Q9/CGefDTvv3Pqe/Ai4J5+Mo/MGDCj/M8oZDWhV4VuEJMxzBJpR3sW0pS6W\n/fjH4dvfhmOPhe99L/7nmjwZrrii7TYnTIhDtSdOhHfeafuZo0Z1HN5dV9caRKVeN2unz4SVp10y\no7xZGzbeGC68EM49N7aOCltRAM8+G4PqH/+Aa66Bn/wk3trgxhvbbnP8+HhNUX6Gh/YhaVZBfSqs\n3LKyfq/99EAXXxxD6YADYrBssgmss07stvvLX2I33gUXtG3l7LILPPJI/NrcDPPmtf2MOXPahlv+\nM+fMqdVPaf1QnwkrdwNa6lVivrvOtjF9OkybBqtWxfC44ILWIBo0CH79a5g1K84GsXJlbCkdeGAM\nowkT2m6zVMvJXXiWhKRHeBR7gL4Imgi6ATS7+DqtowGlOBLwvfe6GAJjlrRKzHdX+J5Vq6Rp0+IF\nthtvLH35y9Krr5a+mLa3F8JappHR0YCJF9BlcWg06NTir7UNK7NMWL68eJDkZ3cod9aFAw6QPvnJ\nOJHq+PExpIqt35NAtD7NYdV16EwCLQPNb7d8JGgR6FnQhUXedzvoY8W36bCyCip1AO/tbAgLF0rf\n+Y501FHFpwf6r/+K0w598pPSnntKgwfHr/X1xa89uueejtsot07rl2bNmqWGhgaHVZcfErv19iwM\nK9AA0POgQaB1QI+Ddip4fRvQf3e+TYdVv1HtIMl/39uLWIvN7HDoobF7bostpMZG6ZlnOu+iW71a\neu21OBnrxInxv+df/9pxf2Rs4lRLF4dV6cAa1C6shoH+r+D5RYWtK1AjaFjn23NY9RvVCJJi6yxZ\nIh1/fJzpu1gIPPmkdPTR0u9/Lx17bLyR2uLF8aZq7T/nxRelLbeUdttNuukm6Z//rMx8d55iyHrJ\nYdX9sBoDur7g+fGga8rfHmpoaFjzmDVrlqTY7W990OzZsVvsiCOkr3+9+AH+tNNiy+Xkk6X586Wn\nnoq3inj99dZ1CkNg7Fhpv/2k7bePN9DbYIM4+3ex7jVJ+u5347oQpxcaPDjOHH7ffW3Xy3fz/elP\nsbWUV4n57tzNZ73ksEogrNpbuTIeb/75zy5/V5Y2nR2A/+d/pKuvjreUGDhQOuOM+E/2978vvp0j\nj4yvf/zjMXR22kkaOlSaObN1ncLzRY8+GkPwuefibOGdDX4orKk390bqzb5wGFmFOKy6H1bDQPcV\nPG/TDVh6ex3DSorHp/nzO/09WRp11pqYOjV2y91/f+9m8C5nnVp1NZolzGFVOqwGg54seL5WwQCL\ndXMDLHYuf3u06f7L+8Y3pClTSv/CrEbKaSm89VbyQVKLQRxmKeCw6jqopoD+BloJehl0Um75waBn\nQM+BLureNin6i2hokC6+uIvflJWvGqPsli+PgxOuuUY68URphx3itUIrV3Z+x1cHiVnFOKxqXXgn\nYTV1qjR6dNGXrL1K3LK7cNnq1TFojj02DsFuv05zs7TZZnFQwnHHxeHZTz4pffSRh2Ob1YjDKoGw\nKtYN+PTT0kEHdf6LsgLlhtEZZ8Sh2MVC5Jxz4gCIDTeU1lpLWnfdOEpu4cK26+VbTY8/3rM6zKwi\nshpWfebmi9ZD+UlLL7ggTmj6yiswdy58+CF88EH8+uGHcd3m5jixaaE//SnO4r16dbwNRbF12n9G\n4Yzd4BvxmdVQVm++mHha9vRBf78ouLfnYFatav2+8FzR669LS5fGc0vvvistWxZbVtUaZWdmNUVG\nW1aJF9DjwjvpBuw3ygmBYoE2d26cb+7oo9u+r6dB44tYzTLFYZVAWPV7+WB44YXSt4KYPz/O/rDB\nBtKPfyy9/XZlgsZhZJYpWQ0rn7NKq67O4+y9Nzz4YHzcfz889xystVY817T33m2309IC++0Hb74J\nn/0s3HEHDBxY+jN8rsisT8rqOas+c6fgvBkz4K234l2587p7M9aaKHXX2OHD296dNT9IYfhwGDsW\nJk+GLbeEPfaIYXXKKfHOsO3V1cFll8WwmjKlNajAd3w1s8zIdFg1NjbS1NTUZtnw4fDjH8OXvgTv\nvdf2GF8xlbg9efswWrECzjkn3pb8uutiIO23X1xn8eLW24zX1cENN8SwWro0fr/DDjGQLrmkeF0z\nZxa/fbmZWVYk3Q/Z0wddnLNasSLew27atCoNPKvUCLf8+/7zP6V11olFH3BAvEnfVVfFWcN7OqtD\nJes0sz6DSp2zggMEfxRMFOxfkW12dcyv9gdUrfASAyyOPbb4Mb5iurpYtjuDDvJh9NhjxT/DM3ib\nWQVVMKz2F8wQ/EqwfUW22d/CasUK6WtfizNZVK0hcc89cdqgYonYvgWzdKk0YkScC6/w/ka+PsnM\naqzTsIJJgmWC+e2WjxQsEjwr6HhnDNhccEvRbVbw0efOWeXPUV17LTz6KFx6adtTQ732wgtw2GFw\n9tlxcMMLL3Q8F1RXB++/H0+cnXhinNHhvffgoIPiTA+FhY4fH18fP75toXPmtJ3poa4uPp8zp0I/\niJlZGzcCI9osCWEAcF1u+a7AMYSwU7v3tQDrVr26aqdhtR500rIq7Pk6/fQ4IUO3e76KdZ8tWxYv\npN1sM+mSS+J5pa5aPX/6U7wTLUhNTeV9hrvozKzK6KobEAa1aVnBMMH/FTy/aE3rCr4u+IXg1lqc\ns1q76mlYY4WjridOLL68pPxIvXzLpqUFGhvh05+Gxx6D+fPbXp9U2OrJf9Buu8Gtt7aOwttjj7bD\nxIsV5GHjZlZhTU1NHXqgumFr4JWC50uAoQBI04HpvamtO3xRcGdKTb5aznsLw67wuZlZQrq8KDiE\nQcDdSENyz8cAI5BOyz0/HhiKdHZtqm3V51pWFVNXF4Nqu+1i66g7IdPV+Sa3nMwsO14Fti14PjC3\nrOYyPcCialavhuefjy2qnlxM65khzCxlmpqaaGxsLLVayD3y5gE7EMIgQlgXOBq4qzoVligsy92A\nDQ0N1NfXU19fX9mN//SncM018MQT7sYzsz6l027AEKYA9cBmwDKgAelGQjgYuIrYuJmEdFkNy20t\nL8thVU7tS5bAbbfB+eeXueElS2DXXeF3v4Nhw1qXe4JXM+sDsjqRbZ8PqxUrYNtt4+S265a6EkCC\nww+HffaJ8+yZmfUxWQ2rPj/AYpNNYMcd4eGH4YtfLLHy7bfHSWN/+9talGZmVjO9HMKeuD7fsoLY\nBfiJT8TZ2Du1ciV85jMxqPbdtzJFmpmlTFZbVv1iNOCBB8KsWSVWWm89+MtfHFRmZinUL1pW77wD\nW20V7z+4/vpVLszMLMXcskpAsYlsi9l4Y7jzTgiZ+/WYmRn0k5ZVGzNmtJ3XDzws3cz6vPwAi3Hj\nxmWyZdX/wqrwAt+11463kfcFv2bWT2S1G7D/hRXEwLroIvjDH2DPPeGGGxxUZtYvZDWs+vx1VkXV\n1cUbHj7/PMyc6aAyM0u5fteykiC83QJ77w2nnx4nqnUXoJn1E25ZZcAjj8Cl32/hrt1+FLsCjzwy\nXi3sc1Zm1sd5BouE9KRl9f77cMKmM5g8YxM2/M63YjcgeDSgmfUbWW1ZZfo6q+7acEN4Y+gonpov\nOOWU1hd8rykzs1TLdFiVe1FwoQMPhOmvD4+jAc3MLBP6VTcgxDkCf/hDmDu3CkWZmaVcVrsB+9UA\nC4D99oO//S1Osr7eeklXY2ZWGx5gkZDeXBQseZ5AM+ufstqyyvQ5q55yUJmZZUv/CqsPPoh3YMxo\na9LMLPNCGEIIhxPCv655lKF/hdW8ebx96720vN22adXSEidjNzOzKgrhV8CvgDHAYbnHoeW8teQA\nixB4F+i0KSKxcXlVpsADD7DewV/mvIIJKwonYTczs6oahrRLT95YMqwkNgIIgX8HXgMmAwE4Dvh0\nTz40MQ88wPo/+AHj94Pvfx8OPhiamjzTkplZjTxECLsgLezuG8seDRgCT0jsUWpZrXR7NOA//gGb\nbx7HrW+0EQ89BF/4Atx3H4wYUb06zczSJNHRgCEcANwFLAVWEhs+QhpS6q3duc7q7yFwHHAbsVvw\nGODv3a82IQ89BEOGwEYb0dICt9wCP/kJfOtbsHAhbLZZ0gWamVVPSq6zmgScADwJrO7OG7vTshoM\nXA0MJ4bVHOAcicXd+cBK6XbL6rXX4OWXafncvmvOUW28Mey/fxwcOGOGuwLNrO9LuGX1ENJ+PXpr\npS4KDoEfSvxnhbYVgH8HNgbmSUzuuE7PLgqeMQOGD28NphdegH32gcsvh1NP7V3dZmZpl3BY/Ryo\nA+4mdgNG0rRSb63kdEtHQmXCChgNDATeBJZUaJtAx8nVP/MZGDsW3nijkp9iZmZFbEAMqa8VLBNQ\nMqwq2bJ6TOLznbw2iTiWfpnEkILlI4GriNd7TZK4PLf8QmC5xA0hMFXiyI7b7Pl0S+15+iUz6y9S\nPd1SCD9EKtroqeRFwV0lx41AmzF3ITAAuC63fFfgmBDYKffyEmBF7vuPKlhjUQ4qM7NU6NAwyatk\nWHV6yJeYTWv45A0FnpN4SeJD4ijD0bnXpgEjQ+Bq4MFeV+bplczMsqDTHKnkOaup3Vx/a+CVgudL\niAGGxD+AU4q9qVBjY+Oa7+vr66mvr++40vLlMGwYPPOMm1BmZunWacuinOmWfiBxRQhcW2xDEmfn\nvv5Hr0rsgcKw6tSDD8ZRFN0IqgUL4FOfitcQm5lZzfSqZfV07usjlalljVeBbQueD8wtq6wHHoAv\nf7lbb2lshFWrYPr01mUtLTBnTsfRhGZmWZCSi4JL6bSHrmY3X8xdVHy3xO6552sBzwAHEeccfBg4\nRloTjiW2F9TQ0NB591/errvCzTfDXnuVXetrr8HOO8PPfgbHHdd2sltfOGxmWZbIaMAQfoB0BSEU\n7aFDOrvkJroxg8WOwPnAYApaZBIlmy0hMAWoBzYDlgENEjeGwMG0Hbp+WVnFUObQ9aVLYZdd4kVU\na61V7qYBuPde+MY34Kyz4nSC117roDKz7EsorA5DupsQvl30denXJTfRnYlsgV8Aj1IwnFzi0bI2\nUGFlhdV998GkSTC1u2M/omnTYMyY2MpasKD1tFf7WTDA3YRmlg2pvs6qC90Zur5KYqLEwxKP5h9V\nq6wMjY2NXffBjhwJt9/eo223tMAf/gDNzVBfD2+/3fra8OGxW7ClpXXdiy+OyyGGWf61wu0V3uCx\nnHXMzPqUEHYkhOsJYSYhPLDmUc5bS7VOQmDT3LdnA28Qr4FaM6eTxPIelt0rlZzBor3256iKnbNq\naYHRo2HFCnj33TiGY/vtYautYs/jzTeXfn9Xn1Gq9ebWnZn1RMJzAxbtoUMq3fCR1OUD1Ax6Mfc1\n//2aR6n3V+sRSy/innukFSvaLluxIi4vU7mbeOIJCaSJE6Vrr5Uuukg64QTp1lvj+meeKTU3x68r\nVki//KU0erR00knSeedJY8dK++8v/e53resUfl7hsu4+L+fn6O3rtdqGmVVO7tiZyHFb8GhP39uN\ncNAGoPNA00HTQOeCNkjqhwbU0NCgWbNmtf1NlHMUr4BiYdRec3Pcw83N8fkzz0i//W0MrSuuiOF2\n9NFt1yk0YYK0/fbSMcdIe+whXXihdOWV0vz5xWt4/nnp5ZelpUul5culJUuk00+P35eza3oSiLXY\nRhpC1aFrfUUiYQWb5h6Ngu8KPl2wbNNyttGdsLoD9EvQgbnHDaA7av5DF4RVp8pJkl7ozgG4qxJK\nrbNwoXTNNfG3dNFFsSX2ve9JTU2t6xQG4tix0sCB0uabS3V10oYbSmutFVtvxT7jv/87huXuu0vf\n+Y70L/8iXXCBNG9e8RqPOEL66U/j+66/Pobur34lPfxw8Z/jkUekqVOlm2+WRo6M7zvkkNawbb8v\njjtOmjEjfl20SHrvPWn16nSEai1Ct5x1shLcll4JhVWz4MXc1/z3rY8Kh9XCcpbV6tFlWEnSlCnq\ntMnSS6X+s1biwFa4rLMwKzeTX3yx+K6YN0+66SapoSG+ft550rhxMWQK5QPxyiul006TTj1VOvnk\n2J154onSrFkdW5FS7B4dM0b6+telr341vn7ggdK99xav8wc/iOtss00M3A02kEKIgVjsZ73iCukr\nX4kBeMgh0mc+Ix1+eOxqLbYvrr9eGjIk/gx77SX96EdxG08+WXx//vGPsdbf/U76wx+ku++OP8u8\necX39xtvSE89FffJE0/EVm1Pf+dJhmolPiMLoVurOtMm4W7ADQTnCaYLpgnOFZTVQ9edsLoFNKzg\n+b6gm5P6obsMq8WLpbXXjv1iVWhZlVKJ/ySVOGAULu9p4FWihdibbaxaJX34Yfy+fSAuXBiD5J57\npGnT4nlDiOFZzP33x9YnSOecE8PqvPOkuXNb1yn8jCuvlEaMiIF44IHSl74UW5+d/Q30/e9LW28t\nbbZZXGfAAGmddaTJk4v/nPvtF7d96KGx1TpmjPTNb8ZQLLYvbrpJ+u53Y9gOGRL/aNhrrxiqxfbl\n//5vbNHecot0551xuzNmxO7hYvv72WelP/857o8HHpCOPDKuf/LJxX+nJ58cg/vUU6U33yxeQ5pD\nt1Z1pk3CYXWH4JeCA3OPGwRl9dB1J6yeBq0GLc49VueWPQmaX+sfustzVqNHS0OHtj5P+7+eIirx\nF11fOWAULksyVLv7GWecEc8ffvBB23XygXjvvfH3deedMWzvuCMOznnhheIt1fvvj4F89dWtoXvu\nudLjj3esI//+r341tjYPO0waNUo6+OC4ncJ18p8xbpw0bJi0zz4xBHfZJb5+/fUdty9J3/52fD3f\nAl5/fWnTTWPXb7H91dgYw3PUqFjTqFHxnOxttxXfnz/7mbTbbvFzhgyJ+/O886RHHy2+vw85JP4M\nV14Z99MvfhG/Hndc8d/ZX/8aw3jq1Lh/Jk+Oh45nnin+O509WzrqKGnOHGnBgvjH0qJF0ksvVfWs\nQ8UlHFYde+OKLetlWA3q6lHrH7rL0YCXXiqddVbrsrS3y6ukr3TFpCFUaxW65ayTxuBevlx6//3Y\nwnr//db1CgPx8cdjONx1lzR9ehxsdN11HUM57/77Y8CB9OMfx/OlEybEoCiU/4xrrpHOPz+e1z3z\nzNjiO/FE6Te/Kf4ZV1wRw3vECGn48LjOvvtKM2d2rCX/GTvuGEN8552lz30uPr/zzuJ/XKRVwmF1\ni2BYwfN9BWX10CVTcDXDSoqjBm66qfPXLVPSEKq1CN1y1slKcBcuT3Po1qrONJg1a5YaGhqSDqun\nBasFi3OP1bllTwq67KFLPHR6+ugyrD772Xim2yxFshKq7oKufHCnScJhNajLR18Nq6LnrFatisPU\nVq0q9TszsyrJQujWqs60STSsevGo2S1CKq2a0y2ZmfVV/WEiWzMzs0Q4rMzMLPUcVmZmlnqZDquS\n97MyM7M+oW8NsFiwAJ56Co46KpmizMxSzgMs0uC++2D27KSrMDOzCutbYfXXv8JeeyVdhZmZVVjf\nCqtHH3VYmZn1QX3nnNW778KWW8Lbb8PaaydXmJlZivmcVdIeewx2391BZWbWB2U6rNoMXd9mGxg3\nLtF6zMysOvpON6CZmZXkbkAzM7MqcViZmVnPhLAhIcwjhEOq/VEOKzMz66kLgdtr8UEOKzMzgxAm\nEcIyQpjfbvlIQlhECM8SwoUFy78CLATeAKp+DqxvhNUll3iaJTOz3rkRGNFmSQgDgOtyy3cFjiGE\nnXKv1gP7AscCp1S7uL5xUdLUqTBmTNJVmJlllzSbEAa1WzoUeA7pJQBCuA0YDSxCGptb9i3gzWqX\nl/2wevddePll2GWXpCsxM0udpqam3txKaWvglYLnS4gB1kq6uacb747sh9Xjj8Nuu8E66yRdiZlZ\n6tTX11NfX7/m+biMTp6Q6bBqbGzk+DffZAdPXmtmVg2vAtsWPB+YW1ZzmR5g0djYyA5vv+2Z1s3M\nKiPQdmTfPGAHQhhECOsCRwN3JVFYpltWAFx2GXzsY0lXYWaWaiXPXYUwhTjCbzNCeBloQLqREM4C\nZhIbN5OQnq5+tUXKy+r8ep4b0Mys+zw3oJmZWZU4rMzMLPWyf87KzMxK6uX1VonL9jmrjz6CAW4c\nmpmVy+eskrDFFvDRR0lXYWZmVZbtsBo8GNZaK+kqzMysyrJ9zmrvvZOuwMwsE3zOKiEhBOmGG+Ab\n34A5c2DUqKRLMjNLPZ+zqqAQOCAE/hgCE0Ng/05X3HFHuPhiGD68htWZmVmtpbUbUMC7wHrEKemL\nmzIlTrdUV1eruszMLAE16QYMgUnAocAyiSEFy0cCV5Gbc0ri8nbv2xy4UuL4jtsMUnNzHGRhZmZl\ncTdg1zrcLjkEOtwuOQR2ave+FmDdTrc6YQK0tFS2UjOzPqipqYnGxsaky+ixmg2wCIFBwN35llUI\nDAMaJA7OPb8IkMTlIfB1Yoh9Apgo8ceO2wvSihXxnNX48e4KNDMrQ1ZbVkmes+r0dskS04HppTbQ\neNVVrL/RRmxz5plsfdppbe6GaWZmfUdaB1iUJctNWjMzK1+SQ9dTc7tkMzNLt1qGVdHbJYfAoBDo\n0e2SGxsbM31FtpmZlacm3YAhsOZ2ySHwMnFgxY0h0OZ2yRLdul2yuwHNzMrj6ZYSEkJQQ0MD9fX1\nHlhhZlamrI4GzHRYZbV2M7OkZDWsUjk3oJmZWSGHlZmZpV6mw8qjAc3M+gefszIz60eyes4q0zNY\nmJlZeTxQZMmZAAAGwUlEQVR0PSEeum5m1n1ZbVllOqyyWruZWVKyGlaZHmBhZmb9g8PKzMxSz2Fl\nZmapl+mw8nVWZmb9gwdYmJn1Ix5gYWZmViW+KNjMrB/wRcEJcTegmVn3uRswAR5gYWbWP7hlZWbW\nj7hlZWZmViUOKzMzSz2HlZmZpZ7DyszMUs9hZWZmqZfpsPLQdTOz/sFD183M+hEPXTczM6sSh5WZ\nmaWeJ7I1M+sHPJFtQnzOysys+3zOyszMrEocVmZmlnoOKzMzSz2HlZmZpV6mw8ozWJiZ9Q8eDWhm\n1o94NKCZmVmVZDqswrhAGBdobGrs8FpjU2Ony/0+v8/v8/uSeJ/1nLsBzcz6EXcDmpmZVYnDyszM\nUs9hZWZmqeewMjOz1HNYmZlZ6jmszMws9RxWZmaWeqkNqxDYMATmhcAhSddiZmbthLATIUwkhDsI\n4fRqf1xqwwq4ELg96SJ6KysT7brOynKdlZOFGiE7dVaMtAjpDOAo4AvV/riahFUITAqBZSEwv93y\nkSGwKASeDYELC5Z/BVgIvAFk7krrQln5B+w6K8t1Vk4WaoTs1NmpECYRwjJCmN9u+UhCWEQIzxLC\nhe1eOwy4B7i32uXVqmV1IzCicEEIDACuyy3fFTgmBHbKvVwP7AscC5xSoxrNzPqzDsdpQuhwnCaE\nnda8Lt2NNAo4vtrFrV3tDwCQmB0Cg9otHgo8J/ESQAjcBowGFkmMzS37FvBmLWo0M+vXpNmEUPQ4\njfQSACGsOU4TwgHAvwLrATOqXV7NJrLNhdXdEkNyz8cAIyROyz0/HhgqcXZ52wuexdbMrAc6ncg2\nhtXdSENyz8cAI5BOyz0/HhiKVNZxupJq0rKqhizOGmxmZj2T5GjAV4FtC54PzC0zM7N0SM1xupZh\nFWg7sm8esEMIDAqBdYGjgbtqWI+ZmbVV9DhNCIMIIdHjdK2Grk8B/gzsGAIvh8BJEh8BZwEzgQXA\nbRJP16IeMzNrJ4Q1x2lCeJkQTkLqcJxGSuQ4nck7BYcQRgJXEcN2kqTLEy6pqBDCYuBtYDXwoaSh\nyVYUhRAmAYcCy5Q7kRpC2IR4EfYgYDHwTUlvJ1YkndbZAJwKvJ5b7UeS7kuoREIIA4GbgS2Iv+cb\nJF2Ttv1ZpM7rJV2bwv25HvBHYF3iOfXfSBqXwv3ZWZ2p2p8AIQ4/fwRYIunwtO3LcmUurHI7/lng\nIOBvxGbq0ZIWJVpYESGEF4G9JK1IupZCIYQvAu8BNxeEwOXAW5KuCPHCv00kXZTCOhuAdyVdmWRt\neSGELYEtJT0eQvg48ChxaO9JpGh/dlHnUaRofwKEEDaU9H4IYS1gDnA2MIYU7c8u6jyY9O3Pc4G9\ngI1zYZW6/+vlSPN0S53JXZ+llyR9CGuuz0qjQAr3saTZQPsAHQ38Ovf9r4EjalpUEZ3UCSma1UTS\nUkmP575/D3iaeBI6Vfuzkzq3zr2cmv0JIOn93LfrEVstImX7EzqtE1K0P3Mt6kOAXxYsTt2+LEfq\nDqRl2Bp4peD5Elr/06WNgPtDCPNCCKcmXUwJm0taBvHABmyecD1d+X8hhMdDCL8MIXwi6WLyQgiD\ngT2BucAWad2fBXX+JbcoVfszhDAghPAYsBS4X9I8Urg/O6kT0rU//wu4gNYghRTuy3JkMayyZLik\nfyH+ZfPdXLdWVqS1f/jnwPaS9iQeJFLR3ZLrWvsN8L1cy6X9/kvF/ixSZ+r2p6TVkj5PbKEODSHs\nSgr3Z5E6dyFF+zOEMIp4vvdxum7tJb4vy5HFsErNuP9SJL2W+/oGMJ3YhZlWy0IIW8Ca8xuvl1g/\nEZLeUOuJ1huAfZKsByCEsDYxACZLujO3OHX7s1idadyfeZLeAZqAkaRwf+YV1pmy/TkcODx37vxW\n4MshhMnA0rTuy65kMaxy12eFQSHhcf9dCSFsmPsrlhDCx4CvAU8lW1Ub7a+nuAs4Mff9t4E7278h\nIW3qzP3nyvtX0rFPfwUslHR1wbI07s8OdaZtf4YQPpnvOgshbAB8lXh+LVX7s5M6F6Vpf0r6kaRt\nJW1PPE4+IOkE4G5StC/LlbnRgLBm6PrVtA5dvyzhkjoIIWxHbE2JePL1f9JSZ4jXU9QDmwHLgAbg\nf4GpwDbAS8ThrC1J1Qid1nkg8XzLauKw2+/k+9+TEEIYThzC/CTxdy3gR8DDwB2kZH92UeexpGt/\n7k486T8g97hd0vgQwqaka392VufNpGh/5oU46ex5udGAqdqX5cpkWJmZWf+SxW5AMzPrZxxWZmaW\neg4rMzNLPYeVmZmlnsPKzMxSz2FlZmap57AyM7PU+/8mO8b8oScRhwAAAABJRU5ErkJggg==\n",
      "text/plain": [
       "<matplotlib.figure.Figure at 0x7f2fe7789b90>"
      ]
     },
     "metadata": {},
     "output_type": "display_data"
    }
   ],
   "source": [
    "%matplotlib inline\n",
    "convergeCurves(run1Files)"
   ]
  },
  {
   "cell_type": "code",
   "execution_count": 9,
   "metadata": {
    "collapsed": false
   },
   "outputs": [
    {
     "data": {
      "text/plain": [
       "[array(11),\n",
       " array(1),\n",
       " array(9),\n",
       " array(5),\n",
       " array(15),\n",
       " array(22),\n",
       " array(8),\n",
       " array(4),\n",
       " array(6),\n",
       " array(13),\n",
       " array(18),\n",
       " array(31),\n",
       " array(27),\n",
       " array(20),\n",
       " array(7),\n",
       " array(35),\n",
       " array(12),\n",
       " array(28),\n",
       " array(25),\n",
       " array(16),\n",
       " array(19),\n",
       " array(10),\n",
       " array(23),\n",
       " array(26),\n",
       " array(2),\n",
       " array(14),\n",
       " array(3),\n",
       " array(32),\n",
       " array(21),\n",
       " array(36),\n",
       " array(29),\n",
       " array(24),\n",
       " array(33),\n",
       " array(34),\n",
       " array(17),\n",
       " array(30)]"
      ]
     },
     "execution_count": 9,
     "metadata": {},
     "output_type": "execute_result"
    }
   ],
   "source": [
    "[res['iter'] for res in run1Files]"
   ]
  },
  {
   "cell_type": "code",
   "execution_count": 10,
   "metadata": {
    "collapsed": true
   },
   "outputs": [],
   "source": [
    "%matplotlib qt\n",
    "sys.path.append('/home/gudni/Dropbox/code/python/MTview/')\n",
    "import interactivePlotFunctions as iPf"
   ]
  },
  {
   "cell_type": "code",
   "execution_count": 60,
   "metadata": {
    "collapsed": false
   },
   "outputs": [],
   "source": [
    "finData = NSEM.Data(survey,runT4fFiles[0]['dpred']).toRecArray('Complex')"
   ]
  },
  {
   "cell_type": "code",
   "execution_count": 61,
   "metadata": {
    "collapsed": false
   },
   "outputs": [
    {
     "data": {
      "text/plain": [
       "<interactivePlotFunctions.MTinteractiveMap at 0x7f5397910d10>"
      ]
     },
     "execution_count": 61,
     "metadata": {},
     "output_type": "execute_result"
    }
   ],
   "source": [
    "%matplotlib qt\n",
    "iPf.MTinteractiveMap([dUse.toRecArray('Complex'),finData])"
   ]
  },
  {
   "cell_type": "code",
   "execution_count": null,
   "metadata": {
    "collapsed": false
   },
   "outputs": [],
   "source": []
  },
  {
   "cell_type": "markdown",
   "metadata": {
    "collapsed": true
   },
   "source": [
    "### run2"
   ]
  },
  {
   "cell_type": "code",
   "execution_count": 13,
   "metadata": {
    "collapsed": true
   },
   "outputs": [],
   "source": [
    "run2Files = loadInversionMakeVTRFiles('run2',mesh,mappingExpAct)"
   ]
  },
  {
   "cell_type": "code",
   "execution_count": 14,
   "metadata": {
    "collapsed": false
   },
   "outputs": [
    {
     "data": {
      "image/png": "iVBORw0KGgoAAAANSUhEUgAAAasAAAECCAYAAABAAvhLAAAABHNCSVQICAgIfAhkiAAAAAlwSFlz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\n",
      "text/plain": [
       "<matplotlib.figure.Figure at 0x7f2fc660dad0>"
      ]
     },
     "metadata": {},
     "output_type": "display_data"
    }
   ],
   "source": [
    "%matplotlib inline\n",
    "convergeCurves(run2Files)"
   ]
  },
  {
   "cell_type": "code",
   "execution_count": 16,
   "metadata": {
    "collapsed": false
   },
   "outputs": [
    {
     "ename": "AssertionError",
     "evalue": "v must have the correct number of data.",
     "output_type": "error",
     "traceback": [
      "\u001b[1;31m---------------------------------------------------------------------------\u001b[0m",
      "\u001b[1;31mAssertionError\u001b[0m                            Traceback (most recent call last)",
      "\u001b[1;32m<ipython-input-16-a0bf944c8567>\u001b[0m in \u001b[0;36m<module>\u001b[1;34m()\u001b[0m\n\u001b[1;32m----> 1\u001b[1;33m \u001b[0mfinData\u001b[0m \u001b[1;33m=\u001b[0m \u001b[0mNSEM\u001b[0m\u001b[1;33m.\u001b[0m\u001b[0mData\u001b[0m\u001b[1;33m(\u001b[0m\u001b[0msurvey\u001b[0m\u001b[1;33m,\u001b[0m\u001b[0mrun2Files\u001b[0m\u001b[1;33m[\u001b[0m\u001b[1;36m0\u001b[0m\u001b[1;33m]\u001b[0m\u001b[1;33m[\u001b[0m\u001b[1;34m'dpred'\u001b[0m\u001b[1;33m]\u001b[0m\u001b[1;33m)\u001b[0m\u001b[1;33m.\u001b[0m\u001b[0mtoRecArray\u001b[0m\u001b[1;33m(\u001b[0m\u001b[1;34m'Complex'\u001b[0m\u001b[1;33m)\u001b[0m\u001b[1;33m\u001b[0m\u001b[0m\n\u001b[0m",
      "\u001b[1;32m/home/gudni/gitCodes/python/simpeg/SimPEG/NSEM/SurveyNSEM.pyc\u001b[0m in \u001b[0;36m__init__\u001b[1;34m(self, survey, v)\u001b[0m\n\u001b[0;32m    453\u001b[0m     \u001b[1;32mdef\u001b[0m \u001b[0m__init__\u001b[0m\u001b[1;33m(\u001b[0m\u001b[0mself\u001b[0m\u001b[1;33m,\u001b[0m \u001b[0msurvey\u001b[0m\u001b[1;33m,\u001b[0m \u001b[0mv\u001b[0m\u001b[1;33m=\u001b[0m\u001b[0mNone\u001b[0m\u001b[1;33m)\u001b[0m\u001b[1;33m:\u001b[0m\u001b[1;33m\u001b[0m\u001b[0m\n\u001b[0;32m    454\u001b[0m         \u001b[1;31m# Pass the variables to the \"parent\" method\u001b[0m\u001b[1;33m\u001b[0m\u001b[1;33m\u001b[0m\u001b[0m\n\u001b[1;32m--> 455\u001b[1;33m         \u001b[0mSimPEGsurvey\u001b[0m\u001b[1;33m.\u001b[0m\u001b[0mData\u001b[0m\u001b[1;33m.\u001b[0m\u001b[0m__init__\u001b[0m\u001b[1;33m(\u001b[0m\u001b[0mself\u001b[0m\u001b[1;33m,\u001b[0m \u001b[0msurvey\u001b[0m\u001b[1;33m,\u001b[0m \u001b[0mv\u001b[0m\u001b[1;33m)\u001b[0m\u001b[1;33m\u001b[0m\u001b[0m\n\u001b[0m\u001b[0;32m    456\u001b[0m \u001b[1;33m\u001b[0m\u001b[0m\n\u001b[0;32m    457\u001b[0m     \u001b[1;31m# # Import data\u001b[0m\u001b[1;33m\u001b[0m\u001b[1;33m\u001b[0m\u001b[0m\n",
      "\u001b[1;32m/home/gudni/gitCodes/python/simpeg/SimPEG/Survey.pyc\u001b[0m in \u001b[0;36m__init__\u001b[1;34m(self, survey, v)\u001b[0m\n\u001b[0;32m    154\u001b[0m             \u001b[0mself\u001b[0m\u001b[1;33m.\u001b[0m\u001b[0m_dataDict\u001b[0m\u001b[1;33m[\u001b[0m\u001b[0msrc\u001b[0m\u001b[1;33m]\u001b[0m \u001b[1;33m=\u001b[0m \u001b[1;33m{\u001b[0m\u001b[1;33m}\u001b[0m\u001b[1;33m\u001b[0m\u001b[0m\n\u001b[0;32m    155\u001b[0m         \u001b[1;32mif\u001b[0m \u001b[0mv\u001b[0m \u001b[1;32mis\u001b[0m \u001b[1;32mnot\u001b[0m \u001b[0mNone\u001b[0m\u001b[1;33m:\u001b[0m\u001b[1;33m\u001b[0m\u001b[0m\n\u001b[1;32m--> 156\u001b[1;33m             \u001b[0mself\u001b[0m\u001b[1;33m.\u001b[0m\u001b[0mfromvec\u001b[0m\u001b[1;33m(\u001b[0m\u001b[0mv\u001b[0m\u001b[1;33m)\u001b[0m\u001b[1;33m\u001b[0m\u001b[0m\n\u001b[0m\u001b[0;32m    157\u001b[0m \u001b[1;33m\u001b[0m\u001b[0m\n\u001b[0;32m    158\u001b[0m     \u001b[1;32mdef\u001b[0m \u001b[0m_ensureCorrectKey\u001b[0m\u001b[1;33m(\u001b[0m\u001b[0mself\u001b[0m\u001b[1;33m,\u001b[0m \u001b[0mkey\u001b[0m\u001b[1;33m)\u001b[0m\u001b[1;33m:\u001b[0m\u001b[1;33m\u001b[0m\u001b[0m\n",
      "\u001b[1;32m/home/gudni/gitCodes/python/simpeg/SimPEG/Survey.pyc\u001b[0m in \u001b[0;36mfromvec\u001b[1;34m(self, v)\u001b[0m\n\u001b[0;32m    193\u001b[0m     \u001b[1;32mdef\u001b[0m \u001b[0mfromvec\u001b[0m\u001b[1;33m(\u001b[0m\u001b[0mself\u001b[0m\u001b[1;33m,\u001b[0m \u001b[0mv\u001b[0m\u001b[1;33m)\u001b[0m\u001b[1;33m:\u001b[0m\u001b[1;33m\u001b[0m\u001b[0m\n\u001b[0;32m    194\u001b[0m         \u001b[0mv\u001b[0m \u001b[1;33m=\u001b[0m \u001b[0mUtils\u001b[0m\u001b[1;33m.\u001b[0m\u001b[0mmkvc\u001b[0m\u001b[1;33m(\u001b[0m\u001b[0mv\u001b[0m\u001b[1;33m)\u001b[0m\u001b[1;33m\u001b[0m\u001b[0m\n\u001b[1;32m--> 195\u001b[1;33m         \u001b[1;32massert\u001b[0m \u001b[0mv\u001b[0m\u001b[1;33m.\u001b[0m\u001b[0msize\u001b[0m \u001b[1;33m==\u001b[0m \u001b[0mself\u001b[0m\u001b[1;33m.\u001b[0m\u001b[0msurvey\u001b[0m\u001b[1;33m.\u001b[0m\u001b[0mnD\u001b[0m\u001b[1;33m,\u001b[0m \u001b[1;34m'v must have the correct number of data.'\u001b[0m\u001b[1;33m\u001b[0m\u001b[0m\n\u001b[0m\u001b[0;32m    196\u001b[0m         \u001b[0mindBot\u001b[0m\u001b[1;33m,\u001b[0m \u001b[0mindTop\u001b[0m \u001b[1;33m=\u001b[0m \u001b[1;36m0\u001b[0m\u001b[1;33m,\u001b[0m \u001b[1;36m0\u001b[0m\u001b[1;33m\u001b[0m\u001b[0m\n\u001b[0;32m    197\u001b[0m         \u001b[1;32mfor\u001b[0m \u001b[0msrc\u001b[0m \u001b[1;32min\u001b[0m \u001b[0mself\u001b[0m\u001b[1;33m.\u001b[0m\u001b[0msurvey\u001b[0m\u001b[1;33m.\u001b[0m\u001b[0msrcList\u001b[0m\u001b[1;33m:\u001b[0m\u001b[1;33m\u001b[0m\u001b[0m\n",
      "\u001b[1;31mAssertionError\u001b[0m: v must have the correct number of data."
     ]
    }
   ],
   "source": [
    "finData = NSEM.Data(survey,run2Files[0]['dpred']).toRecArray('Complex')"
   ]
  },
  {
   "cell_type": "markdown",
   "metadata": {},
   "source": [
    "## run3"
   ]
  },
  {
   "cell_type": "code",
   "execution_count": 17,
   "metadata": {
    "collapsed": true
   },
   "outputs": [],
   "source": [
    "run3Files = loadInversionMakeVTRFiles('run3',mesh,mappingExpAct)"
   ]
  },
  {
   "cell_type": "code",
   "execution_count": 18,
   "metadata": {
    "collapsed": false
   },
   "outputs": [
    {
     "data": {
      "image/png": "iVBORw0KGgoAAAANSUhEUgAAAasAAAECCAYAAABAAvhLAAAABHNCSVQICAgIfAhkiAAAAAlwSFlz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\nxlnHYP0AAAAASUVORK5CYII=\n",
      "text/plain": [
       "<matplotlib.figure.Figure at 0x7f2fe4228c90>"
      ]
     },
     "metadata": {},
     "output_type": "display_data"
    }
   ],
   "source": [
    "%matplotlib inline\n",
    "convergeCurves(run3Files)"
   ]
  },
  {
   "cell_type": "markdown",
   "metadata": {},
   "source": [
    "## run4"
   ]
  },
  {
   "cell_type": "code",
   "execution_count": 15,
   "metadata": {
    "collapsed": true
   },
   "outputs": [],
   "source": [
    "run4Files = loadInversionMakeVTRFiles('run4',mesh,mappingExpAct)"
   ]
  },
  {
   "cell_type": "code",
   "execution_count": 16,
   "metadata": {
    "collapsed": false
   },
   "outputs": [
    {
     "data": {
      "image/png": "iVBORw0KGgoAAAANSUhEUgAAAasAAAECCAYAAABAAvhLAAAABHNCSVQICAgIfAhkiAAAAAlwSFlz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\nC7ZHOgAAAABJRU5ErkJggg==\n",
      "text/plain": [
       "<matplotlib.figure.Figure at 0x7f2fc66037d0>"
      ]
     },
     "metadata": {},
     "output_type": "display_data"
    }
   ],
   "source": [
    "%matplotlib inline\n",
    "convergeCurves(run4Files)"
   ]
  },
  {
   "cell_type": "code",
   "execution_count": null,
   "metadata": {
    "collapsed": true
   },
   "outputs": [],
   "source": []
  },
  {
   "cell_type": "code",
   "execution_count": null,
   "metadata": {
    "collapsed": true
   },
   "outputs": [],
   "source": []
  }
 ],
 "metadata": {
  "kernelspec": {
   "display_name": "Python 2",
   "language": "python",
   "name": "python2"
  },
  "language_info": {
   "codemirror_mode": {
    "name": "ipython",
    "version": 2
   },
   "file_extension": ".py",
   "mimetype": "text/x-python",
   "name": "python",
   "nbconvert_exporter": "python",
   "pygments_lexer": "ipython2",
   "version": "2.7.11"
  }
 },
 "nbformat": 4,
 "nbformat_minor": 0
}
