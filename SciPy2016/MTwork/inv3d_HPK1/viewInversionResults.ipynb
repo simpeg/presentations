{
 "cells": [
  {
   "cell_type": "code",
   "execution_count": 1,
   "metadata": {
    "collapsed": false
   },
   "outputs": [],
   "source": [
    "import SimPEG as simpeg\n",
    "from SimPEG import NSEM\n",
    "from glob import glob\n",
    "import numpy as np, sys, matplotlib.pyplot as plt\n",
    "# sys.path.append('/home/gudni/Dropbox/Work/UBCwork/SyntheticModels/SynGeothermalStructures/ThesisModels')\n",
    "# import synhelpFunc\n",
    "%matplotlib inline"
   ]
  },
  {
   "cell_type": "code",
   "execution_count": 2,
   "metadata": {
    "collapsed": false
   },
   "outputs": [],
   "source": [
    "def convergeCurves(resList):\n",
    "    its  = np.array([res['iter'] for res in resList]).T\n",
    "    ind = np.argsort(its)\n",
    "    phid = np.array([res['phi_d'] for res in resList]).T\n",
    "    try:\n",
    "        phim = np.array([res['phi_m'] for res in resList]).T\n",
    "    except:\n",
    "        phim = np.array([res['phi_ms'] for res in resList]).T + np.array([res['phi_mx'] for res in resList]).T + np.array([res['phi_my'] for res in resList]).T + np.array([res['phi_mz'] for res in resList]).T     \n",
    "    x = np.arange(len(its))\n",
    "    fig, ax1 = plt.subplots()\n",
    "    ax1.semilogy(x,phid[ind],'bx--')\n",
    "    ax1.set_ylabel('phi_d', color='b')\n",
    "    plt.hlines(len(resList[0]['dpred'])*.75,0,len(x),colors='g',linestyles='-.')\n",
    "    for tl in ax1.get_yticklabels():\n",
    "        tl.set_color('b')\n",
    "    ax2 = ax1.twinx()          \n",
    "    ax2.semilogy(x,phim[ind],'rx--',)\n",
    "    ax2.set_ylabel('phi_m', color='r')\n",
    "    for tl in ax2.get_yticklabels():\n",
    "        tl.set_color('r')\n",
    "    plt.show()\n",
    "    \n",
    "def tikanovCurve(resList):\n",
    "    its  = np.array([res['iter'] for res in resList]).T\n",
    "    ind = np.argsort(its)\n",
    "    phid = np.array([res['phi_d'] for res in resList]).T\n",
    "    phim = np.array([res['phi_m'] for res in resList]).T\n",
    "    x = np.arange(len(its))\n",
    "    fig, ax1 = plt.subplots()\n",
    "    ax1.loglog(phim[ind],phid[ind],'bx--')\n",
    "    ax1.set_ylabel('phi_d')\n",
    "    ax1.set_xlabel('phi_m')\n",
    "    plt.hlines(len(resList[0]['dpred'])*.75,np.min(phim),np.max(phim),colors='g',linestyles='-.')\n",
    "    plt.show()\n",
    "    \n",
    "def allconvergeCurves(resList):\n",
    "    its  = np.array([res['iter'] for res in resList]).T\n",
    "    ind = np.argsort(its)\n",
    "    phid = np.array([res['phi_d'] for res in resList]).T\n",
    "    phim = np.array([res['phi_m'] for res in resList]).T\n",
    "    phims = np.array([res['phi_ms'] for res in resList]).T\n",
    "    phimx = np.array([res['phi_mx'] for res in resList]).T\n",
    "    phimy = np.array([res['phi_my'] for res in resList]).T\n",
    "    phimz = np.array([res['phi_mz'] for res in resList]).T\n",
    "    x = np.arange(len(its))\n",
    "    fig, ax1 = plt.subplots()\n",
    "    ax1.semilogy(x,phid[ind],'bx--',label='phid')\n",
    "    ax1.set_ylabel('phi_d', color='b')\n",
    "    plt.hlines(len(resList[0]['dpred'])*.75,0,len(x),colors='g',linestyles='-.')\n",
    "    for tl in ax1.get_yticklabels():\n",
    "        tl.set_color('b')         \n",
    "    ax1.semilogy(x,phim[ind],'gx--',label='phim')\n",
    "    ax1.semilogy(x,phims[ind],'y,--',label='phims')\n",
    "    ax1.semilogy(x,phimx[ind],'r.--',label='phimx')\n",
    "    ax1.semilogy(x,phimy[ind],'r+--',label='phimy')\n",
    "    ax1.semilogy(x,phimz[ind],'r*--',label='phimz')\n",
    "    \n",
    "    plt.legend()\n",
    "    plt.show()\n",
    "\n",
    "def loadInversionMakeVTRFiles(dirStr,mesh,mapping):\n",
    "    temp = [np.load(f) for f in glob(dirStr+'/*Inversion*.npz')]\n",
    "    iterResults = [i if len(i.keys()) > 1 else i['arr_0'].tolist() for i in temp ]\n",
    "    # Make the vtk models\n",
    "    for it in iterResults:\n",
    "        mesh.writeVTK(dirStr+'/recoveredMod_{:s}_it{:.0f}.vtr'.format(dirStr,int(it['iter'])),{'S/m':mapping*it['m']})\n",
    "    return iterResults\n",
    "\n",
    "def getDataInfo(MTdata):\n",
    "\n",
    "    dL, freqL, rxTL = [], [], []\n",
    "\n",
    "    for src in MTdata.survey.srcList:\n",
    "        for rx in src.rxList:\n",
    "            dL.append(MTdata[src,rx])\n",
    "            freqL.append(np.ones(rx.nD)*src.freq)\n",
    "            rxTL.extend( ((rx.rxType+' ')*rx.nD).split())\n",
    "    return np.concatenate(dL), np.concatenate(freqL), np.array(rxTL)\n"
   ]
  },
  {
   "cell_type": "code",
   "execution_count": 3,
   "metadata": {
    "collapsed": true
   },
   "outputs": [],
   "source": [
    "# Load the model\n",
    "mesh, modDict = simpeg.Mesh.TensorMesh.readVTK('../ForwardModeling_noExtension_Coarse/nsmesh_CoarseHKPK1_NoExtension.vtr')\n",
    "sigma = modDict['S/m']"
   ]
  },
  {
   "cell_type": "code",
   "execution_count": 4,
   "metadata": {
    "collapsed": false
   },
   "outputs": [],
   "source": [
    "# Make the mapping\n",
    "active = sigma != 1e-8\n",
    "actMap = simpeg.Maps.InjectActiveCells(mesh, active, np.log(1e-8), nC=mesh.nC)\n",
    "mappingExpAct = simpeg.Maps.ExpMap(mesh) * actMap"
   ]
  },
  {
   "cell_type": "markdown",
   "metadata": {},
   "source": [
    "### Run_thibaut4_offdiag"
   ]
  },
  {
   "cell_type": "code",
   "execution_count": 5,
   "metadata": {
    "collapsed": false
   },
   "outputs": [],
   "source": [
    "# Load the data\n",
    "drecAll = np.load('./run_thibaut4_off/MTdataStArr_nsmesh_HKPK1Coarse_noExtension.npy')\n",
    "# Select larger frequency band for the MT data\n",
    "indMTFreq = np.sum([drecAll['freq'] == val for val in  np.unique(drecAll['freq'])],axis=0,dtype=bool)\n",
    "mtRecArr = drecAll[indMTFreq][['freq','x','y','z','zxy','zyx']]\n",
    "dUse = NSEM.Data.fromRecArray(mtRecArr)\n",
    "# Extract to survey\n",
    "survey = dUse.survey"
   ]
  },
  {
   "cell_type": "code",
   "execution_count": 6,
   "metadata": {
    "collapsed": true
   },
   "outputs": [],
   "source": [
    "dobs, freqArr, rxT = getDataInfo(dUse)\n",
    "# Set the data\n",
    "\n",
    "survey.dobs = dobs\n",
    "\n",
    "#Find index of each type of data\n",
    "offind = np.array([('zxy' in l or 'zyx' in l) for l in rxT],bool)\n",
    "tipind = np.array([('tzy' in l or 'tzx' in l) for l in rxT],bool)\n",
    "\n",
    "#Check if we got all data type covered\n",
    "assert (offind + tipind).all() , 'Some indicies not included'\n",
    "\n",
    "#Initialize std\n",
    "std = np.zeros_like(dobs) # 5% on all off-diagonals\n",
    "\n",
    "#Std for off diagonal 5% + 0.001*median floor\n",
    "std = np.abs(survey.dobs*0.05)\n",
    "\n",
    "#std for tipper: floor of 0.001*median\n",
    "#std[tipind] = np.abs(np.median(survey.dobs[tipind])*0.001)\n",
    "# std[np.array([ ('xx' in l or 'yy' in l) for l in rxT])] = 0.15 # 15% on the on-diagonal\n",
    "survey.std = std \n",
    "# Estimate a floor for the data.\n",
    "# Use the 10% of the mean of the off-diagonals for each frequency\n",
    "#onind = np.array([('zxx' in l or 'zyy' in l) for l in rxT],bool)\n",
    "\n",
    "floor = np.zeros_like(dobs)\n",
    "#floortip = 0.001\n",
    "\n",
    "for f in np.unique(freqArr):\n",
    "    freqInd = freqArr == f\n",
    "    floorFreq = floor[freqInd]\n",
    "    offD = np.sort(np.abs(dobs[freqInd*offind]))\n",
    "    floor[freqInd] = 0.001*np.mean(offD)\n",
    "    # onD = np.sort(np.abs(dobs[freqInd*onind]))\n",
    "    # floor[freqInd*onind] = 0.1*np.mean(onD)\n",
    "\n",
    "#floor[tipind] = floortip\n",
    "\n",
    "# Assign the data weight\n",
    "Wd = 1./(survey.std + floor)\n",
    "\n",
    "eps=(survey.std + floor)"
   ]
  },
  {
   "cell_type": "code",
   "execution_count": 7,
   "metadata": {
    "collapsed": true
   },
   "outputs": [],
   "source": [
    "runT4fFiles = loadInversionMakeVTRFiles('run_thibaut4_off',mesh,mappingExpAct)"
   ]
  },
  {
   "cell_type": "code",
   "execution_count": 20,
   "metadata": {
    "collapsed": true
   },
   "outputs": [],
   "source": [
    "dpred = runT4fFiles[-1]['dpred']"
   ]
  },
  {
   "cell_type": "code",
   "execution_count": 23,
   "metadata": {
    "collapsed": false
   },
   "outputs": [],
   "source": [
    "phi_d = (dpred-dobs)/eps"
   ]
  },
  {
   "cell_type": "code",
   "execution_count": 27,
   "metadata": {
    "collapsed": true
   },
   "outputs": [],
   "source": [
    "plt.hist??"
   ]
  },
  {
   "cell_type": "code",
   "execution_count": 31,
   "metadata": {
    "collapsed": false
   },
   "outputs": [
    {
     "data": {
      "image/png": "[encoded data removed]",
      "text/plain": [
       "<matplotlib.figure.Figure at 0x11997e710>"
      ]
     },
     "metadata": {},
     "output_type": "display_data"
    }
   ],
   "source": [
    "n = plt.hist(phi_d,bins=50,color='blue')"
   ]
  },
  {
   "cell_type": "code",
   "execution_count": 54,
   "metadata": {
    "collapsed": false
   },
   "outputs": [
    {
     "data": {
      "image/png": "[encoded data removed]",
      "text/plain": [
       "<matplotlib.figure.Figure at 0x1196dfcd0>"
      ]
     },
     "metadata": {},
     "output_type": "display_data"
    }
   ],
   "source": [
    "convergeCurves(runT4fFiles)"
   ]
  },
  {
   "cell_type": "markdown",
   "metadata": {
    "collapsed": true
   },
   "source": [
    "### Run_thibaut4_tip"
   ]
  },
  {
   "cell_type": "code",
   "execution_count": 39,
   "metadata": {
    "collapsed": true
   },
   "outputs": [],
   "source": [
    "# Load the data\n",
    "drecAll = np.load('./run_thibaut4_tip/MTdataStArr_nsmesh_HKPK1Coarse_noExtension.npy')\n",
    "# Select larger frequency band for the MT data\n",
    "indMTFreq = np.sum([drecAll['freq'] == val for val in  np.unique(drecAll['freq'])],axis=0,dtype=bool)\n",
    "mtRecArr = drecAll[indMTFreq][['freq','x','y','z','tzx','tzy']]\n",
    "dUse = NSEM.Data.fromRecArray(mtRecArr)\n",
    "# Extract to survey\n",
    "survey = dUse.survey"
   ]
  },
  {
   "cell_type": "code",
   "execution_count": 45,
   "metadata": {
    "collapsed": false
   },
   "outputs": [],
   "source": [
    "# # Add noise to the data\n",
    "dobs, freqArr, rxT = getDataInfo(dUse)\n",
    "# Set the data\n",
    "\n",
    "survey.dobs = dobs\n",
    "# Assign std based on- and off-diagonal parts of the impedance tensor\n",
    "std = np.ones_like(dobs)*.05 # 5% on all off-diagonals\n",
    "# std[np.array([ ('xx' in l or 'yy' in l) for l in rxT])] = 0.15 # 15% on the on-diagonal\n",
    "survey.std = np.abs(survey.dobs*std) #+ 0.01*np.linalg.norm(survey.dobs) #survey.dobs*0 + std\n",
    "# Estimate a floor for the data.\n",
    "# Use the 10% of the mean of the off-diagonals for each frequency\n",
    "floor = np.zeros_like(dobs)\n",
    "offind = np.array([('zxy' in l or 'zyx' in l) for l in rxT],bool)\n",
    "onind = np.array([('zxx' in l or 'zyy' in l) for l in rxT],bool)\n",
    "tipind = np.array([('tzx' in l or 'tzy' in l) for l in rxT],bool)\n",
    "\n",
    "assert (offind+tipind+onind).all()\n",
    "\n",
    "for f in np.unique(freqArr):\n",
    "    freqInd = freqArr == f\n",
    "    floorFreq = floor[freqInd]\n",
    "    offD = np.sort(np.abs(dobs[freqInd*offind]))\n",
    "    floor[freqInd] = 0.0001*np.mean(offD)\n",
    "    onD = np.sort(np.abs(dobs[freqInd*onind]))\n",
    "    floor[freqInd*onind] = 0.1*np.mean(onD)\n",
    "    # Constant floor for the tipper.\n",
    "    floor[freqInd*tipind] = 0.001\n",
    "\n",
    "# Assign the data weight\n",
    "Wd = 1./(survey.std + floor)\n",
    "\n",
    "eps=(survey.std + floor)"
   ]
  },
  {
   "cell_type": "code",
   "execution_count": 46,
   "metadata": {
    "collapsed": true
   },
   "outputs": [],
   "source": [
    "runT4tFiles = loadInversionMakeVTRFiles('run_thibaut4_tip',mesh,mappingExpAct)"
   ]
  },
  {
   "cell_type": "code",
   "execution_count": 47,
   "metadata": {
    "collapsed": true
   },
   "outputs": [],
   "source": [
    "dpred = runT4tFiles[-1]['dpred']"
   ]
  },
  {
   "cell_type": "code",
   "execution_count": 48,
   "metadata": {
    "collapsed": true
   },
   "outputs": [],
   "source": [
    "phi_d = (dpred-dobs)/eps"
   ]
  },
  {
   "cell_type": "code",
   "execution_count": 49,
   "metadata": {
    "collapsed": false
   },
   "outputs": [
    {
     "data": {
      "image/png": "[encoded data removed]",
      "text/plain": [
       "<matplotlib.figure.Figure at 0x119b26750>"
      ]
     },
     "metadata": {},
     "output_type": "display_data"
    }
   ],
   "source": [
    "n = plt.hist(phi_d,bins=50,color='green')"
   ]
  },
  {
   "cell_type": "code",
   "execution_count": 51,
   "metadata": {
    "collapsed": false
   },
   "outputs": [
    {
     "data": {
      "image/png": "[encoded data removed]",
      "text/plain": [
       "<matplotlib.figure.Figure at 0x119a25c50>"
      ]
     },
     "metadata": {},
     "output_type": "display_data"
    }
   ],
   "source": [
    "convergeCurves(runT4tFiles)"
   ]
  },
  {
   "cell_type": "markdown",
   "metadata": {},
   "source": [
    "### run1\n"
   ]
  },
  {
   "cell_type": "code",
   "execution_count": 6,
   "metadata": {
    "collapsed": false
   },
   "outputs": [],
   "source": [
    "run1Files = loadInversionMakeVTRFiles('run1',mesh,mappingExpAct)"
   ]
  },
  {
   "cell_type": "code",
   "execution_count": 7,
   "metadata": {
    "collapsed": false
   },
   "outputs": [
    {
     "name": "stdout",
     "output_type": "stream",
     "text": [
      "001-InversionModel-2016-05-27-12-14.npz  recoveredMod_run1_it10.vtr\r\n",
      "002-InversionModel-2016-05-27-12-14.npz  recoveredMod_run1_it11.vtr\r\n",
      "003-InversionModel-2016-05-27-12-14.npz  recoveredMod_run1_it12.vtr\r\n",
      "004-InversionModel-2016-05-27-12-14.npz  recoveredMod_run1_it13.vtr\r\n",
      "005-InversionModel-2016-05-27-12-14.npz  recoveredMod_run1_it14.vtr\r\n",
      "006-InversionModel-2016-05-27-12-14.npz  recoveredMod_run1_it15.vtr\r\n",
      "007-InversionModel-2016-05-27-12-14.npz  recoveredMod_run1_it16.vtr\r\n",
      "008-InversionModel-2016-05-27-12-14.npz  recoveredMod_run1_it17.vtr\r\n",
      "009-InversionModel-2016-05-27-12-14.npz  recoveredMod_run1_it18.vtr\r\n",
      "010-InversionModel-2016-05-27-12-14.npz  recoveredMod_run1_it19.vtr\r\n",
      "011-InversionModel-2016-05-27-12-14.npz  recoveredMod_run1_it1.vtr\r\n",
      "012-InversionModel-2016-05-27-12-14.npz  recoveredMod_run1_it20.vtr\r\n",
      "013-InversionModel-2016-05-27-12-14.npz  recoveredMod_run1_it21.vtr\r\n",
      "014-InversionModel-2016-05-27-12-14.npz  recoveredMod_run1_it22.vtr\r\n",
      "015-InversionModel-2016-05-27-12-14.npz  recoveredMod_run1_it23.vtr\r\n",
      "016-InversionModel-2016-05-27-12-14.npz  recoveredMod_run1_it24.vtr\r\n",
      "017-InversionModel-2016-05-27-12-14.npz  recoveredMod_run1_it25.vtr\r\n",
      "018-InversionModel-2016-05-27-12-14.npz  recoveredMod_run1_it26.vtr\r\n",
      "019-InversionModel-2016-05-27-12-14.npz  recoveredMod_run1_it27.vtr\r\n",
      "020-InversionModel-2016-05-27-12-14.npz  recoveredMod_run1_it28.vtr\r\n",
      "021-InversionModel-2016-05-27-12-14.npz  recoveredMod_run1_it29.vtr\r\n",
      "022-InversionModel-2016-05-27-12-14.npz  recoveredMod_run1_it2.vtr\r\n",
      "023-InversionModel-2016-05-27-12-14.npz  recoveredMod_run1_it30.vtr\r\n",
      "024-InversionModel-2016-05-27-12-14.npz  recoveredMod_run1_it31.vtr\r\n",
      "025-InversionModel-2016-05-27-12-14.npz  recoveredMod_run1_it32.vtr\r\n",
      "026-InversionModel-2016-05-27-12-14.npz  recoveredMod_run1_it33.vtr\r\n",
      "027-InversionModel-2016-05-27-12-14.npz  recoveredMod_run1_it34.vtr\r\n",
      "028-InversionModel-2016-05-27-12-14.npz  recoveredMod_run1_it35.vtr\r\n",
      "029-InversionModel-2016-05-27-12-14.npz  recoveredMod_run1_it36.vtr\r\n",
      "030-InversionModel-2016-05-27-12-14.npz  recoveredMod_run1_it3.vtr\r\n",
      "031-InversionModel-2016-05-27-12-14.npz  recoveredMod_run1_it4.vtr\r\n",
      "032-InversionModel-2016-05-27-12-14.npz  recoveredMod_run1_it5.vtr\r\n",
      "033-InversionModel-2016-05-27-12-14.npz  recoveredMod_run1_it6.vtr\r\n",
      "034-InversionModel-2016-05-27-12-14.npz  recoveredMod_run1_it7.vtr\r\n",
      "035-InversionModel-2016-05-27-12-14.npz  recoveredMod_run1_it8.vtr\r\n",
      "036-InversionModel-2016-05-27-12-14.npz  recoveredMod_run1_it9.vtr\r\n",
      "findDiam_inversion.py\r\n"
     ]
    }
   ],
   "source": [
    "ls run1"
   ]
  },
  {
   "cell_type": "code",
   "execution_count": 8,
   "metadata": {
    "collapsed": false
   },
   "outputs": [
    {
     "data": {
      "image/png": "[encoded data removed]",
      "text/plain": [
       "<matplotlib.figure.Figure at 0x7f2fe7789b90>"
      ]
     },
     "metadata": {},
     "output_type": "display_data"
    }
   ],
   "source": [
    "%matplotlib inline\n",
    "convergeCurves(run1Files)"
   ]
  },
  {
   "cell_type": "code",
   "execution_count": 9,
   "metadata": {
    "collapsed": false
   },
   "outputs": [
    {
     "data": {
      "text/plain": [
       "[array(11),\n",
       " array(1),\n",
       " array(9),\n",
       " array(5),\n",
       " array(15),\n",
       " array(22),\n",
       " array(8),\n",
       " array(4),\n",
       " array(6),\n",
       " array(13),\n",
       " array(18),\n",
       " array(31),\n",
       " array(27),\n",
       " array(20),\n",
       " array(7),\n",
       " array(35),\n",
       " array(12),\n",
       " array(28),\n",
       " array(25),\n",
       " array(16),\n",
       " array(19),\n",
       " array(10),\n",
       " array(23),\n",
       " array(26),\n",
       " array(2),\n",
       " array(14),\n",
       " array(3),\n",
       " array(32),\n",
       " array(21),\n",
       " array(36),\n",
       " array(29),\n",
       " array(24),\n",
       " array(33),\n",
       " array(34),\n",
       " array(17),\n",
       " array(30)]"
      ]
     },
     "execution_count": 9,
     "metadata": {},
     "output_type": "execute_result"
    }
   ],
   "source": [
    "[res['iter'] for res in run1Files]"
   ]
  },
  {
   "cell_type": "code",
   "execution_count": 10,
   "metadata": {
    "collapsed": true
   },
   "outputs": [],
   "source": [
    "%matplotlib qt\n",
    "sys.path.append('/home/gudni/Dropbox/code/python/MTview/')\n",
    "import interactivePlotFunctions as iPf"
   ]
  },
  {
   "cell_type": "code",
   "execution_count": 11,
   "metadata": {
    "collapsed": false
   },
   "outputs": [
    {
     "name": "stderr",
     "output_type": "stream",
     "text": [
      "/home/gudni/anaconda2/lib/python2.7/site-packages/numpy/ma/core.py:2915: FutureWarning: Numpy has detected that you (may be) writing to an array returned\n",
      "by numpy.diagonal or by selecting multiple fields in a structured\n",
      "array. This code will likely break in a future numpy release --\n",
      "see numpy.diagonal or arrays.indexing reference docs for details.\n",
      "The quick fix is to make an explicit copy (e.g., do\n",
      "arr.diagonal().copy() or arr[['f0','f1']].copy()).\n",
      "  if (obj.__array_interface__[\"data\"][0]\n",
      "/home/gudni/anaconda2/lib/python2.7/site-packages/numpy/ma/core.py:2916: FutureWarning: Numpy has detected that you (may be) writing to an array returned\n",
      "by numpy.diagonal or by selecting multiple fields in a structured\n",
      "array. This code will likely break in a future numpy release --\n",
      "see numpy.diagonal or arrays.indexing reference docs for details.\n",
      "The quick fix is to make an explicit copy (e.g., do\n",
      "arr.diagonal().copy() or arr[['f0','f1']].copy()).\n",
      "  != self.__array_interface__[\"data\"][0]):\n"
     ]
    }
   ],
   "source": [
    "finData = NSEM.Data(survey,run1Files[0]['dpred']).toRecArray('Complex')"
   ]
  },
  {
   "cell_type": "code",
   "execution_count": 12,
   "metadata": {
    "collapsed": false
   },
   "outputs": [
    {
     "data": {
      "text/plain": [
       "<interactivePlotFunctions.MTinteractiveMap at 0x7f2fe7fa1d50>"
      ]
     },
     "execution_count": 12,
     "metadata": {},
     "output_type": "execute_result"
    }
   ],
   "source": [
    "%matplotlib qt\n",
    "iPf.MTinteractiveMap([dUse.toRecArray('Complex'),finData])"
   ]
  },
  {
   "cell_type": "code",
   "execution_count": null,
   "metadata": {
    "collapsed": false
   },
   "outputs": [],
   "source": []
  },
  {
   "cell_type": "markdown",
   "metadata": {
    "collapsed": true
   },
   "source": [
    "### run2"
   ]
  },
  {
   "cell_type": "code",
   "execution_count": 13,
   "metadata": {
    "collapsed": true
   },
   "outputs": [],
   "source": [
    "run2Files = loadInversionMakeVTRFiles('run2',mesh,mappingExpAct)"
   ]
  },
  {
   "cell_type": "code",
   "execution_count": 14,
   "metadata": {
    "collapsed": false
   },
   "outputs": [
    {
     "data": {
      "image/png": "[encoded data removed]",
      "text/plain": [
       "<matplotlib.figure.Figure at 0x7f2fc660dad0>"
      ]
     },
     "metadata": {},
     "output_type": "display_data"
    }
   ],
   "source": [
    "%matplotlib inline\n",
    "convergeCurves(run2Files)"
   ]
  },
  {
   "cell_type": "code",
   "execution_count": 16,
   "metadata": {
    "collapsed": false
   },
   "outputs": [
    {
     "ename": "AssertionError",
     "evalue": "v must have the correct number of data.",
     "output_type": "error",
     "traceback": [
      "\u001b[1;31m---------------------------------------------------------------------------\u001b[0m",
      "\u001b[1;31mAssertionError\u001b[0m                            Traceback (most recent call last)",
      "\u001b[1;32m<ipython-input-16-a0bf944c8567>\u001b[0m in \u001b[0;36m<module>\u001b[1;34m()\u001b[0m\n\u001b[1;32m----> 1\u001b[1;33m \u001b[0mfinData\u001b[0m \u001b[1;33m=\u001b[0m \u001b[0mNSEM\u001b[0m\u001b[1;33m.\u001b[0m\u001b[0mData\u001b[0m\u001b[1;33m(\u001b[0m\u001b[0msurvey\u001b[0m\u001b[1;33m,\u001b[0m\u001b[0mrun2Files\u001b[0m\u001b[1;33m[\u001b[0m\u001b[1;36m0\u001b[0m\u001b[1;33m]\u001b[0m\u001b[1;33m[\u001b[0m\u001b[1;34m'dpred'\u001b[0m\u001b[1;33m]\u001b[0m\u001b[1;33m)\u001b[0m\u001b[1;33m.\u001b[0m\u001b[0mtoRecArray\u001b[0m\u001b[1;33m(\u001b[0m\u001b[1;34m'Complex'\u001b[0m\u001b[1;33m)\u001b[0m\u001b[1;33m\u001b[0m\u001b[0m\n\u001b[0m",
      "\u001b[1;32m/home/gudni/gitCodes/python/simpeg/SimPEG/NSEM/SurveyNSEM.pyc\u001b[0m in \u001b[0;36m__init__\u001b[1;34m(self, survey, v)\u001b[0m\n\u001b[0;32m    453\u001b[0m     \u001b[1;32mdef\u001b[0m \u001b[0m__init__\u001b[0m\u001b[1;33m(\u001b[0m\u001b[0mself\u001b[0m\u001b[1;33m,\u001b[0m \u001b[0msurvey\u001b[0m\u001b[1;33m,\u001b[0m \u001b[0mv\u001b[0m\u001b[1;33m=\u001b[0m\u001b[0mNone\u001b[0m\u001b[1;33m)\u001b[0m\u001b[1;33m:\u001b[0m\u001b[1;33m\u001b[0m\u001b[0m\n\u001b[0;32m    454\u001b[0m         \u001b[1;31m# Pass the variables to the \"parent\" method\u001b[0m\u001b[1;33m\u001b[0m\u001b[1;33m\u001b[0m\u001b[0m\n\u001b[1;32m--> 455\u001b[1;33m         \u001b[0mSimPEGsurvey\u001b[0m\u001b[1;33m.\u001b[0m\u001b[0mData\u001b[0m\u001b[1;33m.\u001b[0m\u001b[0m__init__\u001b[0m\u001b[1;33m(\u001b[0m\u001b[0mself\u001b[0m\u001b[1;33m,\u001b[0m \u001b[0msurvey\u001b[0m\u001b[1;33m,\u001b[0m \u001b[0mv\u001b[0m\u001b[1;33m)\u001b[0m\u001b[1;33m\u001b[0m\u001b[0m\n\u001b[0m\u001b[0;32m    456\u001b[0m \u001b[1;33m\u001b[0m\u001b[0m\n\u001b[0;32m    457\u001b[0m     \u001b[1;31m# # Import data\u001b[0m\u001b[1;33m\u001b[0m\u001b[1;33m\u001b[0m\u001b[0m\n",
      "\u001b[1;32m/home/gudni/gitCodes/python/simpeg/SimPEG/Survey.pyc\u001b[0m in \u001b[0;36m__init__\u001b[1;34m(self, survey, v)\u001b[0m\n\u001b[0;32m    154\u001b[0m             \u001b[0mself\u001b[0m\u001b[1;33m.\u001b[0m\u001b[0m_dataDict\u001b[0m\u001b[1;33m[\u001b[0m\u001b[0msrc\u001b[0m\u001b[1;33m]\u001b[0m \u001b[1;33m=\u001b[0m \u001b[1;33m{\u001b[0m\u001b[1;33m}\u001b[0m\u001b[1;33m\u001b[0m\u001b[0m\n\u001b[0;32m    155\u001b[0m         \u001b[1;32mif\u001b[0m \u001b[0mv\u001b[0m \u001b[1;32mis\u001b[0m \u001b[1;32mnot\u001b[0m \u001b[0mNone\u001b[0m\u001b[1;33m:\u001b[0m\u001b[1;33m\u001b[0m\u001b[0m\n\u001b[1;32m--> 156\u001b[1;33m             \u001b[0mself\u001b[0m\u001b[1;33m.\u001b[0m\u001b[0mfromvec\u001b[0m\u001b[1;33m(\u001b[0m\u001b[0mv\u001b[0m\u001b[1;33m)\u001b[0m\u001b[1;33m\u001b[0m\u001b[0m\n\u001b[0m\u001b[0;32m    157\u001b[0m \u001b[1;33m\u001b[0m\u001b[0m\n\u001b[0;32m    158\u001b[0m     \u001b[1;32mdef\u001b[0m \u001b[0m_ensureCorrectKey\u001b[0m\u001b[1;33m(\u001b[0m\u001b[0mself\u001b[0m\u001b[1;33m,\u001b[0m \u001b[0mkey\u001b[0m\u001b[1;33m)\u001b[0m\u001b[1;33m:\u001b[0m\u001b[1;33m\u001b[0m\u001b[0m\n",
      "\u001b[1;32m/home/gudni/gitCodes/python/simpeg/SimPEG/Survey.pyc\u001b[0m in \u001b[0;36mfromvec\u001b[1;34m(self, v)\u001b[0m\n\u001b[0;32m    193\u001b[0m     \u001b[1;32mdef\u001b[0m \u001b[0mfromvec\u001b[0m\u001b[1;33m(\u001b[0m\u001b[0mself\u001b[0m\u001b[1;33m,\u001b[0m \u001b[0mv\u001b[0m\u001b[1;33m)\u001b[0m\u001b[1;33m:\u001b[0m\u001b[1;33m\u001b[0m\u001b[0m\n\u001b[0;32m    194\u001b[0m         \u001b[0mv\u001b[0m \u001b[1;33m=\u001b[0m \u001b[0mUtils\u001b[0m\u001b[1;33m.\u001b[0m\u001b[0mmkvc\u001b[0m\u001b[1;33m(\u001b[0m\u001b[0mv\u001b[0m\u001b[1;33m)\u001b[0m\u001b[1;33m\u001b[0m\u001b[0m\n\u001b[1;32m--> 195\u001b[1;33m         \u001b[1;32massert\u001b[0m \u001b[0mv\u001b[0m\u001b[1;33m.\u001b[0m\u001b[0msize\u001b[0m \u001b[1;33m==\u001b[0m \u001b[0mself\u001b[0m\u001b[1;33m.\u001b[0m\u001b[0msurvey\u001b[0m\u001b[1;33m.\u001b[0m\u001b[0mnD\u001b[0m\u001b[1;33m,\u001b[0m \u001b[1;34m'v must have the correct number of data.'\u001b[0m\u001b[1;33m\u001b[0m\u001b[0m\n\u001b[0m\u001b[0;32m    196\u001b[0m         \u001b[0mindBot\u001b[0m\u001b[1;33m,\u001b[0m \u001b[0mindTop\u001b[0m \u001b[1;33m=\u001b[0m \u001b[1;36m0\u001b[0m\u001b[1;33m,\u001b[0m \u001b[1;36m0\u001b[0m\u001b[1;33m\u001b[0m\u001b[0m\n\u001b[0;32m    197\u001b[0m         \u001b[1;32mfor\u001b[0m \u001b[0msrc\u001b[0m \u001b[1;32min\u001b[0m \u001b[0mself\u001b[0m\u001b[1;33m.\u001b[0m\u001b[0msurvey\u001b[0m\u001b[1;33m.\u001b[0m\u001b[0msrcList\u001b[0m\u001b[1;33m:\u001b[0m\u001b[1;33m\u001b[0m\u001b[0m\n",
      "\u001b[1;31mAssertionError\u001b[0m: v must have the correct number of data."
     ]
    }
   ],
   "source": [
    "finData = NSEM.Data(survey,run2Files[0]['dpred']).toRecArray('Complex')"
   ]
  },
  {
   "cell_type": "markdown",
   "metadata": {},
   "source": [
    "## run3"
   ]
  },
  {
   "cell_type": "code",
   "execution_count": 17,
   "metadata": {
    "collapsed": true
   },
   "outputs": [],
   "source": [
    "run3Files = loadInversionMakeVTRFiles('run3',mesh,mappingExpAct)"
   ]
  },
  {
   "cell_type": "code",
   "execution_count": 18,
   "metadata": {
    "collapsed": false
   },
   "outputs": [
    {
     "data": {
      "image/png": "[encoded data removed]",
      "text/plain": [
       "<matplotlib.figure.Figure at 0x7f2fe4228c90>"
      ]
     },
     "metadata": {},
     "output_type": "display_data"
    }
   ],
   "source": [
    "%matplotlib inline\n",
    "convergeCurves(run3Files)"
   ]
  },
  {
   "cell_type": "markdown",
   "metadata": {},
   "source": [
    "## run4"
   ]
  },
  {
   "cell_type": "code",
   "execution_count": 15,
   "metadata": {
    "collapsed": true
   },
   "outputs": [],
   "source": [
    "run4Files = loadInversionMakeVTRFiles('run4',mesh,mappingExpAct)"
   ]
  },
  {
   "cell_type": "code",
   "execution_count": 16,
   "metadata": {
    "collapsed": false
   },
   "outputs": [
    {
     "data": {
      "image/png": "[encoded data removed]",
      "text/plain": [
       "<matplotlib.figure.Figure at 0x7f2fc66037d0>"
      ]
     },
     "metadata": {},
     "output_type": "display_data"
    }
   ],
   "source": [
    "%matplotlib inline\n",
    "convergeCurves(run4Files)"
   ]
  },
  {
   "cell_type": "code",
   "execution_count": null,
   "metadata": {
    "collapsed": true
   },
   "outputs": [],
   "source": []
  },
  {
   "cell_type": "code",
   "execution_count": null,
   "metadata": {
    "collapsed": true
   },
   "outputs": [],
   "source": []
  }
 ],
 "metadata": {
  "kernelspec": {
   "display_name": "Python 2",
   "language": "python",
   "name": "python2"
  },
  "language_info": {
   "codemirror_mode": {
    "name": "ipython",
    "version": 2
   },
   "file_extension": ".py",
   "mimetype": "text/x-python",
   "name": "python",
   "nbconvert_exporter": "python",
   "pygments_lexer": "ipython2",
   "version": "2.7.11"
  }
 },
 "nbformat": 4,
 "nbformat_minor": 0
}
