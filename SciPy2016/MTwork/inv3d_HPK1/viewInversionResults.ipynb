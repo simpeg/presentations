{
 "cells": [
  {
   "cell_type": "code",
   "execution_count": 1,
   "metadata": {
    "collapsed": false
   },
   "outputs": [],
   "source": [
    "import SimPEG as simpeg\n",
    "from SimPEG import NSEM\n",
    "from glob import glob\n",
    "import numpy as np, sys, matplotlib.pyplot as plt\n",
    "# sys.path.append('/home/gudni/Dropbox/Work/UBCwork/SyntheticModels/SynGeothermalStructures/ThesisModels')\n",
    "# import synhelpFunc"
   ]
  },
  {
   "cell_type": "code",
   "execution_count": 2,
   "metadata": {
    "collapsed": true
   },
   "outputs": [],
   "source": [
    "def convergeCurves(resList):\n",
    "    its  = np.array([res['iter'] for res in resList]).T\n",
    "    ind = np.argsort(its)\n",
    "    phid = np.array([res['phi_d'] for res in resList]).T\n",
    "    phim = np.array([res['phi_m'] for res in resList]).T\n",
    "    x = np.arange(len(its))\n",
    "    fig, ax1 = plt.subplots()\n",
    "    ax1.semilogy(x,phid[ind],'bx--')\n",
    "    ax1.set_ylabel('phi_d', color='b')\n",
    "    plt.hlines(len(resList[0]['dpred'])*.75,0,len(x),colors='g',linestyles='-.')\n",
    "    for tl in ax1.get_yticklabels():\n",
    "        tl.set_color('b')\n",
    "    ax2 = ax1.twinx()          \n",
    "    ax2.semilogy(x,phim[ind],'rx--',)\n",
    "    ax2.set_ylabel('phi_m', color='r')\n",
    "    for tl in ax2.get_yticklabels():\n",
    "        tl.set_color('r')\n",
    "    plt.show()\n",
    "    \n",
    "def tikanovCurve(resList):\n",
    "    its  = np.array([res['iter'] for res in resList]).T\n",
    "    ind = np.argsort(its)\n",
    "    phid = np.array([res['phi_d'] for res in resList]).T\n",
    "    phim = np.array([res['phi_m'] for res in resList]).T\n",
    "    x = np.arange(len(its))\n",
    "    fig, ax1 = plt.subplots()\n",
    "    ax1.loglog(phim[ind],phid[ind],'bx--')\n",
    "    ax1.set_ylabel('phi_d')\n",
    "    ax1.set_xlabel('phi_m')\n",
    "    plt.hlines(len(resList[0]['dpred'])*.75,np.min(phim),np.max(phim),colors='g',linestyles='-.')\n",
    "    plt.show()\n",
    "    \n",
    "def allconvergeCurves(resList):\n",
    "    its  = np.array([res['iter'] for res in resList]).T\n",
    "    ind = np.argsort(its)\n",
    "    phid = np.array([res['phi_d'] for res in resList]).T\n",
    "    phim = np.array([res['phi_m'] for res in resList]).T\n",
    "    phims = np.array([res['phi_ms'] for res in resList]).T\n",
    "    phimx = np.array([res['phi_mx'] for res in resList]).T\n",
    "    phimy = np.array([res['phi_my'] for res in resList]).T\n",
    "    phimz = np.array([res['phi_mz'] for res in resList]).T\n",
    "    x = np.arange(len(its))\n",
    "    fig, ax1 = plt.subplots()\n",
    "    ax1.semilogy(x,phid[ind],'bx--',label='phid')\n",
    "    ax1.set_ylabel('phi_d', color='b')\n",
    "    plt.hlines(len(resList[0]['dpred'])*.75,0,len(x),colors='g',linestyles='-.')\n",
    "    for tl in ax1.get_yticklabels():\n",
    "        tl.set_color('b')         \n",
    "    ax1.semilogy(x,phim[ind],'gx--',label='phim')\n",
    "    ax1.semilogy(x,phims[ind],'y,--',label='phims')\n",
    "    ax1.semilogy(x,phimx[ind],'r.--',label='phimx')\n",
    "    ax1.semilogy(x,phimy[ind],'r+--',label='phimy')\n",
    "    ax1.semilogy(x,phimz[ind],'r*--',label='phimz')\n",
    "    \n",
    "    plt.legend()\n",
    "    plt.show()\n",
    "\n",
    "def loadInversionMakeVTRFiles(dirStr,mesh,mapping):\n",
    "    iterResults = [np.load(f) for f in glob(dirStr+'/*Inversion*.npz')]\n",
    "    # Make the vtk models\n",
    "    for it in iterResults:\n",
    "        mesh.writeVTK(dirStr+'/recoveredMod_{:s}_it{:.0f}.vtr'.format(dirStr,int(it['iter'])),{'S/m':mapping*it['m']})\n",
    "    return iterResults"
   ]
  },
  {
   "cell_type": "code",
   "execution_count": 3,
   "metadata": {
    "collapsed": true
   },
   "outputs": [],
   "source": [
    "# Load the model\n",
    "mesh, modDict = simpeg.Mesh.TensorMesh.readVTK('../nsmesh_HPVK1_inv.vtr')\n",
    "sigma = modDict['S/m']"
   ]
  },
  {
   "cell_type": "code",
   "execution_count": 4,
   "metadata": {
    "collapsed": false
   },
   "outputs": [],
   "source": [
    "# Make the mapping\n",
    "active = sigma != 1e-8\n",
    "actMap = simpeg.Maps.InjectActiveCells(mesh, active, np.log(1e-8), nC=mesh.nC)\n",
    "mappingExpAct = simpeg.Maps.ExpMap(mesh) * actMap"
   ]
  },
  {
   "cell_type": "code",
   "execution_count": 5,
   "metadata": {
    "collapsed": false
   },
   "outputs": [],
   "source": [
    "# Load the data\n",
    "drecAll = np.load('../MTdataStArr_nsmesh_HKPK1.npy')\n",
    "# Select larger frequency band for the MT data\n",
    "indMTFreq = np.sum([drecAll['freq'] == val for val in  np.unique(drecAll['freq'])[::2] ],axis=0,dtype=bool)\n",
    "mtRecArr = drecAll[indMTFreq][['freq','x','y','z','zxy','zyx']]\n",
    "dUse = NSEM.Data.fromRecArray(mtRecArr)\n",
    "# Extract to survey\n",
    "survey = dUse.survey"
   ]
  },
  {
   "cell_type": "markdown",
   "metadata": {},
   "source": [
    "### run1\n"
   ]
  },
  {
   "cell_type": "code",
   "execution_count": 6,
   "metadata": {
    "collapsed": false
   },
   "outputs": [],
   "source": [
    "run1Files = loadInversionMakeVTRFiles('run1',mesh,mappingExpAct)"
   ]
  },
  {
   "cell_type": "code",
   "execution_count": 45,
   "metadata": {
    "collapsed": false
   },
   "outputs": [
    {
     "name": "stdout",
     "output_type": "stream",
     "text": [
      "001-InversionModel-2016-05-27-12-14.npz  recoveredMod_run1_it10.vtr\r\n",
      "002-InversionModel-2016-05-27-12-14.npz  recoveredMod_run1_it11.vtr\r\n",
      "003-InversionModel-2016-05-27-12-14.npz  recoveredMod_run1_it12.vtr\r\n",
      "004-InversionModel-2016-05-27-12-14.npz  recoveredMod_run1_it13.vtr\r\n",
      "005-InversionModel-2016-05-27-12-14.npz  recoveredMod_run1_it14.vtr\r\n",
      "006-InversionModel-2016-05-27-12-14.npz  recoveredMod_run1_it15.vtr\r\n",
      "007-InversionModel-2016-05-27-12-14.npz  recoveredMod_run1_it16.vtr\r\n",
      "008-InversionModel-2016-05-27-12-14.npz  recoveredMod_run1_it17.vtr\r\n",
      "009-InversionModel-2016-05-27-12-14.npz  recoveredMod_run1_it18.vtr\r\n",
      "010-InversionModel-2016-05-27-12-14.npz  recoveredMod_run1_it19.vtr\r\n",
      "011-InversionModel-2016-05-27-12-14.npz  recoveredMod_run1_it1.vtr\r\n",
      "012-InversionModel-2016-05-27-12-14.npz  recoveredMod_run1_it20.vtr\r\n",
      "013-InversionModel-2016-05-27-12-14.npz  recoveredMod_run1_it21.vtr\r\n",
      "014-InversionModel-2016-05-27-12-14.npz  recoveredMod_run1_it22.vtr\r\n",
      "015-InversionModel-2016-05-27-12-14.npz  recoveredMod_run1_it23.vtr\r\n",
      "016-InversionModel-2016-05-27-12-14.npz  recoveredMod_run1_it24.vtr\r\n",
      "017-InversionModel-2016-05-27-12-14.npz  recoveredMod_run1_it2.vtr\r\n",
      "018-InversionModel-2016-05-27-12-14.npz  recoveredMod_run1_it3.vtr\r\n",
      "019-InversionModel-2016-05-27-12-14.npz  recoveredMod_run1_it4.vtr\r\n",
      "020-InversionModel-2016-05-27-12-14.npz  recoveredMod_run1_it5.vtr\r\n",
      "021-InversionModel-2016-05-27-12-14.npz  recoveredMod_run1_it6.vtr\r\n",
      "022-InversionModel-2016-05-27-12-14.npz  recoveredMod_run1_it7.vtr\r\n",
      "023-InversionModel-2016-05-27-12-14.npz  recoveredMod_run1_it8.vtr\r\n",
      "024-InversionModel-2016-05-27-12-14.npz  recoveredMod_run1_it9.vtr\r\n",
      "findDiam_inversion.py\r\n"
     ]
    }
   ],
   "source": [
    "ls run1"
   ]
  },
  {
   "cell_type": "code",
   "execution_count": 46,
   "metadata": {
    "collapsed": false
   },
   "outputs": [
    {
     "data": {
      "image/png": "[encoded data removed]",
      "text/plain": [
       "<matplotlib.figure.Figure at 0x7f9714e2bf90>"
      ]
     },
     "metadata": {},
     "output_type": "display_data"
    }
   ],
   "source": [
    "%matplotlib inline\n",
    "convergeCurves(run1Files)"
   ]
  },
  {
   "cell_type": "code",
   "execution_count": 25,
   "metadata": {
    "collapsed": false
   },
   "outputs": [
    {
     "data": {
      "text/plain": [
       "[array(11),\n",
       " array(1),\n",
       " array(9),\n",
       " array(5),\n",
       " array(8),\n",
       " array(4),\n",
       " array(6),\n",
       " array(7),\n",
       " array(10),\n",
       " array(2),\n",
       " array(3)]"
      ]
     },
     "execution_count": 25,
     "metadata": {},
     "output_type": "execute_result"
    }
   ],
   "source": [
    "[res['iter'] for res in run1Files]"
   ]
  },
  {
   "cell_type": "code",
   "execution_count": 7,
   "metadata": {
    "collapsed": true
   },
   "outputs": [],
   "source": [
    "%matplotlib qt\n",
    "sys.path.append('/home/gudni/Dropbox/code/python/MTview/')\n",
    "import interactivePlotFunctions as iPf"
   ]
  },
  {
   "cell_type": "code",
   "execution_count": 8,
   "metadata": {
    "collapsed": false
   },
   "outputs": [
    {
     "name": "stderr",
     "output_type": "stream",
     "text": [
      "/home/gudni/anaconda2/lib/python2.7/site-packages/numpy/ma/core.py:2915: FutureWarning: Numpy has detected that you (may be) writing to an array returned\n",
      "by numpy.diagonal or by selecting multiple fields in a structured\n",
      "array. This code will likely break in a future numpy release --\n",
      "see numpy.diagonal or arrays.indexing reference docs for details.\n",
      "The quick fix is to make an explicit copy (e.g., do\n",
      "arr.diagonal().copy() or arr[['f0','f1']].copy()).\n",
      "  if (obj.__array_interface__[\"data\"][0]\n",
      "/home/gudni/anaconda2/lib/python2.7/site-packages/numpy/ma/core.py:2916: FutureWarning: Numpy has detected that you (may be) writing to an array returned\n",
      "by numpy.diagonal or by selecting multiple fields in a structured\n",
      "array. This code will likely break in a future numpy release --\n",
      "see numpy.diagonal or arrays.indexing reference docs for details.\n",
      "The quick fix is to make an explicit copy (e.g., do\n",
      "arr.diagonal().copy() or arr[['f0','f1']].copy()).\n",
      "  != self.__array_interface__[\"data\"][0]):\n"
     ]
    }
   ],
   "source": [
    "finData = NSEM.Data(survey,run1Files[0]['dpred']).toRecArray('Complex')"
   ]
  },
  {
   "cell_type": "code",
   "execution_count": 12,
   "metadata": {
    "collapsed": false
   },
   "outputs": [
    {
     "data": {
      "text/plain": [
       "<interactivePlotFunctions.MTinteractiveMap at 0x7f69e3a2c350>"
      ]
     },
     "execution_count": 12,
     "metadata": {},
     "output_type": "execute_result"
    }
   ],
   "source": [
    "%matplotlib qt\n",
    "iPf.MTinteractiveMap([dUse.toRecArray('Complex'),finData])"
   ]
  },
  {
   "cell_type": "code",
   "execution_count": 19,
   "metadata": {
    "collapsed": false
   },
   "outputs": [
    {
     "data": {
      "text/plain": [
       "array([ -1.12913682,  -1.0547609 ,  -0.91376578, ...,  20.59292622,\n",
       "        21.43811444,  26.946862  ])"
      ]
     },
     "execution_count": 19,
     "metadata": {},
     "output_type": "execute_result"
    }
   ],
   "source": []
  },
  {
   "cell_type": "markdown",
   "metadata": {
    "collapsed": true
   },
   "source": [
    "### run2"
   ]
  },
  {
   "cell_type": "code",
   "execution_count": 39,
   "metadata": {
    "collapsed": true
   },
   "outputs": [],
   "source": [
    "run2Files = loadInversionMakeVTRFiles('run2',mesh,mappingExpAct)"
   ]
  },
  {
   "cell_type": "code",
   "execution_count": 52,
   "metadata": {
    "collapsed": false
   },
   "outputs": [
    {
     "ename": "IndexError",
     "evalue": "list index out of range",
     "output_type": "error",
     "traceback": [
      "\u001b[1;31m---------------------------------------------------------------------------\u001b[0m",
      "\u001b[1;31mIndexError\u001b[0m                                Traceback (most recent call last)",
      "\u001b[1;32m<ipython-input-52-f687ca709fc7>\u001b[0m in \u001b[0;36m<module>\u001b[1;34m()\u001b[0m\n\u001b[0;32m      1\u001b[0m \u001b[0mget_ipython\u001b[0m\u001b[1;33m(\u001b[0m\u001b[1;33m)\u001b[0m\u001b[1;33m.\u001b[0m\u001b[0mmagic\u001b[0m\u001b[1;33m(\u001b[0m\u001b[1;34mu'matplotlib inline'\u001b[0m\u001b[1;33m)\u001b[0m\u001b[1;33m\u001b[0m\u001b[0m\n\u001b[1;32m----> 2\u001b[1;33m \u001b[0mconvergeCurves\u001b[0m\u001b[1;33m(\u001b[0m\u001b[0mrun2Files\u001b[0m\u001b[1;33m)\u001b[0m\u001b[1;33m\u001b[0m\u001b[0m\n\u001b[0m",
      "\u001b[1;32m<ipython-input-2-4eaff5345286>\u001b[0m in \u001b[0;36mconvergeCurves\u001b[1;34m(resList)\u001b[0m\n\u001b[0;32m      8\u001b[0m     \u001b[0max1\u001b[0m\u001b[1;33m.\u001b[0m\u001b[0msemilogy\u001b[0m\u001b[1;33m(\u001b[0m\u001b[0mx\u001b[0m\u001b[1;33m,\u001b[0m\u001b[0mphid\u001b[0m\u001b[1;33m[\u001b[0m\u001b[0mind\u001b[0m\u001b[1;33m]\u001b[0m\u001b[1;33m,\u001b[0m\u001b[1;34m'bx--'\u001b[0m\u001b[1;33m)\u001b[0m\u001b[1;33m\u001b[0m\u001b[0m\n\u001b[0;32m      9\u001b[0m     \u001b[0max1\u001b[0m\u001b[1;33m.\u001b[0m\u001b[0mset_ylabel\u001b[0m\u001b[1;33m(\u001b[0m\u001b[1;34m'phi_d'\u001b[0m\u001b[1;33m,\u001b[0m \u001b[0mcolor\u001b[0m\u001b[1;33m=\u001b[0m\u001b[1;34m'b'\u001b[0m\u001b[1;33m)\u001b[0m\u001b[1;33m\u001b[0m\u001b[0m\n\u001b[1;32m---> 10\u001b[1;33m     \u001b[0mplt\u001b[0m\u001b[1;33m.\u001b[0m\u001b[0mhlines\u001b[0m\u001b[1;33m(\u001b[0m\u001b[0mlen\u001b[0m\u001b[1;33m(\u001b[0m\u001b[0mresList\u001b[0m\u001b[1;33m[\u001b[0m\u001b[1;36m0\u001b[0m\u001b[1;33m]\u001b[0m\u001b[1;33m[\u001b[0m\u001b[1;34m'dpred'\u001b[0m\u001b[1;33m]\u001b[0m\u001b[1;33m)\u001b[0m\u001b[1;33m*\u001b[0m\u001b[1;36m.75\u001b[0m\u001b[1;33m,\u001b[0m\u001b[1;36m0\u001b[0m\u001b[1;33m,\u001b[0m\u001b[0mlen\u001b[0m\u001b[1;33m(\u001b[0m\u001b[0mx\u001b[0m\u001b[1;33m)\u001b[0m\u001b[1;33m,\u001b[0m\u001b[0mcolors\u001b[0m\u001b[1;33m=\u001b[0m\u001b[1;34m'g'\u001b[0m\u001b[1;33m,\u001b[0m\u001b[0mlinestyles\u001b[0m\u001b[1;33m=\u001b[0m\u001b[1;34m'-.'\u001b[0m\u001b[1;33m)\u001b[0m\u001b[1;33m\u001b[0m\u001b[0m\n\u001b[0m\u001b[0;32m     11\u001b[0m     \u001b[1;32mfor\u001b[0m \u001b[0mtl\u001b[0m \u001b[1;32min\u001b[0m \u001b[0max1\u001b[0m\u001b[1;33m.\u001b[0m\u001b[0mget_yticklabels\u001b[0m\u001b[1;33m(\u001b[0m\u001b[1;33m)\u001b[0m\u001b[1;33m:\u001b[0m\u001b[1;33m\u001b[0m\u001b[0m\n\u001b[0;32m     12\u001b[0m         \u001b[0mtl\u001b[0m\u001b[1;33m.\u001b[0m\u001b[0mset_color\u001b[0m\u001b[1;33m(\u001b[0m\u001b[1;34m'b'\u001b[0m\u001b[1;33m)\u001b[0m\u001b[1;33m\u001b[0m\u001b[0m\n",
      "\u001b[1;31mIndexError\u001b[0m: list index out of range"
     ]
    },
    {
     "data": {
      "image/png": "[encoded data removed]",
      "text/plain": [
       "<matplotlib.figure.Figure at 0x7f96f1ef8190>"
      ]
     },
     "metadata": {},
     "output_type": "display_data"
    }
   ],
   "source": [
    "%matplotlib inline\n",
    "convergeCurves(run2Files)"
   ]
  },
  {
   "cell_type": "code",
   "execution_count": null,
   "metadata": {
    "collapsed": true
   },
   "outputs": [],
   "source": []
  }
 ],
 "metadata": {
  "kernelspec": {
   "display_name": "Python 2",
   "language": "python",
   "name": "python2"
  },
  "language_info": {
   "codemirror_mode": {
    "name": "ipython",
    "version": 2
   },
   "file_extension": ".py",
   "mimetype": "text/x-python",
   "name": "python",
   "nbconvert_exporter": "python",
   "pygments_lexer": "ipython2",
   "version": "2.7.11"
  }
 },
 "nbformat": 4,
 "nbformat_minor": 0
}
