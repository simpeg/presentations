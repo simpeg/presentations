{
 "cells": [
  {
   "cell_type": "code",
   "execution_count": 3,
   "metadata": {
    "collapsed": false
   },
   "outputs": [
    {
     "name": "stderr",
     "output_type": "stream",
     "text": [
      "/Applications/Anaconda/anaconda/lib/python2.7/site-packages/matplotlib/font_manager.py:273: UserWarning: Matplotlib is building the font cache using fc-list. This may take a moment.\n",
      "  warnings.warn('Matplotlib is building the font cache using fc-list. This may take a moment.')\n"
     ]
    }
   ],
   "source": [
    "import SimPEG as simpeg\n",
    "from SimPEG import NSEM\n",
    "from glob import glob\n",
    "import numpy as np, sys, matplotlib.pyplot as plt\n",
    "# sys.path.append('/home/gudni/Dropbox/Work/UBCwork/SyntheticModels/SynGeothermalStructures/ThesisModels')\n",
    "# import synhelpFunc\n",
    "%matplotlib inline"
   ]
  },
  {
   "cell_type": "code",

   "execution_count": 4,
   "metadata": {
    "collapsed": false
   },
   "outputs": [],
   "source": [
    "def convergeCurves(resList,ax1,ax2,color1,color2,fontsize):\n",
    "    its  = np.array([res['iter'] for res in resList]).T\n",
    "    ind = np.argsort(its)\n",
    "    phid = np.array([res['phi_d'] for res in resList]).T\n",
    "    try:\n",
    "        phim = np.array([res['phi_m'] for res in resList]).T\n",
    "    except:\n",
    "        phim = np.array([res['phi_ms'] for res in resList]).T + np.array([res['phi_mx'] for res in resList]).T + np.array([res['phi_my'] for res in resList]).T + np.array([res['phi_mz'] for res in resList]).T     \n",
    "    x = np.arange(len(its))\n",
    "\n",
    "    ax1.set_title('Data misfit $\\phi_d$ and regularization $\\phi_m$',fontsize=fontsize)\n",
    "    ax1.semilogy(x,phid[ind],'o--',color=color1)\n",
    "    ax1.set_ylabel('$\\phi_d$',fontsize=fontsize)\n",
    "    ax1.hlines(len(resList[0]['dpred'])*.5,0,len(x),colors='black',linestyles='-.')\n",
    "    #for tl in ax1.get_yticklabels():\n",
    "    #    tl.set_color(color1)\n",
    "         \n",
    "    ax2.semilogy(x,phim[ind],'x--',color=color2)\n",
    "    ax2.set_ylabel('$\\phi_m$',fontsize=fontsize)\n",
    "    #for tl in ax2.get_yticklabels():\n",
    "    #    tl.set_color(color2)\n",
    "    ax1.set_xlabel('iteration',fontsize=fontsize)\n",
    "    \n",
    "    ax1.tick_params(axis='x',labelsize=fontsize)\n",
    "    ax1.tick_params(axis='y',labelsize=fontsize)\n",
    "    ax2.tick_params(axis='y',labelsize=fontsize)\n",
    "    \n",
    "    return ax1,ax2\n",
    "    \n",
    "def tikanovCurve(resList):\n",
    "    its  = np.array([res['iter'] for res in resList]).T\n",
    "    ind = np.argsort(its)\n",
    "    phid = np.array([res['phi_d'] for res in resList]).T\n",
    "    phim = np.array([res['phi_m'] for res in resList]).T\n",
    "    x = np.arange(len(its))\n",
    "    fig, ax1 = plt.subplots()\n",
    "    ax1.loglog(phim[ind],phid[ind],'bx--')\n",
    "    ax1.set_ylabel('phi_d')\n",
    "    ax1.set_xlabel('phi_m')\n",
    "    plt.hlines(len(resList[0]['dpred'])*.75,np.min(phim),np.max(phim),colors='g',linestyles='-.')\n",
    "    plt.show()\n",
    "    \n",
    "def allconvergeCurves(resList):\n",
    "    its  = np.array([res['iter'] for res in resList]).T\n",
    "    ind = np.argsort(its)\n",
    "    phid = np.array([res['phi_d'] for res in resList]).T\n",
    "    #phim = np.array([res['phi_m'] for res in resList]).T\n",
    "    phims = np.array([res['phi_ms'] for res in resList]).T\n",
    "    phimx = np.array([res['phi_mx'] for res in resList]).T\n",
    "    phimy = np.array([res['phi_my'] for res in resList]).T\n",
    "    phimz = np.array([res['phi_mz'] for res in resList]).T\n",
    "    x = np.arange(len(its))\n",
    "    fig, ax1 = plt.subplots()\n",
    "    ax1.semilogy(x,phid[ind],'bx--',label='phid')\n",
    "    ax1.set_ylabel('phi_d', color='b')\n",
    "    plt.hlines(len(resList[0]['dpred'])*.5,0,len(x),colors='g',linestyles='-.')\n",
    "    ax1.set_ylabel('phi_d', color='b',fontsize=fontsize)\n",
    "    \n",
    "    plt.hlines(len(resList[0]['dpred'])*.75,0,len(x),colors='g',linestyles='-.')\n",
    "    for tl in ax1.get_yticklabels():\n",
    "        tl.set_color('b')         \n",
    "    #ax1.semilogy(x,phim[ind],'gx--',label='phim')\n",
    "    ax1.semilogy(x,phims[ind],'y,--',label='phims')\n",
    "    ax1.semilogy(x,phimx[ind],'r.--',label='phimx')\n",
    "    ax1.semilogy(x,phimy[ind],'r+--',label='phimy')\n",
    "    ax1.semilogy(x,phimz[ind],'r*--',label='phimz')\n",
    "    \n",
    "    plt.legend()\n",
    "    plt.show()\n",
    "\n",
    "def loadInversionMakeVTRFiles(dirStr,mesh,mapping):\n",
    "    temp = [np.load(f) for f in glob(dirStr+'/*Inversion*.npz')]\n",
    "    iterResults = [i if len(i.keys()) > 1 else i['arr_0'].tolist() for i in temp ]\n",
    "    # Make the vtk models\n",
    "    for it in iterResults:\n",
    "        mesh.writeVTK(dirStr+'/recoveredMod_{:s}_it{:.0f}.vtr'.format(dirStr,int(it['iter'])),{'S/m':mapping*it['m']})\n",
    "    return iterResults\n",
    "\n",
    "def getDataInfo(MTdata):\n",
    "\n",
    "    dL, freqL, rxTL = [], [], []\n",
    "\n",
    "    for src in MTdata.survey.srcList:\n",
    "        for rx in src.rxList:\n",
    "            dL.append(MTdata[src,rx])\n",
    "            freqL.append(np.ones(rx.nD)*src.freq)\n",
    "            rxTL.extend( ((rx.rxType+' ')*rx.nD).split())\n",
    "    return np.concatenate(dL), np.concatenate(freqL), np.array(rxTL)\n"
   ]
  },
  {
   "cell_type": "code",
   "execution_count": 5,
   "metadata": {
    "collapsed": true
   },
   "outputs": [],
   "source": [
    "# Load the model\n",
    "mesh, modDict = simpeg.Mesh.TensorMesh.readVTK('../ForwardModeling_noExtension_Coarse/nsmesh_CoarseHKPK1_NoExtension.vtr')\n",
    "sigma = modDict['S/m']"
   ]
  },
  {
   "cell_type": "code",
   "execution_count": 6,
   "metadata": {
    "collapsed": false
   },
   "outputs": [],
   "source": [
    "# Make the mapping\n",
    "active = sigma != 1e-8\n",
    "actMap = simpeg.Maps.InjectActiveCells(mesh, active, np.log(1e-8), nC=mesh.nC)\n",
    "mappingExpAct = simpeg.Maps.ExpMap(mesh) * actMap"
   ]
  },
  {
   "cell_type": "markdown",
   "metadata": {},
   "source": [
    "### Run_thibaut4_offdiagonal inversion"
   ]
  },
  {
   "cell_type": "code",
   "execution_count": 7,
   "metadata": {
    "collapsed": false
   },
   "outputs": [],
   "source": [
    "# Load the off-diagonal observed data\n",
    "drecAll = np.load('./run_thibaut4_off/MTdataStArr_nsmesh_HKPK1Coarse_noExtension.npy')\n",
    "# Select larger frequency band for the MT data\n",
    "indMTFreq = np.sum([drecAll['freq'] == val for val in  np.unique(drecAll['freq'])],axis=0,dtype=bool)\n",
    "mtRecArr = drecAll[indMTFreq][['freq','x','y','z','zxy','zyx']]\n",
    "dUse = NSEM.Data.fromRecArray(mtRecArr)\n",
    "# Extract to survey\n",
    "survey = dUse.survey"
   ]
  },
  {
   "cell_type": "code",
   "execution_count": 66,
   "metadata": {
    "collapsed": false
   },
   "outputs": [],
   "source": [
    "#Extract the structure of the observed data and reproduce the error tolerances\n",
    "\n",
    "dobs, freqArr, rxT = getDataInfo(dUse)\n",
    "# Set the data\n",
    "\n",
    "survey.dobs = dobs\n",
    "\n",
    "#Find index of each type of data\n",
    "offind = np.array([('zxy' in l or 'zyx' in l) for l in rxT],bool)\n",
    "tipind = np.array([('tzy' in l or 'tzx' in l) for l in rxT],bool)\n",
    "\n",
    "#Check if we got all data type covered\n",
    "assert (offind + tipind).all() , 'Some indicies not included'\n",
    "\n",
    "#Initialize std\n",
    "std = np.zeros_like(dobs) # 5% on all off-diagonals\n",
    "\n",
    "#Std for off diagonal 5% + 0.001*median floor\n",
    "std = np.abs(survey.dobs*0.05)\n",
    "\n",
    "#std for tipper: floor of 0.001*median\n",
    "#std[tipind] = np.abs(np.median(survey.dobs[tipind])*0.001)\n",
    "# std[np.array([ ('xx' in l or 'yy' in l) for l in rxT])] = 0.15 # 15% on the on-diagonal\n",
    "survey.std = std \n",
    "# Estimate a floor for the data.\n",
    "# Use the 10% of the mean of the off-diagonals for each frequency\n",
    "#onind = np.array([('zxx' in l or 'zyy' in l) for l in rxT],bool)\n",
    "\n",
    "floor = np.zeros_like(dobs)\n",
    "#floortip = 0.001\n",
    "\n",
    "for f in np.unique(freqArr):\n",
    "    freqInd = freqArr == f\n",
    "    floorFreq = floor[freqInd]\n",
    "    offD = np.sort(np.abs(dobs[freqInd*offind]))\n",
    "    floor[freqInd] = 0.001*np.mean(offD)\n",
    "    # onD = np.sort(np.abs(dobs[freqInd*onind]))\n",
    "    # floor[freqInd*onind] = 0.1*np.mean(onD)\n",
    "\n",
    "#floor[tipind] = floortip\n",
    "\n",
    "# Assign the data weight\n",
    "Wd = 1./(survey.std + floor)\n",
    "\n",
    "eps=(survey.std + floor)"
   ]
  },
  {
   "cell_type": "code",
   "execution_count": 9,
   "metadata": {
    "collapsed": true
   },
   "outputs": [],
   "source": [
    "#Load the iterations from inversions\n",
    "runT4fFiles = loadInversionMakeVTRFiles('run_thibaut4_off',mesh,mappingExpAct)"
   ]
  },
  {
   "cell_type": "code",
   "execution_count": 10,
   "metadata": {
    "collapsed": false
   },
   "outputs": [
    {
     "name": "stdout",
     "output_type": "stream",
     "text": [
      "{'dpred': array([ -3.24781003,  -2.8784831 ,  -2.48161968, ...,  27.30599333,\n",
      "        29.03636921,  31.28780134]), 'f': 15395.506490029129, 'm': array([-9.21095429, -9.21107076, -9.21115512, ..., -9.21775515,\n",
      "       -9.21870692, -9.21962864]), 'iter': 18, 'beta': 0.00024568852665015755, 'phi_my': 8940.5940464691121, 'phi_d': 14356.7114247545, 'phi_mz': 37163.51463371898, 'phi_ms': 357.1547391768604, 'phi_mx': 8041.8808941840671}\n"
     ]
    }
   ],
   "source": [
    "print runT4fFiles[-1]"
   ]
  },
  {
   "cell_type": "code",
   "execution_count": 11,
   "metadata": {
    "collapsed": true
   },
   "outputs": [],
   "source": [
    "#extract last dpred\n",
    "dpred = runT4fFiles[-1]['dpred']"
   ]
  },
  {
   "cell_type": "code",
   "execution_count": 12,
   "metadata": {
    "collapsed": false
   },
   "outputs": [
    {
     "data": {
      "text/plain": [
       "18"
      ]
     },
     "execution_count": 12,
     "metadata": {},
     "output_type": "execute_result"
    }
   ],
   "source": [
    "runT4fFiles[-1]['iter']"
   ]
  },
  {
   "cell_type": "code",
   "execution_count": 14,
   "metadata": {
    "collapsed": false
   },
   "outputs": [],
   "source": [
    "# Load the tipper data\n",
    "drecAllt = np.load('./run_thibaut4_tip/MTdataStArr_nsmesh_HKPK1Coarse_noExtension.npy')\n",
    "# Select larger frequency band for the MT data\n",
    "indMTFreqt = np.sum([drecAllt['freq'] == val for val in  np.unique(drecAllt['freq'])],axis=0,dtype=bool)\n",
    "mtRecArrt = drecAllt[indMTFreqt][['freq','x','y','z','tzx','tzy']]\n",
    "dUset = NSEM.Data.fromRecArray(mtRecArrt)\n",
    "# Extract to survey\n",
    "survey = dUset.survey\n",
    "\n",
    "# # Add noise to the data\n",
    "dobst, freqArr, rxT = getDataInfo(dUset)\n",
    "# Set the data\n",
    "\n",
    "survey.dobs = dobst\n",
    "# Assign std based on- and off-diagonal parts of the impedance tensor\n",
    "std = np.ones_like(dobst)*.05 # 5% on all off-diagonals\n",
    "# std[np.array([ ('xx' in l or 'yy' in l) for l in rxT])] = 0.15 # 15% on the on-diagonal\n",
    "survey.std = np.abs(survey.dobs*std) #+ 0.01*np.linalg.norm(survey.dobs) #survey.dobs*0 + std\n",
    "# Estimate a floor for the data.\n",
    "# Use the 10% of the mean of the off-diagonals for each frequency\n",
    "floor = np.zeros_like(dobst)\n",
    "offind = np.array([('zxy' in l or 'zyx' in l) for l in rxT],bool)\n",
    "onind = np.array([('zxx' in l or 'zyy' in l) for l in rxT],bool)\n",
    "tipind = np.array([('tzx' in l or 'tzy' in l) for l in rxT],bool)\n",
    "\n",
    "assert (offind+tipind+onind).all()\n",
    "\n",
    "for f in np.unique(freqArr):\n",
    "    freqInd = freqArr == f\n",
    "    floorFreq = floor[freqInd]\n",
    "    offD = np.sort(np.abs(dobst[freqInd*offind]))\n",
    "    floor[freqInd] = 0.0001*np.mean(offD)\n",
    "    onD = np.sort(np.abs(dobst[freqInd*onind]))\n",
    "    floor[freqInd*onind] = 0.1*np.mean(onD)\n",
    "    # Constant floor for the tipper.\n",
    "    floor[freqInd*tipind] = 0.001\n",
    "\n",
    "# Assign the data weight\n",
    "Wd = 1./(survey.std + floor)\n",
    "\n",
    "epst=(survey.std + floor)"
   ]
  },
  {
   "cell_type": "code",
   "execution_count": 15,
   "metadata": {
    "collapsed": true
   },
   "outputs": [],
   "source": [
    "#load tipper inversion\n",
    "runT4tFiles = loadInversionMakeVTRFiles('run_thibaut4_tip',mesh,mappingExpAct)"
   ]
  },
  {
   "cell_type": "code",
   "execution_count": 18,
   "metadata": {
    "collapsed": true
   },
   "outputs": [],
   "source": [
    "#extract final predicted data\n",
    "dpredt =runT4tFiles[-1]['dpred']"
   ]
  },
  {
   "cell_type": "code",
   "execution_count": 21,
   "metadata": {
    "collapsed": false
   },
   "outputs": [
    {
     "data": {
      "text/plain": [
       "36"
      ]
     },
     "execution_count": 21,
     "metadata": {},
     "output_type": "execute_result"
    }
   ],
   "source": [
    "runT4tFiles[-1]['iter']"
   ]
  },
  {
   "cell_type": "code",
   "execution_count": 23,
   "metadata": {
    "collapsed": false
   },
   "outputs": [],
   "source": [
    "#Normalized misfit\n",
    "phi_d = (dpred-dobs)/eps\n",
    "phi_d_t=(dpredt-dobst)/epst"
   ]
  },
  {
   "cell_type": "code",
   "execution_count": 24,
   "metadata": {
    "collapsed": false
   },
   "outputs": [
    {
     "data": {
      "image/png": "[encoded data removed]",
      "text/plain": [
       "<matplotlib.figure.Figure at 0x115b11e90>"
      ]
     },
     "metadata": {},
     "output_type": "display_data"
    }
   ],
   "source": [
    "#Visualisation Data Misfit\n",
    "fig=plt.figure(figsize=(10,5))\n",
    "ax=plt.subplot(111)\n",
    "\n",
    "n0 = ax.hist(phi_d,bins=50,color='blue')\n",
    "n1 = ax.hist(phi_d_t,bins=n0[1],color='green',alpha=0.7)\n",
    "\n",
    "ax.set_xlabel('Normalized misfit',fontsize=14)\n",
    "ax.set_ylabel('Count',fontsize=14)\n",
    "ax.set_title('Normalized data misfit $\\phi_d$ distribution',fontsize=16)\n",
    "ax.tick_params(axis='x',labelsize=14)\n",
    "ax.tick_params(axis='y',labelsize=14)\n",
    "ax.legend(('Off-diagonal','Tipper'),fontsize=14)\n",
    "\n",
    "fig.savefig('../Poster/MT_Normalized_misfit.png',dpi=300)"
   ]
  },
  {
   "cell_type": "code",
   "execution_count": 25,
   "metadata": {
    "collapsed": false
   },
   "outputs": [
    {
     "data": {
      "image/png": "[encoded data removed]",
      "text/plain": [
       "<matplotlib.figure.Figure at 0x11cc6e8d0>"
      ]
     },
     "metadata": {},
     "output_type": "display_data"
    }
   ],
   "source": [
    "fig, ax1 = plt.subplots(figsize=(8,8))\n",
    "ax2=ax1.twinx()\n",
    "convergeCurves(runT4fFiles,ax1,ax2,'b','b',fontsize=24)\n",
    "convergeCurves(runT4tFiles,ax1,ax2,'g','g',fontsize=24)\n",
    "ax1.legend(('$\\phi_d$ off-diagonal','$\\phi_d$ tipper'),loc='upper right', bbox_to_anchor=(1., 0.6),fontsize=20)\n",
    "ax2.legend(('$\\phi_m$ off-diagonal','$\\phi_m$ tipper'),loc=4,fontsize=20)\n",
    "plt.show()\n",
    "fig.savefig('../Poster/MT_convergenceCurves.png',dpi=300)"
   ]
  },
  {
   "cell_type": "code",
   "execution_count": 36,
   "metadata": {
    "collapsed": true
   },
   "outputs": [],
   "source": [
    "#Load Model\n",
    "mesh, modDict = simpeg.Mesh.TensorMesh.readVTK('../ForwardModeling_noExtension_Coarse/nsmesh_CoarseHKPK1_NoExtension.vtr')\n",
    "sigma = modDict['S/m']"
   ]
  },
  {
   "cell_type": "code",
   "execution_count": 37,
   "metadata": {
    "collapsed": false
   },
   "outputs": [],
   "source": [
    "#Load Model Off-diagonal\n",
    "mesh,inv= simpeg.Mesh.TensorMesh.readVTK('./run_thibaut4_off/recoveredMod_run_thibaut4_off_it18.vtr')\n",
    "siginv=inv['S/m']"
   ]
  },
  {
   "cell_type": "code",
   "execution_count": 38,
   "metadata": {
    "collapsed": true
   },
   "outputs": [],
   "source": [
    "#Load Model Tipper\n",
    "mesh,invtip= simpeg.Mesh.TensorMesh.readVTK('./run_thibaut4_tip/recoveredMod_run_thibaut4_tip_it36.vtr')\n",
    "siginvtip=invtip['S/m']"
   ]
  },
  {
   "cell_type": "code",
   "execution_count": 39,
   "metadata": {
    "collapsed": true
   },
   "outputs": [],
   "source": [
    "# Define the area of interest\n",
    "#bw, be = 557100, 557580\n",
    "#bs, bn = 7133340, 7133960 \n",
    "#bb, bt = 0,480"
   ]
  },
  {
   "cell_type": "code",
   "execution_count": 40,
   "metadata": {
    "collapsed": true
   },
   "outputs": [],
   "source": [
    "# Define the area of interest\n",
    "bw, be = 557100, 557580\n",
    "bs, bn = 7133340, 7133820 \n",
    "bb, bt = 0,480"
   ]
  },
  {
   "cell_type": "code",
   "execution_count": 41,
   "metadata": {
    "collapsed": false
   },
   "outputs": [
    {
     "data": {
      "image/png": "[encoded data removed]",
      "text/plain": [
       "<matplotlib.figure.Figure at 0x11ef84c50>"
      ]
     },
     "metadata": {},
     "output_type": "display_data"
    }
   ],
   "source": [
    "#Poster Figure\n",
    "\n",
    "vmin,vmax=-4,-1.3\n",
    "ticksize=14\n",
    "fontsize=14\n",
    "titlesize=16\n",
    "\n",
    "slice_ver=20\n",
    "slice_hor=40\n",
    "\n",
    "\n",
    "#fig, axes = plt.subplots(nrows=2, ncols=2,figsize=(16,12))#,sharex=True)\n",
    "#ax0=axes[0,0]\n",
    "#ax1=axes[0,1]\n",
    "#ax2=axes[1,0]\n",
    "#ax3=axes[1,1]\n",
    "fig = plt.figure(figsize=(15,10))\n",
    "ax0=plt.subplot2grid((12,18), (0, 0),colspan=6,rowspan=6)\n",
    "#ax4=plt.subplot2grid((10,12),(0,11),colspan=1,rowspan=10)\n",
    "#ax0 = plt.subplot(221)\n",
    "model = sigma.reshape(mesh.vnC,order='F')\n",
    "mask0 = np.ma.masked_where(model==1e-8,model)\n",
    "\n",
    "a = ax0.pcolormesh(mesh.gridCC[:,0].reshape(mesh.vnC,order='F')[:,slice_ver,:],\n",
    "                   mesh.gridCC[:,2].reshape(mesh.vnC,order='F')[:,slice_ver,:],np.log10(mask0[:,slice_ver,:]),\n",
    "                   edgecolor='k',cmap='viridis')\n",
    "\n",
    "ax0.set_xlim([bw,be])\n",
    "ax0.set_ylim([0,bt])\n",
    "#ax.grid(which=\"major\")\n",
    "#cb0 = plt.colorbar(a,ax=ax4)\n",
    "ax0.set_aspect(\"equal\")\n",
    "#cb0.set_label(\"Log conductivity (S/m)\",fontsize=fontsize)\n",
    "#cb0.set_clim(vmin,vmax)\n",
    "#ax0.set_xlabel(\"Easting (km)\",fontsize=fontsize)\n",
    "ax0.set_ylabel((\"at %1.0f m Northing \\n Elevation (m)\")%(np.unique(mesh.gridCC[:,1].reshape(mesh.vnC,order='F')[:,slice_ver,:])[0]),fontsize=titlesize)\n",
    "ax0.set_title(\"True Model\",fontsize=titlesize)\n",
    "\n",
    "#ax0.set_xticks([bw,(bw+be)/2,be])\n",
    "#ax0.set_xticklabels([bw,(bw+be)/2,be])\n",
    "#ax0.set_xticklabels(np.round((np.array(ax0.get_xticks().tolist(),dtype=float)/100).tolist())/10)\n",
    "ax0.set_xticklabels([])\n",
    "\n",
    "ax0.set_yticks([0,200,400])\n",
    "ax0.tick_params(axis='y', labelsize=ticksize)\n",
    "\n",
    "ax1=plt.subplot2grid((12,18), (0, 6),colspan=6,rowspan=6)\n",
    "#ax1 = plt.subplot(222)\n",
    "\n",
    "sinv = siginv.reshape(mesh.vnC,order='F')\n",
    "mask1= np.ma.masked_where(sinv<=9.9e-7,sinv)\n",
    "\n",
    "b = ax1.pcolormesh(mesh.gridCC[:,0].reshape(mesh.vnC,order='F')[:,slice_ver,:],\n",
    "                   mesh.gridCC[:,2].reshape(mesh.vnC,order='F')[:,slice_ver,:],np.log10(mask1[:,slice_ver,:]),\n",
    "                   edgecolor='k',cmap='viridis',vmin=vmin,vmax=vmax)\n",
    "\n",
    "ax1.set_xlim([bw,be])\n",
    "ax1.set_ylim([0,bt])\n",
    "#ax.grid(which=\"major\")\n",
    "#cb1 = plt.colorbar(b,ax=ax1)\n",
    "#cb1.set_clim(vmin,vmax)\n",
    "ax1.set_aspect(\"equal\")\n",
    "#cb1.set_label(\"Log conductivity (S/m)\",fontsize=fontsize)\n",
    "#ax1.set_xlabel(\"Easting (km)\",fontsize=fontsize)\n",
    "#ax1.set_ylabel(\"Elevation (m)\",fontsize=fontsize)\n",
    "ax1.set_yticklabels([])\n",
    "ax1.set_title((\"Off-diagonal \\n Recovered Model\")%(np.unique(mesh.gridCC[:,1].reshape(mesh.vnC,order='F')[:,slice_ver,:])[0]),fontsize=titlesize)\n",
    "\n",
    "#ax1.set_xticks([bw,(bw+be)/2,be])\n",
    "#ax1.set_xticklabels([bw,(bw+be)/2,be])\n",
    "#ax1.set_xticklabels(np.round((np.array(ax1.get_xticks().tolist(),dtype=float)/100).tolist())/10)\n",
    "ax1.set_xticklabels([])\n",
    "\n",
    "ax2=plt.subplot2grid((12,18), (6, 0),colspan=6,rowspan=6)\n",
    "#ax2 = plt.subplot(223)\n",
    "\n",
    "\n",
    "#print np.unique(mesh.gridCC[:,2].reshape(mesh.vnC,order='F')[:,:,slice])\n",
    "\n",
    "c = ax2.pcolormesh(mesh.gridCC[:,0].reshape(mesh.vnC,order='F')[:,:,slice_hor],mesh.gridCC[:,1].reshape(mesh.vnC,order='F')[:,:,slice_hor],\n",
    "                   np.log10(model[:,:,slice_hor]),edgecolor='k',cmap='viridis',vmin=vmin,vmax=vmax)\n",
    "\n",
    "ax2.set_xlim([bw,be])\n",
    "ax2.set_ylim([bs,bn])\n",
    "#ax.grid(which=\"major\")\n",
    "#cb2 = plt.colorbar(c,ax=ax2)\n",
    "ax2.set_aspect(\"equal\")\n",
    "#cb2.set_label(\"Log conductivity (S/m)\",fontsize=fontsize)\n",
    "#cb2.set_clim(vmin,vmax)\n",
    "ax2.set_xticks([bw,(bw+be)/2,be-80])\n",
    "ax2.set_xticklabels([bw,(bw+be)/2,be-80])\n",
    "ax2.set_xticklabels(np.round((np.array(ax2.get_xticks().tolist(),dtype=float)/100).tolist())/10)\n",
    "ax2xlabels=ax2.get_xticklabels()\n",
    "for label in ax2xlabels:\n",
    "    label.set_rotation(45)\n",
    "    \n",
    "ax2.set_yticks([7133400,7133600,7133800])\n",
    "ax2.set_yticklabels([400,600,800])\n",
    "ax2.tick_params(axis='y', labelsize=ticksize)\n",
    "\n",
    "#ax2.set_yticklabels(np.round((np.array(ax2.get_yticks().tolist(),dtype=int)/1000).tolist()))\n",
    "\n",
    "\n",
    "ax2.set_xlabel(\"Easting (km)\",fontsize=fontsize)\n",
    "ax2.set_ylabel((\"at %1.0f m Elevation \\n Northing 7133km+(m)\")%(np.unique(mesh.gridCC[:,2].reshape(mesh.vnC,order='F')[:,:,slice_hor])[0]),fontsize=titlesize)\n",
    "#ax2.set_title((\"True Model \\n at %1.0f m Elevation \")%(np.unique(mesh.gridCC[:,2].reshape(mesh.vnC,order='F')[:,:,slice_hor])[0]),fontsize=titlesize)\n",
    "\n",
    "ax3=plt.subplot2grid((12,18), (6, 6),colspan=6,rowspan=6)\n",
    "#ax3 = plt.subplot(224)\n",
    "\n",
    "d = ax3.pcolormesh(mesh.gridCC[:,0].reshape(mesh.vnC,order='F')[:,:,slice_hor],mesh.gridCC[:,1].reshape(mesh.vnC,order='F')[:,:,slice_hor],\n",
    "                   np.log10(sinv[:,:,slice_hor]),edgecolor='k',cmap='viridis',vmin=vmin,vmax=vmax)\n",
    "\n",
    "ax3.set_xlim([bw,be])\n",
    "ax3.set_ylim([bs,bn])\n",
    "#ax.grid(which=\"major\")\n",
    "#cb3 = plt.colorbar(d,ax=ax3)\n",
    "#cb3.set_clim(vmin,vmax)\n",
    "ax3.set_aspect(\"equal\")\n",
    "\n",
    "ax3.set_xticks([bw,(bw+be)/2,be-80])\n",
    "ax3.set_xticklabels([bw,(bw+be)/2,be-80])\n",
    "\n",
    "#ax3.set_yticks([bs,(bs+bn)/2,bn])\n",
    "#ax3.set_yticklabels([bs-7133000,(bs+bn)/2-7133000,bn-7133000])\n",
    "ax3.set_xticklabels(np.round((np.array(ax3.get_xticks().tolist(),dtype=float)/100).tolist())/10)\n",
    "\n",
    "ax3xlabels=ax3.get_xticklabels()\n",
    "for label in ax3xlabels:\n",
    "    label.set_rotation(45)\n",
    "    \n",
    "ax3.set_yticklabels([])\n",
    "\n",
    "#cb3.set_label(\"Log conductivity (S/m)\",fontsize=fontsize)\n",
    "ax3.set_xlabel(\"Easting (km)\",fontsize=fontsize)\n",
    "#ax3.set_ylabel(\"Northing 7133000+(m)\",fontsize=fontsize)\n",
    "#ax3.set_title((\"Off-Diagonal \\n Recovered Model\")%(np.unique(mesh.gridCC[:,2].reshape(mesh.vnC,order='F')[:,:,slice_hor])[0]),fontsize=titlesize)\n",
    "\n",
    "\n",
    "fig.subplots_adjust(right=0.9)\n",
    "cbar_ax = fig.add_axes([0.92, 0.15, 0.02, 0.7])\n",
    "cbar = plt.colorbar(c, cax=cbar_ax)\n",
    "cbar.set_label(\"Conductivity (S/m)\",fontsize=titlesize)\n",
    "cbar.set_ticks([-4,-3,-2,-1.3])\n",
    "cbar.set_ticklabels(['1e-4','1e-3','1e-2','5e-2'])\n",
    "\n",
    "sinvtip = siginvtip.reshape(mesh.vnC,order='F')\n",
    "mask2= np.ma.masked_where(sinvtip<=9.9e-7,sinvtip)\n",
    "\n",
    "ax4=plt.subplot2grid((12,18), (0, 12),colspan=6,rowspan=6)\n",
    "\n",
    "e = ax4.pcolormesh(mesh.gridCC[:,0].reshape(mesh.vnC,order='F')[:,slice_ver,:],\n",
    "                   mesh.gridCC[:,2].reshape(mesh.vnC,order='F')[:,slice_ver,:],np.log10(mask2[:,slice_ver,:]),\n",
    "                   edgecolor='k',cmap='viridis',vmin=vmin,vmax=vmax)\n",
    "\n",
    "ax4.set_xlim([bw,be])\n",
    "ax4.set_ylim([0,bt])\n",
    "#ax.grid(which=\"major\")\n",
    "#cb1 = plt.colorbar(b,ax=ax1)\n",
    "#cb1.set_clim(vmin,vmax)\n",
    "ax4.set_aspect(\"equal\")\n",
    "ax4.set_yticklabels([])\n",
    "#cb1.set_label(\"Log conductivity (S/m)\",fontsize=fontsize)\n",
    "#ax4.set_xlabel(\"Easting (km)\",fontsize=fontsize)\n",
    "#ax4.set_ylabel(\"Elevation (m)\",fontsize=fontsize)\n",
    "ax4.set_title((\"Tipper \\n Recoverered Model\")%(np.unique(mesh.gridCC[:,1].reshape(mesh.vnC,order='F')[:,slice_ver,:])[0]),fontsize=titlesize)\n",
    "\n",
    "#ax4.set_xticks([bw,(bw+be)/2,be])\n",
    "#ax4.set_xticklabels([bw,(bw+be)/2,be])\n",
    "#ax4.set_xticklabels(np.round((np.array(ax4.get_xticks().tolist(),dtype=float)/100).tolist())/10)\n",
    "ax4.set_xticklabels([])\n",
    "\n",
    "ax5=plt.subplot2grid((12,18), (6, 12),colspan=6,rowspan=6)\n",
    "\n",
    "\n",
    "f = ax5.pcolormesh(mesh.gridCC[:,0].reshape(mesh.vnC,order='F')[:,:,slice_hor],mesh.gridCC[:,1].reshape(mesh.vnC,order='F')[:,:,slice_hor],\n",
    "                   np.log10(mask2[:,:,slice_hor]),edgecolor='k',cmap='viridis',vmin=vmin,vmax=vmax)\n",
    "\n",
    "ax5.set_xlim([bw,be])\n",
    "ax5.set_ylim([bs,bn])\n",
    "#ax.grid(which=\"major\")\n",
    "#cb3 = plt.colorbar(d,ax=ax3)\n",
    "#cb3.set_clim(vmin,vmax)\n",
    "ax5.set_aspect(\"equal\")\n",
    "\n",
    "ax5.set_xticks([bw,(bw+be)/2,be])\n",
    "ax5.set_xticklabels([bw,(bw+be)/2,be])\n",
    "ax5.set_xticklabels(np.round((np.array(ax5.get_xticks().tolist(),dtype=float)/100).tolist())/10)\n",
    "\n",
    "ax5xlabels=ax5.get_xticklabels()\n",
    "for label in ax5xlabels:\n",
    "    label.set_rotation(45)\n",
    "    \n",
    "#ax5.set_yticks([bs,(bs+bn)/2,bn])\n",
    "#ax5.set_yticklabels([bs,(bs+bn)/2,bn])\n",
    "ax5.set_yticklabels([])\n",
    "\n",
    "#cb3.set_label(\"Log conductivity (S/m)\",fontsize=fontsize)\n",
    "ax5.set_xlabel(\"Easting (km)\",fontsize=fontsize)\n",
    "#ax5.set_ylabel(\"Northing (m)\",fontsize=fontsize)\n",
    "#ax5.set_title((\"Tipper \\n Recovered Model\")%(np.unique(mesh.gridCC[:,2].reshape(mesh.vnC,order='F')[:,:,slice_hor])[0]),fontsize=titlesize)\n",
    "\n",
    "for ax in [ax0,ax1,ax2,ax3,ax4,ax5,cbar.ax]:\n",
    "    ax.tick_params(axis='y', labelsize=ticksize)\n",
    "    ax.tick_params(axis='x', labelsize=ticksize)\n",
    "\n",
    "\n",
    "plt.show()"
   ]
  },
  {
   "cell_type": "code",
   "execution_count": 24,
   "metadata": {
    "collapsed": true
   },
   "outputs": [],
   "source": [
    "fig.savefig('../Poster/MT_offtip_results.png',dpi=300)"
   ]
  },
  {
   "cell_type": "code",
   "execution_count": null,
   "metadata": {
    "collapsed": true
   },
   "outputs": [],
   "source": []
  },
  {
   "cell_type": "code",
   "execution_count": null,
   "metadata": {
    "collapsed": true
   },
   "outputs": [],
   "source": []
  },
  {
   "cell_type": "code",
   "execution_count": null,
   "metadata": {
    "collapsed": true
   },
   "outputs": [],
   "source": []
  },
  {
   "cell_type": "code",
   "execution_count": null,
   "metadata": {
    "collapsed": true
   },
   "outputs": [],
   "source": []
  },
  {
   "cell_type": "code",
   "execution_count": null,
   "metadata": {
    "collapsed": true
   },
   "outputs": [],
   "source": []
  },
  {
   "cell_type": "code",
   "execution_count": null,
   "metadata": {
    "collapsed": true
   },
   "outputs": [],
   "source": []
  },
  {
   "cell_type": "code",
   "execution_count": null,
   "metadata": {
    "collapsed": true
   },
   "outputs": [],
   "source": []
  },
  {
   "cell_type": "code",
   "execution_count": null,
   "metadata": {
    "collapsed": true
   },
   "outputs": [],
   "source": []
  },
  {
   "cell_type": "code",
   "execution_count": null,
   "metadata": {
    "collapsed": true
   },
   "outputs": [],
   "source": []
  },
  {
   "cell_type": "code",
   "execution_count": null,
   "metadata": {
    "collapsed": true
   },
   "outputs": [],
   "source": []
  },
  {
   "cell_type": "code",
   "execution_count": null,
   "metadata": {
    "collapsed": true
   },
   "outputs": [],
   "source": []
  },
  {
   "cell_type": "code",
   "execution_count": null,
   "metadata": {
    "collapsed": true
   },
   "outputs": [],
   "source": []
  },
  {
   "cell_type": "code",
   "execution_count": 25,
   "metadata": {
    "collapsed": false
   },
   "outputs": [],
   "source": [
    "# Load the FW tipper data from last iteration\n",
    "drecAllft = np.load('../FW_Test_it10_offdiag/MTdataStArr_recoveredMod_run_thibaut4_off_it10.npy')\n",
    "# Select larger frequency band for the MT data\n",
    "indMTFreqft = np.sum([drecAllft['freq'] == val for val in  np.unique(drecAllft['freq'])],axis=0,dtype=bool)\n",
    "mtRecArrft = drecAllft[indMTFreqft][['freq','x','y','z','tzx','tzy']]\n",
    "dUseft = NSEM.Data.fromRecArray(mtRecArrft)\n",
    "# Extract to survey\n",
    "surveyft = dUseft.survey"
   ]
  },
  {
   "cell_type": "code",
   "execution_count": 28,
   "metadata": {
    "collapsed": true
   },
   "outputs": [],
   "source": [
    "# # Add noise to the data\n",
    "dobsft, freqArr, rxT = getDataInfo(dUseft)\n",
    "# Set the data\n",
    "\n",
    "survey.dobs = dobsft\n",
    "# Assign std based on- and off-diagonal parts of the impedance tensor\n",
    "std = np.ones_like(dobsft)*.05 # 5% on all off-diagonals\n",
    "# std[np.array([ ('xx' in l or 'yy' in l) for l in rxT])] = 0.15 # 15% on the on-diagonal\n",
    "survey.std = np.abs(survey.dobs*std) #+ 0.01*np.linalg.norm(survey.dobs) #survey.dobs*0 + std\n",
    "# Estimate a floor for the data.\n",
    "# Use the 10% of the mean of the off-diagonals for each frequency\n",
    "floor = np.zeros_like(dobsft)\n",
    "offind = np.array([('zxy' in l or 'zyx' in l) for l in rxT],bool)\n",
    "onind = np.array([('zxx' in l or 'zyy' in l) for l in rxT],bool)\n",
    "tipind = np.array([('tzx' in l or 'tzy' in l) for l in rxT],bool)\n",
    "\n",
    "assert (offind+tipind+onind).all()\n",
    "\n",
    "for f in np.unique(freqArr):\n",
    "    freqInd = freqArr == f\n",
    "    floorFreq = floor[freqInd]\n",
    "    offD = np.sort(np.abs(dobs[freqInd*offind]))\n",
    "    floor[freqInd] = 0.0001*np.mean(offD)\n",
    "    onD = np.sort(np.abs(dobs[freqInd*onind]))\n",
    "    floor[freqInd*onind] = 0.1*np.mean(onD)\n",
    "    # Constant floor for the tipper.\n",
    "    floor[freqInd*tipind] = 0.001\n",
    "\n",
    "# Assign the data weight\n",
    "Wd = 1./(survey.std + floor)\n",
    "\n",
    "epsft=(survey.std + floor)"
   ]
  },
  {
   "cell_type": "code",
   "execution_count": null,
   "metadata": {
    "collapsed": true
   },
   "outputs": [],
   "source": [
    "phi_d_ft = (dobsft-dobst)/epsft"
   ]
  },
  {
   "cell_type": "code",
   "execution_count": null,
   "metadata": {
    "collapsed": false
   },
   "outputs": [],
   "source": [
    "n = plt.hist(phi_d_ft,bins=50,color='green')"
   ]
  },
  {
   "cell_type": "code",
   "execution_count": 52,
   "metadata": {
    "collapsed": true
   },
   "outputs": [],
   "source": [
    "%matplotlib qt\n",
    "sys.path.append('/home/gudni/Dropbox/code/python/MTview/')\n",
    "import interactivePlotFunctions as iPf"
   ]
  },
  {
   "cell_type": "code",
   "execution_count": 53,
   "metadata": {
    "collapsed": false
   },
   "outputs": [
    {
     "data": {
      "text/plain": [
       "[18, 17, 1, 5, 11, 10, 4, 7, 9, 13, 12, 8, 14, 3, 6, 16, 2, 15]"
      ]
     },
     "execution_count": 53,
     "metadata": {},
     "output_type": "execute_result"
    }
   ],
   "source": [
    "[f['iter'] for f in runT4fFiles]"
   ]
  },
  {
   "cell_type": "code",
   "execution_count": 67,
   "metadata": {
    "collapsed": false
   },
   "outputs": [],
   "source": [
    "finData=  NSEM.Data(survey,runT4fFiles[-1]['dpred']).toRecArray('Complex')"
   ]
  },
  {
   "cell_type": "code",
   "execution_count": 68,
   "metadata": {
    "collapsed": false
   },
   "outputs": [
    {
     "data": {
      "text/plain": [
       "<interactivePlotFunctions.MTinteractiveMap at 0x7f53970ce710>"
      ]
     },
     "execution_count": 68,
     "metadata": {},
     "output_type": "execute_result"
    }
   ],
   "source": [
    "%matplotlib qt\n",
    "iPf.MTinteractiveMap([dUse.toRecArray('Complex'),finData])"
   ]
  },
  {
   "cell_type": "code",
   "execution_count": 69,
   "metadata": {
    "collapsed": false
   },
   "outputs": [
    {
     "data": {
      "text/plain": [
       "array([ (1000.0, 557112.5, 7133352.5, 430.0, (nan+0j), (-3.1626458088567886-2.8259053753455023j), (5.618414121399588+4.073614099604947j), (nan+0j), (nan+0j), (nan+0j)),\n",
       "       (1000.0, 557137.5, 7133352.5, 430.0, (nan+0j), (-2.7986580809800037-2.5625042462495418j), (6.0662491377788355+4.234059021065115j), (nan+0j), (nan+0j), (nan+0j)),\n",
       "       (1000.0, 557162.5, 7133352.5, 430.0, (nan+0j), (-2.4037620981778978-2.2813450587297983j), (6.265448832087991+4.243909632829268j), (nan+0j), (nan+0j), (nan+0j)),\n",
       "       ...,\n",
       "       (100000.0, 557512.5, 7133952.5, 440.0, (nan+0j), (-27.878492606144995-20.77865751782975j), (34.953532101151495+27.28026096500395j), (nan+0j), (nan+0j), (nan+0j)),\n",
       "       (100000.0, 557537.5, 7133952.5, 440.0, (nan+0j), (-32.430716367465806-23.82881358101504j), (37.53270529866346+28.959407235410605j), (nan+0j), (nan+0j), (nan+0j)),\n",
       "       (100000.0, 557562.5, 7133952.5, 440.0, (nan+0j), (-51.07831137669611-34.949144411761495j), (39.29283161109513+31.083050707975787j), (nan+0j), (nan+0j), (nan+0j))], \n",
       "      dtype=[('freq', '<f8'), ('x', '<f8'), ('y', '<f8'), ('z', '<f8'), ('zxx', '<c16'), ('zxy', '<c16'), ('zyx', '<c16'), ('zyy', '<c16'), ('tzx', '<c16'), ('tzy', '<c16')])"
      ]
     },
     "execution_count": 69,
     "metadata": {},
     "output_type": "execute_result"
    }
   ],
   "source": [
    "finData"
   ]
  },
  {

   "cell_type": "markdown",
   "metadata": {
    "collapsed": true
   },
   "source": [
    "### Run_thibaut4_tip"
   ]
  },
  {
   "cell_type": "code",
   "execution_count": 13,
   "metadata": {
    "collapsed": true
   },
   "outputs": [],
   "source": [
    "# Load the data\n",
    "drecAllt = np.load('./run_thibaut4_tip/MTdataStArr_nsmesh_HKPK1Coarse_noExtension.npy')\n",
    "# Select larger frequency band for the MT data\n",
    "indMTFreqt = np.sum([drecAllt['freq'] == val for val in  np.unique(drecAllt['freq'])],axis=0,dtype=bool)\n",
    "mtRecArrt = drecAllt[indMTFreqt][['freq','x','y','z','tzx','tzy']]\n",
    "dUset = NSEM.Data.fromRecArray(mtRecArrt)\n",
    "# Extract to survey\n",
    "survey = dUset.survey\n",
    "\n",
    "# # Add noise to the data\n",
    "dobst, freqArr, rxT = getDataInfo(dUset)\n",
    "# Set the data\n",
    "\n",
    "survey.dobs = dobst\n",
    "# Assign std based on- and off-diagonal parts of the impedance tensor\n",
    "std = np.ones_like(dobst)*.05 # 5% on all off-diagonals\n",
    "# std[np.array([ ('xx' in l or 'yy' in l) for l in rxT])] = 0.15 # 15% on the on-diagonal\n",
    "survey.std = np.abs(survey.dobs*std) #+ 0.01*np.linalg.norm(survey.dobs) #survey.dobs*0 + std\n",
    "# Estimate a floor for the data.\n",
    "# Use the 10% of the mean of the off-diagonals for each frequency\n",
    "floor = np.zeros_like(dobst)\n",
    "offind = np.array([('zxy' in l or 'zyx' in l) for l in rxT],bool)\n",
    "onind = np.array([('zxx' in l or 'zyy' in l) for l in rxT],bool)\n",
    "tipind = np.array([('tzx' in l or 'tzy' in l) for l in rxT],bool)\n",
    "\n",
    "assert (offind+tipind+onind).all()\n",
    "\n",
    "for f in np.unique(freqArr):\n",
    "    freqInd = freqArr == f\n",
    "    floorFreq = floor[freqInd]\n",
    "    offD = np.sort(np.abs(dobst[freqInd*offind]))\n",
    "    floor[freqInd] = 0.0001*np.mean(offD)\n",
    "    onD = np.sort(np.abs(dobst[freqInd*onind]))\n",
    "    floor[freqInd*onind] = 0.1*np.mean(onD)\n",
    "    # Constant floor for the tipper.\n",
    "    floor[freqInd*tipind] = 0.001\n",
    "\n",
    "# Assign the data weight\n",
    "Wd = 1./(survey.std + floor)\n",
    "\n",
    "epst=(survey.std + floor)"
   ]
  },
  {
   "cell_type": "code",
   "execution_count": 14,
   "metadata": {
    "collapsed": false,
    "scrolled": true
   },
   "outputs": [
    {
     "name": "stderr",
     "output_type": "stream",
     "text": [

      "/home/gudni/anaconda2/lib/python2.7/site-packages/numpy/core/_methods.py:59: RuntimeWarning: Mean of empty slice.\n",
      "  warnings.warn(\"Mean of empty slice.\", RuntimeWarning)\n",
      "/home/gudni/anaconda2/lib/python2.7/site-packages/numpy/core/_methods.py:70: RuntimeWarning: invalid value encountered in double_scalars\n",
      "  ret = ret.dtype.type(ret / rcount)\n"
     ]
    }
   ],
   "source": [
    "# # Add noise to the data\n",
    "dobst, freqArr, rxT = getDataInfo(dUset)\n",
    "# Set the data\n",
    "\n",
    "survey.dobs = dobst\n",
    "# Assign std based on- and off-diagonal parts of the impedance tensor\n",
    "std = np.ones_like(dobst)*.05 # 5% on all off-diagonals\n",
    "# std[np.array([ ('xx' in l or 'yy' in l) for l in rxT])] = 0.15 # 15% on the on-diagonal\n",
    "survey.std = np.abs(survey.dobs*std) #+ 0.01*np.linalg.norm(survey.dobs) #survey.dobs*0 + std\n",
    "# Estimate a floor for the data.\n",
    "# Use the 10% of the mean of the off-diagonals for each frequency\n",
    "floor = np.zeros_like(dobst)\n",
    "offind = np.array([('zxy' in l or 'zyx' in l) for l in rxT],bool)\n",
    "onind = np.array([('zxx' in l or 'zyy' in l) for l in rxT],bool)\n",
    "tipind = np.array([('tzx' in l or 'tzy' in l) for l in rxT],bool)\n",
    "\n",
    "assert (offind+tipind+onind).all()\n",
    "\n",
    "for f in np.unique(freqArr):\n",
    "    freqInd = freqArr == f\n",
    "    floorFreq = floor[freqInd]\n",
    "    offD = np.sort(np.abs(dobst[freqInd*offind]))\n",
    "    floor[freqInd] = 0.0001*np.mean(offD)\n",
    "    onD = np.sort(np.abs(dobst[freqInd*onind]))\n",
    "    floor[freqInd*onind] = 0.1*np.mean(onD)\n",
    "    # Constant floor for the tipper.\n",
    "    floor[freqInd*tipind] = 0.001\n",
    "\n",
    "# Assign the data weight\n",
    "Wd = 1./(survey.std + floor)\n",
    "\n",
    "epst=(survey.std + floor)"
   ]
  },
  {
   "cell_type": "code",

   "execution_count": 28,

   "metadata": {
    "collapsed": true
   },
   "outputs": [],
   "source": [
    "runT4tFiles = loadInversionMakeVTRFiles('run_thibaut4_tip',mesh,mappingExpAct)"
   ]
  },
  {
   "cell_type": "code",
   "execution_count": 16,
   "metadata": {
    "collapsed": false
   },
   "outputs": [],
   "source": [
    "dpredt =runT4tFiles[-1]['dpred']"
   ]
  },
  {
   "cell_type": "code",
   "execution_count": 17,
   "metadata": {
    "collapsed": false
   },
   "outputs": [
    {
     "data": {
      "text/plain": [
       "[1,\n",
       " 2,\n",
       " 3,\n",
       " 4,\n",
       " 5,\n",
       " 6,\n",
       " 7,\n",
       " 8,\n",
       " 9,\n",
       " 10,\n",
       " 11,\n",
       " 12,\n",
       " 13,\n",
       " 14,\n",
       " 15,\n",
       " 16,\n",
       " 17,\n",
       " 18,\n",
       " 19,\n",
       " 20,\n",
       " 21,\n",
       " 22,\n",
       " 23,\n",
       " 24,\n",
       " 25,\n",
       " 26,\n",
       " 27,\n",
       " 28,\n",
       " 29,\n",
       " 30,\n",
       " 31,\n",
       " 32,\n",
       " 33,\n",
       " 34,\n",
       " 35,\n",
       " 36]"
      ]
     },
     "execution_count": 17,
     "metadata": {},
     "output_type": "execute_result"
    }
   ],
   "source": [
    "[i['iter'] for i in runT4tFiles]"
   ]
  },
  {
   "cell_type": "code",
   "execution_count": 18,
   "metadata": {
    "collapsed": true
   },
   "outputs": [],
   "source": [
    "phi_d_t = (dpredt-dobst)/epst"
   ]
  },
  {
   "cell_type": "code",
   "execution_count": 19,
   "metadata": {
    "collapsed": false
   },
   "outputs": [
    {
     "data": {
      "text/plain": [
       "0.97183127577573492"
      ]
     },
     "execution_count": 19,
     "metadata": {},
     "output_type": "execute_result"
    }
   ],
   "source": [
    "np.std(phi_d)"
   ]
  },
  {
   "cell_type": "code",

   "execution_count": 33,

   "metadata": {
    "collapsed": false,
    "scrolled": true
   },
   "outputs": [
    {
     "data": {
      "text/plain": [
       "1.6071295362349509"
      ]
     },
     "execution_count": 20,
     "metadata": {},
     "output_type": "execute_result"
    }
   ],
   "source": [
    "np.std(phi_d_t)"
   ]
  },
  {
   "cell_type": "code",
   "execution_count": 21,
   "metadata": {
    "collapsed": false
   },
   "outputs": [
    {
     "data": {
      "image/png": "[encoded data removed]",
      "text/plain": [
       "<matplotlib.figure.Figure at 0x116ba91d0>"
      ]
     },
     "metadata": {},
     "output_type": "display_data"
    }
   ],
   "source": [
    "n = plt.hist(phi_d_t,bins=50,color='green')"
   ]
  },
  {
   "cell_type": "code",
   "execution_count": 22,
   "metadata": {
    "collapsed": false
   },
   "outputs": [
    {
     "data": {
      "image/png": "[encoded data removed]",
      "text/plain": [
       "<matplotlib.figure.Figure at 0x118c56750>"
      ]
     },
     "metadata": {},
     "output_type": "display_data"
    }
   ],
   "source": [
    "n = plt.hist(np.log10(np.abs(epst)),bins=50,color='green')"
   ]
  },
  {
   "cell_type": "code",
   "execution_count": 23,
   "metadata": {
    "collapsed": false
   },
   "outputs": [
    {
     "data": {
      "image/png": "[encoded data removed]",
      "text/plain": [
       "<matplotlib.figure.Figure at 0x11921d250>"
      ]
     },
     "metadata": {},
     "output_type": "display_data"
    }
   ],
   "source": [
    "n = plt.hist(np.log10(np.abs(dpredt)),bins=50,color='green')"
   ]
  },
  {
   "cell_type": "code",
   "execution_count": 24,
   "metadata": {
    "collapsed": false
   },
   "outputs": [
    {
     "data": {
      "image/png": "[encoded data removed]",
      "text/plain": [
       "<matplotlib.figure.Figure at 0x119300c90>"
      ]
     },
     "metadata": {},
     "output_type": "display_data"
    }
   ],
   "source": [
    "n = plt.hist(np.log10(np.abs(dobst)),bins=50,color='green')"
   ]
  },
  {
   "cell_type": "code",
   "execution_count": 25,
   "metadata": {
    "collapsed": false
   },
   "outputs": [
    {
     "ename": "TypeError",
     "evalue": "convergeCurves() takes exactly 6 arguments (1 given)",
     "output_type": "error",
     "traceback": [
      "\u001b[0;31m---------------------------------------------------------------------------\u001b[0m",
      "\u001b[0;31mTypeError\u001b[0m                                 Traceback (most recent call last)",
      "\u001b[0;32m<ipython-input-25-192800fd6361>\u001b[0m in \u001b[0;36m<module>\u001b[0;34m()\u001b[0m\n\u001b[0;32m----> 1\u001b[0;31m \u001b[0mconvergeCurves\u001b[0m\u001b[0;34m(\u001b[0m\u001b[0mrunT4tFiles\u001b[0m\u001b[0;34m)\u001b[0m\u001b[0;34m\u001b[0m\u001b[0m\n\u001b[0m",
      "\u001b[0;31mTypeError\u001b[0m: convergeCurves() takes exactly 6 arguments (1 given)"
     ]
    }
   ],
   "source": [
    "convergeCurves(runT4tFiles)"
   ]
  },
  {
   "cell_type": "code",
   "execution_count": 41,
   "metadata": {
    "collapsed": true
   },
   "outputs": [],
   "source": [
    "mesh,invtip= simpeg.Mesh.TensorMesh.readVTK('./run_thibaut4_tip/recoveredMod_run_thibaut4_tip_it36.vtr')\n",
    "siginvtip=invtip['S/m']"
   ]
  },
  {
   "cell_type": "code",
   "execution_count": 130,
   "metadata": {
    "collapsed": false
   },
   "outputs": [
    {
     "data": {
      "image/png": "[encoded data removed]",
      "text/plain": [
       "<matplotlib.figure.Figure at 0x11734d610>"
      ]
     },
     "metadata": {},
     "output_type": "display_data"
    }
   ],
   "source": [
    "vmin,vmax=-4,-1.3\n",
    "fontsize=14\n",
    "titlesize=16\n",
    "\n",
    "slice_ver=20\n",
    "slice_hor=40\n",
    "\n",
    "\n",
    "fig, axes = plt.subplots(nrows=2, ncols=2,figsize=(12,10))\n",
    "ax0=axes[0,0]\n",
    "ax1=axes[0,1]\n",
    "ax2=axes[1,0]\n",
    "ax3=axes[1,1]\n",
    "#fig = plt.figure(figsize=(10,10))\n",
    "#ax0=plt.subplot2grid((10,10), (0, 0),colspan=5,rowspan=5)\n",
    "#ax4=plt.subplot2grid((10,12),(0,11),colspan=1,rowspan=10)\n",
    "#ax0 = plt.subplot(221)\n",
    "model = sigma.reshape(mesh.vnC,order='F')\n",
    "mask0 = np.ma.masked_where(model==1e-8,model)\n",
    "\n",
    "a = ax0.pcolormesh(mesh.gridCC[:,0].reshape(mesh.vnC,order='F')[:,slice_ver,:],\n",
    "                   mesh.gridCC[:,2].reshape(mesh.vnC,order='F')[:,slice_ver,:],np.log10(mask0[:,slice_ver,:]),\n",
    "                   edgecolor='k',cmap='viridis')\n",
    "\n",
    "ax0.set_xlim([bw,be])\n",
    "ax0.set_ylim([0,bt])\n",
    "#ax.grid(which=\"major\")\n",
    "#cb0 = plt.colorbar(a,ax=ax4)\n",
    "ax0.set_aspect(\"equal\")\n",
    "cb0.set_label(\"Log conductivity (S/m)\",fontsize=fontsize)\n",
    "cb0.set_clim(vmin,vmax)\n",
    "ax0.set_xlabel(\"Easting (m)\",fontsize=fontsize)\n",
    "ax0.set_ylabel(\"Elevation (m)\",fontsize=fontsize)\n",
    "ax0.set_title((\"True Model at %1.0f m Northing \")%(np.unique(mesh.gridCC[:,1].reshape(mesh.vnC,order='F')[:,slice_ver,:])[0]),fontsize=titlesize)\n",
    "\n",
    "ax0.set_xticks([bw,(bw+be)/2,be])\n",
    "ax0.set_xticklabels([bw,(bw+be)/2,be])\n",
    "\n",
    "#ax1=plt.subplot2grid((10,10), (0, 5),colspan=5,rowspan=5)\n",
    "#ax1 = plt.subplot(222)\n",
    "\n",
    "sinvtip = siginvtip.reshape(mesh.vnC,order='F')\n",
    "mask1= np.ma.masked_where(sinvtip<=9.9e-7,sinvtip)\n",
    "\n",
    "b = ax1.pcolormesh(mesh.gridCC[:,0].reshape(mesh.vnC,order='F')[:,slice_ver,:],\n",
    "                   mesh.gridCC[:,2].reshape(mesh.vnC,order='F')[:,slice_ver,:],np.log10(mask1[:,slice_ver,:]),\n",
    "                   edgecolor='k',cmap='viridis',vmin=vmin,vmax=vmax)\n",
    "\n",
    "ax1.set_xlim([bw,be])\n",
    "ax1.set_ylim([0,bt])\n",
    "#ax.grid(which=\"major\")\n",
    "#cb1 = plt.colorbar(b,ax=ax1)\n",
    "#cb1.set_clim(vmin,vmax)\n",
    "ax1.set_aspect(\"equal\")\n",
    "#cb1.set_label(\"Log conductivity (S/m)\",fontsize=fontsize)\n",
    "ax1.set_xlabel(\"Easting (m)\",fontsize=fontsize)\n",
    "ax1.set_ylabel(\"Elevation (m)\",fontsize=fontsize)\n",
    "ax1.set_title((\"Recovered Model at %1.0f m Northing \")%(np.unique(mesh.gridCC[:,1].reshape(mesh.vnC,order='F')[:,slice_ver,:])[0]),fontsize=titlesize)\n",
    "\n",
    "ax1.set_xticks([bw,(bw+be)/2,be])\n",
    "ax1.set_xticklabels([bw,(bw+be)/2,be])\n",
    "\n",
    "#ax2=plt.subplot2grid((10,10), (5, 0),colspan=5,rowspan=5)\n",
    "#ax2 = plt.subplot(223)\n",
    "\n",
    "\n",
    "#print np.unique(mesh.gridCC[:,2].reshape(mesh.vnC,order='F')[:,:,slice])\n",
    "\n",
    "c = ax2.pcolormesh(mesh.gridCC[:,0].reshape(mesh.vnC,order='F')[:,:,slice_hor],mesh.gridCC[:,1].reshape(mesh.vnC,order='F')[:,:,slice_hor],\n",
    "                   np.log10(model[:,:,slice_hor]),edgecolor='k',cmap='viridis',vmin=vmin,vmax=vmax)\n",
    "\n",
    "ax2.set_xlim([bw,be])\n",
    "ax2.set_ylim([bs,bn])\n",
    "#ax.grid(which=\"major\")\n",
    "#cb2 = plt.colorbar(c,ax=ax2)\n",
    "ax2.set_aspect(\"equal\")\n",
    "#cb2.set_label(\"Log conductivity (S/m)\",fontsize=fontsize)\n",
    "#cb2.set_clim(vmin,vmax)\n",
    "ax2.set_xticks([bw,(bw+be)/2,be])\n",
    "ax2.set_xticklabels([bw,(bw+be)/2,be])\n",
    "\n",
    "ax2.set_yticks([bs,(bs+bn)/2,bn])\n",
    "ax2.set_yticklabels([bs,(bs+bn)/2,bn])\n",
    "\n",
    "ax2.set_xlabel(\"Easting (m)\",fontsize=fontsize)\n",
    "ax2.set_ylabel(\"Northing (m)\",fontsize=fontsize)\n",
    "ax2.set_title((\"True Model at %1.0f m Elevation \")%(np.unique(mesh.gridCC[:,2].reshape(mesh.vnC,order='F')[:,:,slice_hor])[0]),fontsize=titlesize)\n",
    "\n",
    "#ax3=plt.subplot2grid((10,10), (5, 5),colspan=5,rowspan=5)\n",
    "#ax3 = plt.subplot(224)\n",
    "\n",
    "d = ax3.pcolormesh(mesh.gridCC[:,0].reshape(mesh.vnC,order='F')[:,:,slice_hor],mesh.gridCC[:,1].reshape(mesh.vnC,order='F')[:,:,slice_hor],\n",
    "                   np.log10(sinvtip[:,:,slice_hor]),edgecolor='k',cmap='viridis',vmin=vmin,vmax=vmax)\n",
    "\n",
    "ax3.set_xlim([bw,be])\n",
    "ax3.set_ylim([bs,bn])\n",
    "#ax.grid(which=\"major\")\n",
    "#cb3 = plt.colorbar(d,ax=ax3)\n",
    "#cb3.set_clim(vmin,vmax)\n",
    "ax3.set_aspect(\"equal\")\n",
    "\n",
    "ax3.set_xticks([bw,(bw+be)/2,be])\n",
    "ax3.set_xticklabels([bw,(bw+be)/2,be])\n",
    "\n",
    "ax3.set_yticks([bs,(bs+bn)/2,bn])\n",
    "ax3.set_yticklabels([bs,(bs+bn)/2,bn])\n",
    "\n",
    "#cb3.set_label(\"Log conductivity (S/m)\",fontsize=fontsize)\n",
    "ax3.set_xlabel(\"Easting (m)\",fontsize=fontsize)\n",
    "ax3.set_ylabel(\"Northing (m)\",fontsize=fontsize)\n",
    "ax3.set_title((\"Recovered Model at %1.0f m Elevation \")%(np.unique(mesh.gridCC[:,2].reshape(mesh.vnC,order='F')[:,:,slice_hor])[0]),fontsize=titlesize)\n",
    "\n",
    "\n",
    "fig.subplots_adjust(right=0.9)\n",
    "cbar_ax = fig.add_axes([0.95, 0.15, 0.02, 0.7])\n",
    "cbar = plt.colorbar(c, cax=cbar_ax)\n",
    "cbar.set_label(\"Log conductivity (S/m)\",fontsize=fontsize)\n",
    "\n",
    "\n",
    "plt.tight_layout()\n",
    "\n",
    "fig.savefig('../Poster/MT_tipper.png',dpi=600)"
   ]
  },
  {
   "cell_type": "code",
   "execution_count": 128,
   "metadata": {
    "collapsed": true
   },
   "outputs": [],
   "source": [
    "fig.savefig??"
   ]
  },
  {
   "cell_type": "markdown",
   "metadata": {},
   "source": [
    "### run1\n"
   ]
  },
  {
   "cell_type": "code",
   "execution_count": 6,
   "metadata": {
    "collapsed": false
   },
   "outputs": [],
   "source": [
    "run1Files = loadInversionMakeVTRFiles('run1',mesh,mappingExpAct)"
   ]
  },
  {
   "cell_type": "code",
   "execution_count": 7,
   "metadata": {
    "collapsed": false
   },
   "outputs": [
    {
     "name": "stdout",
     "output_type": "stream",
     "text": [
      "001-InversionModel-2016-05-27-12-14.npz  recoveredMod_run1_it10.vtr\r\n",
      "002-InversionModel-2016-05-27-12-14.npz  recoveredMod_run1_it11.vtr\r\n",
      "003-InversionModel-2016-05-27-12-14.npz  recoveredMod_run1_it12.vtr\r\n",
      "004-InversionModel-2016-05-27-12-14.npz  recoveredMod_run1_it13.vtr\r\n",
      "005-InversionModel-2016-05-27-12-14.npz  recoveredMod_run1_it14.vtr\r\n",
      "006-InversionModel-2016-05-27-12-14.npz  recoveredMod_run1_it15.vtr\r\n",
      "007-InversionModel-2016-05-27-12-14.npz  recoveredMod_run1_it16.vtr\r\n",
      "008-InversionModel-2016-05-27-12-14.npz  recoveredMod_run1_it17.vtr\r\n",
      "009-InversionModel-2016-05-27-12-14.npz  recoveredMod_run1_it18.vtr\r\n",
      "010-InversionModel-2016-05-27-12-14.npz  recoveredMod_run1_it19.vtr\r\n",
      "011-InversionModel-2016-05-27-12-14.npz  recoveredMod_run1_it1.vtr\r\n",
      "012-InversionModel-2016-05-27-12-14.npz  recoveredMod_run1_it20.vtr\r\n",
      "013-InversionModel-2016-05-27-12-14.npz  recoveredMod_run1_it21.vtr\r\n",
      "014-InversionModel-2016-05-27-12-14.npz  recoveredMod_run1_it22.vtr\r\n",
      "015-InversionModel-2016-05-27-12-14.npz  recoveredMod_run1_it23.vtr\r\n",
      "016-InversionModel-2016-05-27-12-14.npz  recoveredMod_run1_it24.vtr\r\n",
      "017-InversionModel-2016-05-27-12-14.npz  recoveredMod_run1_it25.vtr\r\n",
      "018-InversionModel-2016-05-27-12-14.npz  recoveredMod_run1_it26.vtr\r\n",
      "019-InversionModel-2016-05-27-12-14.npz  recoveredMod_run1_it27.vtr\r\n",
      "020-InversionModel-2016-05-27-12-14.npz  recoveredMod_run1_it28.vtr\r\n",
      "021-InversionModel-2016-05-27-12-14.npz  recoveredMod_run1_it29.vtr\r\n",
      "022-InversionModel-2016-05-27-12-14.npz  recoveredMod_run1_it2.vtr\r\n",
      "023-InversionModel-2016-05-27-12-14.npz  recoveredMod_run1_it30.vtr\r\n",
      "024-InversionModel-2016-05-27-12-14.npz  recoveredMod_run1_it31.vtr\r\n",
      "025-InversionModel-2016-05-27-12-14.npz  recoveredMod_run1_it32.vtr\r\n",
      "026-InversionModel-2016-05-27-12-14.npz  recoveredMod_run1_it33.vtr\r\n",
      "027-InversionModel-2016-05-27-12-14.npz  recoveredMod_run1_it34.vtr\r\n",
      "028-InversionModel-2016-05-27-12-14.npz  recoveredMod_run1_it35.vtr\r\n",
      "029-InversionModel-2016-05-27-12-14.npz  recoveredMod_run1_it36.vtr\r\n",
      "030-InversionModel-2016-05-27-12-14.npz  recoveredMod_run1_it3.vtr\r\n",
      "031-InversionModel-2016-05-27-12-14.npz  recoveredMod_run1_it4.vtr\r\n",
      "032-InversionModel-2016-05-27-12-14.npz  recoveredMod_run1_it5.vtr\r\n",
      "033-InversionModel-2016-05-27-12-14.npz  recoveredMod_run1_it6.vtr\r\n",
      "034-InversionModel-2016-05-27-12-14.npz  recoveredMod_run1_it7.vtr\r\n",
      "035-InversionModel-2016-05-27-12-14.npz  recoveredMod_run1_it8.vtr\r\n",
      "036-InversionModel-2016-05-27-12-14.npz  recoveredMod_run1_it9.vtr\r\n",
      "findDiam_inversion.py\r\n"
     ]
    }
   ],
   "source": [
    "ls run1"
   ]
  },
  {
   "cell_type": "code",
   "execution_count": 8,
   "metadata": {
    "collapsed": false
   },
   "outputs": [
    {
     "data": {
      "image/png": "[encoded data removed]",
      "text/plain": [
       "<matplotlib.figure.Figure at 0x7f2fe7789b90>"
      ]
     },
     "metadata": {},
     "output_type": "display_data"
    }
   ],
   "source": [
    "%matplotlib inline\n",
    "convergeCurves(run1Files)"
   ]
  },
  {
   "cell_type": "code",
   "execution_count": 9,
   "metadata": {
    "collapsed": false
   },
   "outputs": [
    {
     "data": {
      "text/plain": [
       "[array(11),\n",
       " array(1),\n",
       " array(9),\n",
       " array(5),\n",
       " array(15),\n",
       " array(22),\n",
       " array(8),\n",
       " array(4),\n",
       " array(6),\n",
       " array(13),\n",
       " array(18),\n",
       " array(31),\n",
       " array(27),\n",
       " array(20),\n",
       " array(7),\n",
       " array(35),\n",
       " array(12),\n",
       " array(28),\n",
       " array(25),\n",
       " array(16),\n",
       " array(19),\n",
       " array(10),\n",
       " array(23),\n",
       " array(26),\n",
       " array(2),\n",
       " array(14),\n",
       " array(3),\n",
       " array(32),\n",
       " array(21),\n",
       " array(36),\n",
       " array(29),\n",
       " array(24),\n",
       " array(33),\n",
       " array(34),\n",
       " array(17),\n",
       " array(30)]"
      ]
     },
     "execution_count": 9,
     "metadata": {},
     "output_type": "execute_result"
    }
   ],
   "source": [
    "[res['iter'] for res in run1Files]"
   ]
  },
  {
   "cell_type": "code",
   "execution_count": 10,
   "metadata": {
    "collapsed": true
   },
   "outputs": [],
   "source": [
    "%matplotlib qt\n",
    "sys.path.append('/home/gudni/Dropbox/code/python/MTview/')\n",
    "import interactivePlotFunctions as iPf"
   ]
  },
  {
   "cell_type": "code",
   "execution_count": 11,
   "metadata": {
    "collapsed": false
   },
   "outputs": [
    {
     "name": "stderr",
     "output_type": "stream",
     "text": [
      "/home/gudni/anaconda2/lib/python2.7/site-packages/numpy/ma/core.py:2915: FutureWarning: Numpy has detected that you (may be) writing to an array returned\n",
      "by numpy.diagonal or by selecting multiple fields in a structured\n",
      "array. This code will likely break in a future numpy release --\n",
      "see numpy.diagonal or arrays.indexing reference docs for details.\n",
      "The quick fix is to make an explicit copy (e.g., do\n",
      "arr.diagonal().copy() or arr[['f0','f1']].copy()).\n",
      "  if (obj.__array_interface__[\"data\"][0]\n",
      "/home/gudni/anaconda2/lib/python2.7/site-packages/numpy/ma/core.py:2916: FutureWarning: Numpy has detected that you (may be) writing to an array returned\n",
      "by numpy.diagonal or by selecting multiple fields in a structured\n",
      "array. This code will likely break in a future numpy release --\n",
      "see numpy.diagonal or arrays.indexing reference docs for details.\n",
      "The quick fix is to make an explicit copy (e.g., do\n",
      "arr.diagonal().copy() or arr[['f0','f1']].copy()).\n",
      "  != self.__array_interface__[\"data\"][0]):\n"
     ]
    }
   ],
   "source": [
    "finData = NSEM.Data(survey,run1Files[0]['dpred']).toRecArray('Complex')"
   ]
  },
  {
   "cell_type": "code",
   "execution_count": 12,
   "metadata": {
    "collapsed": false
   },
   "outputs": [
    {
     "data": {
      "text/plain": [
       "<interactivePlotFunctions.MTinteractiveMap at 0x7f2fe7fa1d50>"
      ]
     },
     "execution_count": 12,
     "metadata": {},
     "output_type": "execute_result"
    }
   ],
   "source": [
    "%matplotlib qt\n",
    "iPf.MTinteractiveMap([dUse.toRecArray('Complex'),finData])"
   ]
  },
  {
   "cell_type": "code",
   "execution_count": null,
   "metadata": {
    "collapsed": false
   },
   "outputs": [],
   "source": []
  },
  {
   "cell_type": "markdown",
   "metadata": {
    "collapsed": true
   },
   "source": [
    "### run2"
   ]
  },
  {
   "cell_type": "code",
   "execution_count": 13,
   "metadata": {
    "collapsed": true
   },
   "outputs": [],
   "source": [
    "run2Files = loadInversionMakeVTRFiles('run2',mesh,mappingExpAct)"
   ]
  },
  {
   "cell_type": "code",
   "execution_count": 14,
   "metadata": {
    "collapsed": false
   },
   "outputs": [
    {
     "data": {
      "image/png": "[encoded data removed]",
      "text/plain": [
       "<matplotlib.figure.Figure at 0x7f2fc660dad0>"
      ]
     },
     "metadata": {},
     "output_type": "display_data"
    }
   ],
   "source": [
    "%matplotlib inline\n",
    "convergeCurves(run2Files)"
   ]
  },
  {
   "cell_type": "code",
   "execution_count": 16,
   "metadata": {
    "collapsed": false
   },
   "outputs": [
    {
     "ename": "AssertionError",
     "evalue": "v must have the correct number of data.",
     "output_type": "error",
     "traceback": [
      "\u001b[1;31m---------------------------------------------------------------------------\u001b[0m",
      "\u001b[1;31mAssertionError\u001b[0m                            Traceback (most recent call last)",
      "\u001b[1;32m<ipython-input-16-a0bf944c8567>\u001b[0m in \u001b[0;36m<module>\u001b[1;34m()\u001b[0m\n\u001b[1;32m----> 1\u001b[1;33m \u001b[0mfinData\u001b[0m \u001b[1;33m=\u001b[0m \u001b[0mNSEM\u001b[0m\u001b[1;33m.\u001b[0m\u001b[0mData\u001b[0m\u001b[1;33m(\u001b[0m\u001b[0msurvey\u001b[0m\u001b[1;33m,\u001b[0m\u001b[0mrun2Files\u001b[0m\u001b[1;33m[\u001b[0m\u001b[1;36m0\u001b[0m\u001b[1;33m]\u001b[0m\u001b[1;33m[\u001b[0m\u001b[1;34m'dpred'\u001b[0m\u001b[1;33m]\u001b[0m\u001b[1;33m)\u001b[0m\u001b[1;33m.\u001b[0m\u001b[0mtoRecArray\u001b[0m\u001b[1;33m(\u001b[0m\u001b[1;34m'Complex'\u001b[0m\u001b[1;33m)\u001b[0m\u001b[1;33m\u001b[0m\u001b[0m\n\u001b[0m",
      "\u001b[1;32m/home/gudni/gitCodes/python/simpeg/SimPEG/NSEM/SurveyNSEM.pyc\u001b[0m in \u001b[0;36m__init__\u001b[1;34m(self, survey, v)\u001b[0m\n\u001b[0;32m    453\u001b[0m     \u001b[1;32mdef\u001b[0m \u001b[0m__init__\u001b[0m\u001b[1;33m(\u001b[0m\u001b[0mself\u001b[0m\u001b[1;33m,\u001b[0m \u001b[0msurvey\u001b[0m\u001b[1;33m,\u001b[0m \u001b[0mv\u001b[0m\u001b[1;33m=\u001b[0m\u001b[0mNone\u001b[0m\u001b[1;33m)\u001b[0m\u001b[1;33m:\u001b[0m\u001b[1;33m\u001b[0m\u001b[0m\n\u001b[0;32m    454\u001b[0m         \u001b[1;31m# Pass the variables to the \"parent\" method\u001b[0m\u001b[1;33m\u001b[0m\u001b[1;33m\u001b[0m\u001b[0m\n\u001b[1;32m--> 455\u001b[1;33m         \u001b[0mSimPEGsurvey\u001b[0m\u001b[1;33m.\u001b[0m\u001b[0mData\u001b[0m\u001b[1;33m.\u001b[0m\u001b[0m__init__\u001b[0m\u001b[1;33m(\u001b[0m\u001b[0mself\u001b[0m\u001b[1;33m,\u001b[0m \u001b[0msurvey\u001b[0m\u001b[1;33m,\u001b[0m \u001b[0mv\u001b[0m\u001b[1;33m)\u001b[0m\u001b[1;33m\u001b[0m\u001b[0m\n\u001b[0m\u001b[0;32m    456\u001b[0m \u001b[1;33m\u001b[0m\u001b[0m\n\u001b[0;32m    457\u001b[0m     \u001b[1;31m# # Import data\u001b[0m\u001b[1;33m\u001b[0m\u001b[1;33m\u001b[0m\u001b[0m\n",
      "\u001b[1;32m/home/gudni/gitCodes/python/simpeg/SimPEG/Survey.pyc\u001b[0m in \u001b[0;36m__init__\u001b[1;34m(self, survey, v)\u001b[0m\n\u001b[0;32m    154\u001b[0m             \u001b[0mself\u001b[0m\u001b[1;33m.\u001b[0m\u001b[0m_dataDict\u001b[0m\u001b[1;33m[\u001b[0m\u001b[0msrc\u001b[0m\u001b[1;33m]\u001b[0m \u001b[1;33m=\u001b[0m \u001b[1;33m{\u001b[0m\u001b[1;33m}\u001b[0m\u001b[1;33m\u001b[0m\u001b[0m\n\u001b[0;32m    155\u001b[0m         \u001b[1;32mif\u001b[0m \u001b[0mv\u001b[0m \u001b[1;32mis\u001b[0m \u001b[1;32mnot\u001b[0m \u001b[0mNone\u001b[0m\u001b[1;33m:\u001b[0m\u001b[1;33m\u001b[0m\u001b[0m\n\u001b[1;32m--> 156\u001b[1;33m             \u001b[0mself\u001b[0m\u001b[1;33m.\u001b[0m\u001b[0mfromvec\u001b[0m\u001b[1;33m(\u001b[0m\u001b[0mv\u001b[0m\u001b[1;33m)\u001b[0m\u001b[1;33m\u001b[0m\u001b[0m\n\u001b[0m\u001b[0;32m    157\u001b[0m \u001b[1;33m\u001b[0m\u001b[0m\n\u001b[0;32m    158\u001b[0m     \u001b[1;32mdef\u001b[0m \u001b[0m_ensureCorrectKey\u001b[0m\u001b[1;33m(\u001b[0m\u001b[0mself\u001b[0m\u001b[1;33m,\u001b[0m \u001b[0mkey\u001b[0m\u001b[1;33m)\u001b[0m\u001b[1;33m:\u001b[0m\u001b[1;33m\u001b[0m\u001b[0m\n",
      "\u001b[1;32m/home/gudni/gitCodes/python/simpeg/SimPEG/Survey.pyc\u001b[0m in \u001b[0;36mfromvec\u001b[1;34m(self, v)\u001b[0m\n\u001b[0;32m    193\u001b[0m     \u001b[1;32mdef\u001b[0m \u001b[0mfromvec\u001b[0m\u001b[1;33m(\u001b[0m\u001b[0mself\u001b[0m\u001b[1;33m,\u001b[0m \u001b[0mv\u001b[0m\u001b[1;33m)\u001b[0m\u001b[1;33m:\u001b[0m\u001b[1;33m\u001b[0m\u001b[0m\n\u001b[0;32m    194\u001b[0m         \u001b[0mv\u001b[0m \u001b[1;33m=\u001b[0m \u001b[0mUtils\u001b[0m\u001b[1;33m.\u001b[0m\u001b[0mmkvc\u001b[0m\u001b[1;33m(\u001b[0m\u001b[0mv\u001b[0m\u001b[1;33m)\u001b[0m\u001b[1;33m\u001b[0m\u001b[0m\n\u001b[1;32m--> 195\u001b[1;33m         \u001b[1;32massert\u001b[0m \u001b[0mv\u001b[0m\u001b[1;33m.\u001b[0m\u001b[0msize\u001b[0m \u001b[1;33m==\u001b[0m \u001b[0mself\u001b[0m\u001b[1;33m.\u001b[0m\u001b[0msurvey\u001b[0m\u001b[1;33m.\u001b[0m\u001b[0mnD\u001b[0m\u001b[1;33m,\u001b[0m \u001b[1;34m'v must have the correct number of data.'\u001b[0m\u001b[1;33m\u001b[0m\u001b[0m\n\u001b[0m\u001b[0;32m    196\u001b[0m         \u001b[0mindBot\u001b[0m\u001b[1;33m,\u001b[0m \u001b[0mindTop\u001b[0m \u001b[1;33m=\u001b[0m \u001b[1;36m0\u001b[0m\u001b[1;33m,\u001b[0m \u001b[1;36m0\u001b[0m\u001b[1;33m\u001b[0m\u001b[0m\n\u001b[0;32m    197\u001b[0m         \u001b[1;32mfor\u001b[0m \u001b[0msrc\u001b[0m \u001b[1;32min\u001b[0m \u001b[0mself\u001b[0m\u001b[1;33m.\u001b[0m\u001b[0msurvey\u001b[0m\u001b[1;33m.\u001b[0m\u001b[0msrcList\u001b[0m\u001b[1;33m:\u001b[0m\u001b[1;33m\u001b[0m\u001b[0m\n",
      "\u001b[1;31mAssertionError\u001b[0m: v must have the correct number of data."
     ]
    }
   ],
   "source": [
    "finData = NSEM.Data(survey,run2Files[0]['dpred']).toRecArray('Complex')"
   ]
  },
  {
   "cell_type": "markdown",
   "metadata": {},
   "source": [
    "## run3"
   ]
  },
  {
   "cell_type": "code",
   "execution_count": 17,
   "metadata": {
    "collapsed": true
   },
   "outputs": [],
   "source": [
    "run3Files = loadInversionMakeVTRFiles('run3',mesh,mappingExpAct)"
   ]
  },
  {
   "cell_type": "code",
   "execution_count": 18,
   "metadata": {
    "collapsed": false
   },
   "outputs": [
    {
     "data": {
      "image/png": "[encoded data removed]",
      "text/plain": [
       "<matplotlib.figure.Figure at 0x7f2fe4228c90>"
      ]
     },
     "metadata": {},
     "output_type": "display_data"
    }
   ],
   "source": [
    "%matplotlib inline\n",
    "convergeCurves(run3Files)"
   ]
  },
  {
   "cell_type": "markdown",
   "metadata": {},
   "source": [
    "## run4"
   ]
  },
  {
   "cell_type": "code",
   "execution_count": 15,
   "metadata": {
    "collapsed": true
   },
   "outputs": [],
   "source": [
    "run4Files = loadInversionMakeVTRFiles('run4',mesh,mappingExpAct)"
   ]
  },
  {
   "cell_type": "code",
   "execution_count": 16,
   "metadata": {
    "collapsed": false
   },
   "outputs": [
    {
     "data": {
      "image/png": "[encoded data removed]",
      "text/plain": [
       "<matplotlib.figure.Figure at 0x7f2fc66037d0>"
      ]
     },
     "metadata": {},
     "output_type": "display_data"
    }
   ],
   "source": [
    "%matplotlib inline\n",
    "convergeCurves(run4Files)"
   ]
  },
  {
   "cell_type": "code",
   "execution_count": null,
   "metadata": {
    "collapsed": true
   },
   "outputs": [],
   "source": []
  },
  {
   "cell_type": "code",
   "execution_count": null,
   "metadata": {
    "collapsed": true
   },
   "outputs": [],
   "source": []
  }
 ],
 "metadata": {
  "kernelspec": {
   "display_name": "Python 2",
   "language": "python",
   "name": "python2"
  },
  "language_info": {
   "codemirror_mode": {
    "name": "ipython",
    "version": 2
   },
   "file_extension": ".py",
   "mimetype": "text/x-python",
   "name": "python",
   "nbconvert_exporter": "python",
   "pygments_lexer": "ipython2",
   "version": "2.7.11"
  }
 },
 "nbformat": 4,
 "nbformat_minor": 0
}
