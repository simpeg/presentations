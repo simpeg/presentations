{
 "cells": [
  {
   "cell_type": "code",
   "execution_count": 1,
   "metadata": {
    "collapsed": false
   },
   "outputs": [],
   "source": [
    "import SimPEG as simpeg\n",
    "from SimPEG import NSEM\n",
    "from glob import glob\n",
    "import numpy as np, sys, matplotlib.pyplot as plt\n",
    "# sys.path.append('/home/gudni/Dropbox/Work/UBCwork/SyntheticModels/SynGeothermalStructures/ThesisModels')\n",
    "# import synhelpFunc"
   ]
  },
  {
   "cell_type": "code",
   "execution_count": 2,
   "metadata": {
    "collapsed": false
   },
   "outputs": [],
   "source": [
    "def convergeCurves(resList):\n",
    "    its  = np.array([res['iter'] for res in resList]).T\n",
    "    ind = np.argsort(its)\n",
    "    phid = np.array([res['phi_d'] for res in resList]).T\n",
    "    try:\n",
    "        phim = np.array([res['phi_m'] for res in resList]).T\n",
    "    except:\n",
    "        phim = np.array([res['phi_ms'] for res in resList]).T + np.array([res['phi_mx'] for res in resList]).T + np.array([res['phi_my'] for res in resList]).T + np.array([res['phi_mz'] for res in resList]).T     \n",
    "    \n",
    "    x = np.arange(len(its))\n",
    "    \n",
    "    fig, ax1 = plt.subplots()\n",
    "    ax1.semilogy(x,phid[ind],'bx--')\n",
    "    ax1.set_ylabel('phi_d', color='b')\n",
    "    plt.hlines(len(resList[0]['dpred'])*.75,0,len(x),colors='g',linestyles='-.')\n",
    "    for tl in ax1.get_yticklabels():\n",
    "        tl.set_color('b')\n",
    "    ax2 = ax1.twinx()          \n",
    "    ax2.semilogy(x,phim[ind],'rx--',)\n",
    "    ax2.set_ylabel('phi_m', color='r')\n",
    "    for tl in ax2.get_yticklabels():\n",
    "        tl.set_color('r')\n",
    "    plt.show()\n",
    "    \n",
    "def tikanovCurve(resList):\n",
    "    its  = np.array([res['iter'] for res in resList]).T\n",
    "    ind = np.argsort(its)\n",
    "    phid = np.array([res['phi_d'] for res in resList]).T\n",
    "    phim = np.array([res['phi_m'] for res in resList]).T\n",
    "    x = np.arange(len(its))\n",
    "    fig, ax1 = plt.subplots()\n",
    "    ax1.loglog(phim[ind],phid[ind],'bx--')\n",
    "    ax1.set_ylabel('phi_d')\n",
    "    ax1.set_xlabel('phi_m')\n",
    "    plt.hlines(len(resList[0]['dpred'])*.75,np.min(phim),np.max(phim),colors='g',linestyles='-.')\n",
    "    plt.show()\n",
    "    \n",
    "def allconvergeCurves(resList):\n",
    "    its  = np.array([res['iter'] for res in resList]).T\n",
    "    ind = np.argsort(its)\n",
    "    phid = np.array([res['phi_d'] for res in resList]).T\n",
    "    phim = np.array([res['phi_m'] for res in resList]).T\n",
    "    phims = np.array([res['phi_ms'] for res in resList]).T\n",
    "    phimx = np.array([res['phi_mx'] for res in resList]).T\n",
    "    phimy = np.array([res['phi_my'] for res in resList]).T\n",
    "    phimz = np.array([res['phi_mz'] for res in resList]).T\n",
    "    x = np.arange(len(its))\n",
    "    fig, ax1 = plt.subplots()\n",
    "    ax1.semilogy(x,phid[ind],'bx--',label='phid')\n",
    "    ax1.set_ylabel('phi_d', color='b')\n",
    "    plt.hlines(len(resList[0]['dpred'])*.75,0,len(x),colors='g',linestyles='-.')\n",
    "    for tl in ax1.get_yticklabels():\n",
    "        tl.set_color('b')         \n",
    "    ax1.semilogy(x,phim[ind],'gx--',label='phim')\n",
    "    ax1.semilogy(x,phims[ind],'y,--',label='phims')\n",
    "    ax1.semilogy(x,phimx[ind],'r.--',label='phimx')\n",
    "    ax1.semilogy(x,phimy[ind],'r+--',label='phimy')\n",
    "    ax1.semilogy(x,phimz[ind],'r*--',label='phimz')\n",
    "    \n",
    "    plt.legend()\n",
    "    plt.show()\n",
    "\n",
    "def loadInversionMakeVTRFiles(dirStr,mesh,mapping):\n",
    "    temp = [np.load(f) for f in glob(dirStr+'/*Inversion*.npz')]\n",
    "    iterResults = [i if len(i.keys()) > 1 else i['arr_0'].tolist() for i in temp ]\n",
    "    # Make the vtk models\n",
    "    for it in iterResults:\n",
    "        mesh.writeVTK(dirStr+'/recoveredMod_{:s}_it{:.0f}.vtr'.format(dirStr,int(it['iter'])),{'S/m':mapping*it['m']})\n",
    "    return iterResults"
   ]
  },
  {
   "cell_type": "code",
   "execution_count": 3,
   "metadata": {
    "collapsed": true
   },
   "outputs": [],
   "source": [
    "# Load the model\n",
    "mesh, modDict = simpeg.Mesh.TensorMesh.readVTK('nsmesh_GKRCoarseHKPK1.vtr')\n",
    "sigma = modDict['S/m']"
   ]
  },
  {
   "cell_type": "code",
   "execution_count": 4,
   "metadata": {
    "collapsed": false
   },
   "outputs": [],
   "source": [
    "# Make the mapping\n",
    "active = sigma != 1e-8\n",
    "actMap = simpeg.Maps.InjectActiveCells(mesh, active, np.log(1e-8), nC=mesh.nC)\n",
    "mappingExpAct = simpeg.Maps.ExpMap(mesh) * actMap"
   ]
  },
  {
   "cell_type": "code",
   "execution_count": 5,
   "metadata": {
    "collapsed": false
   },
   "outputs": [],
   "source": [
    "# Load the data\n",
    "drecAll = np.load('MTdataStArr_nsmesh_GKRHKPK1.npy')\n"
   ]
  },
  {
   "cell_type": "markdown",
   "metadata": {},
   "source": [
    "### run1\n"
   ]
  },
  {
   "cell_type": "code",
   "execution_count": 7,
   "metadata": {
    "collapsed": false
   },
   "outputs": [],
   "source": [
    "# Select larger frequency band for the MT data\n",
    "indMTFreq1 = np.sum( [drecAll['freq'] == val for val in  np.unique(drecAll['freq'])[12::2]] ,axis=0,dtype=bool)\n",
    "mtRecArr1 = drecAll[indMTFreq1][['freq','x','y','z','zxy','zyx']]\n",
    "dUse1 = NSEM.Data.fromRecArray(mtRecArr1)\n",
    "\n",
    "# Extract to survey\n",
    "survey1 = dUse1.survey"
   ]
  },
  {
   "cell_type": "code",
   "execution_count": 62,
   "metadata": {
    "collapsed": false
   },
   "outputs": [],
   "source": [
    "run1Files = loadInversionMakeVTRFiles('run1',mesh,mappingExpAct)"
   ]
  },
  {
   "cell_type": "code",
   "execution_count": 63,
   "metadata": {
    "collapsed": false
   },
   "outputs": [
    {
     "data": {
      "image/png": "[encoded data removed]",
      "text/plain": [
       "<matplotlib.figure.Figure at 0x7ff40d8bfc10>"
      ]
     },
     "metadata": {},
     "output_type": "display_data"
    }
   ],
   "source": [
    "%matplotlib inline\n",
    "convergeCurves(run1Files)"
   ]
  },
  {
   "cell_type": "code",
   "execution_count": 64,
   "metadata": {
    "collapsed": false
   },
   "outputs": [
    {
     "data": {
      "text/plain": [
       "[3, 1, 8, 7, 5, 2, 4, 6, 9]"
      ]
     },
     "execution_count": 64,
     "metadata": {},
     "output_type": "execute_result"
    }
   ],
   "source": [
    "[res['iter'] for res in run1Files]"
   ]
  },
  {
   "cell_type": "code",
   "execution_count": 76,
   "metadata": {
    "collapsed": true
   },
   "outputs": [],
   "source": [
    "%matplotlib qt\n",
    "sys.path.append('/home/gudni/Dropbox/code/python/MTview/')\n",
    "import interactivePlotFunctions as iPf"
   ]
  },
  {
   "cell_type": "code",
   "execution_count": 77,
   "metadata": {
    "collapsed": false
   },
   "outputs": [],
   "source": [
    "finData1 = NSEM.Data(survey1,run1Files[np.argmax([it['iter'] for it in run1Files])]['dpred']).toRecArray('Complex')"
   ]
  },
  {
   "cell_type": "code",
   "execution_count": 78,
   "metadata": {
    "collapsed": false
   },
   "outputs": [
    {
     "data": {
      "text/plain": [
       "<interactivePlotFunctions.MTinteractiveMap at 0x7ff40d92da10>"
      ]
     },
     "execution_count": 78,
     "metadata": {},
     "output_type": "execute_result"
    }
   ],
   "source": [
    "%matplotlib qt\n",
    "iPf.MTinteractiveMap([dUse1.toRecArray('Complex'),finData1])"
   ]
  },
  {
   "cell_type": "code",
   "execution_count": null,
   "metadata": {
    "collapsed": false
   },
   "outputs": [],
   "source": []
  },
  {
   "cell_type": "markdown",
   "metadata": {
    "collapsed": true
   },
   "source": [
    "### run2"
   ]
  },
  {
   "cell_type": "code",
   "execution_count": 42,
   "metadata": {
    "collapsed": true
   },
   "outputs": [],
   "source": [
    "indMTFreq2 = np.sum( [drecAll['freq'] == val for val in  np.unique(drecAll['freq'])[12::2]] ,axis=0,dtype=bool)\n",
    "mtRecArr2 = drecAll[indMTFreq2][['freq','x','y','z','zxx','zxy','zyx','zyy']]\n",
    "dUse2 = NSEM.Data.fromRecArray(mtRecArr2)\n",
    "\n",
    "# Extract to survey\n",
    "survey2 = dUse2.survey"
   ]
  },
  {
   "cell_type": "code",
   "execution_count": 72,
   "metadata": {
    "collapsed": true
   },
   "outputs": [],
   "source": [
    "run2Files = loadInversionMakeVTRFiles('run2',mesh,mappingExpAct)"
   ]
  },
  {
   "cell_type": "code",
   "execution_count": 73,
   "metadata": {
    "collapsed": false
   },
   "outputs": [
    {
     "data": {
      "image/png": "[encoded data removed]",
      "text/plain": [
       "<matplotlib.figure.Figure at 0x7ff40d2091d0>"
      ]
     },
     "metadata": {},
     "output_type": "display_data"
    }
   ],
   "source": [
    "%matplotlib inline\n",
    "convergeCurves(run2Files)"
   ]
  },
  {
   "cell_type": "code",
   "execution_count": 45,
   "metadata": {
    "collapsed": false
   },
   "outputs": [],
   "source": [
    "finData2 = NSEM.Data(survey2,run2Files[np.argmax([it['iter'] for it in run2Files])]['dpred']).toRecArray('Complex')"
   ]
  },
  {
   "cell_type": "code",
   "execution_count": 47,
   "metadata": {
    "collapsed": false
   },
   "outputs": [
    {
     "data": {
      "text/plain": [
       "<interactivePlotFunctions.MTinteractiveMap at 0x7ff40e619b90>"
      ]
     },
     "execution_count": 47,
     "metadata": {},
     "output_type": "execute_result"
    }
   ],
   "source": [
    "%matplotlib qt\n",
    "iPf.MTinteractiveMap([dUse2.toRecArray('Complex'),finData2])"
   ]
  },
  {
   "cell_type": "code",
   "execution_count": 74,
   "metadata": {
    "collapsed": false
   },
   "outputs": [
    {
     "data": {
      "text/plain": [
       "31787.095499038696"
      ]
     },
     "execution_count": 74,
     "metadata": {},
     "output_type": "execute_result"
    }
   ],
   "source": [
    "np.sum(mesh.hx)"
   ]
  },
  {
   "cell_type": "code",
   "execution_count": 75,
   "metadata": {
    "collapsed": false
   },
   "outputs": [
    {
     "data": {
      "text/plain": [
       "15915.494309189533"
      ]
     },
     "execution_count": 75,
     "metadata": {},
     "output_type": "execute_result"
    }
   ],
   "source": [
    "NSEM.Utils.skindepth(10000,10)"
   ]
  },
  {
   "cell_type": "code",
   "execution_count": null,
   "metadata": {
    "collapsed": true
   },
   "outputs": [],
   "source": []
  }
 ],
 "metadata": {
  "kernelspec": {
   "display_name": "Python 2",
   "language": "python",
   "name": "python2"
  },
  "language_info": {
   "codemirror_mode": {
    "name": "ipython",
    "version": 2
   },
   "file_extension": ".py",
   "mimetype": "text/x-python",
   "name": "python",
   "nbconvert_exporter": "python",
   "pygments_lexer": "ipython2",
   "version": "2.7.11"
  }
 },
 "nbformat": 4,
 "nbformat_minor": 0
}
