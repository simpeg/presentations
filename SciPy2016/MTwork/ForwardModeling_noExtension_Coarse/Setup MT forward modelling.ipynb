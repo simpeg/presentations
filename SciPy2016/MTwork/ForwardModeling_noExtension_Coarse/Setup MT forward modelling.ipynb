{
 "cells": [
  {
   "cell_type": "code",
   "execution_count": 1,
   "metadata": {
    "collapsed": true
   },
   "outputs": [],
   "source": [
    "# Setting up a model and a mesh for the MT forward problem"
   ]
  },
  {
   "cell_type": "code",
   "execution_count": 62,
   "metadata": {
    "collapsed": false
   },
   "outputs": [],
   "source": [
    "import SimPEG as simpeg, sys\n",
    "import numpy as np\n",
    "from SimPEG import NSEM\n",
    "sys.path.append('/Volumes/MacintoshHD/Users/thibautastic/Dropbox/PhD_UBC/telluricpy')\n",
    "import telluricpy\n",
    "import matplotlib.pyplot as plt\n",
    "%matplotlib inline\n",
    "import copy"
   ]
  },
  {
   "cell_type": "code",
   "execution_count": 3,
   "metadata": {
    "collapsed": true
   },
   "outputs": [],
   "source": [
    "# Define the area of interest\n",
    "bw, be = 557100, 557580\n",
    "bs, bn = 7133340, 7133960\n",
    "bb, bt = 0,480"
   ]
  },
  {
   "cell_type": "markdown",
   "metadata": {
    "collapsed": false
   },
   "source": [
    "# Build the mesh\n",
    "# Design the tensors\n",
    "hSize,vSize =  25., 10\n",
    "nrCcore = [15, 8, 6, 5, 4, 2, 2, 2, 2]\n",
    "hPad = simpeg.Utils.meshTensor([(hSize,10,1.5)])\n",
    "hx = np.concatenate((hPad[::-1],np.ones(((be-bw)/hSize,))*hSize,hPad))\n",
    "hy = np.concatenate((hPad[::-1],np.ones(((bn-bs)/hSize,))*hSize,hPad))\n",
    "airPad = simpeg.Utils.meshTensor([(vSize,13,1.5)])\n",
    "vCore = np.concatenate([ np.ones(i)*s for i, s in zip(nrCcore,(simpeg.Utils.meshTensor([(vSize,1),(vSize,8,1.3)])))])[::-1]\n",
    "botPad = simpeg.Utils.meshTensor([(vCore[0],8,-1.5)])\n",
    "hz = np.concatenate((botPad,vCore,airPad))\n",
    "# Calculate the x0 point\n",
    "x0 = np.array([bw-np.sum(hPad),bs-np.sum(hPad),bt-np.sum(vCore)-np.sum(botPad)])\n",
    "# Make the mesh\n",
    "meshFor = simpeg.Mesh.TensorMesh([hx,hy,hz],x0)\n"
   ]
  },
  {
   "cell_type": "code",
   "execution_count": 76,
   "metadata": {
    "collapsed": true
   },
   "outputs": [],
   "source": [
    "# Build the Inversion mesh\n",
    "# Design the tensors\n",
    "hSizeI,vSizeI =  25., 10.\n",
    "nrCcoreI = [12, 6, 6, 6, 5, 4, 3, 2, 1]\n",
    "hPadI = simpeg.Utils.meshTensor([(hSizeI,9,1.5)])\n",
    "hxI = np.concatenate((hPadI[::-1],np.ones(((be-bw)/hSizeI,))*hSizeI,hPadI))\n",
    "hyI = np.concatenate((hPadI[::-1],np.ones(((bn-bs)/hSizeI,))*hSizeI,hPadI))\n",
    "airPadI = simpeg.Utils.meshTensor([(vSizeI,12,1.5)])\n",
    "vCoreI = np.concatenate([ np.ones(i)*s for i, s in zip(nrCcoreI,(simpeg.Utils.meshTensor([(vSizeI,1),(vSizeI,8,1.3)])))])[::-1]\n",
    "botPadI = simpeg.Utils.meshTensor([(vCoreI[0],7,-1.5)])\n",
    "hzI = np.concatenate((botPadI,vCoreI,airPadI))\n",
    "# Calculate the x0 point\n",
    "x0I = np.array([bw-np.sum(hPadI),bs-np.sum(hPadI),bt-np.sum(vCoreI)-np.sum(botPadI)])\n",
    "# Make the mesh\n",
    "meshInv = simpeg.Mesh.TensorMesh([hxI,hyI,hzI],x0I)\n",
    "meshFor = copy.deepcopy(meshInv)"
   ]
  },
  {
   "cell_type": "code",
   "execution_count": 77,
   "metadata": {
    "collapsed": false
   },
   "outputs": [
    {
     "name": "stdout",
     "output_type": "stream",
     "text": [
      "1038.9319582\n",
      "99456\n",
      "  ---- 3-D TensorMesh ----  \n",
      "   x0: 554291.75\n",
      "   y0: 7130531.75\n",
      "   z0: -4530.95\n",
      "  nCx: 37\n",
      "  nCy: 42\n",
      "  nCz: 64\n",
      "   hx: 961.08, 640.72, 427.15, 284.77, 189.84, 126.56, 84.38, 56.25, 37.50, 19*25.00, 37.50, 56.25, 84.38, 126.56, 189.84, 284.77, 427.15, 640.72, 961.08\n",
      "   hy: 961.08, 640.72, 427.15, 284.77, 189.84, 126.56, 84.38, 56.25, 37.50, 24*25.00, 37.50, 56.25, 84.38, 126.56, 189.84, 284.77, 427.15, 640.72, 961.08\n",
      "   hz: 1393.75, 929.17, 619.45, 412.96, 275.31, 183.54, 122.36, 81.57, 2*62.75, 3*48.27, 4*37.13, 5*28.56, 6*21.97, 6*16.90, 6*13.00, 12*10.00, 15.00, 22.50, 33.75, 50.62, 75.94, 113.91, 170.86, 256.29, 384.43, 576.65, 864.98, 1297.46\n"
     ]
    }
   ],
   "source": [
    "print np.sum(vCore)\n",
    "print meshFor.nC\n",
    "print meshFor"
   ]
  },
  {
   "cell_type": "code",
   "execution_count": 78,
   "metadata": {
    "collapsed": false
   },
   "outputs": [],
   "source": [
    "# Save the mesh\n",
    "meshFor.writeVTK('nsmesh_CoarseHKPK1.vtr',{'id':np.arange(meshFor.nC)})\n",
    "nsvtr = telluricpy.vtkTools.io.readVTRFile('nsmesh_CoarseHKPK1.vtr')"
   ]
  },
  {
   "cell_type": "code",
   "execution_count": 79,
   "metadata": {
    "collapsed": false
   },
   "outputs": [
    {
     "data": {
      "text/plain": [
       "(vtkRectilinearGrid)0x1192d9a70"
      ]
     },
     "execution_count": 79,
     "metadata": {},
     "output_type": "execute_result"
    }
   ],
   "source": [
    "nsvtr"
   ]
  },
  {
   "cell_type": "code",
   "execution_count": 80,
   "metadata": {
    "collapsed": true
   },
   "outputs": [],
   "source": [
    "topoSurf = telluricpy.vtkTools.polydata.normFilter(telluricpy.vtkTools.io.readVTPFile('../../Geological_model/CDED_Lake_Coarse.vtp'))\n",
    "activeMod = telluricpy.vtkTools.extraction.extractDataSetWithPolygon(nsvtr,topoSurf)"
   ]
  },
  {
   "cell_type": "code",
   "execution_count": 81,
   "metadata": {
    "collapsed": false
   },
   "outputs": [
    {
     "data": {
      "text/plain": [
       "(vtkPolyData)0x1192d9ad0"
      ]
     },
     "execution_count": 81,
     "metadata": {},
     "output_type": "execute_result"
    }
   ],
   "source": [
    "topoSurf"
   ]
  },
  {
   "cell_type": "code",
   "execution_count": 82,
   "metadata": {
    "collapsed": false
   },
   "outputs": [],
   "source": [
    "#telluricpy.vtkTools.io.writeVTUFile('activeModel.vtu',activeMod)"
   ]
  },
  {
   "cell_type": "code",
   "execution_count": 83,
   "metadata": {
    "collapsed": false
   },
   "outputs": [],
   "source": [
    "# Get active indieces \n",
    "activeInd = telluricpy.vtkTools.dataset.getDataArray(activeMod,'id')"
   ]
  },
  {
   "cell_type": "code",
   "execution_count": 84,
   "metadata": {
    "collapsed": true
   },
   "outputs": [],
   "source": [
    "# Make the conductivity dictionary\n",
    "# Note: using the background value for the till, since the extraction gets the ind's below the till surface\n",
    "geoStructFileDict = {'Till':1e-4,\n",
    " 'PK1':5e-2,\n",
    " 'HK1':1e-3,\n",
    "  'VK':5e-3}"
   ]
  },
  {
   "cell_type": "code",
   "execution_count": 85,
   "metadata": {
    "collapsed": false
   },
   "outputs": [],
   "source": [
    "# Loop through\n",
    "extP = '../../Geological_model/'\n",
    "geoStructIndDict = {}\n",
    "for key, val in geoStructFileDict.iteritems():\n",
    "    geoPoly = telluricpy.vtkTools.polydata.normFilter(telluricpy.vtkTools.io.readVTPFile(extP+key+'.vtp'))\n",
    "    modStruct = telluricpy.vtkTools.extraction.extractDataSetWithPolygon(activeMod,geoPoly,extBoundaryCells=True,extInside=True,extractBounds=True)\n",
    "    geoStructIndDict[key] = telluricpy.vtkTools.dataset.getDataArray(modStruct,'id')"
   ]
  },
  {
   "cell_type": "code",
   "execution_count": 86,
   "metadata": {
    "collapsed": false
   },
   "outputs": [],
   "source": [
    "# Make the physical prop\n",
    "sigma = np.ones(meshFor.nC)*1e-8\n",
    "sigma[activeInd] = 1e-3 # 1e-4 is the background and 1e-3 is the till value\n",
    "# Add the structure\n",
    "for key in ['Till','PK1','HK1','VK']:\n",
    "    sigma[geoStructIndDict[key]] = geoStructFileDict[key]"
   ]
  },
  {
   "cell_type": "code",
   "execution_count": 87,
   "metadata": {
    "collapsed": false
   },
   "outputs": [
    {
     "data": {
      "image/png": "[encoded data removed]",
      "text/plain": [
       "<matplotlib.figure.Figure at 0x1192831d0>"
      ]
     },
     "metadata": {},
     "output_type": "display_data"
    }
   ],
   "source": [
    "fig = plt.figure(figsize=(10,10))\n",
    "ax = plt.subplot(111)\n",
    "model = sigma.reshape(meshFor.vnC,order='F')\n",
    "a = ax.pcolormesh(meshFor.gridCC[:,0].reshape(meshFor.vnC,order='F')[:,20,:],meshFor.gridCC[:,2].reshape(meshFor.vnC,order='F')[:,20,:],np.log10(model[:,20,:]),edgecolor='k')\n",
    "\n",
    "ax.set_xlim([bw,be])\n",
    "ax.set_ylim([-0,bt])\n",
    "ax.grid(which=\"major\")\n",
    "plt.colorbar(a)\n",
    "ax.set_aspect(\"equal\")"
   ]
  },
  {
   "cell_type": "code",
   "execution_count": 88,
   "metadata": {
    "collapsed": true
   },
   "outputs": [],
   "source": [
    "# Save the model\n",
    "meshFor.writeVTK('nsmesh_CoarseHKPK1_NoExtension.vtr',{'S/m':sigma})"
   ]
  },
  {
   "cell_type": "code",
   "execution_count": 89,
   "metadata": {
    "collapsed": true
   },
   "outputs": [],
   "source": [
    "import numpy as np"
   ]
  },
  {
   "cell_type": "code",
   "execution_count": 90,
   "metadata": {
    "collapsed": false
   },
   "outputs": [],
   "source": [
    "# Set up the forward modeling\n",
    "freq = np.logspace(5,3,16)\n",
    "np.save('MTfrequencies',freq)"
   ]
  },
  {
   "cell_type": "code",
   "execution_count": 91,
   "metadata": {
    "collapsed": false
   },
   "outputs": [
    {
     "data": {
      "text/plain": [
       "array([ 100000.        ,   73564.22544596,   54116.95265465,\n",
       "         39810.71705535,   29286.44564625,   21544.34690032,\n",
       "         15848.93192461,   11659.1440118 ,    8576.95898591,\n",
       "          6309.5734448 ,    4641.58883361,    3414.54887383,\n",
       "          2511.88643151,    1847.84979742,    1359.35639088,    1000.        ])"
      ]
     },
     "execution_count": 91,
     "metadata": {},
     "output_type": "execute_result"
    }
   ],
   "source": [
    "freq"
   ]
  },
  {
   "cell_type": "code",
   "execution_count": null,
   "metadata": {
    "collapsed": true
   },
   "outputs": [],
   "source": []
  },
  {
   "cell_type": "code",
   "execution_count": 92,
   "metadata": {
    "collapsed": false
   },
   "outputs": [],
   "source": [
    "# Find the locations on the surface of the model.\n",
    "# Get the outer shell of the model\n",
    "import vtk\n",
    "actModVTP = telluricpy.vtkTools.polydata.normFilter(telluricpy.vtkTools.extraction.geometryFilt(activeMod))\n",
    "polyBox = vtk.vtkCubeSource()\n",
    "polyBox.SetBounds(bw-5.,be+5,bs-5.,bn+5.,bb-5.,bt+5)\n",
    "polyBox.Update()\n",
    "# Exract the topo of the model\n",
    "modTopoVTP = telluricpy.vtkTools.extraction.extractDataSetWithPolygon(actModVTP,telluricpy.vtkTools.polydata.normFilter(polyBox.GetOutput()),extractBounds=False)\n",
    "telluricpy.vtkTools.io.writeVTPFile('topoSurf.vtp',actModVTP)"
   ]
  },
  {
   "cell_type": "code",
   "execution_count": 93,
   "metadata": {
    "collapsed": false
   },
   "outputs": [],
   "source": [
    "# Make the rxLocations file\n",
    "x,y = np.meshgrid(np.arange(bw+12.5,be,25),np.arange(bs+12.5,bn,25))\n",
    "xy = np.hstack((x.reshape(-1,1),y.reshape(-1,1)))\n",
    "# Find the location array\n",
    "locArr = telluricpy.modelTools.surfaceIntersect.findZofXYOnPolydata(xy,actModVTP) #modTopoVTP)\n",
    "np.save('MTlocations',locArr)"
   ]
  },
  {
   "cell_type": "code",
   "execution_count": 94,
   "metadata": {
    "collapsed": false
   },
   "outputs": [],
   "source": [
    "telluricpy.vtkTools.io.writeVTPFile('MTloc.vtp',telluricpy.dataFiles.XYZtools.makeCylinderPtsVTP(locArr,5,10,10))"
   ]
  },
  {
   "cell_type": "code",
   "execution_count": 95,
   "metadata": {
    "collapsed": false
   },
   "outputs": [],
   "source": [
    "# Running the forward modelling on the Cluster.\n",
    "# Define the forward run in findDiam_MTforward.py"
   ]
  },
  {
   "cell_type": "code",
   "execution_count": 57,
   "metadata": {
    "collapsed": false
   },
   "outputs": [
    {
     "ename": "ImportError",
     "evalue": "No module named interactivePlotFunctions",
     "output_type": "error",
     "traceback": [
      "\u001b[0;31m---------------------------------------------------------------------------\u001b[0m",
      "\u001b[0;31mImportError\u001b[0m                               Traceback (most recent call last)",
      "\u001b[0;32m<ipython-input-57-dab448487c8f>\u001b[0m in \u001b[0;36m<module>\u001b[0;34m()\u001b[0m\n\u001b[1;32m      1\u001b[0m \u001b[0mget_ipython\u001b[0m\u001b[0;34m(\u001b[0m\u001b[0;34m)\u001b[0m\u001b[0;34m.\u001b[0m\u001b[0mmagic\u001b[0m\u001b[0;34m(\u001b[0m\u001b[0;34mu'matplotlib qt'\u001b[0m\u001b[0;34m)\u001b[0m\u001b[0;34m\u001b[0m\u001b[0m\n\u001b[1;32m      2\u001b[0m \u001b[0;31m#sys.path.append('/home/gudni/Dropbox/code/python/MTview/')\u001b[0m\u001b[0;34m\u001b[0m\u001b[0;34m\u001b[0m\u001b[0m\n\u001b[0;32m----> 3\u001b[0;31m \u001b[0;32mimport\u001b[0m \u001b[0minteractivePlotFunctions\u001b[0m \u001b[0;32mas\u001b[0m \u001b[0miPf\u001b[0m\u001b[0;34m\u001b[0m\u001b[0m\n\u001b[0m",
      "\u001b[0;31mImportError\u001b[0m: No module named interactivePlotFunctions"
     ]
    }
   ],
   "source": [
    "%matplotlib qt\n",
    "#sys.path.append('/home/gudni/Dropbox/code/python/MTview/')\n",
    "import interactivePlotFunctions as iPf"
   ]
  },
  {
   "cell_type": "code",
   "execution_count": 60,
   "metadata": {
    "collapsed": false,
    "scrolled": true
   },
   "outputs": [
    {
     "data": {
      "text/plain": [
       "array([ (100000.0, 557112.5, 7133352.5, 430.0, (-1.0542164193648105-1.078716532478167j), (-23.140299596973666-19.826260505391872j), (23.389975746284172+16.906399777383363j), (0.8754499581492817+0.9556685008070969j), (-0.014494125205579434-0.07954239614803678j), (-0.041490314794175386-0.03416351101035116j)),\n",
       "       (100000.0, 557137.5, 7133352.5, 430.0, (-0.8021625305031573-1.0706053468599814j), (-22.468510894286695-20.396746977494697j), (21.559482953002853+16.879166721314032j), (0.7266645327124629+1.013308657415905j), (-0.026078011261232766-0.06460099808114624j), (-0.05167463997663666-0.045362677468930454j)),\n",
       "       (100000.0, 557162.5, 7133352.5, 430.0, (-1.2769734094735785-1.5464705772315357j), (-21.490658131993406-20.50650121756002j), (19.940463496713754+16.6686274356102j), (1.4318914664525015+1.704947597305036j), (-0.03226267161532167-0.0512420800212148j), (-0.06230127502660536-0.058274513337287906j)),\n",
       "       ...,\n",
       "       (1000.0, 557512.5, 7133952.5, 440.0, (1.197916611440613+0.6451022424541802j), (-4.228960881489435-3.790603760553026j), (7.223814873545087+5.52962654317978j), (-1.424563427490714-0.7286143613991704j), (-0.053654389267759194-0.03678133951175098j), (-0.04350593252014436-0.02697896861303861j)),\n",
       "       (1000.0, 557537.5, 7133952.5, 440.0, (1.3258772950342594+0.7024381786126792j), (-4.962594275818345-4.431871833081414j), (7.141032075670906+5.614100044153096j), (-1.3994160679868353-0.7107553643963683j), (-0.06562500121402796-0.0465067927411497j), (-0.037998144645303426-0.023423112855156056j)),\n",
       "       (1000.0, 557562.5, 7133952.5, 440.0, (2.0065745357923657+1.0828162579914034j), (-7.756236722381384-6.919293860657188j), (7.06987531573681+5.7449365897792015j), (-1.3988927543895338-0.7366594628536881j), (-0.06568332202732031-0.04746883772119973j), (-0.035034415429755314-0.021370552248376425j))], \n",
       "      dtype=[('freq', '<f8'), ('x', '<f8'), ('y', '<f8'), ('z', '<f8'), ('zxx', '<c16'), ('zxy', '<c16'), ('zyx', '<c16'), ('zyy', '<c16'), ('tzx', '<c16'), ('tzy', '<c16')])"
      ]
     },
     "execution_count": 60,
     "metadata": {},
     "output_type": "execute_result"
    }
   ],
   "source": [
    "# Load the data\n",
    "mtData = np.load('MTdataStArr_nsmesh_HKPK1Coarse_noExtension.npy')\n",
    "mtData"
   ]
  },
  {
   "cell_type": "code",
   "execution_count": 61,
   "metadata": {
    "collapsed": false
   },
   "outputs": [
    {
     "ename": "NameError",
     "evalue": "name 'rxT' is not defined",
     "output_type": "error",
     "traceback": [
      "\u001b[0;31m---------------------------------------------------------------------------\u001b[0m",
      "\u001b[0;31mNameError\u001b[0m                                 Traceback (most recent call last)",
      "\u001b[0;32m<ipython-input-61-b71e891fa06a>\u001b[0m in \u001b[0;36m<module>\u001b[0;34m()\u001b[0m\n\u001b[0;32m----> 1\u001b[0;31m \u001b[0mrxT\u001b[0m\u001b[0;34m\u001b[0m\u001b[0m\n\u001b[0m",
      "\u001b[0;31mNameError\u001b[0m: name 'rxT' is not defined"
     ]
    }
   ],
   "source": []
  },
  {
   "cell_type": "code",
   "execution_count": 110,
   "metadata": {
    "collapsed": false
   },
   "outputs": [
    {
     "data": {
      "text/plain": [
       "<interactivePlotFunctions.MTinteractiveMap at 0x7f3afe78ee10>"
      ]
     },
     "execution_count": 110,
     "metadata": {},
     "output_type": "execute_result"
    }
   ],
   "source": [
    "iPf.MTinteractiveMap([mtData])"
   ]
  },
  {
   "cell_type": "code",
   "execution_count": 104,
   "metadata": {
    "collapsed": false
   },
   "outputs": [],
   "source": [
    "# Looking at the data shows that data below 100Hz is affected by the boundary conditions, \n",
    "# which makes sense for very conductive conditions as we have.\n",
    "# Invert data in the 1e5-1e2 range."
   ]
  },
  {
   "cell_type": "markdown",
   "metadata": {},
   "source": [
    "Run the inversion on the cluster using the inv3d/run1/findDiam_inversion.py"
   ]
  },
  {
   "cell_type": "code",
   "execution_count": 106,
   "metadata": {
    "collapsed": false
   },
   "outputs": [],
   "source": [
    "drecAll = np.load('MTdataStArr_nsmesh_0.npy')"
   ]
  },
  {
   "cell_type": "code",
   "execution_count": 109,
   "metadata": {
    "collapsed": false
   },
   "outputs": [
    {
     "data": {
      "text/plain": [
       "array([    100.        ,     158.48931925,     251.18864315,\n",
       "           398.10717055,     630.95734448,    1000.        ,\n",
       "          1584.89319246,    2511.88643151,    3981.07170553,\n",
       "          6309.5734448 ,   10000.        ,   15848.93192461,\n",
       "         25118.8643151 ,   39810.71705535,   63095.73444802,  100000.        ])"
      ]
     },
     "execution_count": 109,
     "metadata": {},
     "output_type": "execute_result"
    }
   ],
   "source": [
    "np.unique(drecAll['freq'])[10::]"
   ]
  },
  {
   "cell_type": "code",
   "execution_count": 93,
   "metadata": {
    "collapsed": true
   },
   "outputs": [],
   "source": [
    "# Build the Inversion mesh\n",
    "# Design the tensors\n",
    "hSizeI,vSizeI =  25., 10.\n",
    "nrCcoreI = [12, 6, 6, 6, 5, 4, 3, 2, 1]\n",
    "hPadI = simpeg.Utils.meshTensor([(hSizeI,9,1.5)])\n",
    "hxI = np.concatenate((hPadI[::-1],np.ones(((be-bw)/hSizeI,))*hSizeI,hPadI))\n",
    "hyI = np.concatenate((hPadI[::-1],np.ones(((bn-bs)/hSizeI,))*hSizeI,hPadI))\n",
    "airPadI = simpeg.Utils.meshTensor([(vSizeI,12,1.5)])\n",
    "vCoreI = np.concatenate([ np.ones(i)*s for i, s in zip(nrCcoreI,(simpeg.Utils.meshTensor([(vSizeI,1),(vSizeI,8,1.3)])))])[::-1]\n",
    "botPadI = simpeg.Utils.meshTensor([(vCoreI[0],7,-1.5)])\n",
    "hzI = np.concatenate((botPadI,vCoreI,airPadI))\n",
    "# Calculate the x0 point\n",
    "x0I = np.array([bw-np.sum(hPadI),bs-np.sum(hPadI),bt-np.sum(vCoreI)-np.sum(botPadI)])\n",
    "# Make the mesh\n",
    "meshInv = simpeg.Mesh.TensorMesh([hxI,hyI,hzI],x0I)"
   ]
  },
  {
   "cell_type": "code",
   "execution_count": 94,
   "metadata": {
    "collapsed": true
   },
   "outputs": [],
   "source": [
    "meshInv.writeVTK('nsmesh_HPVK1_inv.vtr',{'id':np.arange(meshInv.nC)})"
   ]
  },
  {
   "cell_type": "code",
   "execution_count": 101,
   "metadata": {
    "collapsed": true
   },
   "outputs": [],
   "source": [
    "nsInvvtr = telluricpy.vtkTools.io.readVTRFile('nsmesh_HPVK1_inv.vtr')\n",
    "activeModInv = telluricpy.vtkTools.extraction.extractDataSetWithPolygon(nsInvvtr,topoSurf,extBoundaryCells=True)"
   ]
  },
  {
   "cell_type": "code",
   "execution_count": 102,
   "metadata": {
    "collapsed": false
   },
   "outputs": [],
   "source": [
    "sigma = np.ones(meshInv.nC)*1e-8\n",
    "indAct = telluricpy.vtkTools.dataset.getDataArray(activeModInv,'id')\n",
    "sigma[indAct] = 1e-4"
   ]
  },
  {
   "cell_type": "code",
   "execution_count": 103,
   "metadata": {
    "collapsed": true
   },
   "outputs": [],
   "source": [
    "meshInv.writeVTK('nsmesh_HPVK1_inv.vtr',{'id':np.arange(meshInv.nC),'S/m':sigma})"
   ]
  },
  {
   "cell_type": "code",
   "execution_count": 108,
   "metadata": {
    "collapsed": false
   },
   "outputs": [
    {
     "ename": "ImportError",
     "evalue": "cannot import name MumpsSolver",
     "output_type": "error",
     "traceback": [
      "\u001b[1;31m---------------------------------------------------------------------------\u001b[0m",
      "\u001b[1;31mImportError\u001b[0m                               Traceback (most recent call last)",
      "\u001b[1;32m<ipython-input-108-d6799536a06f>\u001b[0m in \u001b[0;36m<module>\u001b[1;34m()\u001b[0m\n\u001b[1;32m----> 1\u001b[1;33m \u001b[1;32mfrom\u001b[0m \u001b[0mpymatsolver\u001b[0m \u001b[1;32mimport\u001b[0m \u001b[0mMumpsSolver\u001b[0m\u001b[1;33m\u001b[0m\u001b[0m\n\u001b[0m",
      "\u001b[1;31mImportError\u001b[0m: cannot import name MumpsSolver"
     ]
    }
   ],
   "source": [
    "from pymatsolver import MumpsSolver"
   ]
  },
  {
   "cell_type": "code",
   "execution_count": 106,
   "metadata": {
    "collapsed": false
   },
   "outputs": [
    {
     "data": {
      "text/plain": [
       "{'DiagonalSolver': True,\n",
       " 'Mumps': False,\n",
       " 'TriangleFortran': False,\n",
       " 'TrianglePython': True}"
      ]
     },
     "execution_count": 106,
     "metadata": {},
     "output_type": "execute_result"
    }
   ],
   "source": [
    "pymatsolver.AvailableSolvers"
   ]
  },
  {
   "cell_type": "code",
   "execution_count": 116,
   "metadata": {
    "collapsed": false
   },
   "outputs": [
    {
     "data": {
      "text/plain": [
       "50.329212104487041"
      ]
     },
     "execution_count": 116,
     "metadata": {},
     "output_type": "execute_result"
    }
   ],
   "source": [
    "NSEM.Utils.skindepth(1000,100000)"
   ]
  },
  {
   "cell_type": "code",
   "execution_count": 117,
   "metadata": {
    "collapsed": false
   },
   "outputs": [
    {
     "data": {
      "text/plain": [
       "array([   1000.        ,    1584.89319246,    2511.88643151,\n",
       "          3981.07170553,    6309.5734448 ,   10000.        ,\n",
       "         15848.93192461,   25118.8643151 ,   39810.71705535,\n",
       "         63095.73444802,  100000.        ])"
      ]
     },
     "execution_count": 117,
     "metadata": {},
     "output_type": "execute_result"
    }
   ],
   "source": [
    "np.unique(mtData['freq'])[5::]"
   ]
  },
  {
   "cell_type": "code",
   "execution_count": null,
   "metadata": {
    "collapsed": true
   },
   "outputs": [],
   "source": []
  }
 ],
 "metadata": {
  "kernelspec": {
   "display_name": "Python 2",
   "language": "python",
   "name": "python2"
  },
  "language_info": {
   "codemirror_mode": {
    "name": "ipython",
    "version": 2
   },
   "file_extension": ".py",
   "mimetype": "text/x-python",
   "name": "python",
   "nbconvert_exporter": "python",
   "pygments_lexer": "ipython2",
   "version": "2.7.11"
  }
 },
 "nbformat": 4,
 "nbformat_minor": 0
}
