{
 "cells": [
  {
   "cell_type": "code",
   "execution_count": 1,
   "metadata": {
    "collapsed": true
   },
   "outputs": [],
   "source": [
    "# Setting up a model and a mesh for the MT forward problem"
   ]
  },
  {
   "cell_type": "code",
   "execution_count": 5,
   "metadata": {
    "collapsed": false
   },
   "outputs": [],
   "source": [
    "import SimPEG as simpeg, sys\n",
    "import numpy as np\n",
    "from SimPEG import NSEM\n",
    "sys.path.append('/Volumes/MacintoshHD/Users/thibautastic/Dropbox/PhD_UBC/telluricpy')\n",
    "import telluricpy\n",
    "import matplotlib.pyplot as plt\n",
    "%matplotlib inline\n",
    "import copy"
   ]
  },
  {
   "cell_type": "code",
   "execution_count": 6,
   "metadata": {
    "collapsed": true
   },
   "outputs": [],
   "source": [
    "# Define the area of interest\n",
    "bw, be = 557100, 557580\n",
    "bs, bn = 7133340, 7133960\n",
    "bb, bt = 0,480"
   ]
  },
  {
   "cell_type": "code",
   "execution_count": 7,
   "metadata": {
    "collapsed": false
   },
   "outputs": [],
   "source": [
    "# Build the mesh\n",
    "# Design the tensors\n",
    "hSize,vSize =  25., 10\n",
    "nrCcore = [15, 8, 6, 5, 4, 2, 2, 2, 2]\n",
    "hPad = simpeg.Utils.meshTensor([(hSize,10,1.5)])\n",
    "hx = np.concatenate((hPad[::-1],np.ones(((be-bw)/hSize,))*hSize,hPad))\n",
    "hy = np.concatenate((hPad[::-1],np.ones(((bn-bs)/hSize,))*hSize,hPad))\n",
    "airPad = simpeg.Utils.meshTensor([(vSize,13,1.5)])\n",
    "vCore = np.concatenate([ np.ones(i)*s for i, s in zip(nrCcore,(simpeg.Utils.meshTensor([(vSize,1),(vSize,8,1.3)])))])[::-1]\n",
    "botPad = simpeg.Utils.meshTensor([(vCore[0],8,-1.5)])\n",
    "hz = np.concatenate((botPad,vCore,airPad))\n",
    "# Calculate the x0 point\n",
    "x0 = np.array([bw-np.sum(hPad),bs-np.sum(hPad),bt-np.sum(vCore)-np.sum(botPad)])\n",
    "# Make the mesh\n",
    "meshFor = simpeg.Mesh.TensorMesh([hx,hy,hz],x0)\n"
   ]
  },
  {
   "cell_type": "code",
   "execution_count": 8,
   "metadata": {
    "collapsed": false
   },
   "outputs": [],
   "source": [
    "hSizeI,vSizeI =  25., 10.\n",
    "nrCcoreI = [12, 6, 6, 6, 5, 4, 3, 2, 1]\n",
    "hPadI = simpeg.Utils.meshTensor([(hSizeI,9,1.5)])\n",
    "hxI = np.concatenate((hPadI[::-1],np.ones(((be-bw)/hSizeI,))*hSizeI,hPadI))\n",
    "hyI = np.concatenate((hPadI[::-1],np.ones(((bn-bs)/hSizeI,))*hSizeI,hPadI))\n",
    "airPadI = simpeg.Utils.meshTensor([(vSizeI,12,1.5)])\n",
    "vCoreI = np.concatenate([ np.ones(i)*s for i, s in zip(nrCcoreI,(simpeg.Utils.meshTensor([(vSizeI,1),(vSizeI,8,1.3)])))])[::-1]\n",
    "botPadI = simpeg.Utils.meshTensor([(vCoreI[0],7,-1.5)])\n",
    "hzI = np.concatenate((botPadI,vCoreI,airPadI))\n",
    "# Calculate the x0 point\n",
    "x0I = np.array([bw-np.sum(hPadI),bs-np.sum(hPadI),bt-np.sum(vCoreI)-np.sum(botPadI)])\n",
    "# Make the mesh\n",
    "meshInv = simpeg.Mesh.TensorMesh([hxI,hyI,hzI],x0I)\n",
    "\n",
    "meshFor=copy.deepcopy(meshInv)"
   ]
  },
  {
   "cell_type": "code",
   "execution_count": 9,
   "metadata": {
    "collapsed": false
   },
   "outputs": [
    {
     "name": "stdout",
     "output_type": "stream",
     "text": [
      "1038.9319582\n",
      "99456\n",
      "  ---- 3-D TensorMesh ----  \n",
      "   x0: 554291.75\n",
      "   y0: 7130531.75\n",
      "   z0: -4530.95\n",
      "  nCx: 37\n",
      "  nCy: 42\n",
      "  nCz: 64\n",
      "   hx: 961.08, 640.72, 427.15, 284.77, 189.84, 126.56, 84.38, 56.25, 37.50, 19*25.00, 37.50, 56.25, 84.38, 126.56, 189.84, 284.77, 427.15, 640.72, 961.08\n",
      "   hy: 961.08, 640.72, 427.15, 284.77, 189.84, 126.56, 84.38, 56.25, 37.50, 24*25.00, 37.50, 56.25, 84.38, 126.56, 189.84, 284.77, 427.15, 640.72, 961.08\n",
      "   hz: 1393.75, 929.17, 619.45, 412.96, 275.31, 183.54, 122.36, 81.57, 2*62.75, 3*48.27, 4*37.13, 5*28.56, 6*21.97, 6*16.90, 6*13.00, 12*10.00, 15.00, 22.50, 33.75, 50.62, 75.94, 113.91, 170.86, 256.29, 384.43, 576.65, 864.98, 1297.46\n"
     ]
    }
   ],
   "source": [
    "print np.sum(vCore)\n",
    "print meshFor.nC\n",
    "print meshFor"
   ]
  },
  {
   "cell_type": "code",
   "execution_count": 23,
   "metadata": {
    "collapsed": false
   },
   "outputs": [],
   "source": [
    "# Save the mesh\n",
    "#meshFor.writeVTK('nsmesh_FineHKPK1.vtr',{'id':np.arange(meshFor.nC)})\n",
    "nsvtr = telluricpy.vtkTools.io.readVTRFile('nsmesh_HPVK1_inv.vtr')"
   ]
  },
  {
   "cell_type": "code",
   "execution_count": 24,
   "metadata": {
    "collapsed": false
   },
   "outputs": [],
   "source": [
    "topoSurf = telluricpy.vtkTools.polydata.normFilter(telluricpy.vtkTools.io.readVTPFile('../Geological_model/CDED_Lake_Coarse.vtp'))\n",
    "activeMod = telluricpy.vtkTools.extraction.extractDataSetWithPolygon(nsvtr,topoSurf)"
   ]
  },
  {
   "cell_type": "code",
   "execution_count": 25,
   "metadata": {
    "collapsed": false
   },
   "outputs": [],
   "source": [
    "#telluricpy.vtkTools.io.writeVTUFile('activeModel.vtu',activeMod)"
   ]
  },
  {
   "cell_type": "code",
   "execution_count": 26,
   "metadata": {
    "collapsed": false
   },
   "outputs": [],
   "source": [
    "# Get active indieces \n",
    "activeInd = telluricpy.vtkTools.dataset.getDataArray(activeMod,'id')"
   ]
  },
  {
   "cell_type": "code",
   "execution_count": 27,
   "metadata": {
    "collapsed": true
   },
   "outputs": [],
   "source": [
    "# Make the conductivity dictionary\n",
    "# Note: using the background value for the till, since the extraction gets the ind's below the till surface\n",
    "geoStructFileDict = {'Till':1e-4,\n",
    " 'PK1':5e-2,\n",
    " 'HK1':1e-3,\n",
    "  'VK':5e-3}"
   ]
  },
  {
   "cell_type": "code",
   "execution_count": 28,
   "metadata": {
    "collapsed": false
   },
   "outputs": [],
   "source": [
    "# Loop through\n",
    "extP = '../Geological_model/'\n",
    "geoStructIndDict = {}\n",
    "for key, val in geoStructFileDict.iteritems():\n",
    "    geoPoly = telluricpy.vtkTools.polydata.normFilter(telluricpy.vtkTools.io.readVTPFile(extP+key+'.vtp'))\n",
    "    modStruct = telluricpy.vtkTools.extraction.extractDataSetWithPolygon(activeMod,geoPoly,extBoundaryCells=True,extInside=True,extractBounds=True)\n",
    "    geoStructIndDict[key] = telluricpy.vtkTools.dataset.getDataArray(modStruct,'id')"
   ]
  },
  {
   "cell_type": "code",
   "execution_count": 29,
   "metadata": {
    "collapsed": false
   },
   "outputs": [],
   "source": [
    "# Make the physical prop\n",
    "sigma = np.ones(meshFor.nC)*1e-8\n",
    "sigma[activeInd] = 1e-3 # 1e-4 is the background and 1e-3 is the till value\n",
    "# Add the structure\n",
    "for key in ['Till','PK1','HK1','VK']:\n",
    "    sigma[geoStructIndDict[key]] = geoStructFileDict[key]"
   ]
  },
  {
   "cell_type": "code",
   "execution_count": 37,
   "metadata": {
    "collapsed": false
   },
   "outputs": [
    {
     "data": {
      "image/png": "[encoded data removed]",
      "text/plain": [
       "<matplotlib.figure.Figure at 0x1165c8590>"
      ]
     },
     "metadata": {},
     "output_type": "display_data"
    }
   ],
   "source": [
    "fig = plt.figure(figsize=(10,8))\n",
    "ax = plt.subplot(111)\n",
    "model = sigma.reshape(meshFor.vnC,order='F')\n",
    "a = ax.pcolormesh(meshFor.gridCC[:,0].reshape(meshFor.vnC,order='F')[:,20,:],meshFor.gridCC[:,2].reshape(meshFor.vnC,order='F')[:,20,:],np.log10(model[:,20,:]),edgecolor='k')\n",
    "\n",
    "ax.set_xlim([bw,be])\n",
    "ax.set_ylim([0,bt])\n",
    "ax.grid(which=\"major\")\n",
    "cb = plt.colorbar(a)\n",
    "ax.set_aspect(\"equal\")\n",
    "cb.set_label(\"Log conductivity (S/m)\",fontsize=20)\n",
    "ax.set_xlabel(\"Easting (m)\",fontsize=20)\n",
    "ax.set_ylabel(\"Elevation (m)\",fontsize=20)\n",
    "\n",
    "plt.tight_layout()"
   ]
  },
  {
   "cell_type": "markdown",
   "metadata": {},
   "source": [
    "$\\nabla ^2  \\mathbf{H} + k^2 \\mathbf{H} = 0$"
   ]
  },
  {
   "cell_type": "code",
   "execution_count": 38,
   "metadata": {
    "collapsed": true
   },
   "outputs": [],
   "source": [
    "# Save the model\n",
    "meshFor.writeVTK('nsmesh_FineHKPK1Fin.vtr',{'S/m':sigma})"
   ]
  },
  {
   "cell_type": "code",
   "execution_count": 39,
   "metadata": {
    "collapsed": true
   },
   "outputs": [],
   "source": [
    "# Set up the forward modeling\n",
    "freq = np.logspace(5,2,16)\n",
    "np.save('MTfrequencies',freq)"
   ]
  },
  {
   "cell_type": "code",
   "execution_count": 50,
   "metadata": {
    "collapsed": true
   },
   "outputs": [],
   "source": [
    "telluricpy.vtkTools.extraction.geometryFilt??"
   ]
  },
  {
   "cell_type": "code",
   "execution_count": 40,
   "metadata": {
    "collapsed": false
   },
   "outputs": [],
   "source": [
    "# Find the locations on the surface of the model.\n",
    "# Get the outer shell of the model\n",
    "import vtk\n",
    "actModVTP = telluricpy.vtkTools.polydata.normFilter(telluricpy.vtkTools.extraction.geometryFilt(activeMod))\n",
    "polyBox = vtk.vtkCubeSource()\n",
    "polyBox.SetBounds(bw-5.,be+5,bs-5.,bn+5.,bb-5.,bt+5)\n",
    "polyBox.Update()\n",
    "# Exract the topo of the model\n",
    "modTopoVTP = telluricpy.vtkTools.extraction.extractDataSetWithPolygon(actModVTP,telluricpy.vtkTools.polydata.normFilter(polyBox.GetOutput()),extractBounds=False)\n",
    "telluricpy.vtkTools.io.writeVTPFile('topoSurf.vtp',actModVTP)"
   ]
  },
  {
   "cell_type": "code",
   "execution_count": 52,
   "metadata": {
    "collapsed": false
   },
   "outputs": [],
   "source": [
    "# Make the rxLocations file\n",
    "x,y = np.meshgrid(np.arange(bw+10.,be,20),np.arange(bs+10.,bn,20))\n",
    "xy = np.hstack((x.reshape(-1,1),y.reshape(-1,1)))\n",
    "# Find the location array\n",
    "locArr = telluricpy.modelTools.surfaceIntersect.findZofXYOnPolydata(xy,actModVTP) #modTopoVTP)\n",
    "np.save('MTlocations',locArr)"
   ]
  },
  {
   "cell_type": "code",
   "execution_count": 53,
   "metadata": {
    "collapsed": false
   },
   "outputs": [],
   "source": [
    "telluricpy.vtkTools.io.writeVTPFile('MTloc.vtp',telluricpy.dataFiles.XYZtools.makeCylinderPtsVTP(locArr,5,10,10))"
   ]
  },
  {
   "cell_type": "code",
   "execution_count": 60,
   "metadata": {
    "collapsed": false
   },
   "outputs": [],
   "source": [
    "# Running the forward modelling on the Cluster.\n",
    "# Define the forward run in findDiam_MTforward.py"
   ]
  },
  {
   "cell_type": "code",
   "execution_count": 71,
   "metadata": {
    "collapsed": false
   },
   "outputs": [],
   "source": [
    "%matplotlib qt\n",
    "sys.path.append('/home/gudni/Dropbox/code/python/MTview/')\n",
    "import interactivePlotFunctions as iPf"
   ]
  },
  {
   "cell_type": "code",
   "execution_count": 72,
   "metadata": {
    "collapsed": false,
    "scrolled": true
   },
   "outputs": [
    {
     "data": {
      "text/plain": [
       "array([ (100000.0, 557110.0, 7133350.0, 430.0, (-1.1506946677168877-1.2968733538942032j), (-23.54311070144429-19.772598506113592j), (23.122674523601596+16.553191376249956j), (0.9829648263716114+1.0160859204765444j), (-0.01149115639336881-0.08206248665420915j), (-0.0456173506763778-0.034164268293959334j)),\n",
       "       (100000.0, 557130.0, 7133350.0, 430.0, (-0.7746917073255672-1.159486343238143j), (-22.964390132774177-20.1959003955084j), (21.4348641328774+16.38053800316572j), (0.6560327531217727+0.9550969901843831j), (-0.02089376870480284-0.06961905697131537j), (-0.053884654330991905-0.04363080750086569j)),\n",
       "       (100000.0, 557150.0, 7133350.0, 430.0, (-0.6752011886313354-1.1676037152435292j), (-22.491532296418313-20.52581540138984j), (20.413657171072817+16.42466481134132j), (0.6638087171680884+1.0822899762152727j), (-0.026225671652060738-0.057567627605059984j), (-0.06032865752192971-0.05272531832396195j)),\n",
       "       ...,\n",
       "       (100.0, 557530.0, 7133950.0, 440.0, (0.44311335566511817+0.13590648459395252j), (-1.7906357845540637-0.6360267317194509j), (3.3412220544217055+1.152427358999427j), (-0.6571615736101206-0.19463065275182256j), (-0.022650416656101086-0.007701339793642107j), (-0.01849174649229434-0.006322302205222759j)),\n",
       "       (100.0, 557550.0, 7133950.0, 440.0, (0.6136167423321083+0.18976705882604558j), (-2.3451726303156097-0.8298932446735673j), (3.294172763575838+1.1424792592895208j), (-0.6900472399296874-0.2069078890975067j), (-0.028093117481319436-0.009607379560613685j), (-0.016405973082096417-0.005625580622658199j)),\n",
       "       (100.0, 557570.0, 7133950.0, 440.0, (0.977746975687118+0.3060413308890142j), (-3.610039679170175-1.2733273149228388j), (3.262245352750439+1.1410618772420638j), (-0.711308191403497-0.21672330709870505j), (-0.02864583731672386-0.00984980678946889j), (-0.015058050582135662-0.005143088796927411j))], \n",
       "      dtype=[('freq', '<f8'), ('x', '<f8'), ('y', '<f8'), ('z', '<f8'), ('zxx', '<c16'), ('zxy', '<c16'), ('zyx', '<c16'), ('zyy', '<c16'), ('tzx', '<c16'), ('tzy', '<c16')])"
      ]
     },
     "execution_count": 72,
     "metadata": {},
     "output_type": "execute_result"
    }
   ],
   "source": [
    "# Load the data\n",
    "mtData = np.load('MTdataStArr_nsmesh_HKPK1.npy')\n",
    "mtData"
   ]
  },
  {
   "cell_type": "code",
   "execution_count": 110,
   "metadata": {
    "collapsed": false
   },
   "outputs": [
    {
     "data": {
      "text/plain": [
       "<interactivePlotFunctions.MTinteractiveMap at 0x7f3afe78ee10>"
      ]
     },
     "execution_count": 110,
     "metadata": {},
     "output_type": "execute_result"
    }
   ],
   "source": [
    "iPf.MTinteractiveMap([mtData])"
   ]
  },
  {
   "cell_type": "code",
   "execution_count": 104,
   "metadata": {
    "collapsed": false
   },
   "outputs": [],
   "source": [
    "# Looking at the data shows that data below 100Hz is affected by the boundary conditions, \n",
    "# which makes sense for very conductive conditions as we have.\n",
    "# Invert data in the 1e5-1e2 range."
   ]
  },
  {
   "cell_type": "markdown",
   "metadata": {},
   "source": [
    "Run the inversion on the cluster using the inv3d/run1/findDiam_inversion.py"
   ]
  },
  {
   "cell_type": "code",
   "execution_count": 106,
   "metadata": {
    "collapsed": false
   },
   "outputs": [],
   "source": [
    "drecAll = np.load('MTdataStArr_nsmesh_0.npy')"
   ]
  },
  {
   "cell_type": "code",
   "execution_count": 109,
   "metadata": {
    "collapsed": false
   },
   "outputs": [
    {
     "data": {
      "text/plain": [
       "array([    100.        ,     158.48931925,     251.18864315,\n",
       "           398.10717055,     630.95734448,    1000.        ,\n",
       "          1584.89319246,    2511.88643151,    3981.07170553,\n",
       "          6309.5734448 ,   10000.        ,   15848.93192461,\n",
       "         25118.8643151 ,   39810.71705535,   63095.73444802,  100000.        ])"
      ]
     },
     "execution_count": 109,
     "metadata": {},
     "output_type": "execute_result"
    }
   ],
   "source": [
    "np.unique(drecAll['freq'])[10::]"
   ]
  },
  {
   "cell_type": "code",
   "execution_count": 93,
   "metadata": {
    "collapsed": true
   },
   "outputs": [],
   "source": [
    "# Build the Inversion mesh\n",
    "# Design the tensors\n",
    "hSizeI,vSizeI =  25., 10.\n",
    "nrCcoreI = [12, 6, 6, 6, 5, 4, 3, 2, 1]\n",
    "hPadI = simpeg.Utils.meshTensor([(hSizeI,9,1.5)])\n",
    "hxI = np.concatenate((hPadI[::-1],np.ones(((be-bw)/hSizeI,))*hSizeI,hPadI))\n",
    "hyI = np.concatenate((hPadI[::-1],np.ones(((bn-bs)/hSizeI,))*hSizeI,hPadI))\n",
    "airPadI = simpeg.Utils.meshTensor([(vSizeI,12,1.5)])\n",
    "vCoreI = np.concatenate([ np.ones(i)*s for i, s in zip(nrCcoreI,(simpeg.Utils.meshTensor([(vSizeI,1),(vSizeI,8,1.3)])))])[::-1]\n",
    "botPadI = simpeg.Utils.meshTensor([(vCoreI[0],7,-1.5)])\n",
    "hzI = np.concatenate((botPadI,vCoreI,airPadI))\n",
    "# Calculate the x0 point\n",
    "x0I = np.array([bw-np.sum(hPadI),bs-np.sum(hPadI),bt-np.sum(vCoreI)-np.sum(botPadI)])\n",
    "# Make the mesh\n",
    "meshInv = simpeg.Mesh.TensorMesh([hxI,hyI,hzI],x0I)"
   ]
  },
  {
   "cell_type": "code",
   "execution_count": 94,
   "metadata": {
    "collapsed": true
   },
   "outputs": [],
   "source": [
    "meshInv.writeVTK('nsmesh_HPVK1_inv.vtr',{'id':np.arange(meshInv.nC)})"
   ]
  },
  {
   "cell_type": "code",
   "execution_count": 101,
   "metadata": {
    "collapsed": true
   },
   "outputs": [],
   "source": [
    "nsInvvtr = telluricpy.vtkTools.io.readVTRFile('nsmesh_HPVK1_inv.vtr')\n",
    "activeModInv = telluricpy.vtkTools.extraction.extractDataSetWithPolygon(nsInvvtr,topoSurf,extBoundaryCells=True)"
   ]
  },
  {
   "cell_type": "code",
   "execution_count": 102,
   "metadata": {
    "collapsed": false
   },
   "outputs": [],
   "source": [
    "sigma = np.ones(meshInv.nC)*1e-8\n",
    "indAct = telluricpy.vtkTools.dataset.getDataArray(activeModInv,'id')\n",
    "sigma[indAct] = 1e-4"
   ]
  },
  {
   "cell_type": "code",
   "execution_count": 103,
   "metadata": {
    "collapsed": true
   },
   "outputs": [],
   "source": [
    "meshInv.writeVTK('nsmesh_HPVK1_inv.vtr',{'id':np.arange(meshInv.nC),'S/m':sigma})"
   ]
  },
  {
   "cell_type": "code",
   "execution_count": 108,
   "metadata": {
    "collapsed": false
   },
   "outputs": [
    {
     "ename": "ImportError",
     "evalue": "cannot import name MumpsSolver",
     "output_type": "error",
     "traceback": [
      "\u001b[1;31m---------------------------------------------------------------------------\u001b[0m",
      "\u001b[1;31mImportError\u001b[0m                               Traceback (most recent call last)",
      "\u001b[1;32m<ipython-input-108-d6799536a06f>\u001b[0m in \u001b[0;36m<module>\u001b[1;34m()\u001b[0m\n\u001b[1;32m----> 1\u001b[1;33m \u001b[1;32mfrom\u001b[0m \u001b[0mpymatsolver\u001b[0m \u001b[1;32mimport\u001b[0m \u001b[0mMumpsSolver\u001b[0m\u001b[1;33m\u001b[0m\u001b[0m\n\u001b[0m",
      "\u001b[1;31mImportError\u001b[0m: cannot import name MumpsSolver"
     ]
    }
   ],
   "source": [
    "from pymatsolver import MumpsSolver"
   ]
  },
  {
   "cell_type": "code",
   "execution_count": 106,
   "metadata": {
    "collapsed": false
   },
   "outputs": [
    {
     "data": {
      "text/plain": [
       "{'DiagonalSolver': True,\n",
       " 'Mumps': False,\n",
       " 'TriangleFortran': False,\n",
       " 'TrianglePython': True}"
      ]
     },
     "execution_count": 106,
     "metadata": {},
     "output_type": "execute_result"
    }
   ],
   "source": [
    "pymatsolver.AvailableSolvers"
   ]
  },
  {
   "cell_type": "code",
   "execution_count": 116,
   "metadata": {
    "collapsed": false
   },
   "outputs": [
    {
     "data": {
      "text/plain": [
       "50.329212104487041"
      ]
     },
     "execution_count": 116,
     "metadata": {},
     "output_type": "execute_result"
    }
   ],
   "source": [
    "NSEM.Utils.skindepth(1000,100000)"
   ]
  },
  {
   "cell_type": "code",
   "execution_count": 117,
   "metadata": {
    "collapsed": false
   },
   "outputs": [
    {
     "data": {
      "text/plain": [
       "array([   1000.        ,    1584.89319246,    2511.88643151,\n",
       "          3981.07170553,    6309.5734448 ,   10000.        ,\n",
       "         15848.93192461,   25118.8643151 ,   39810.71705535,\n",
       "         63095.73444802,  100000.        ])"
      ]
     },
     "execution_count": 117,
     "metadata": {},
     "output_type": "execute_result"
    }
   ],
   "source": [
    "np.unique(mtData['freq'])[5::]"
   ]
  },
  {
   "cell_type": "code",
   "execution_count": null,
   "metadata": {
    "collapsed": true
   },
   "outputs": [],
   "source": []
  }
 ],
 "metadata": {
  "kernelspec": {
   "display_name": "Python 2",
   "language": "python",
   "name": "python2"
  },
  "language_info": {
   "codemirror_mode": {
    "name": "ipython",
    "version": 2
   },
   "file_extension": ".py",
   "mimetype": "text/x-python",
   "name": "python",
   "nbconvert_exporter": "python",
   "pygments_lexer": "ipython2",
   "version": "2.7.11"
  }
 },
 "nbformat": 4,
 "nbformat_minor": 0
}
