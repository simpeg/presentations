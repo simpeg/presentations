{
 "cells": [
  {
   "cell_type": "code",
   "execution_count": 1,
   "metadata": {
    "collapsed": true
   },
   "outputs": [],
   "source": [
    "# Setting up a model and a mesh for the MT forward problem"
   ]
  },
  {
   "cell_type": "code",
   "execution_count": 24,
   "metadata": {
    "collapsed": true
   },
   "outputs": [],
   "source": [
    "import SimPEG as simpeg\n",
    "from SimPEG import MT\n",
    "sys.path.append('/home/gudni/gitCodes/python/telluricpy')\n",
    "import telluricpy"
   ]
  },
  {
   "cell_type": "code",
   "execution_count": 6,
   "metadata": {
    "collapsed": true
   },
   "outputs": [],
   "source": [
    "# Define the area of interest\n",
    "bw, be = 556500, 558000\n",
    "bs, bn = 7133000, 7135000\n",
    "bb, bt = 0,480"
   ]
  },
  {
   "cell_type": "code",
   "execution_count": 14,
   "metadata": {
    "collapsed": false
   },
   "outputs": [],
   "source": [
    "# Build the mesh\n",
    "# Design the tensors\n",
    "hSize,vSize =  50., 12.5\n",
    "nrCcore = [10, 8, 6, 4, 2, 2, 2, 2, 2]\n",
    "hPad = simpeg.Utils.meshTensor([(hSize,9,1.5)])\n",
    "hx = np.concatenate((hPad[::-1],np.ones(((be-bw)/hSize,))*hSize,hPad))\n",
    "hy = np.concatenate((hPad[::-1],np.ones(((bn-bs)/hSize,))*hSize,hPad))\n",
    "airPad = simpeg.Utils.meshTensor([(vSize,13,1.5)])\n",
    "vCore = np.concatenate([ np.ones(i)*s for i, s in zip(nrCcore,(simpeg.Utils.meshTensor([(vSize,1),(vSize,8,1.3)])))])[::-1]\n",
    "botPad = simpeg.Utils.meshTensor([(vCore[0],8,-1.5)])\n",
    "hz = np.concatenate((botPad,vCore,airPad))\n",
    "# Calculate the x0 point\n",
    "x0 = np.array([bw-np.sum(hPad),bs-np.sum(hPad),bt-np.sum(vCore)-np.sum(botPad)])\n",
    "# Make the mesh\n",
    "meshFor = simpeg.Mesh.TensorMesh([hx,hy,hz],x0)\n"
   ]
  },
  {
   "cell_type": "code",
   "execution_count": 17,
   "metadata": {
    "collapsed": false
   },
   "outputs": [
    {
     "name": "stdout",
     "output_type": "stream",
     "text": [
      "1137.29994775\n",
      "164256\n",
      "  ---- 3-D TensorMesh ----  \n",
      "   x0: 550883.50\n",
      "   y0: 7127383.50\n",
      "   z0: -8191.26\n",
      "  nCx: 48\n",
      "  nCy: 58\n",
      "  nCz: 59\n",
      "   hx: 1922.17, 1281.45, 854.30, 569.53, 379.69, 253.12, 168.75, 112.50, 75.00, 30*50.00, 75.00, 112.50, 168.75, 253.12, 379.69, 569.53, 854.30, 1281.45, 1922.17\n",
      "   hy: 1922.17, 1281.45, 854.30, 569.53, 379.69, 253.12, 168.75, 112.50, 75.00, 40*50.00, 75.00, 112.50, 168.75, 253.12, 379.69, 569.53, 854.30, 1281.45, 1922.17\n",
      "   hz: 2613.29, 1742.19, 1161.46, 774.31, 516.20, 344.14, 229.42, 152.95, 2*101.97, 2*78.44, 2*60.34, 2*46.41, 2*35.70, 4*27.46, 6*21.13, 8*16.25, 10*12.50, 18.75, 28.12, 42.19, 63.28, 94.92, 142.38, 213.57, 320.36, 480.54, 720.81, 1081.22, 1621.83, 2432.74\n"
     ]
    }
   ],
   "source": [
    "print np.sum(vCore)\n",
    "print meshFor.nC\n",
    "print meshFor"
   ]
  },
  {
   "cell_type": "code",
   "execution_count": 35,
   "metadata": {
    "collapsed": false
   },
   "outputs": [],
   "source": [
    "# Save the mesh\n",
    "meshFor.writeVTK('nsmesh.vtr',{'id':np.arange(meshFor.nC)})\n",
    "nsvtr = telluricpy.vtkTools.io.readVTRFile('nsmesh.vtr')"
   ]
  },
  {
   "cell_type": "code",
   "execution_count": null,
   "metadata": {
    "collapsed": true
   },
   "outputs": [],
   "source": [
    "topoSurf = telluricpy.vtkTools.polydata.normFilter(telluricpy.vtkTools.io.readVTPFile('../Geological_model/CDED_Lake_Coarse.vtp'))\n",
    "activeMod = telluricpy.vtkTools.extraction.extractDataSetWithPolygon(nsvtr,topoSurf)"
   ]
  },
  {
   "cell_type": "code",
   "execution_count": 39,
   "metadata": {
    "collapsed": false
   },
   "outputs": [],
   "source": [
    "telluricpy.vtkTools.io.writeVTUFile('activeModel.vtu',activeMod)"
   ]
  },
  {
   "cell_type": "code",
   "execution_count": 40,
   "metadata": {
    "collapsed": false
   },
   "outputs": [],
   "source": [
    "# Get active indieces \n",
    "activeInd = telluricpy.vtkTools.dataset.getDataArray(activeMod,'id')"
   ]
  },
  {
   "cell_type": "code",
   "execution_count": 22,
   "metadata": {
    "collapsed": true
   },
   "outputs": [],
   "source": [
    "# Set up the forward modeling\n",
    "freq = np.logspace(5,0,26)\n",
    "np.save('MTfrequencies',freq)"
   ]
  },
  {
   "cell_type": "code",
   "execution_count": 58,
   "metadata": {
    "collapsed": true
   },
   "outputs": [],
   "source": [
    "# Find the locations on the surface of the model.\n",
    "# Get the outer shell of the model\n",
    "actModVTP = telluricpy.vtkTools.polydata.normFilter(telluricpy.vtkTools.extraction.geometryFilt(activeMod))\n",
    "polyBox = vtk.vtkCubeSource()\n",
    "polyBox.SetBounds(bw,be,bs,bn,bb,bt)\n",
    "polyBox.Update()\n",
    "# Exract the topo of the model\n",
    "modTopoVTP = telluricpy.vtkTools.extraction.extractDataSetWithPolygon(actModVTP,telluricpy.vtkTools.polydata.normFilter(polyBox.GetOutput()),extractBounds=True)\n"
   ]
  },
  {
   "cell_type": "code",
   "execution_count": 63,
   "metadata": {
    "collapsed": false
   },
   "outputs": [],
   "source": [
    "# Make the rxLocations file\n",
    "x,y = np.meshgrid(np.arange(bw+25.,be,50),np.arange(bs+25.,bn,50))\n",
    "xy = np.hstack((x.reshape(-1,1),y.reshape(-1,1)))\n",
    "# Find the location array\n",
    "locArr = telluricpy.modelTools.surfaceIntersect.findZofXYOnPolydata(xy,modTopoVTP)\n",
    "np.save('MTlocations',locArr)"
   ]
  },
  {
   "cell_type": "code",
   "execution_count": 60,
   "metadata": {
    "collapsed": false
   },
   "outputs": [],
   "source": [
    "# Running the forward modelling on the Cluster.\n",
    "# Define the forward run in findDiam_MTforward.py"
   ]
  },
  {
   "cell_type": "code",
   "execution_count": null,
   "metadata": {
    "collapsed": false
   },
   "outputs": [],
   "source": []
  },
  {
   "cell_type": "code",
   "execution_count": null,
   "metadata": {
    "collapsed": true
   },
   "outputs": [],
   "source": []
  }
 ],
 "metadata": {
  "kernelspec": {
   "display_name": "Python 2",
   "language": "python",
   "name": "python2"
  },
  "language_info": {
   "codemirror_mode": {
    "name": "ipython",
    "version": 2
   },
   "file_extension": ".py",
   "mimetype": "text/x-python",
   "name": "python",
   "nbconvert_exporter": "python",
   "pygments_lexer": "ipython2",
   "version": "2.7.11"
  }
 },
 "nbformat": 4,
 "nbformat_minor": 0
}
