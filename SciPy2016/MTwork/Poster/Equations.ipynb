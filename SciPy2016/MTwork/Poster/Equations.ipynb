{
 "cells": [
  {
   "cell_type": "markdown",
   "metadata": {},
   "source": [
    "$\\nabla ^2  \\mathbf{E} + k^2 \\mathbf{E} = 0$"
   ]
  },
  {
   "cell_type": "markdown",
   "metadata": {},
   "source": [
    "$\\nabla ^2 \\mathbf{H} + k^2 \\mathbf{H} = 0$"
   ]
  },
  {
   "cell_type": "markdown",
   "metadata": {},
   "source": [
    "$ k = \\sqrt{\\omega ^2 \\mu \\varepsilon - i \\omega \\mu \\sigma } $"
   ]
  },
  {
   "cell_type": "markdown",
   "metadata": {},
   "source": [
    "$k_{ground} \\simeq (1-i) \\sqrt{ \\frac{\\omega \\mu \\sigma}{2} }$"
   ]
  },
  {
   "cell_type": "markdown",
   "metadata": {},
   "source": [
    "$k_{air} \\simeq \\omega \\sqrt{ \\mu_0 \\varepsilon_0}$"
   ]
  },
  {
   "cell_type": "markdown",
   "metadata": {},
   "source": [
    "$\\begin{split}\\left(\\begin{matrix} E_{x} \\\\ E_{y} \\end{matrix} \\right) = \\left(\\begin{matrix} \\hat{Z}_{xx} & \\hat{Z}_{xy} \\\\ \\hat{Z}_{yx} & \\hat{Z}_{yy} \\end{matrix} \\right) \\left(\\begin{matrix} H_x \\\\ H_y \\end{matrix} \\right)\\end{split}$"
   ]
  },
  {
   "cell_type": "markdown",
   "metadata": {},
   "source": [
    "$\\begin{split} H_z = \\left(\\begin{matrix} T_{zx} & T_{zy} \\end{matrix} \\right) \\left(\\begin{matrix} H_x \\\\ H_y \\end{matrix} \\right)\\end{split}$"
   ]
  },
  {
   "cell_type": "markdown",
   "metadata": {},
   "source": [
    "$\\delta = \\sqrt{ \\frac{2}{\\omega \\mu \\sigma}} \\simeq \\frac{500}{\\sqrt{\\sigma f}}$"
   ]
  },
  {
   "cell_type": "code",
   "execution_count": null,
   "metadata": {
    "collapsed": true
   },
   "outputs": [],
   "source": []
  }
 ],
 "metadata": {
  "kernelspec": {
   "display_name": "Python 2",
   "language": "python",
   "name": "python2"
  },
  "language_info": {
   "codemirror_mode": {
    "name": "ipython",
    "version": 2
   },
   "file_extension": ".py",
   "mimetype": "text/x-python",
   "name": "python",
   "nbconvert_exporter": "python",
   "pygments_lexer": "ipython2",
   "version": "2.7.11"
  }
 },
 "nbformat": 4,
 "nbformat_minor": 0
}
