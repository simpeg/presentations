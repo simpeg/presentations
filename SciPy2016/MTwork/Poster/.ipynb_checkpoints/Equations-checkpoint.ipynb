{
 "cells": [
  {
   "cell_type": "markdown",
   "metadata": {},
   "source": [
    "$\\nabla ^2  \\mathbf{E} + k^2 \\mathbf{E} = 0$"
   ]
  },
  {
   "cell_type": "markdown",
   "metadata": {},
   "source": [
    "$\\nabla ^2 \\mathbf{H} + k^2 \\mathbf{H} = 0$"
   ]
  },
  {
   "cell_type": "markdown",
   "metadata": {},
   "source": [
    "$ k = \\sqrt{\\omega ^2 \\mu \\varepsilon - i \\omega \\mu \\sigma } $"
   ]
  },
  {
   "cell_type": "markdown",
   "metadata": {},
   "source": [
    "$k_{ground} \\simeq (1-i) \\sqrt{ \\frac{\\omega \\mu \\sigma}{2} }$"
   ]
  },
  {
   "cell_type": "markdown",
   "metadata": {},
   "source": [
    "$k_{air} \\simeq \\omega \\sqrt{ \\mu_0 \\varepsilon_0}$"
   ]
  },
  {
   "cell_type": "markdown",
   "metadata": {},
   "source": [
    "$\\begin{split}\\left(\\begin{matrix} E_{x} \\\\ E_{y} \\end{matrix} \\right) = \\left(\\begin{matrix} \\hat{Z}_{xx} & \\hat{Z}_{xy} \\\\ \\hat{Z}_{yx} & \\hat{Z}_{yy} \\end{matrix} \\right) \\left(\\begin{matrix} H_x \\\\ H_y \\end{matrix} \\right)\\end{split}$"
   ]
  },
  {
   "cell_type": "markdown",
   "metadata": {},
   "source": [
    "$\\begin{split} H_z = \\left(\\begin{matrix} T_{zx} & T_{zy} \\end{matrix} \\right) \\left(\\begin{matrix} H_x \\\\ H_y \\end{matrix} \\right)\\end{split}$"
   ]
  },
  {
   "cell_type": "markdown",
   "metadata": {},
   "source": [
    "$\\delta = \\sqrt{ \\frac{2}{\\omega \\mu \\sigma}} \\simeq \\frac{500}{\\sqrt{\\sigma f}}$"
   ]
  },
  {
   "cell_type": "markdown",
   "metadata": {
    "collapsed": true
   },
   "source": [
    "$ \\phi_d = \\sum \\left(\\frac{d^{obs}_i-d^{pred}_i}{\\varepsilon} \\right) ^2 $"
   ]
  },
  {
   "cell_type": "markdown",
   "metadata": {},
   "source": [
    "$\\phi = \\phi_d +\\beta \\phi_m$"
   ]
  },
  {
   "cell_type": "code",
   "execution_count": 2,
   "metadata": {
    "collapsed": false
   },
   "outputs": [
    {
     "data": {
      "text/latex": [
       "\\begin{align}\n",
       "\\curl \\vf{E} + i \\omega \\vf{B} &= 0   \\\\\n",
       "\\curl \\frac{1}{\\mu} \\vf{B} - \\sigma \\vf{E} &=   \\vf{s}_E \n",
       "\\end{align}"
      ],
      "text/plain": [
       "<IPython.core.display.Latex object>"
      ]
     },
     "metadata": {},
     "output_type": "display_data"
    }
   ],
   "source": [
    "%%latex\n",
    "\\begin{align}\n",
    "\\curl \\vf{E} + i \\omega \\vf{B} &= 0   \\\\\n",
    "\\curl \\frac{1}{\\mu} \\vf{B} - \\sigma \\vf{E} &=   \\vf{s}_E \n",
    "\\end{align}"
   ]
  },
  {
   "cell_type": "code",
   "execution_count": null,
   "metadata": {
    "collapsed": true
   },
   "outputs": [],
   "source": []
  }
 ],
 "metadata": {
  "kernelspec": {
   "display_name": "Python 2",
   "language": "python",
   "name": "python2"
  },
  "language_info": {
   "codemirror_mode": {
    "name": "ipython",
    "version": 2
   },
   "file_extension": ".py",
   "mimetype": "text/x-python",
   "name": "python",
   "nbconvert_exporter": "python",
   "pygments_lexer": "ipython2",
   "version": "2.7.11"
  }
 },
 "nbformat": 4,
 "nbformat_minor": 0
}
