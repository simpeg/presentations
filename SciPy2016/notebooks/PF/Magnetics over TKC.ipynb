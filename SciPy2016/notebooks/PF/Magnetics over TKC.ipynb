{
 "cells": [
  {
   "cell_type": "markdown",
   "metadata": {},
   "source": [
    "**Objective:** \n",
    "\n",
    "In this tutorial we will create a simple magnetic problem from scratch using the SimPEG framework.\n",
    "\n",
    "We are using the integral form of the magnetostatic problem. In the absence of free-currents or changing magnetic field, magnetic material can give rise to a secondary magnetic field according to:\n",
    "\n",
    "$$\\vec b = \\frac{\\mu_0}{4\\pi}  \\int_{V}   \\vec M \\cdot \\nabla \\nabla \\left(\\frac{1}{r}\\right) \\; dV $$\n",
    "\n",
    "Where $\\mu_0$ is the magnetic permealitity of free-space, $\\vec M$ is the magnetization per unit volume and $r$  defines the distance between the observed field $\\vec b$ and the magnetized object. Assuming a purely induced response, the strenght of magnetization can be written as:\n",
    "\n",
    "$$ \\vec M = \\mu_0 \\kappa \\vec H_0 $$\n",
    "\n",
    "where $\\vec H$ is an external inducing magnetic field, and $\\kappa$ the magnetic susceptibility of matter.\n",
    "As derived by Sharma 1966, the integral can be evaluated for rectangular prisms such that:\n",
    "\n",
    "$$ \\vec b(P) =  \\mathbf{T} \\cdot \\vec H_0 \\; \\kappa $$\n",
    "\n",
    "Where the tensor matrix $\\bf{T}$ relates the three components of magnetization $\\vec M$ to the components of the field $\\vec b$:\n",
    "\n",
    "$$\\mathbf{T} =\n",
    "\t \\begin{pmatrix}\n",
    "       \t\tT_{xx} & T_{xy} & T_{xz}    \\\\\n",
    "\t\tT_{yx} & T_{yy} & T_{yz}    \\\\\n",
    "\t\tT_{zx} & T_{zy} & T_{zz}           \n",
    "\t\\end{pmatrix} $$\n",
    "    \n",
    "In general, we discretize the earth into a collection of cells, each contributing to the magnetic data such that:\n",
    "\n",
    "$$\\vec b(P) = \\sum_{j=1}^{nc} \\mathbf{T}_j \\cdot \\vec H_0 \\; \\kappa_j$$\n",
    "\n",
    "giving rise to a linear problem.\n"
   ]
  },
  {
   "cell_type": "code",
   "execution_count": 1,
   "metadata": {
    "collapsed": false
   },
   "outputs": [
    {
     "name": "stderr",
     "output_type": "stream",
     "text": [
      "/Users/sgkang/anaconda/lib/python2.7/site-packages/matplotlib/font_manager.py:273: UserWarning: Matplotlib is building the font cache using fc-list. This may take a moment.\n",
      "  warnings.warn('Matplotlib is building the font cache using fc-list. This may take a moment.')\n"
     ]
    },
    {
     "name": "stdout",
     "output_type": "stream",
     "text": [
      "Populating the interactive namespace from numpy and matplotlib\n"
     ]
    }
   ],
   "source": [
    "%pylab inline\n",
    "from SimPEG import *\n",
    "from SimPEG.Utils import io_utils"
   ]
  },
  {
   "cell_type": "code",
   "execution_count": 2,
   "metadata": {
    "collapsed": true
   },
   "outputs": [],
   "source": [
    "import matplotlib\n",
    "matplotlib.rcParams['font.size'] = 14"
   ]
  },
  {
   "cell_type": "code",
   "execution_count": 3,
   "metadata": {
    "collapsed": false
   },
   "outputs": [],
   "source": [
    "# We first need to create a susceptibility model.\n",
    "# Based on a set of parametric surfaces representing TKC, \n",
    "# we use VTK to discretize the 3-D space.\n",
    "\n",
    "mshfile = 'MEsh_TEst.msh'\n",
    "\n",
    "model_dir = '../../Geological_model/'\n",
    "\n",
    "# Load mesh file\n",
    "mesh = Mesh.TensorMesh.readUBC(model_dir+mshfile)\n",
    "\n",
    "# Create our own mesh!\n",
    "csx, csy, csz = 25., 25., 25.\n",
    "ncx, ncy, ncz = 48, 48, 20\n",
    "npad = 0\n",
    "hx = [(csx,npad, -1.3),(csx,ncx),(csx,npad, 1.3)]\n",
    "hy = [(csy,npad, -1.3),(csy,ncy),(csy,npad, 1.3)]\n",
    "hz = [(csz,npad, -1.3),(csz,ncz), (csz/2.,6)]\n",
    "mesh = Mesh.TensorMesh([hx, hy, hz],x0=\"CCN\")\n",
    "xc = 300+5.57e5\n",
    "yc = 600+7.133e6\n",
    "zc = 425.\n",
    "x0_new = np.r_[mesh.x0[0]+xc, mesh.x0[1]+yc, mesh.x0[2]+zc]\n",
    "mesh._x0 = x0_new\n",
    "\n",
    "#Mesh.TensorMesh.writeUBC(mesh,model_dir+\"Mesh_mag.msh\")\n",
    "# Define no-data-value\n",
    "ndv = -100\n",
    "\n",
    "# Define survey flight height\n",
    "Z_bird = 20.\n",
    "\n",
    "# Read in topo surface\n",
    "topofile = model_dir+'TKCtopo.dat'\n",
    "geosurf = [\n",
    "    [model_dir+'Till.ts',True,True,0],\n",
    "    [model_dir+'XVK.ts',True,True,1],\n",
    "    [model_dir+'PK1.ts',True,True,2],\n",
    "    [model_dir+'PK2.ts',True,True,3],\n",
    "    [model_dir+'PK3.ts',True,True,4],\n",
    "    [model_dir+'HK1.ts',True,True,5],\n",
    "    [model_dir+'VK.ts',True,True,6]\n",
    "]\n",
    "\n"
   ]
  },
  {
   "cell_type": "code",
   "execution_count": 4,
   "metadata": {
    "collapsed": false
   },
   "outputs": [
    {
     "name": "stdout",
     "output_type": "stream",
     "text": [
      "Computing indices with VTK: ../../Geological_model/Till.ts\n",
      "Extracting indices from grid...\n",
      "VTK operation completed in 9.62741804123 sec\n",
      "Computing indices with VTK: ../../Geological_model/XVK.ts\n",
      "Extracting indices from grid...\n",
      "VTK operation completed in 1.4085021019 sec\n",
      "Computing indices with VTK: ../../Geological_model/PK1.ts\n",
      "Extracting indices from grid...\n",
      "VTK operation completed in 3.83948016167 sec\n",
      "Computing indices with VTK: ../../Geological_model/PK2.ts\n",
      "Extracting indices from grid...\n",
      "VTK operation completed in 1.34631514549 sec\n",
      "Computing indices with VTK: ../../Geological_model/PK3.ts\n",
      "Extracting indices from grid...\n",
      "VTK operation completed in 1.59326696396 sec\n",
      "Computing indices with VTK: ../../Geological_model/HK1.ts\n",
      "Extracting indices from grid...\n",
      "VTK operation completed in 3.65691208839 sec\n",
      "Computing indices with VTK: ../../Geological_model/VK.ts\n",
      "Extracting indices from grid...\n",
      "VTK operation completed in 3.14426207542 sec\n"
     ]
    }
   ],
   "source": [
    "import time as tm\n",
    "\n",
    "modelInd = np.ones(mesh.nC)*ndv\n",
    "for ii in range(len(geosurf)):\n",
    "    tin = tm.time()\n",
    "    print \"Computing indices with VTK: \" + geosurf[ii][0]\n",
    "    T, S = io_utils.read_GOCAD_ts(geosurf[ii][0])\n",
    "    indx = io_utils.surface2inds(T,S,mesh, boundaries=geosurf[ii][1], internal=geosurf[ii][2])\n",
    "    print \"VTK operation completed in \" + str(tm.time() - tin) + \" sec\"\n",
    "    modelInd[indx] = geosurf[ii][3]"
   ]
  },
  {
   "cell_type": "code",
   "execution_count": 9,
   "metadata": {
    "collapsed": true
   },
   "outputs": [],
   "source": [
    "import simpegPF as PF\n",
    "from simpegPF import BaseMag as MAG\n",
    "from scipy.interpolate import NearestNDInterpolator"
   ]
  },
  {
   "cell_type": "code",
   "execution_count": 10,
   "metadata": {
    "collapsed": false
   },
   "outputs": [
    {
     "name": "stdout",
     "output_type": "stream",
     "text": [
      "Please remove this function! use SimPEG.Utils.surface2ind_topo(mesh, topo, gridLoc='CC')\n",
      "Active cells created from topography!\n"
     ]
    }
   ],
   "source": [
    "# Load topography file in UBC format and find the active cells\n",
    "#T, S = io_utils.read_GOCAD_ts(topsurf)\n",
    "#indx = io_utils.surface2inds(T,S, mesh, boundaries=True, internal=True) \n",
    "#actv = np.zeros(mesh.nC)\n",
    "#actv[indx] = 1\n",
    "\n",
    "topo = np.genfromtxt(topofile,skip_header=1)\n",
    "# Find the active cells\n",
    "actv = PF.Magnetics.getActiveTopo(mesh,topo,'N')\n",
    "\n",
    "\n",
    "# Create active map to go from reduce set to full\n",
    "actvMap = Maps.InjectActiveCells(mesh, actv, ndv)\n",
    "\n",
    "print \"Active cells created from topography!\""
   ]
  },
  {
   "cell_type": "code",
   "execution_count": 26,
   "metadata": {
    "collapsed": true
   },
   "outputs": [],
   "source": [
    "# Background density\n",
    "\n",
    "def getModel(Till=0.0, XVK=2e-3, PK1=5e-3, PK2=5e-3, PK3=5e-3, HK1=2e-2, VK=5e-3, bkgr=0.):\n",
    "    vals = [Till, XVK, PK1, PK2, PK3, HK1, VK]\n",
    "    model= np.ones(mesh.nC) * bkgr\n",
    "\n",
    "    for ii, sus in zip(range(7),vals):\n",
    "        model[modelInd == ii] = sus\n",
    "    return model\n",
    "model = getModel()\n",
    "sus = getModel()\n",
    "model = model[actv]"
   ]
  },
  {
   "cell_type": "code",
   "execution_count": 12,
   "metadata": {
    "collapsed": true
   },
   "outputs": [],
   "source": [
    "from ipywidgets.widgets import interact, IntSlider"
   ]
  },
  {
   "cell_type": "code",
   "execution_count": 13,
   "metadata": {
    "collapsed": false
   },
   "outputs": [
    {
     "data": {
      "text/plain": [
       "<function __main__.slide>"
      ]
     },
     "execution_count": 13,
     "metadata": {},
     "output_type": "execute_result"
    },
    {
     "data": {
      "image/png": "[encoded data removed]",
      "text/plain": [
       "<matplotlib.figure.Figure at 0x1131b2150>"
      ]
     },
     "metadata": {},
     "output_type": "display_data"
    }
   ],
   "source": [
    "# Here you can visualize the current model\n",
    "m_true = actvMap*model\n",
    "#Mesh.TensorMesh.writeModelUBC(mesh,model_dir+\"Synthetic_mag.sus\",m_true)\n",
    "airc = m_true==ndv\n",
    "m_true[airc] = np.nan\n",
    "def slide(s,normal):\n",
    "    colorbar(mesh.plotSlice(m_true, normal=normal, ind=s, clim=np.r_[model.min(), model.max()])[0])\n",
    "    plt.gca().set_aspect('equal')\n",
    "interact(slide, s=(0,60), normal=['X','Y','Z'])"
   ]
  },
  {
   "cell_type": "markdown",
   "metadata": {},
   "source": [
    "Now that we have all our spatial components, we can create our linear system. For a single location and single component of the data, the system would looks like this:\n",
    "\n",
    "$$ b_x =\n",
    "\t\\begin{bmatrix}\n",
    "\tT_{xx}^1 &... &T_{xx}^{nc} & T_{xy}^1 & ... & T_{xy}^{nc} & T_{xz}^1 & ... & T_{xz}^{nc}\\\\\n",
    "\t \\end{bmatrix}\n",
    "\t \\begin{bmatrix}\n",
    "\t\t\\mathbf{M}_x \\\\ \\mathbf{M}_y \\\\ \\mathbf{M}_z\n",
    "\t\\end{bmatrix} \\\\ $$\n",
    "\n",
    "where each of $T_{xx},\\;T_{xy},\\;T_{xz}$ are [nc x 1] long. For the $y$ and $z$ component, we need the two other rows of the tensor $\\mathbf{T}$.\n",
    "In our simple induced case, the magnetization direction $\\mathbf{M_x,\\;M_y\\;,Mz}$ are known and assumed to be constant everywhere, so we can reduce the size of the system such that: \n",
    "\n",
    "$$ \\vec{\\mathbf{d}}_{\\text{pred}} = (\\mathbf{T\\cdot M})\\; \\kappa$$\n",
    "\n",
    "\n",
    "\n",
    "In most geophysical surveys, we are not collecting all three components, but rather the magnitude of the field, or $Total\\;Magnetic\\;Intensity$ (TMI) data.\n",
    "Because the inducing field is really large, we will assume that the anomalous fields are parallel to $H_0$:\n",
    "\n",
    "$$ d^{TMI}  = \\hat H_0 \\cdot \\vec d$$\n",
    "\n",
    "We then end up with a much smaller system:\n",
    "\n",
    "$$ d^{TMI} = \\mathbf{F\\; \\kappa}$$\n",
    "\n",
    "where $\\mathbf{F} \\in \\mathbb{R}^{nd \\times nc}$ is our $forward$ operator."
   ]
  },
  {
   "cell_type": "code",
   "execution_count": 14,
   "metadata": {
    "collapsed": false
   },
   "outputs": [],
   "source": [
    "# We need to define the direction of the inducing field\n",
    "# From old convention, field orientation is given as an azimuth from North \n",
    "# (positive clockwise) and dip from the horizontal (positive downward).\n",
    "# The field parameters at TKC are [H:60,308 nT, I:83.8 d D:25.4 d ]\n",
    "H0 = (60308.,83.8,25.4)\n",
    "\n",
    "# We create a synthetic survey with observations in cell center.\n",
    "X, Y = np.meshgrid(mesh.vectorCCx[::2], mesh.vectorCCy[::2])\n",
    "\n",
    "# Using our topography, we trape the survey and shift it up by the flight height\n",
    "Ftopo = NearestNDInterpolator(topo[:,:2], topo[:,2])\n",
    "Z = Ftopo(Utils.mkvc(X.T),Utils.mkvc(Y.T)) + Z_bird\n",
    "\n",
    "rxLoc = np.c_[Utils.mkvc(X.T), Utils.mkvc(Y.T), Utils.mkvc(Z.T)]\n",
    "rxLoc = MAG.RxObs(rxLoc)\n",
    "\n",
    "srcField = MAG.SrcField([rxLoc])\n",
    "srcField.param = H0\n",
    "survey = MAG.LinearSurvey(srcField)\n"
   ]
  },
  {
   "cell_type": "code",
   "execution_count": 15,
   "metadata": {
    "collapsed": false
   },
   "outputs": [],
   "source": [
    "xyz = np.c_[Utils.mkvc(X.T), Utils.mkvc(Y.T), Utils.mkvc(Z.T)]"
   ]
  },
  {
   "cell_type": "code",
   "execution_count": 16,
   "metadata": {
    "collapsed": false
   },
   "outputs": [],
   "source": [
    "# Now that we have a model and a survey we can build the linear system ...\n",
    "\n",
    "\n",
    "# Creat reduced identity map\n",
    "idenMap = Maps.IdentityMap(nP=len(actv))\n",
    "\n",
    "# Create the forward model operator\n",
    "prob = PF.Magnetics.Problem3D_Integral(mesh, mapping=idenMap, actInd=actv)\n",
    "\n",
    "# Pair the survey and problem\n",
    "survey.pair(prob)\n"
   ]
  },
  {
   "cell_type": "code",
   "execution_count": 17,
   "metadata": {
    "collapsed": false,
    "scrolled": true
   },
   "outputs": [
    {
     "name": "stdout",
     "output_type": "stream",
     "text": [
      "Begin calculation of forward operator: ind\n",
      "Done 0.0 %\n",
      "Done 10.0 %\n",
      "Done 20.0 %\n",
      "Done 30.0 %\n",
      "Done 40.0 %\n",
      "Done 50.0 %\n",
      "Done 60.0 %\n",
      "Done 70.0 %\n",
      "Done 80.0 %\n",
      "Done 90.0 %\n",
      "Done 100% ...forward operator completed!!\n",
      "\n"
     ]
    }
   ],
   "source": [
    "# Fist time that we ask for predicted data,\n",
    "# the dense matrix T is calculated.\n",
    "# This is generally the bottleneck of the integral formulation, \n",
    "# in terms of time and memory.\n",
    "d = prob.fields(model)"
   ]
  },
  {
   "cell_type": "code",
   "execution_count": 18,
   "metadata": {
    "collapsed": false
   },
   "outputs": [
    {
     "name": "stdout",
     "output_type": "stream",
     "text": [
      "557287.5 7133587.5\n"
     ]
    },
    {
     "data": {
      "text/plain": [
       "<function __main__.createData>"
      ]
     },
     "execution_count": 18,
     "metadata": {},
     "output_type": "execute_result"
    },
    {
     "data": {
      "image/png": "[encoded data removed]",
      "text/plain": [
       "<matplotlib.figure.Figure at 0x1182a7990>"
      ]
     },
     "metadata": {},
     "output_type": "display_data"
    }
   ],
   "source": [
    "# The main advantage of the integral formulation, is that we can generate data \n",
    "# by a simple matrix-vector product. The applet below allows the user to test\n",
    "# different susceptibility values assigned to the different TKC units\n",
    "\n",
    "def createData(Till=0.0, XVK=2e-3, PK1=5e-3, PK2=5e-3, PK3=5e-3, HK1=2e-2, VK=5e-3, bkgr=0.):\n",
    "    model = getModel(Till=Till, XVK=XVK, PK1=PK1, PK2=PK2, PK3=PK3, HK1=HK1, VK=VK, bkgr=bkgr)\n",
    "    d = prob.fields(model[actv])\n",
    "    #mesh2d = Mesh.TensorMesh([mesh.hx,mesh.hy],mesh.x0[:2])\n",
    "    d2D = d.reshape(X.shape)\n",
    "    plt.figure(figsize=[5,5])\n",
    "    xc, yc = (X.min()+X.max())*0.5, (Y.min()+Y.max())*0.5\n",
    "#     colorbar(imshow(d2D,extent=[X.min()-xc, X.max()-xc, Y.min()-yc, Y.max()-yc],origin = 'lower'))\n",
    "#     plt.contour(X-xc,Y-yc, d2D,20,colors='k')\n",
    "    dat = plt.contourf(X-xc,Y-yc, d2D,40)    \n",
    "    plt.gca().set_aspect('equal')\n",
    "    plt.plot(X.flatten()-xc,Y.flatten()-yc,'k.', ms=2)\n",
    "    plt.colorbar(dat)    \n",
    "    plt.xlabel(\"Easting (m)\")\n",
    "    plt.ylabel(\"Northing (m)\")\n",
    "    xlim(-300, 300)\n",
    "    ylim(-300, 300)    \n",
    "\n",
    "    print xc, yc\n",
    "\n",
    "interact(createData, PK1=(0,0.01,0.001), PK2=(0,0.01,0.001), PK3=(0,0.01,0.001), HK1=(0,0.05,0.001), VK=(0,0.01,0.001))"
   ]
  },
  {
   "cell_type": "raw",
   "metadata": {},
   "source": []
  },
  {
   "cell_type": "code",
   "execution_count": 19,
   "metadata": {
    "collapsed": false
   },
   "outputs": [],
   "source": [
    "# Add noise to the data and assign uncertainties\n",
    "\n",
    "data = d + randn(len(d)) # We add some random Gaussian noise (1nT)\n",
    "wd = np.ones(len(data))*1. # Assign flat uncertainties\n",
    "\n",
    "survey.dobs = data\n",
    "survey.std = wd\n",
    "\n",
    "# It is potential fields, so we will need to push the inverison down\n",
    "# Create distance weights from our linera forward operator\n",
    "wr = np.sum(prob.G**2.,axis=0)**0.5 / mesh.vol[actv]\n",
    "wr = ( wr/np.max(wr) )\n",
    "#wr = PF.Magnetics.get_dist_wgt(mesh, survey.srcField.rxList[0].locs, actv, 3., np.min(mesh.hx)/4.)\n",
    "#wr = wr**2. # Need to square to be included as weights\n",
    "    \n",
    "reg = Regularization.Simple(mesh, indActive = actv, mapping = idenMap)\n",
    "reg.wght = wr\n",
    "\n",
    "dmis = DataMisfit.l2_DataMisfit(survey)\n",
    "dmis.Wd = 1/wd\n",
    "opt = Optimization.ProjectedGNCG(maxIter=20,lower=0.,upper=1., maxIterCG= 20, tolCG = 1e-3)\n",
    "\n",
    "invProb = InvProblem.BaseInvProblem(dmis, reg, opt)\n",
    "\n",
    "# Add directives to the inversion\n",
    "beta = Directives.BetaSchedule(coolingFactor=2, coolingRate=1)\n",
    "beta_init = Directives.BetaEstimate_ByEig()\n",
    "target = Directives.TargetMisfit()\n",
    "update_Jacobi = Directives.Update_lin_PreCond(onlyOnStart=True)\n",
    "\n",
    "inv = Inversion.BaseInversion(invProb, directiveList=[beta,target,beta_init,update_Jacobi])\n",
    "\n",
    "m0 = np.ones(len(actv))*1e-4\n"
   ]
  },
  {
   "cell_type": "code",
   "execution_count": 20,
   "metadata": {
    "collapsed": false
   },
   "outputs": [
    {
     "name": "stdout",
     "output_type": "stream",
     "text": [
      "SimPEG.InvProblem will set Regularization.mref to m0.\n",
      "SimPEG.InvProblem is setting bfgsH0 to the inverse of the eval2Deriv.\n",
      "                    ***Done using same Solver and solverOpts as the problem***\n",
      "=============================== Projected GNCG ===============================\n",
      "  #     beta     phi_d     phi_m       f      |proj(x-g)-x|  LS    Comment   \n",
      "-----------------------------------------------------------------------------\n",
      "   0  3.78e+05  1.85e+05  0.00e+00  1.85e+05    1.48e+02      0              \n",
      "   1  1.89e+05  1.62e+05  2.98e-02  1.67e+05    1.46e+02      0              \n",
      "   2  9.46e+04  1.43e+05  1.03e-01  1.53e+05    1.44e+02      0   Skip BFGS  \n",
      "   3  4.73e+04  1.16e+05  3.14e-01  1.31e+05    1.39e+02      0   Skip BFGS  \n",
      "   4  2.36e+04  8.36e+04  8.07e-01  1.03e+05    1.32e+02      0   Skip BFGS  \n",
      "   5  1.18e+04  5.28e+04  1.74e+00  7.33e+04    1.22e+02      0   Skip BFGS  \n",
      "   6  5.91e+03  2.92e+04  3.15e+00  4.78e+04    1.11e+02      0   Skip BFGS  \n",
      "   7  2.96e+03  1.44e+04  4.90e+00  2.89e+04    1.01e+02      0   Skip BFGS  \n",
      "   8  1.48e+03  6.50e+03  6.77e+00  1.65e+04    9.21e+01      0   Skip BFGS  \n",
      "   9  7.39e+02  2.74e+03  8.53e+00  9.04e+03    8.43e+01      0   Skip BFGS  \n",
      "  10  3.69e+02  1.13e+03  1.00e+01  4.83e+03    7.81e+01      0   Skip BFGS  \n",
      "  11  1.85e+02  4.80e+02  1.12e+01  2.55e+03    7.52e+01      0   Skip BFGS  \n",
      "------------------------- STOP! -------------------------\n",
      "1 : |fc-fOld| = 0.0000e+00 <= tolF*(1+|f0|) = 1.8519e+04\n",
      "1 : |xc-x_last| = 2.6326e-02 <= tolX*(1+|x0|) = 1.0243e-01\n",
      "0 : |proj(x-g)-x|    = 7.5221e+01 <= tolG          = 1.0000e-01\n",
      "0 : |proj(x-g)-x|    = 7.5221e+01 <= 1e3*eps       = 1.0000e-02\n",
      "0 : maxIter   =      20    <= iter          =     12\n",
      "------------------------- DONE! -------------------------\n"
     ]
    }
   ],
   "source": [
    "# Run inversion\n",
    "ml2 = inv.run(m0)\n",
    "\n",
    "# Map model back to full space\n",
    "m_l2 = actvMap*ml2\n",
    "m_l2[airc] = np.nan"
   ]
  },
  {
   "cell_type": "code",
   "execution_count": 21,
   "metadata": {
    "collapsed": false
   },
   "outputs": [
    {
     "data": {
      "text/plain": [
       "<function __main__.slide>"
      ]
     },
     "execution_count": 21,
     "metadata": {},
     "output_type": "execute_result"
    },
    {
     "data": {
      "image/png": "[encoded data removed]",
      "text/plain": [
       "<matplotlib.figure.Figure at 0x1173d0e50>"
      ]
     },
     "metadata": {},
     "output_type": "display_data"
    }
   ],
   "source": [
    "# Inject active cells back into the global mesh and view the recoverd model\n",
    "vmin, vmax = 0., 0.02\n",
    "def slide(s,normal):\n",
    "    ax1 = plt.subplot(2,1,1)\n",
    "    dat = mesh.plotSlice(m_l2, ax = ax1, normal=normal, ind=s, clim=np.r_[model.min(), model.max()])\n",
    "    plt.colorbar(dat[0])\n",
    "    plt.gca().set_aspect('equal')\n",
    "    plt.title('Compact model')\n",
    "    \n",
    "    ax2 = plt.subplot(2,1,2)\n",
    "    dat = mesh.plotSlice(m_true, ax = ax2, normal=normal, ind=s, clim=np.r_[model.min(), model.max()])\n",
    "    plt.colorbar(dat[0])\n",
    "    plt.gca().set_aspect('equal')\n",
    "    plt.title('True model')\n",
    "    \n",
    "interact(slide, s=(0,60), normal=['X','Y','Z'])"
   ]
  },
  {
   "cell_type": "code",
   "execution_count": 22,
   "metadata": {
    "collapsed": false
   },
   "outputs": [
    {
     "data": {
      "text/plain": [
       "<matplotlib.text.Text at 0x12c49d0d0>"
      ]
     },
     "execution_count": 22,
     "metadata": {},
     "output_type": "execute_result"
    },
    {
     "data": {
      "image/png": "[encoded data removed]",
      "text/plain": [
       "<matplotlib.figure.Figure at 0x118a4dcd0>"
      ]
     },
     "metadata": {},
     "output_type": "display_data"
    }
   ],
   "source": [
    "# We did a pretty good job a recovering the approximate shape of the pipe, but we can do better.\n",
    "# We previously used a smooth norm for regularization, which is globally convex and simple to implement.\n",
    "# The drawbacks are that edges are poorly defined, and model parameters generally underestimated.\n",
    "# Let's explore other norms, using an IRLS formulation.\n",
    "\n",
    "# Starting with the smooth solution above, we continue the inversion with a different regularization\n",
    "phim = invProb.phi_m_last # Need to scale our new phim \n",
    "phid =  invProb.phi_d # Keep track of our data fit\n",
    "\n",
    "# Lets look at the distribution of model parameters and model gradients\n",
    "\n",
    "plt.figure(figsize=[10,5])\n",
    "ax = plt.subplot(121)\n",
    "plt.hist(ml2,100)\n",
    "plt.yscale('log', nonposy='clip')\n",
    "plt.title('Histogram of model values - Smooth')\n",
    "ax = plt.subplot(122)\n",
    "plt.hist(reg.regmesh.cellDiffxStencil*ml2,100)\n",
    "plt.yscale('log', nonposy='clip')\n",
    "plt.title('Histogram of model gradient values - Smooth')"
   ]
  },
  {
   "cell_type": "code",
   "execution_count": 23,
   "metadata": {
    "collapsed": false
   },
   "outputs": [
    {
     "name": "stdout",
     "output_type": "stream",
     "text": [
      "SimPEG.InvProblem is setting bfgsH0 to the inverse of the eval2Deriv.\n",
      "                    ***Done using same Solver and solverOpts as the problem***\n",
      "=============================== Projected GNCG ===============================\n",
      "  #     beta     phi_d     phi_m       f      |proj(x-g)-x|  LS    Comment   \n",
      "-----------------------------------------------------------------------------\n",
      "   0  9.24e+01  2.23e+02  1.12e+01  1.26e+03    5.62e+01      0              \n",
      "   1  1.11e+02  2.39e+02  1.49e+01  1.89e+03    6.22e+01      4              \n",
      "   2  1.20e+02  2.67e+02  1.49e+01  2.05e+03    9.51e+01      0              \n",
      "   3  9.70e+01  3.56e+02  1.49e+01  1.80e+03    1.08e+02      0              \n",
      "   4  7.03e+01  3.97e+02  1.49e+01  1.44e+03    1.34e+02      0              \n",
      "   5  5.21e+01  3.89e+02  1.49e+01  1.16e+03    1.39e+02      0              \n",
      "   6  4.06e+01  3.70e+02  1.49e+01  9.73e+02    1.40e+02      0              \n",
      "   7  3.30e+01  3.54e+02  1.49e+01  8.45e+02    1.44e+02      0              \n",
      "   8  2.78e+01  3.42e+02  1.49e+01  7.55e+02    1.49e+02      0              \n",
      "   9  2.41e+01  3.32e+02  1.49e+01  6.91e+02    1.52e+02      0              \n",
      "  10  2.14e+01  3.24e+02  1.49e+01  6.43e+02    1.49e+02      0              \n",
      "------------------------- STOP! -------------------------\n",
      "1 : |fc-fOld| = 4.8065e+01 <= tolF*(1+|f0|) = 1.2605e+02\n",
      "1 : |xc-x_last| = 2.1490e-02 <= tolX*(1+|x0|) = 1.2628e-01\n",
      "0 : |proj(x-g)-x|    = 1.4936e+02 <= tolG          = 1.0000e-01\n",
      "0 : |proj(x-g)-x|    = 1.4936e+02 <= 1e3*eps       = 1.0000e-02\n",
      "1 : maxIter   =      10    <= iter          =     10\n",
      "------------------------- DONE! -------------------------\n"
     ]
    }
   ],
   "source": [
    "# Looking at the histogram above, we notice the smooth distribution of model parameters,\n",
    "# as expected from the smooth l2-norm. We will try to compress this distribution to have\n",
    "# fewer non-zero values.\n",
    "\n",
    "# Set parameters for sparsity\n",
    "reg = Regularization.Sparse(mesh, indActive = actv, mapping = idenMap)\n",
    "reg.recModel = ml2\n",
    "reg.wght = wr\n",
    "reg.mref = np.zeros(len(actv))\n",
    "\n",
    "# We need to define some threshold values. Looking at the histogram, we want to put pressure\n",
    "# on most of the small, unimportant \"effective zero\" values. We do it for both the model\n",
    "# and model gradients independantly.\n",
    "reg.eps_p = 1e-4 # Threshold on susceptibility\n",
    "reg.eps_q = 1e-4 # Threshold on gradients\n",
    "reg.norms   = [0., 1., 1., 1.] # Norms applies on the [model, dm/dx, dm/dy, dm/dz]\n",
    "\n",
    "\n",
    "dmis = DataMisfit.l2_DataMisfit(survey)\n",
    "dmis.Wd = wd\n",
    "opt = Optimization.ProjectedGNCG(maxIter=10 ,lower=0.,upper=1., maxIterCG= 20, tolCG = 1e-4)\n",
    "\n",
    "invProb = InvProblem.BaseInvProblem(dmis, reg, opt, beta = invProb.beta)\n",
    "\n",
    "# Create inversion directives\n",
    "beta = Directives.BetaSchedule(coolingFactor=1, coolingRate=1)\n",
    "update_beta = Directives.Scale_Beta(tol = 0.05)\n",
    "target = Directives.TargetMisfit()\n",
    "IRLS =Directives.Update_IRLS( phi_m_last = phim, phi_d_last = phid )\n",
    "update_Jacobi = Directives.Update_lin_PreCond(onlyOnStart=False)\n",
    "\n",
    "inv = Inversion.BaseInversion(invProb, directiveList=[beta,IRLS,update_beta,update_Jacobi])\n",
    "\n",
    "m0 = ml2\n",
    "\n",
    "# Run inversion\n",
    "mrec = inv.run(m0)"
   ]
  },
  {
   "cell_type": "code",
   "execution_count": 24,
   "metadata": {
    "collapsed": false
   },
   "outputs": [
    {
     "data": {
      "image/png": "[encoded data removed]",
      "text/plain": [
       "<matplotlib.figure.Figure at 0x133504350>"
      ]
     },
     "metadata": {},
     "output_type": "display_data"
    }
   ],
   "source": [
    "# Inject active cells back into the global mesh and view the recoverd model\n",
    "m_IRLS = actvMap*mrec\n",
    "m_IRLS[airc] = np.nan\n",
    "plt.figure(figsize=[8,10])\n",
    "\n",
    "def slide(s,normal):\n",
    "    ax1 = plt.subplot(2,1,1)\n",
    "    dat = mesh.plotSlice(m_IRLS, ax = ax1, normal=normal, ind=s, clim=np.r_[model.min(), model.max()])\n",
    "    plt.colorbar(dat[0])\n",
    "    plt.gca().set_aspect('equal')\n",
    "    plt.title('Compact model')\n",
    "    \n",
    "    ax2 = plt.subplot(2,1,2)\n",
    "    dat = mesh.plotSlice(m_true, ax = ax2, normal=normal, ind=s, clim=np.r_[model.min(), model.max()])\n",
    "    plt.colorbar(dat[0])\n",
    "    plt.gca().set_aspect('equal')\n",
    "    plt.title('True model')\n",
    "    \n",
    "interact(slide, s=(0,60), normal=['X','Y','Z'])"
   ]
  },
  {
   "cell_type": "code",
   "execution_count": 25,
   "metadata": {
    "collapsed": false
   },
   "outputs": [
    {
     "data": {
      "text/plain": [
       "<matplotlib.text.Text at 0x12f458390>"
      ]
     },
     "execution_count": 25,
     "metadata": {},
     "output_type": "execute_result"
    },
    {
     "data": {
      "image/png": "[encoded data removed]",
      "text/plain": [
       "<matplotlib.figure.Figure at 0x12c450910>"
      ]
     },
     "metadata": {},
     "output_type": "display_data"
    }
   ],
   "source": [
    "# Lets look at the distribution of model parameters and model gradients\n",
    "\n",
    "plt.figure(figsize=[10,5])\n",
    "ax = plt.subplot(121)\n",
    "plt.hist(mrec,100)\n",
    "plt.yscale('log', nonposy='clip')\n",
    "plt.title('Histogram of model values - Smooth')\n",
    "ax = plt.subplot(122)\n",
    "plt.hist(reg.regmesh.cellDiffxStencil*mrec,100)\n",
    "plt.yscale('log', nonposy='clip')\n",
    "plt.title('Histogram of model gradient values - Smooth')"
   ]
  },
  {
   "cell_type": "code",
   "execution_count": 28,
   "metadata": {
    "collapsed": true
   },
   "outputs": [],
   "source": [
    "import pickle\n",
    "Results = {\"mesh\":mesh, \"model_true\":sus, \"model_pred\":m_IRLS, \"Obs\":data, \"XYZ\": xyz}\n",
    "outputs = open(\"Magresults\", 'wb')\n",
    "pickle.dump(Results, outputs)\n",
    "outputs.close()"
   ]
  },
  {
   "cell_type": "code",
   "execution_count": null,
   "metadata": {
    "collapsed": true
   },
   "outputs": [],
   "source": []
  }
 ],
 "metadata": {
  "kernelspec": {
   "display_name": "Python 2",
   "language": "python",
   "name": "python2"
  },
  "language_info": {
   "codemirror_mode": {
    "name": "ipython",
    "version": 2
   },
   "file_extension": ".py",
   "mimetype": "text/x-python",
   "name": "python",
   "nbconvert_exporter": "python",
   "pygments_lexer": "ipython2",
   "version": "2.7.11"
  }
 },
 "nbformat": 4,
 "nbformat_minor": 0
}
