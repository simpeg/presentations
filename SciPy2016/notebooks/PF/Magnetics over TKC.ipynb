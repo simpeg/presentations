{
 "cells": [
  {
   "cell_type": "code",
   "execution_count": 1,
   "metadata": {
    "collapsed": false
   },
   "outputs": [
    {
     "name": "stdout",
     "output_type": "stream",
     "text": [
      "Populating the interactive namespace from numpy and matplotlib\n"
     ]
    }
   ],
   "source": [
    "%pylab inline\n",
    "from SimPEG import *"
   ]
  },
  {
   "cell_type": "code",
   "execution_count": 2,
   "metadata": {
    "collapsed": false
   },
   "outputs": [],
   "source": [
    "from SimPEG.Utils import io_utils"
   ]
  },
  {
   "cell_type": "code",
   "execution_count": 3,
   "metadata": {
    "collapsed": false
   },
   "outputs": [],
   "source": [
    "mshfile = 'MEsh_TEst.msh'\n",
    "\n",
    "model_dir = '../../Geological_model/'\n",
    "\n",
    "# Load mesh file\n",
    "mesh = Mesh.TensorMesh.readUBC(model_dir+mshfile)\n",
    "\n",
    "# Create our own mesh!\n",
    "csx, csy, csz = 25., 25., 25.\n",
    "ncx, ncy, ncz = 48, 48, 20\n",
    "npad = 0\n",
    "hx = [(csx,npad, -1.3),(csx,ncx),(csx,npad, 1.3)]\n",
    "hy = [(csy,npad, -1.3),(csy,ncy),(csy,npad, 1.3)]\n",
    "hz = [(csz,npad, -1.3),(csz,ncz), (csz/2.,6)]\n",
    "mesh = Mesh.TensorMesh([hx, hy, hz],x0=\"CCN\")\n",
    "xc = 300+5.57e5\n",
    "yc = 600+7.133e6\n",
    "zc = 425.\n",
    "x0_new = np.r_[mesh.x0[0]+xc, mesh.x0[1]+yc, mesh.x0[2]+zc]\n",
    "mesh._x0 = x0_new\n",
    "\n",
    "# Load in observation file\n",
    "#[B,M,dobs] = PF.BaseMag.readUBCmagObs(obsfile)\n",
    "\n",
    "# Read in topo surface\n",
    "topsurf = model_dir+'CDED_Lake_Coarse.ts'\n",
    "geosurf = [\n",
    "    [model_dir+'Till.ts',True,True,0],\n",
    "    [model_dir+'XVK.ts',True,True,1],\n",
    "    [model_dir+'PK1.ts',True,True,2],\n",
    "    [model_dir+'PK2.ts',True,True,3],\n",
    "    [model_dir+'PK3.ts',True,True,4],\n",
    "    [model_dir+'HK1.ts',True,True,5],\n",
    "    [model_dir+'VK.ts',True,True,6]\n",
    "]\n",
    "\n"
   ]
  },
  {
   "cell_type": "code",
   "execution_count": 4,
   "metadata": {
    "collapsed": false
   },
   "outputs": [
    {
     "name": "stdout",
     "output_type": "stream",
     "text": [
      "Computing indices with VTK: ../../Geological_model/Till.ts\n",
      "Extracting indices from grid...\n",
      "VTK operation completed in 6.47659087181 sec\n",
      "Computing indices with VTK: ../../Geological_model/XVK.ts\n",
      "Extracting indices from grid...\n",
      "VTK operation completed in 1.02837395668 sec\n",
      "Computing indices with VTK: ../../Geological_model/PK1.ts\n",
      "Extracting indices from grid...\n",
      "VTK operation completed in 2.8953909874 sec\n",
      "Computing indices with VTK: ../../Geological_model/PK2.ts\n",
      "Extracting indices from grid...\n",
      "VTK operation completed in 1.0211019516 sec\n",
      "Computing indices with VTK: ../../Geological_model/PK3.ts\n",
      "Extracting indices from grid...\n",
      "VTK operation completed in 1.29332900047 sec\n",
      "Computing indices with VTK: ../../Geological_model/HK1.ts\n",
      "Extracting indices from grid...\n",
      "VTK operation completed in 2.54887104034 sec\n",
      "Computing indices with VTK: ../../Geological_model/VK.ts\n",
      "Extracting indices from grid...\n",
      "VTK operation completed in 2.54360198975 sec\n"
     ]
    }
   ],
   "source": [
    "import time as tm\n",
    "\n",
    "modelInd = np.ones(mesh.nC)*-1\n",
    "for ii in range(len(geosurf)):\n",
    "    tin = tm.time()\n",
    "    print \"Computing indices with VTK: \" + geosurf[ii][0]\n",
    "    T, S = io_utils.read_GOCAD_ts(geosurf[ii][0])\n",
    "    indx = io_utils.surface2inds(T,S,mesh, boundaries=geosurf[ii][1], internal=geosurf[ii][2])\n",
    "    print \"VTK operation completed in \" + str(tm.time() - tin) + \" sec\"\n",
    "    modelInd[indx] = geosurf[ii][3]"
   ]
  },
  {
   "cell_type": "code",
   "execution_count": 5,
   "metadata": {
    "collapsed": false
   },
   "outputs": [
    {
     "name": "stdout",
     "output_type": "stream",
     "text": [
      "Extracting indices from grid...\n"
     ]
    }
   ],
   "source": [
    "T, S = io_utils.read_GOCAD_ts(topsurf)\n",
    "indx = io_utils.surface2inds(T,S, mesh, boundaries=True, internal=True) \n",
    "actv = np.zeros(mesh.nC)\n",
    "actv[indx] = 1\n",
    "\n",
    "modelInd[actv==0] = 7\n"
   ]
  },
  {
   "cell_type": "code",
   "execution_count": 11,
   "metadata": {
    "collapsed": true
   },
   "outputs": [],
   "source": [
    "# Background density\n",
    "\n",
    "def getModel(Till=0.0, XVK=2e-3, PK1=1e-3, PK2=1e-3, PK3=1e-3, HK1=5e-2, VK=5e-3, air=0., bkgr=0.):\n",
    "    vals = [Till, XVK, PK1, PK2, PK3, HK1, VK, air]\n",
    "    model= np.ones(mesh.nC) * bkgr\n",
    "\n",
    "    for ii, sus in zip(range(8),vals):\n",
    "        model[modelInd == ii] = sus\n",
    "    return model\n",
    "model = getModel()"
   ]
  },
  {
   "cell_type": "code",
   "execution_count": 7,
   "metadata": {
    "collapsed": true
   },
   "outputs": [],
   "source": [
    "mesh.writeUBC('VTKmesh.msh')"
   ]
  },
  {
   "cell_type": "code",
   "execution_count": 12,
   "metadata": {
    "collapsed": true
   },
   "outputs": [],
   "source": [
    "from ipywidgets.widgets import interact, IntSlider"
   ]
  },
  {
   "cell_type": "code",
   "execution_count": 13,
   "metadata": {
    "collapsed": false
   },
   "outputs": [
    {
     "data": {
      "text/plain": [
       "<function __main__.slide>"
      ]
     },
     "execution_count": 13,
     "metadata": {},
     "output_type": "execute_result"
    },
    {
     "data": {
      "image/png": "[encoded data removed]",
      "text/plain": [
       "<matplotlib.figure.Figure at 0x112511610>"
      ]
     },
     "metadata": {},
     "output_type": "display_data"
    }
   ],
   "source": [
    "def slide(s,normal):\n",
    "    colorbar(mesh.plotSlice(model, normal=normal, ind=s, clim=np.r_[model.min(), model.max()])[0])\n",
    "    plt.gca().set_aspect('equal')\n",
    "interact(slide, s=(0,60), normal=['X','Y','Z'])"
   ]
  },
  {
   "cell_type": "code",
   "execution_count": 14,
   "metadata": {
    "collapsed": false
   },
   "outputs": [
    {
     "name": "stdout",
     "output_type": "stream",
     "text": [
      "  ---- 3-D TensorMesh ----  \n",
      "   x0: 556700.00\n",
      "   y0: 7133000.00\n",
      "   z0: -150.00\n",
      "  nCx: 48\n",
      "  nCy: 48\n",
      "  nCz: 26\n",
      "   hx: 48*25.00\n",
      "   hy: 48*25.00\n",
      "   hz: 20*25.00, 6*12.50\n"
     ]
    }
   ],
   "source": [
    "print mesh"
   ]
  },
  {
   "cell_type": "code",
   "execution_count": 15,
   "metadata": {
    "collapsed": false
   },
   "outputs": [],
   "source": [
    "import simpegPF as PF\n",
    "from simpegPF import BaseMag as MAG"
   ]
  },
  {
   "cell_type": "code",
   "execution_count": 16,
   "metadata": {
    "collapsed": false
   },
   "outputs": [],
   "source": [
    "# First we need to define the direction of the inducing field\n",
    "# As a simple case, we pick a vertical inducing field of magnitude 50,000nT. \n",
    "# From old convention, field orientation is given as an azimuth from North \n",
    "# (positive clockwise) and dip from the horizontal (positive downward).\n",
    "H0 = (50000.,90.,0.)\n",
    "\n",
    "actvMap = Maps.InjectActiveCells(mesh, actv==1, -100)\n",
    "\n",
    "X, Y = np.meshgrid(mesh.vectorCCx, mesh.vectorCCy)\n",
    "Z = X*0+mesh.vectorCCz[-1]"
   ]
  },
  {
   "cell_type": "code",
   "execution_count": 17,
   "metadata": {
    "collapsed": false
   },
   "outputs": [],
   "source": [
    "rxLoc = np.c_[Utils.mkvc(X.T), Utils.mkvc(Y.T), Utils.mkvc(Z.T)]\n",
    "rxLoc = MAG.RxObs(rxLoc)\n",
    "srcField = MAG.SrcField([rxLoc],H0)\n",
    "survey = MAG.LinearSurvey(srcField)"
   ]
  },
  {
   "cell_type": "code",
   "execution_count": 18,
   "metadata": {
    "collapsed": false
   },
   "outputs": [],
   "source": [
    "\n",
    "actv_ind = np.where(actv==1)[0]\n",
    "\n",
    "model = model[actv_ind]\n",
    "\n",
    "# Create active map to go from reduce set to full\n",
    "actvMap = Maps.InjectActiveCells(mesh, actv_ind, -100)\n",
    "\n",
    "# Creat reduced identity map\n",
    "idenMap = Maps.IdentityMap(nP=len(actv_ind))\n",
    "\n",
    "# Create the forward model operator\n",
    "prob = PF.Magnetics.MagneticIntegral(mesh, mapping=idenMap, actInd=actv_ind)\n",
    "\n",
    "# Pair the survey and problem\n",
    "survey.pair(prob)\n"
   ]
  },
  {
   "cell_type": "code",
   "execution_count": 19,
   "metadata": {
    "collapsed": false
   },
   "outputs": [
    {
     "name": "stdout",
     "output_type": "stream",
     "text": [
      "Begin calculation of forward operator: ind\n",
      "Done 0.0 %\n",
      "Done 10.0 %\n",
      "Done 20.0 %\n",
      "Done 30.0 %\n",
      "Done 40.0 %\n",
      "Done 50.0 %\n",
      "Done 60.0 %\n",
      "Done 70.0 %\n",
      "Done 80.0 %\n",
      "Done 90.0 %\n",
      "Done 100% ...forward operator completed!!\n",
      "\n"
     ]
    }
   ],
   "source": [
    "\n",
    "# Compute linear forward operator and compute some data\n",
    "d = prob.fields(model)"
   ]
  },
  {
   "cell_type": "code",
   "execution_count": 27,
   "metadata": {
    "collapsed": false
   },
   "outputs": [
    {
     "data": {
      "text/plain": [
       "<matplotlib.colorbar.Colorbar instance at 0x112bf7d88>"
      ]
     },
     "execution_count": 27,
     "metadata": {},
     "output_type": "execute_result"
    },
    {
     "data": {
      "image/png": "[encoded data removed]",
      "text/plain": [
       "<matplotlib.figure.Figure at 0x110ed4f10>"
      ]
     },
     "metadata": {},
     "output_type": "display_data"
    }
   ],
   "source": [
    "mesh2d = Mesh.TensorMesh([mesh.hx,mesh.hy],mesh.x0[:2])\n",
    "colorbar(mesh2d.plotImage(d)[0])"
   ]
  },
  {
   "cell_type": "code",
   "execution_count": 26,
   "metadata": {
    "collapsed": false
   },
   "outputs": [
    {
     "data": {
      "image/png": "[encoded data removed]",
      "text/plain": [
       "<matplotlib.figure.Figure at 0x112799d10>"
      ]
     },
     "metadata": {},
     "output_type": "display_data"
    }
   ],
   "source": [
    "def createData(Till=0.0, XVK=2e-3, PK1=1e-3, PK2=1e-3, PK3=1e-3, HK1=5e-2, VK=5e-3, air=0., bkgr=0.):\n",
    "    model = getModel(Till=Till, XVK=XVK, PK1=PK1, PK2=PK2, PK3=PK3, HK1=HK1, VK=VK, air=air, bkgr=bkgr)\n",
    "    d = prob.fields(model)\n",
    "    mesh2d = Mesh.TensorMesh([mesh.hx,mesh.hy],mesh.x0[:2])\n",
    "    colorbar(mesh2d.plotImage(d)[0])\n",
    "\n",
    "interact(createData, PK1=(0,0.01,0.0025), PK2=(0,0.01,0.0025), PK3=(0,0.01,0.0025))"
   ]
  },
  {
   "cell_type": "code",
   "execution_count": null,
   "metadata": {
    "collapsed": true
   },
   "outputs": [],
   "source": []
  }
 ],
 "metadata": {
  "kernelspec": {
   "display_name": "Python 2",
   "language": "python",
   "name": "python2"
  },
  "language_info": {
   "codemirror_mode": {
    "name": "ipython",
    "version": 2
   },
   "file_extension": ".py",
   "mimetype": "text/x-python",
   "name": "python",
   "nbconvert_exporter": "python",
   "pygments_lexer": "ipython2",
   "version": "2.7.11"
  }
 },
 "nbformat": 4,
 "nbformat_minor": 0
}
