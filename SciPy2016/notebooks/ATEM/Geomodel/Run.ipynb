{
 "cells": [
  {
   "cell_type": "code",
   "execution_count": 10,
   "metadata": {
    "collapsed": false
   },
   "outputs": [
    {
     "name": "stdout",
     "output_type": "stream",
     "text": [
      "Computing indices with VTK: Till.ts\n",
      "Reading GOCAD ts file...\n",
      "Extracting indices from grid...\n",
      "VTK operation completed in 29.7339911461 sec\n",
      "Computing indices with VTK: PK1.ts\n",
      "Reading GOCAD ts file...\n",
      "Extracting indices from grid...\n",
      "VTK operation completed in 6.42912483215 sec\n",
      "Computing indices with VTK: PK2.ts\n",
      "Reading GOCAD ts file...\n",
      "Extracting indices from grid...\n",
      "VTK operation completed in 2.65810608864 sec\n",
      "Computing indices with VTK: PK3.ts\n",
      "Reading GOCAD ts file...\n",
      "Extracting indices from grid...\n",
      "VTK operation completed in 3.52257108688 sec\n",
      "Computing indices with VTK: HK1.ts\n",
      "Reading GOCAD ts file...\n",
      "Extracting indices from grid...\n",
      "VTK operation completed in 7.67871403694 sec\n",
      "Computing indices with VTK: VK.ts\n",
      "Reading GOCAD ts file...\n",
      "Extracting indices from grid...\n",
      "VTK operation completed in 5.68828892708 sec\n",
      "Reading GOCAD ts file...\n",
      "Extracting indices from grid...\n"
     ]
    }
   ],
   "source": [
    "run TsSurf_VTK_2_3DModel.py"
   ]
  },
  {
   "cell_type": "code",
   "execution_count": null,
   "metadata": {
    "collapsed": true
   },
   "outputs": [],
   "source": []
  }
 ],
 "metadata": {
  "kernelspec": {
   "display_name": "Python 2",
   "language": "python",
   "name": "python2"
  },
  "language_info": {
   "codemirror_mode": {
    "name": "ipython",
    "version": 2
   },
   "file_extension": ".py",
   "mimetype": "text/x-python",
   "name": "python",
   "nbconvert_exporter": "python",
   "pygments_lexer": "ipython2",
   "version": "2.7.11"
  }
 },
 "nbformat": 4,
 "nbformat_minor": 0
}
