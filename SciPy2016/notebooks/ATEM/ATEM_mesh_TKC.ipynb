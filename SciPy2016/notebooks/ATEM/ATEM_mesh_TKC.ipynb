{
 "cells": [
  {
   "cell_type": "code",
   "execution_count": 40,
   "metadata": {
    "collapsed": false
   },
   "outputs": [
    {
     "name": "stdout",
     "output_type": "stream",
     "text": [
      "Populating the interactive namespace from numpy and matplotlib\n"
     ]
    }
   ],
   "source": [
    "from SimPEG import EM, Mesh, Utils\n",
    "from scipy.constants import mu_0\n",
    "from pymatsolver import MumpsSolver\n",
    "%pylab inline"
   ]
  },
  {
   "cell_type": "markdown",
   "metadata": {},
   "source": [
    "TODOs:\n",
    "- General Waveform\n",
    "- Current sources both edge (EB form) and face (HJ form)"
   ]
  },
  {
   "cell_type": "code",
   "execution_count": 54,
   "metadata": {
    "collapsed": false
   },
   "outputs": [],
   "source": [
    "cs, npad = 35., 13\n",
    "ncx, ncy = 19, 15\n",
    "nczd, nczu, nczm = 9, 9, 6\n",
    "hx = [(cs,npad, -1.3),(cs,ncx),(cs,npad, 1.3)]\n",
    "hy = [(cs,npad, -1.3),(cs,ncy),(cs,npad, 1.3)]\n",
    "hz = [(cs,npad, -1.3),(cs,nczd), (cs/2,nczm) ,(cs,nczu),(cs,npad, 1.3)]\n",
    "mesh = Mesh.TensorMesh([hx, hy, hz], x0=\"CCC\")\n",
    "xc = 300+5.57e5\n",
    "yc = 600+7.133e6\n",
    "zc = 425.\n",
    "x0_new = np.r_[mesh.x0[0]+xc, mesh.x0[1]+yc, mesh.x0[2]+zc]\n",
    "mesh._x0  = x0_new\n",
    "Mesh.TensorMesh.writeUBC(mesh, \"./Geomodel/mesh_ATEM_TKC.msh\")"
   ]
  },
  {
   "cell_type": "code",
   "execution_count": 42,
   "metadata": {
    "collapsed": false
   },
   "outputs": [
    {
     "name": "stdout",
     "output_type": "stream",
     "text": [
      "56.4189583548\n",
      "5641.89583548\n",
      "4441.93911665\n"
     ]
    }
   ],
   "source": [
    "from simpegem1d import EM1DAnal\n",
    "print EM1DAnal.DiffusionDistnace(1e-4, 5e-2)\n",
    "print EM1DAnal.DiffusionDistnace(2e-3, 1e-4)\n",
    "print mesh.hx[:npad].sum()"
   ]
  },
  {
   "cell_type": "code",
   "execution_count": 43,
   "metadata": {
    "collapsed": false
   },
   "outputs": [],
   "source": [
    "sig_half = 1e-4\n",
    "sigma = np.ones(mesh.nC)*1e-8\n",
    "airind = mesh.gridCC[:,2]>0.\n",
    "sigma[~airind] = sig_half"
   ]
  },
  {
   "cell_type": "code",
   "execution_count": 44,
   "metadata": {
    "collapsed": true
   },
   "outputs": [],
   "source": [
    "rxLoc = np.r_[0., 0., 0.].reshape([1,-1])\n",
    "srcLoc = np.r_[0., 0., 0.].reshape([1,-1])"
   ]
  },
  {
   "cell_type": "code",
   "execution_count": 50,
   "metadata": {
    "collapsed": false
   },
   "outputs": [],
   "source": [
    "x = mesh.vectorCCx[np.logical_and(mesh.vectorCCx>-250., mesh.vectorCCx<250.)]\n",
    "nskip = 2\n",
    "y = mesh.vectorCCy[np.logical_and(mesh.vectorCCy>-250., mesh.vectorCCy<250.)][::nskip]\n",
    "xyz = Utils.ndgrid(x, y, np.r_[30.])"
   ]
  },
  {
   "cell_type": "code",
   "execution_count": 53,
   "metadata": {
    "collapsed": false
   },
   "outputs": [
    {
     "data": {
      "text/plain": [
       "(-400, 400)"
      ]
     },
     "execution_count": 53,
     "metadata": {},
     "output_type": "execute_result"
    },
    {
     "data": {
      "image/png": "[encoded data removed]",
      "text/plain": [
       "<matplotlib.figure.Figure at 0x11a29c650>"
      ]
     },
     "metadata": {},
     "output_type": "display_data"
    }
   ],
   "source": [
    "figsize(5,5)\n",
    "mesh.plotSlice(np.ones(mesh.nC)*np.nan, grid=True)\n",
    "plt.plot(xyz[:,0], xyz[:,1], 'r.')\n",
    "xlim(-400, 400)\n",
    "ylim(-400, 400)"
   ]
  },
  {
   "cell_type": "code",
   "execution_count": null,
   "metadata": {
    "collapsed": true
   },
   "outputs": [],
   "source": []
  }
 ],
 "metadata": {
  "kernelspec": {
   "display_name": "Python 2",
   "language": "python",
   "name": "python2"
  },
  "language_info": {
   "codemirror_mode": {
    "name": "ipython",
    "version": 2
   },
   "file_extension": ".py",
   "mimetype": "text/x-python",
   "name": "python",
   "nbconvert_exporter": "python",
   "pygments_lexer": "ipython2",
   "version": "2.7.11"
  }
 },
 "nbformat": 4,
 "nbformat_minor": 0
}
