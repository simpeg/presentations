{
 "cells": [
  {
   "cell_type": "code",
   "execution_count": 19,
   "metadata": {
    "collapsed": false
   },
   "outputs": [],
   "source": [
    "from SimPEG import EM, Mesh, Utils, np, Maps\n",
    "from SimPEG import DataMisfit, Regularization, Optimization, Directives, InvProblem, Inversion\n",
    "from scipy.constants import mu_0\n",
    "from pymatsolver import MumpsSolver\n",
    "import cPickle as pickle\n",
    "\n",
    "TKCATEMexample = pickle.load( open( \"TKCATEMexample.p\", \"rb\" ) )\n",
    "\n",
    "mesh = TKCATEMexample[\"mesh\"]\n",
    "sigma = TKCATEMexample[\"sigma\"]\n",
    "xyz = TKCATEMexample[\"xyz\"]\n",
    "times = TKCATEMexample[\"times\"]\n",
    "timeSteps = TKCATEMexample[\"timeSteps\"]\n",
    "ntx = TKCATEMexample[\"ntx\"]\n",
    "dobs = TKCATEMexample[\"dobs\"]\n",
    "perc, floor = TKCATEMexample[\"perc\"], TKCATEMexample[\"floor\"]\n",
    "\n",
    "# TDEM Survey\n",
    "srcLists = []\n",
    "times = np.logspace(-4, np.log10(2e-3), 10)\n",
    "for itx in range(ntx):\n",
    "    rx = EM.TDEM.Rx(xyz[itx,:].reshape([1,-1]), times, 'bz')\n",
    "    src = EM.TDEM.Src.CircularLoop([rx], waveform=EM.TDEM.Src.StepOffWaveform(), loc=xyz[itx,:].reshape([1,-1]), radius = 13.) # same src location as FDEM problem\n",
    "    srcLists.append(src)\n",
    "\n",
    "# TDEM Problem\n",
    "survey = EM.TDEM.Survey(srcLists)\n",
    "airind = sigma == 1e-8\n",
    "expmap = Maps.ExpMap(mesh)\n",
    "actmap = Maps.InjectActiveCells(mesh, ~airind, np.log(1e-8))\n",
    "mapping = expmap*actmap\n",
    "m0 = np.ones_like(sigma)[~airind]*np.log(1e-4)\n",
    "\n",
    "problem = EM.TDEM.Problem_b(mesh, mapping=mapping)\n",
    "timeSteps = [(1e-5, 5), (1e-4, 10),(5e-4, 10)]\n",
    "problem.timeSteps = timeSteps\n",
    "problem.pair(survey)\n",
    "problem.Solver = MumpsSolver"
   ]
  },
  {
   "cell_type": "code",
   "execution_count": 22,
   "metadata": {
    "collapsed": false
   },
   "outputs": [],
   "source": [
    "regmap = Maps.IdentityMap(nP=m0.size)\n",
    "survey.std = perc\n",
    "survey.eps = floor\n",
    "#TODO put warning when dobs is not set!\n",
    "survey.dobs = dobs\n",
    "dmisfit = DataMisfit.l2_DataMisfit(survey)\n",
    "reg = Regularization.Simple(mesh, mapping=regmap, indActive=~airind)\n",
    "opt = Optimization.InexactGaussNewton(maxIter = 20)\n",
    "invProb = InvProblem.BaseInvProblem(dmisfit, reg, opt)\n",
    "# Create an inversion object\n",
    "beta = Directives.BetaSchedule(coolingFactor=5, coolingRate=2)\n",
    "betaest = Directives.BetaEstimate_ByEig(beta0_ratio=1e0)\n",
    "save = Directives.SaveOutputEveryIteration()\n",
    "save_model = Directives.SaveModelEveryIteration()\n",
    "target = Directives.TargetMisfit()\n",
    "inv = Inversion.BaseInversion(invProb, directiveList=[beta, betaest, save, save_model,  target])\n",
    "reg.alpha_s = 1e-4\n",
    "reg.alpha_x = 1.\n",
    "reg.alpha_y = 1.\n",
    "reg.alpha_z = 1.\n",
    "problem.counter = opt.counter = Utils.Counter()\n",
    "opt.LSshorten = 0.5\n",
    "opt.remember('xc')"
   ]
  },
  {
   "cell_type": "code",
   "execution_count": 11,
   "metadata": {
    "collapsed": true
   },
   "outputs": [],
   "source": []
  },
  {
   "cell_type": "code",
   "execution_count": null,
   "metadata": {
    "collapsed": true
   },
   "outputs": [],
   "source": []
  }
 ],
 "metadata": {
  "kernelspec": {
   "display_name": "Python 2",
   "language": "python",
   "name": "python2"
  },
  "language_info": {
   "codemirror_mode": {
    "name": "ipython",
    "version": 2
   },
   "file_extension": ".py",
   "mimetype": "text/x-python",
   "name": "python",
   "nbconvert_exporter": "python",
   "pygments_lexer": "ipython2",
   "version": "2.7.11"
  }
 },
 "nbformat": 4,
 "nbformat_minor": 0
}
