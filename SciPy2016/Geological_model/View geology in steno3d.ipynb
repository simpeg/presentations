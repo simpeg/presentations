{
 "cells": [
  {
   "cell_type": "code",
   "execution_count": 1,
   "metadata": {
    "collapsed": true
   },
   "outputs": [],
   "source": [
    "import steno3d\n",
    "import steno3d_vtk "
   ]
  },
  {
   "cell_type": "code",
   "execution_count": 2,
   "metadata": {
    "collapsed": false
   },
   "outputs": [
    {
     "name": "stdout",
     "output_type": "stream",
     "text": [
      "\n",
      "\n",
      "Your version of steno3d is out of date.\n",
      "\n",
      "Your version: 0.1.2\n",
      "Current version: 0.1.6\n",
      "\n",
      "Please update steno3d with `pip install --upgrade steno3d`.\n",
      "\n",
      "\n",
      "Please enter password for encrypted keyring: ········\n",
      "Welcome to Steno3D! You are logged in as @gudni\n"
     ]
    }
   ],
   "source": [
    "steno3d.login()"
   ]
  },
  {
   "cell_type": "code",
   "execution_count": 3,
   "metadata": {
    "collapsed": true
   },
   "outputs": [],
   "source": [
    "# Make the project \n",
    "scipy16GeoProj = steno3d.Project(title = 'TKC geology', description = 'Project for the geological surfaces used.')"
   ]
  },
  {
   "cell_type": "markdown",
   "metadata": {},
   "source": [
    "## Load in the geological structures"
   ]
  },
  {
   "cell_type": "code",
   "execution_count": 4,
   "metadata": {
    "collapsed": false
   },
   "outputs": [],
   "source": [
    "# Topo\n",
    "topoParser = steno3d.parsers.vtp('topo.vtp')\n",
    "(scipy16GeoProj,) = topoParser.parse(project=scipy16GeoProj)"
   ]
  },
  {
   "cell_type": "code",
   "execution_count": 5,
   "metadata": {
    "collapsed": false
   },
   "outputs": [],
   "source": [
    "# Till\n",
    "tillParser = steno3d_vtk.vtu('Till.vtu')\n",
    "(scipy16GeoProj,) = tillParser.parse(project=scipy16GeoProj)"
   ]
  },
  {
   "cell_type": "code",
   "execution_count": 6,
   "metadata": {
    "collapsed": false
   },
   "outputs": [],
   "source": [
    "# PK1\n",
    "PK1Parser = steno3d.parsers.vtp('PK1.vtp')\n",
    "(scipy16GeoProj,) = PK1Parser.parse(project=scipy16GeoProj)"
   ]
  },
  {
   "cell_type": "code",
   "execution_count": 7,
   "metadata": {
    "collapsed": false
   },
   "outputs": [],
   "source": [
    "# VK \n",
    "VKParser = steno3d.parsers.vtp('VK.vtp')\n",
    "(scipy16GeoProj,) = VKParser.parse(project=scipy16GeoProj)"
   ]
  },
  {
   "cell_type": "code",
   "execution_count": 8,
   "metadata": {
    "collapsed": false
   },
   "outputs": [],
   "source": [
    "# HK1 \n",
    "HK1Parser = steno3d.parsers.vtp('HK1.vtp')\n",
    "(scipy16GeoProj,) = HK1Parser.parse(project=scipy16GeoProj)"
   ]
  },
  {
   "cell_type": "code",
   "execution_count": 9,
   "metadata": {
    "collapsed": false
   },
   "outputs": [
    {
     "data": {
      "text/plain": [
       "True"
      ]
     },
     "execution_count": 9,
     "metadata": {},
     "output_type": "execute_result"
    }
   ],
   "source": [
    "# Validate the project\n",
    "scipy16GeoProj.validate()"
   ]
  },
  {
   "cell_type": "code",
   "execution_count": 10,
   "metadata": {
    "collapsed": false
   },
   "outputs": [
    {
     "data": {
      "text/plain": [
       "[<steno3d.surface.Surface at 0x7facf7df6250>,\n",
       " <steno3d.surface.Surface at 0x7fad50223110>,\n",
       " <steno3d.surface.Surface at 0x7facfceccd90>,\n",
       " <steno3d.surface.Surface at 0x7facf7d8ce10>,\n",
       " <steno3d.surface.Surface at 0x7facf7de8b10>]"
      ]
     },
     "execution_count": 10,
     "metadata": {},
     "output_type": "execute_result"
    }
   ],
   "source": [
    "scipy16GeoProj.resources"
   ]
  },
  {
   "cell_type": "code",
   "execution_count": 11,
   "metadata": {
    "collapsed": false
   },
   "outputs": [
    {
     "name": "stdout",
     "output_type": "stream",
     "text": [
      "Uploading private project: TKC geology\n",
      "https://steno3d.com/app/vQxTvWtoiTVLdJ90dspW\n"
     ]
    },
    {
     "data": {
      "text/plain": [
       "u'https://steno3d.com/app/vQxTvWtoiTVLdJ90dspW'"
      ]
     },
     "execution_count": 11,
     "metadata": {},
     "output_type": "execute_result"
    }
   ],
   "source": [
    "scipy16GeoProj.upload()"
   ]
  },
  {
   "cell_type": "code",
   "execution_count": null,
   "metadata": {
    "collapsed": true
   },
   "outputs": [],
   "source": []
  }
 ],
 "metadata": {
  "kernelspec": {
   "display_name": "Python 2",
   "language": "python",
   "name": "python2"
  },
  "language_info": {
   "codemirror_mode": {
    "name": "ipython",
    "version": 2
   },
   "file_extension": ".py",
   "mimetype": "text/x-python",
   "name": "python",
   "nbconvert_exporter": "python",
   "pygments_lexer": "ipython2",
   "version": "2.7.11"
  }
 },
 "nbformat": 4,
 "nbformat_minor": 0
}
