{
 "cells": [
  {
   "cell_type": "code",
   "execution_count": 1,
   "metadata": {
    "collapsed": true
   },
   "outputs": [],
   "source": [
    "import os\n",
    "from collections import OrderedDict\n",
    "import numpy as np\n",
    "import h5py\n",
    "import matplotlib.pyplot as plt\n",
    "import matplotlib.cm as cm\n",
    "%matplotlib inline"
   ]
  },
  {
   "cell_type": "code",
   "execution_count": 2,
   "metadata": {
    "collapsed": true
   },
   "outputs": [],
   "source": [
    "mshfile = 'seismic.msh'\n",
    "hdffile = 'masks.hdf5'\n",
    "cellsize = 5"
   ]
  },
  {
   "cell_type": "code",
   "execution_count": 3,
   "metadata": {
    "collapsed": false
   },
   "outputs": [
    {
     "name": "stdout",
     "output_type": "stream",
     "text": [
      "Reading GOCAD ts file...\n",
      "Reading GOCAD ts file...\n",
      "Reading GOCAD ts file...\n",
      "Reading GOCAD ts file...\n",
      "Reading GOCAD ts file...\n",
      "Reading GOCAD ts file...\n",
      "Reading GOCAD ts file...\n",
      "Reading GOCAD ts file...\n",
      "Extracting indices from grid...\n",
      "Extracting indices from grid...\n",
      "Extracting indices from grid...\n",
      "Extracting indices from grid...\n",
      "Extracting indices from grid...\n",
      "Extracting indices from grid...\n",
      "Extracting indices from grid...\n",
      "Extracting indices from grid...\n"
     ]
    }
   ],
   "source": [
    "with open(mshfile, 'r') as fp:\n",
    "    nx, ny, nz = tuple((int(item) for item in fp.readline().strip().split()))\n",
    "    ox, oy, oz = tuple((float(item) for item in fp.readline().strip().split()))\n",
    "if not os.path.isfile(hdffile):\n",
    "    %run make_seismodels.py\n",
    "masks = h5py.File(hdffile)\n",
    "dims = (nz, ny, nx)\n",
    "origin = (oz, oy, ox)\n",
    "ez = oz - nz * cellsize\n",
    "ey = oy + ny * cellsize\n",
    "ex = ox + nx * cellsize"
   ]
  },
  {
   "cell_type": "code",
   "execution_count": 4,
   "metadata": {
    "collapsed": false
   },
   "outputs": [],
   "source": [
    "backgroundDensity = 2700.\n",
    "densities = OrderedDict([\n",
    "    ('till',    2700.),\n",
    "    ('xvk',     2700.),\n",
    "    ('pk1',     2700.),\n",
    "    ('pk2',     2700.),\n",
    "    ('pk3',     2700.),\n",
    "    ('hk',      2700.),\n",
    "    ('vk',      2700.),\n",
    "    ('air',     1.225),\n",
    "])\n",
    "\n",
    "backgroundVelocity = 5600.\n",
    "velocities = OrderedDict([\n",
    "    ('till',    2000.),\n",
    "    ('xvk',     4300.),\n",
    "    ('pk1',     4300.),\n",
    "    ('pk2',     4300.),\n",
    "    ('pk3',     4300.),\n",
    "    ('hk',      4300.),\n",
    "    ('vk',      4300.),\n",
    "    ('air',     343.),\n",
    "])"
   ]
  },
  {
   "cell_type": "code",
   "execution_count": 5,
   "metadata": {
    "collapsed": false
   },
   "outputs": [],
   "source": [
    "vel = np.ones(dims, dtype=np.float64) * backgroundVelocity\n",
    "for key in velocities.keys():\n",
    "    mask = np.array(masks[key])\n",
    "    vel[mask] = velocities[key]"
   ]
  },
  {
   "cell_type": "code",
   "execution_count": 6,
   "metadata": {
    "collapsed": false
   },
   "outputs": [],
   "source": [
    "surf = np.array([np.argwhere(col)[0] for col in (np.array(masks['air']).reshape((nz, nx*ny))).T]).reshape((ny, nx))"
   ]
  },
  {
   "cell_type": "code",
   "execution_count": 7,
   "metadata": {
    "collapsed": false
   },
   "outputs": [
    {
     "data": {
      "text/plain": [
       "(7133150.0, 7134800.0, -170.0, 480.0)"
      ]
     },
     "execution_count": 7,
     "metadata": {},
     "output_type": "execute_result"
    },
    {
     "data": {
      "image/png": "[encoded data removed]",
      "text/plain": [
       "<matplotlib.figure.Figure at 0x11837ce50>"
      ]
     },
     "metadata": {},
     "output_type": "display_data"
    }
   ],
   "source": [
    "xplane = 100\n",
    "\n",
    "fig = plt.figure()\n",
    "ax = fig.add_subplot(1,1,1)\n",
    "plt.imshow(vel[:,:,xplane], extent=[oy, ey, oz, ez], cmap=cm.jet)\n",
    "cbax = plt.colorbar(orientation='horizontal')\n",
    "cbax.set_label('Velocity [m/s]')\n",
    "ax.invert_yaxis()\n",
    "\n",
    "axis = plt.axis()\n",
    "ax.plot(np.linspace(oy, ey, ny), surf[:,xplane]*cellsize + ez, 'w-', linewidth=2)\n",
    "plt.axis(axis)"
   ]
  },
  {
   "cell_type": "code",
   "execution_count": null,
   "metadata": {
    "collapsed": true
   },
   "outputs": [],
   "source": []
  }
 ],
 "metadata": {
  "kernelspec": {
   "display_name": "Python 2",
   "language": "python",
   "name": "python2"
  },
  "language_info": {
   "codemirror_mode": {
    "name": "ipython",
    "version": 2
   },
   "file_extension": ".py",
   "mimetype": "text/x-python",
   "name": "python",
   "nbconvert_exporter": "python",
   "pygments_lexer": "ipython2",
   "version": "2.7.11"
  }
 },
 "nbformat": 4,
 "nbformat_minor": 0
}
