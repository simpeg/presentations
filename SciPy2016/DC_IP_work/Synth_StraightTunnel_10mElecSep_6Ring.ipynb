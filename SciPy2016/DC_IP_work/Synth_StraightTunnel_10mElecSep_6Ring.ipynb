{
 "cells": [
  {
   "cell_type": "code",
   "execution_count": 3,
   "metadata": {
    "collapsed": false
   },
   "outputs": [
    {
     "name": "stdout",
     "output_type": "stream",
     "text": [
      "Populating the interactive namespace from numpy and matplotlib\n"
     ]
    }
   ],
   "source": [
    "import sys\n",
    "sys.path.append('C:\\Users\\micmitch\\Documents\\UBC\\GIF\\Programs\\SimPEG')\n",
    "import SimPEG as simpeg\n",
    "# import simpegDCIP as DC\n",
    "\n",
    "import numpy as np\n",
    "import scipy\n",
    "import matplotlib.pyplot as plt\n",
    "import matplotlib.gridspec as gridspec\n",
    "import itertools\n",
    "\n",
    "%pylab inline"
   ]
  },
  {
   "cell_type": "code",
   "execution_count": 80,
   "metadata": {
    "collapsed": false
   },
   "outputs": [],
   "source": [
    "\n",
    "\n",
    "# Minimum cell size in each direction\n",
    "dx = 1.\n",
    "dy = 1.\n",
    "dz = 1.\n",
    "\n",
    "# Number of core cells in each direction\n",
    "nCoreX = 91.\n",
    "nCoreY = 41.\n",
    "nCoreZ = 41.\n",
    "\n",
    "nPadX = 7\n",
    "nPadY = 7\n",
    "nPadZ = 7\n",
    "\n",
    "\n",
    "# Cell widths\n",
    "# hx = [(dx,nCoreX)]\n",
    "# hy = [(dy,nCoreY)]\n",
    "# hz = [(dz,nCoreZ)]\n",
    "hx = [(dx,nPadX, -1.3),(dx,nCoreX),(dx,nPadX, 1.3)]\n",
    "hy = [(dy,nPadY, -1.3),(dy,nCoreY),(dy,nPadY, 1.3)]\n",
    "hz = [(dz,nPadZ, -1.3),(dz,nCoreZ),(dz,nPadZ, 1.3)]\n",
    "\n",
    "# Calculate X padding distance\n",
    "hPadX = np.zeros([nPadX+1,1])\n",
    "hPadX[0] = dx\n",
    "for i in range (1,nPadX+1):\n",
    "    hPadX[i] = hPadX[i-1]*1.3\n",
    "\n",
    "xPadDist = np.max(np.cumsum(hPadX[1:nPadX+1]))\n",
    "\n",
    "# Calculate Y padding distance\n",
    "hPadY = np.zeros([nPadY+1,1])\n",
    "hPadY[0] = dy\n",
    "for i in range (1,nPadY+1):\n",
    "    hPadY[i] = hPadY[i-1]*1.3\n",
    "\n",
    "yPadDist = np.max(np.cumsum(hPadY[1:nPadY+1]))\n",
    "\n",
    "# Calculate Z padding distance\n",
    "hPadZ = np.zeros([nPadZ+1,1])\n",
    "hPadZ[0] = dz\n",
    "for i in range (1,nPadZ+1):\n",
    "    hPadZ[i] = hPadZ[i-1]*1.3\n",
    "\n",
    "zPadDist = np.max(np.cumsum(hPadZ[1:nPadZ+1]))\n",
    "\n",
    "# Desired Core mesh origin (Bottom SW corner)\n",
    "x0_core = -20.5\n",
    "y0_core = -20.5\n",
    "z0_core = -20.5\n",
    "\n",
    "# Mesh origin (Bottom SW corner)\n",
    "x0 = x0_core - xPadDist\n",
    "y0 = y0_core - yPadDist\n",
    "z0 = z0_core - zPadDist\n"
   ]
  },
  {
   "cell_type": "code",
   "execution_count": 81,
   "metadata": {
    "collapsed": false,
    "scrolled": true
   },
   "outputs": [
    {
     "name": "stdout",
     "output_type": "stream",
     "text": [
      "  ---- 3-D TensorMesh ----  \n",
      "   x0: -43.36\n",
      "   y0: -43.36\n",
      "   z0: -43.36\n",
      "  nCx: 105\n",
      "  nCy: 55\n",
      "  nCz: 55\n",
      "   hx: 6.27, 4.83, 3.71, 2.86, 2.20, 1.69, 1.30, 91*1.00, 1.30, 1.69, 2.20, 2.86, 3.71, 4.83, 6.27\n",
      "   hy: 6.27, 4.83, 3.71, 2.86, 2.20, 1.69, 1.30, 41*1.00, 1.30, 1.69, 2.20, 2.86, 3.71, 4.83, 6.27\n",
      "   hz: 6.27, 4.83, 3.71, 2.86, 2.20, 1.69, 1.30, 41*1.00, 1.30, 1.69, 2.20, 2.86, 3.71, 4.83, 6.27\n"
     ]
    }
   ],
   "source": [
    "mesh = simpeg.Mesh.TensorMesh([hx, hy, hz],[x0,y0,z0])\n",
    "print mesh"
   ]
  },
  {
   "cell_type": "code",
   "execution_count": 82,
   "metadata": {
    "collapsed": false
   },
   "outputs": [
    {
     "data": {
      "text/plain": [
       "<matplotlib.text.Text at 0x21434978>"
      ]
     },
     "execution_count": 82,
     "metadata": {},
     "output_type": "execute_result"
    },
    {
     "data": {
      "image/png": "[encoded data removed]",
      "text/plain": [
       "<matplotlib.figure.Figure at 0x2267ba20>"
      ]
     },
     "metadata": {},
     "output_type": "display_data"
    }
   ],
   "source": [
    "mesh.plotGrid()\n",
    "plt.title('Simple Mesh')\n",
    "plt.xlabel('x')\n",
    "plt.ylabel('y')\n",
    "# ax.set_zlabel('z')"
   ]
  },
  {
   "cell_type": "code",
   "execution_count": 83,
   "metadata": {
    "collapsed": false
   },
   "outputs": [
    {
     "name": "stdout",
     "output_type": "stream",
     "text": [
      "317625\n"
     ]
    }
   ],
   "source": [
    "nCell = mesh.nC\n",
    "print nCell"
   ]
  },
  {
   "cell_type": "code",
   "execution_count": 84,
   "metadata": {
    "collapsed": false
   },
   "outputs": [],
   "source": [
    "# Create synthetic model\n",
    "sigmaFull = 5e-3\n",
    "sigma = np.ones(mesh.nC)*sigmaFull\n",
    "\n",
    "# Add tunnel\n",
    "sigmaTunnel = 1e-8\n",
    "\n",
    "t1_1 = np.array([-20.5,1.5,-1.5]) # Bottom NW corner\n",
    "t1_2 = np.array([70,-1.5,1.5]) # Top SE corner\n",
    "tunnel1 = simpeg.Utils.ModelBuilder.getIndicesBlock(t1_1,t1_2, mesh.gridCC)\n",
    "sigma[tunnel1] = sigmaTunnel\n",
    "\n",
    "# Add blocks\n",
    "CondBlockSigma = 10;\n",
    "ResBlockSigma = 5e-5;\n",
    "\n",
    "# block 1 (North)\n",
    "b1_1 = [7.5, 11.5, -5.5];\n",
    "b1_2 = [12.5, 6.5, -0.5];\n",
    "\n",
    "# block 2 (Above)\n",
    "b2_1 = [17.5, -0.5, 6.5];\n",
    "b2_2 = [22.5, -5.5, 11.5];\n",
    "\n",
    "# block 3 (South)\n",
    "b3_1 = [27.5, -6.5, 0.5];\n",
    "b3_2 = [32.5, -11.5, 5.5];\n",
    "\n",
    "# block 4 (Below)\n",
    "b4_1 = [37.5, 5.5, -11.5];\n",
    "b4_2 = [42.5, 0.5, -6.6];\n",
    "\n",
    "blk1 = simpeg.Utils.ModelBuilder.getIndicesBlock(b1_1,b1_2, mesh.gridCC)\n",
    "sigma[blk1] = CondBlockSigma\n",
    "blk2 = simpeg.Utils.ModelBuilder.getIndicesBlock(b2_1,b2_2, mesh.gridCC)\n",
    "sigma[blk2] = CondBlockSigma\n",
    "blk3 = simpeg.Utils.ModelBuilder.getIndicesBlock(b3_1,b3_2, mesh.gridCC)\n",
    "sigma[blk3] = ResBlockSigma\n",
    "blk4 = simpeg.Utils.ModelBuilder.getIndicesBlock(b4_1,b4_2, mesh.gridCC)\n",
    "sigma[blk4] = ResBlockSigma"
   ]
  },
  {
   "cell_type": "code",
   "execution_count": 61,
   "metadata": {
    "collapsed": false
   },
   "outputs": [
    {
     "data": {
      "image/png": "[encoded data removed]",
      "text/plain": [
       "<matplotlib.figure.Figure at 0x222494a8>"
      ]
     },
     "metadata": {},
     "output_type": "display_data"
    }
   ],
   "source": [
    "xSliceInd = 52\n",
    "ySliceInd = 26\n",
    "zSliceInd = 28\n",
    "# xSliceInd = int(mesh.nCx/2)\n",
    "# print xSliceInd\n",
    "# ySliceInd = int(mesh.nCy/2)\n",
    "# print ySliceInd\n",
    "# zSliceInd = int(mesh.nCz/2)\n",
    "# print zSliceInd\n",
    "\n",
    "\n",
    "gs = gridspec.GridSpec(4, 4)\n",
    "\n",
    "fig = plt.figure()\n",
    "fig.set_figheight(15)\n",
    "fig.set_figwidth(15)\n",
    "ax1 = plt.subplot(gs[0:2, 0:2])\n",
    "# ax = plt.subplot(3,1,1, aspect='equal')\n",
    "mesh.plotSlice(np.log10(sigma), ax =ax1, normal='X', ind=xSliceInd, grid=True)\n",
    "ax1.set_title('N-S section at '+str(mesh.vectorCCx[xSliceInd])+' m')\n",
    "plt.gca().set_aspect('equal', adjustable='box')\n",
    "\n",
    "ax2 = plt.subplot(gs[2:4, 0:2])\n",
    "# ax = plt.subplot(3,1,2, aspect='equal')\n",
    "mesh.plotSlice(np.log10(sigma), ax =ax2, normal='Y', ind=ySliceInd, grid=True)\n",
    "ax2.set_title('E-W section at '+str(mesh.vectorCCy[ySliceInd])+' m')\n",
    "plt.gca().set_aspect('equal', adjustable='box')\n",
    "\n",
    "ax3 = plt.subplot(gs[0:4, 2:4])\n",
    "# ax = plt.subplot(3,1,3, aspect='equal')\n",
    "mesh.plotSlice(np.log10(sigma), ax =ax3, normal='Z', ind=zSliceInd, grid=True)\n",
    "ax3.set_title('Depth section at '+str(mesh.vectorCCz[zSliceInd])+' m')\n",
    "plt.gca().set_aspect('equal', adjustable='box')\n",
    "plt.tight_layout()\n",
    "\n",
    "\n",
    "# How would I plot these using a log colorscale (to see tunnel cells) and insert a colorbar?"
   ]
  },
  {
   "cell_type": "code",
   "execution_count": 85,
   "metadata": {
    "collapsed": false
   },
   "outputs": [],
   "source": [
    "# Define electrode locations\n",
    "\n",
    "nRings = 6\n",
    "nElecPerRing = 4\n",
    "\n",
    "# ring1  =  np.array([[ 0, 0, 2], [  0, -2, 0], [  0, 0, -2], [  0, 2, 0]])\n",
    "# ring2  =  np.array([[10, 0, 2], [ 10, -2, 0], [ 10, 0, -2], [ 10, 2, 0]])\n",
    "# ring3  =  np.array([[20, 0, 2], [ 20, -2, 0], [ 20, 0, -2], [ 20, 2, 0]])\n",
    "# ring4  =  np.array([[30, 0, 2], [ 30, -2, 0], [ 30, 0, -2], [ 30, 2, 0]])\n",
    "# ring5  =  np.array([[40, 0, 2], [ 40, -2, 0], [ 40, 0, -2], [ 40, 2, 0]])\n",
    "# ring6  =  np.array([[50, 0, 2], [ 50, -2, 0], [ 50, 0, -2], [ 50, 2, 0]])\n",
    "\n",
    "rings  =  np.array([[[ 0, 0, 2], [  0, -2, 0], [  0, 0, -2], [  0, 2, 0]],\n",
    "[[10, 0, 2], [ 10, -2, 0], [ 10, 0, -2], [ 10, 2, 0]],\n",
    "[[20, 0, 2], [ 20, -2, 0], [ 20, 0, -2], [ 20, 2, 0]],\n",
    "[[30, 0, 2], [ 30, -2, 0], [ 30, 0, -2], [ 30, 2, 0]],\n",
    "[[40, 0, 2], [ 40, -2, 0], [ 40, 0, -2], [ 40, 2, 0]],\n",
    "[[50, 0, 2], [ 50, -2, 0], [ 50, 0, -2], [ 50, 2, 0]]])\n",
    "\n",
    "elecLoc = rings.reshape((nRings*nElecPerRing, 3))\n"
   ]
  },
  {
   "cell_type": "code",
   "execution_count": 86,
   "metadata": {
    "collapsed": false
   },
   "outputs": [
    {
     "name": "stdout",
     "output_type": "stream",
     "text": [
      "24\n",
      "[ 0  1  2  3  4  5  6  7  8  9 10 11 12 13 14 15 16 17 18 19 20 21 22 23]\n"
     ]
    }
   ],
   "source": [
    "# Create electrode sequence\n",
    "\n",
    "# Combinations of electrodes for dipole-dipole measurements\n",
    "\n",
    "nElec = elecLoc.shape[0]\n",
    "print nElec\n",
    "elecID = np.arange(0,nElec,1)\n",
    "print elecID\n",
    "\n",
    "Tx_ElecInd = []\n",
    "for ii in elecID[0:-1]:\n",
    "    for jj in np.arange(ii+1,nElec,1):\n",
    "       Tx_ElecInd.append([ii , jj])\n",
    "    \n",
    "# nTx = len(Tx_ElecInd) \n",
    "nTx = np.array(Tx_ElecInd).shape[0]\n",
    "\n",
    "\n",
    "dataDict = {}\n",
    "# nRxList = []\n",
    "# Iterate over Tx and select possible Rx for each\n",
    "for nr, Tx in enumerate(Tx_ElecInd):\n",
    "#     print nr, Tx\n",
    "    useableRxElecs = np.setdiff1d(elecID,Tx)\n",
    "    RxPairs = itertools.combinations(useableRxElecs,2) # n choose k combinations\n",
    "    \n",
    "    # Extract data from combinations object\n",
    "    RxPairList = []\n",
    "    for ii in RxPairs:\n",
    "        RxPairList.append(tuple(ii))\n",
    "\n",
    "    RxPairArray = np.array(RxPairList)\n",
    "    nRx = RxPairArray.shape[0]\n",
    "#     nRxList.append([nRx])\n",
    "    \n",
    "    A = Tx[0]*np.ones((nRx,1))\n",
    "    B = Tx[1]*np.ones((nRx,1))\n",
    "    dataArray = np.hstack([A,B,RxPairArray])\n",
    "    dataDict[nr] = dataArray\n",
    "    \n",
    "\n",
    "# nRxList\n",
    "    \n",
    "    \n",
    "    \n",
    "#        TxLoc = cat(1,TxLoc,[elecLocRing(Tx_ElecInd(ii,1),:),elecLocRing(Tx_ElecInd(ii,2),:)]);\n",
    "#        RxLoc = [elecLocRing(RxPairs(:,1),:) elecLocRing(RxPairs(:,2),:)];\n",
    "#        nRx = size(RxLoc,1);\n",
    "# %        TxID = TxInd*ones(nRx,1);\n",
    "#        TxID = ii*ones(nRx,1);\n",
    "#        DC = zeros(nRx,1);\n",
    "#        %Make data matrix\n",
    "#        DataMatrix{ii} = [TxID RxLoc DC];\n",
    "#        %Create data object\n",
    "# %        dataHead = {'TXIND','XM','YM','ZM','XN','YN','ZN','DC'};\n",
    "#        SynthData = DC3Ddata(MOS,dataHead,DataMatrix{ii});\n",
    "#        SynthData.setioHeadInd([1,2,3,4,5,6,7,8,0]);\n",
    "#        % Set Tx\n",
    "#        SynthData.setTx(TxLoc);\n",
    "#        % Output locations file\n",
    "#        fileName = sprintf('./TxLocFiles/Straight_Tunnel_Ring_Tx%d.loc', ii);\n",
    "#        DCoctreeforward.writeLoc(SynthData,fileName);\n",
    "#        DataFull = cat(1,DataFull,DataMatrix{ii});\n",
    "#        fprintf('Tx%i data matrix created.\\n',ii);\n",
    "    "
   ]
  },
  {
   "cell_type": "code",
   "execution_count": 98,
   "metadata": {
    "collapsed": false
   },
   "outputs": [
    {
     "name": "stdout",
     "output_type": "stream",
     "text": [
      "nTx = 276\n"
     ]
    },
    {
     "data": {
      "text/plain": [
       "(63756L, 4L)"
      ]
     },
     "execution_count": 98,
     "metadata": {},
     "output_type": "execute_result"
    }
   ],
   "source": []
  },
  {
   "cell_type": "code",
   "execution_count": 99,
   "metadata": {
    "collapsed": false
   },
   "outputs": [],
   "source": [
    " # Create Tx and Rx data objects for the survey object\n",
    "\n",
    "FullElecSeqList = []\n",
    "for Tx in dataDict.keys():\n",
    "#     print Tx\n",
    "    FullElecSeqList.append(dataDict[Tx])\n",
    "\n",
    "# print \"nTx = %i\" % (nTx)\n",
    "\n",
    "FullElecSeqArray = np.array(FullElecSeqList)\n",
    "FullElecSeq = FullElecSeqArray.reshape(nTx*nRx,4)\n",
    "FullElecSeq.shape\n",
    "\n",
    "nData = FullElecSeq.shape[0]\n",
    "# print nData\n",
    "\n",
    "AIds = FullElecSeq[:,0]\n",
    "BIds = FullElecSeq[:,1]\n",
    "MIds = FullElecSeq[:,2]\n",
    "NIds = FullElecSeq[:,3]\n",
    "\n",
    "ALoc = np.zeros([nData,3])\n",
    "BLoc = np.zeros([nData,3])\n",
    "MLoc = np.zeros([nData,3])\n",
    "NLoc = np.zeros([nData,3])\n",
    "\n",
    "for ii in range(0, nElec-1):\n",
    "    AInd = np.where(AIds == ii)\n",
    "    ALoc[AInd,:] = elecLoc[ii,:]\n",
    "    \n",
    "    BInd = np.where(BIds == ii)\n",
    "    BLoc[BInd,:] = elecLoc[i,:]\n",
    "    \n",
    "    MInd = np.where(MIds == ii)\n",
    "    MLoc[MInd,:] = elecLoc[i,:]\n",
    "    \n",
    "    NInd = np.where(NIds == ii)\n",
    "    NLoc[NInd,:] = elecLoc[ii,:]\n",
    "\n",
    "\n",
    "RxData = DC.RxDipole(MLoc, NLoc)\n",
    "TxData = DC.SrcDipole([RxData], [ALoc],[BLoc])"
   ]
  },
  {
   "cell_type": "code",
   "execution_count": 100,
   "metadata": {
    "collapsed": false
   },
   "outputs": [],
   "source": [
    "# Assign TxData to DC survey object\n",
    "survey = DC.SurveyDC([TxData])\n",
    "# Assign mesh to probelm object\n",
    "problem = DC.ProblemDC_CC(mesh)\n",
    "# Pair survey with problem\n",
    "problem.pair(survey)"
   ]
  },
  {
   "cell_type": "code",
   "execution_count": 101,
   "metadata": {
    "collapsed": false
   },
   "outputs": [],
   "source": [
    "try:\n",
    "    from pymatsolver import MumpsSolver\n",
    "    problem.Solver = MumpsSolver\n",
    "except Exception, e:\n",
    "    problem.Solver = SolverLU\n",
    "\n"
   ]
  },
  {
   "cell_type": "code",
   "execution_count": null,
   "metadata": {
    "collapsed": false
   },
   "outputs": [],
   "source": []
  },
  {
   "cell_type": "code",
   "execution_count": 19,
   "metadata": {
    "collapsed": false
   },
   "outputs": [
    {
     "ename": "TypeError",
     "evalue": "not all arguments converted during string formatting",
     "output_type": "error",
     "traceback": [
      "\u001b[1;31m---------------------------------------------------------------------------\u001b[0m",
      "\u001b[1;31mTypeError\u001b[0m                                 Traceback (most recent call last)",
      "\u001b[1;32m<ipython-input-19-6da2183bd7de>\u001b[0m in \u001b[0;36m<module>\u001b[1;34m()\u001b[0m\n\u001b[0;32m      2\u001b[0m \u001b[1;33m\u001b[0m\u001b[0m\n\u001b[0;32m      3\u001b[0m \u001b[1;31m# %%time\u001b[0m\u001b[1;33m\u001b[0m\u001b[1;33m\u001b[0m\u001b[0m\n\u001b[1;32m----> 4\u001b[1;33m \u001b[0mdataPred\u001b[0m \u001b[1;33m=\u001b[0m \u001b[0msurvey\u001b[0m\u001b[1;33m.\u001b[0m\u001b[0mdpred\u001b[0m\u001b[1;33m(\u001b[0m\u001b[0msigmaBackground\u001b[0m\u001b[1;33m)\u001b[0m\u001b[1;33m\u001b[0m\u001b[0m\n\u001b[0m",
      "\u001b[1;32mC:\\Users\\micmitch\\Documents\\UBC\\GIF\\Programs\\SimPEG\\SimPEG\\Utils\\CounterUtils.pyc\u001b[0m in \u001b[0;36mwrapper\u001b[1;34m(self, *args, **kwargs)\u001b[0m\n\u001b[0;32m     81\u001b[0m         \u001b[0mcounter\u001b[0m \u001b[1;33m=\u001b[0m \u001b[0mgetattr\u001b[0m\u001b[1;33m(\u001b[0m\u001b[0mself\u001b[0m\u001b[1;33m,\u001b[0m\u001b[1;34m'counter'\u001b[0m\u001b[1;33m,\u001b[0m\u001b[0mNone\u001b[0m\u001b[1;33m)\u001b[0m\u001b[1;33m\u001b[0m\u001b[0m\n\u001b[0;32m     82\u001b[0m         \u001b[1;32mif\u001b[0m \u001b[0mtype\u001b[0m\u001b[1;33m(\u001b[0m\u001b[0mcounter\u001b[0m\u001b[1;33m)\u001b[0m \u001b[1;32mis\u001b[0m \u001b[0mCounter\u001b[0m\u001b[1;33m:\u001b[0m \u001b[0mcounter\u001b[0m\u001b[1;33m.\u001b[0m\u001b[0mcount\u001b[0m\u001b[1;33m(\u001b[0m\u001b[0mself\u001b[0m\u001b[1;33m.\u001b[0m\u001b[0m__class__\u001b[0m\u001b[1;33m.\u001b[0m\u001b[0m__name__\u001b[0m\u001b[1;33m+\u001b[0m\u001b[1;34m'.'\u001b[0m\u001b[1;33m+\u001b[0m\u001b[0mf\u001b[0m\u001b[1;33m.\u001b[0m\u001b[0m__name__\u001b[0m\u001b[1;33m)\u001b[0m\u001b[1;33m\u001b[0m\u001b[0m\n\u001b[1;32m---> 83\u001b[1;33m         \u001b[0mout\u001b[0m \u001b[1;33m=\u001b[0m \u001b[0mf\u001b[0m\u001b[1;33m(\u001b[0m\u001b[0mself\u001b[0m\u001b[1;33m,\u001b[0m\u001b[1;33m*\u001b[0m\u001b[0margs\u001b[0m\u001b[1;33m,\u001b[0m\u001b[1;33m**\u001b[0m\u001b[0mkwargs\u001b[0m\u001b[1;33m)\u001b[0m\u001b[1;33m\u001b[0m\u001b[0m\n\u001b[0m\u001b[0;32m     84\u001b[0m         \u001b[1;32mreturn\u001b[0m \u001b[0mout\u001b[0m\u001b[1;33m\u001b[0m\u001b[0m\n\u001b[0;32m     85\u001b[0m     \u001b[1;32mreturn\u001b[0m \u001b[0mwrapper\u001b[0m\u001b[1;33m\u001b[0m\u001b[0m\n",
      "\u001b[1;32mC:\\Users\\micmitch\\Documents\\UBC\\GIF\\Programs\\SimPEG\\SimPEG\\Utils\\codeutils.pyc\u001b[0m in \u001b[0;36mrequiresVarWrapper\u001b[1;34m(self, *args, **kwargs)\u001b[0m\n\u001b[0;32m    221\u001b[0m             \u001b[1;32mif\u001b[0m \u001b[0mgetattr\u001b[0m\u001b[1;33m(\u001b[0m\u001b[0mself\u001b[0m\u001b[1;33m,\u001b[0m \u001b[0mvar\u001b[0m\u001b[1;33m,\u001b[0m \u001b[0mNone\u001b[0m\u001b[1;33m)\u001b[0m \u001b[1;32mis\u001b[0m \u001b[0mNone\u001b[0m\u001b[1;33m:\u001b[0m\u001b[1;33m\u001b[0m\u001b[0m\n\u001b[0;32m    222\u001b[0m                 \u001b[1;32mraise\u001b[0m \u001b[0mException\u001b[0m\u001b[1;33m(\u001b[0m\u001b[0mextra\u001b[0m\u001b[1;33m)\u001b[0m\u001b[1;33m\u001b[0m\u001b[0m\n\u001b[1;32m--> 223\u001b[1;33m             \u001b[1;32mreturn\u001b[0m \u001b[0mf\u001b[0m\u001b[1;33m(\u001b[0m\u001b[0mself\u001b[0m\u001b[1;33m,\u001b[0m\u001b[1;33m*\u001b[0m\u001b[0margs\u001b[0m\u001b[1;33m,\u001b[0m\u001b[1;33m**\u001b[0m\u001b[0mkwargs\u001b[0m\u001b[1;33m)\u001b[0m\u001b[1;33m\u001b[0m\u001b[0m\n\u001b[0m\u001b[0;32m    224\u001b[0m \u001b[1;33m\u001b[0m\u001b[0m\n\u001b[0;32m    225\u001b[0m         \u001b[0mdoc\u001b[0m \u001b[1;33m=\u001b[0m \u001b[0mrequiresVarWrapper\u001b[0m\u001b[1;33m.\u001b[0m\u001b[0m__doc__\u001b[0m\u001b[1;33m\u001b[0m\u001b[0m\n",
      "\u001b[1;32mC:\\Users\\micmitch\\Documents\\UBC\\GIF\\Programs\\SimPEG\\SimPEG\\Survey.pyc\u001b[0m in \u001b[0;36mdpred\u001b[1;34m(self, m, u)\u001b[0m\n\u001b[0;32m    306\u001b[0m             \u001b[0mWhere\u001b[0m \u001b[0mP\u001b[0m \u001b[1;32mis\u001b[0m \u001b[0ma\u001b[0m \u001b[0mprojection\u001b[0m \u001b[0mof\u001b[0m \u001b[0mthe\u001b[0m \u001b[0mfields\u001b[0m \u001b[0monto\u001b[0m \u001b[0mthe\u001b[0m \u001b[0mdata\u001b[0m \u001b[0mspace\u001b[0m\u001b[1;33m.\u001b[0m\u001b[1;33m\u001b[0m\u001b[0m\n\u001b[0;32m    307\u001b[0m         \"\"\"\n\u001b[1;32m--> 308\u001b[1;33m         \u001b[1;32mif\u001b[0m \u001b[0mu\u001b[0m \u001b[1;32mis\u001b[0m \u001b[0mNone\u001b[0m\u001b[1;33m:\u001b[0m \u001b[0mu\u001b[0m \u001b[1;33m=\u001b[0m \u001b[0mself\u001b[0m\u001b[1;33m.\u001b[0m\u001b[0mprob\u001b[0m\u001b[1;33m.\u001b[0m\u001b[0mfields\u001b[0m\u001b[1;33m(\u001b[0m\u001b[0mm\u001b[0m\u001b[1;33m)\u001b[0m\u001b[1;33m\u001b[0m\u001b[0m\n\u001b[0m\u001b[0;32m    309\u001b[0m         \u001b[1;32mreturn\u001b[0m \u001b[0mUtils\u001b[0m\u001b[1;33m.\u001b[0m\u001b[0mmkvc\u001b[0m\u001b[1;33m(\u001b[0m\u001b[0mself\u001b[0m\u001b[1;33m.\u001b[0m\u001b[0mprojectFields\u001b[0m\u001b[1;33m(\u001b[0m\u001b[0mu\u001b[0m\u001b[1;33m)\u001b[0m\u001b[1;33m)\u001b[0m\u001b[1;33m\u001b[0m\u001b[0m\n\u001b[0;32m    310\u001b[0m \u001b[1;33m\u001b[0m\u001b[0m\n",
      "\u001b[1;32mC:\\Users\\micmitch\\Documents\\simpegdc\\simpegDCIP\\BaseDC.py\u001b[0m in \u001b[0;36mfields\u001b[1;34m(self, m)\u001b[0m\n\u001b[0;32m    196\u001b[0m         \u001b[0mA\u001b[0m    \u001b[1;33m=\u001b[0m \u001b[0mself\u001b[0m\u001b[1;33m.\u001b[0m\u001b[0mA\u001b[0m\u001b[1;33m\u001b[0m\u001b[0m\n\u001b[0;32m    197\u001b[0m         \u001b[0mself\u001b[0m\u001b[1;33m.\u001b[0m\u001b[0mAinv\u001b[0m \u001b[1;33m=\u001b[0m \u001b[0mself\u001b[0m\u001b[1;33m.\u001b[0m\u001b[0mSolver\u001b[0m\u001b[1;33m(\u001b[0m\u001b[0mA\u001b[0m\u001b[1;33m,\u001b[0m \u001b[1;33m**\u001b[0m\u001b[0mself\u001b[0m\u001b[1;33m.\u001b[0m\u001b[0msolverOpts\u001b[0m\u001b[1;33m)\u001b[0m\u001b[1;33m\u001b[0m\u001b[0m\n\u001b[1;32m--> 198\u001b[1;33m         \u001b[0mRHS\u001b[0m    \u001b[1;33m=\u001b[0m \u001b[0mself\u001b[0m\u001b[1;33m.\u001b[0m\u001b[0mgetRHS\u001b[0m\u001b[1;33m(\u001b[0m\u001b[1;33m)\u001b[0m\u001b[1;33m\u001b[0m\u001b[0m\n\u001b[0m\u001b[0;32m    199\u001b[0m         \u001b[0mPhi\u001b[0m  \u001b[1;33m=\u001b[0m \u001b[0mself\u001b[0m\u001b[1;33m.\u001b[0m\u001b[0mAinv\u001b[0m \u001b[1;33m*\u001b[0m \u001b[0mRHS\u001b[0m\u001b[1;33m\u001b[0m\u001b[0m\n\u001b[0;32m    200\u001b[0m         \u001b[0mSrcs\u001b[0m \u001b[1;33m=\u001b[0m \u001b[0mself\u001b[0m\u001b[1;33m.\u001b[0m\u001b[0msurvey\u001b[0m\u001b[1;33m.\u001b[0m\u001b[0msrcList\u001b[0m\u001b[1;33m\u001b[0m\u001b[0m\n",
      "\u001b[1;32mC:\\Users\\micmitch\\Documents\\simpegdc\\simpegDCIP\\BaseDC.py\u001b[0m in \u001b[0;36mgetRHS\u001b[1;34m(self)\u001b[0m\n\u001b[0;32m    185\u001b[0m     \u001b[1;32mdef\u001b[0m \u001b[0mgetRHS\u001b[0m\u001b[1;33m(\u001b[0m\u001b[0mself\u001b[0m\u001b[1;33m)\u001b[0m\u001b[1;33m:\u001b[0m\u001b[1;33m\u001b[0m\u001b[0m\n\u001b[0;32m    186\u001b[0m         \u001b[1;31m# if self.mesh not in self._rhsDict:\u001b[0m\u001b[1;33m\u001b[0m\u001b[1;33m\u001b[0m\u001b[0m\n\u001b[1;32m--> 187\u001b[1;33m         \u001b[0mRHS\u001b[0m \u001b[1;33m=\u001b[0m \u001b[0mnp\u001b[0m\u001b[1;33m.\u001b[0m\u001b[0marray\u001b[0m\u001b[1;33m(\u001b[0m\u001b[1;33m[\u001b[0m\u001b[0msrc\u001b[0m\u001b[1;33m.\u001b[0m\u001b[0meval\u001b[0m\u001b[1;33m(\u001b[0m\u001b[0mself\u001b[0m\u001b[1;33m)\u001b[0m \u001b[1;32mfor\u001b[0m \u001b[0msrc\u001b[0m \u001b[1;32min\u001b[0m \u001b[0mself\u001b[0m\u001b[1;33m.\u001b[0m\u001b[0msurvey\u001b[0m\u001b[1;33m.\u001b[0m\u001b[0msrcList\u001b[0m\u001b[1;33m]\u001b[0m\u001b[1;33m)\u001b[0m\u001b[1;33m.\u001b[0m\u001b[0mT\u001b[0m\u001b[1;33m\u001b[0m\u001b[0m\n\u001b[0m\u001b[0;32m    188\u001b[0m         \u001b[1;31m# self._rhsDict[mesh] = RHS\u001b[0m\u001b[1;33m\u001b[0m\u001b[1;33m\u001b[0m\u001b[0m\n\u001b[0;32m    189\u001b[0m         \u001b[1;31m# return self._rhsDict[mesh]\u001b[0m\u001b[1;33m\u001b[0m\u001b[1;33m\u001b[0m\u001b[0m\n",
      "\u001b[1;32mC:\\Users\\micmitch\\Documents\\simpegdc\\simpegDCIP\\BaseDC.py\u001b[0m in \u001b[0;36meval\u001b[1;34m(self, prob)\u001b[0m\n\u001b[0;32m     62\u001b[0m         \u001b[1;31m# if mesh not in self._rhsDict:\u001b[0m\u001b[1;33m\u001b[0m\u001b[1;33m\u001b[0m\u001b[0m\n\u001b[0;32m     63\u001b[0m         \u001b[0mpts\u001b[0m \u001b[1;33m=\u001b[0m \u001b[1;33m[\u001b[0m\u001b[0mself\u001b[0m\u001b[1;33m.\u001b[0m\u001b[0mloc\u001b[0m\u001b[1;33m[\u001b[0m\u001b[1;36m0\u001b[0m\u001b[1;33m]\u001b[0m\u001b[1;33m,\u001b[0m \u001b[0mself\u001b[0m\u001b[1;33m.\u001b[0m\u001b[0mloc\u001b[0m\u001b[1;33m[\u001b[0m\u001b[1;36m1\u001b[0m\u001b[1;33m]\u001b[0m\u001b[1;33m]\u001b[0m\u001b[1;33m\u001b[0m\u001b[0m\n\u001b[1;32m---> 64\u001b[1;33m         \u001b[0minds\u001b[0m \u001b[1;33m=\u001b[0m \u001b[0mUtils\u001b[0m\u001b[1;33m.\u001b[0m\u001b[0mclosestPoints\u001b[0m\u001b[1;33m(\u001b[0m\u001b[0mprob\u001b[0m\u001b[1;33m.\u001b[0m\u001b[0mmesh\u001b[0m\u001b[1;33m,\u001b[0m \u001b[0mpts\u001b[0m\u001b[1;33m)\u001b[0m\u001b[1;33m\u001b[0m\u001b[0m\n\u001b[0m\u001b[0;32m     65\u001b[0m         \u001b[0mq\u001b[0m \u001b[1;33m=\u001b[0m \u001b[0mnp\u001b[0m\u001b[1;33m.\u001b[0m\u001b[0mzeros\u001b[0m\u001b[1;33m(\u001b[0m\u001b[0mprob\u001b[0m\u001b[1;33m.\u001b[0m\u001b[0mmesh\u001b[0m\u001b[1;33m.\u001b[0m\u001b[0mnC\u001b[0m\u001b[1;33m)\u001b[0m\u001b[1;33m\u001b[0m\u001b[0m\n\u001b[0;32m     66\u001b[0m         \u001b[0mq\u001b[0m\u001b[1;33m[\u001b[0m\u001b[0minds\u001b[0m\u001b[1;33m]\u001b[0m \u001b[1;33m=\u001b[0m \u001b[1;33m-\u001b[0m \u001b[0mself\u001b[0m\u001b[1;33m.\u001b[0m\u001b[0mcurrent\u001b[0m \u001b[1;33m*\u001b[0m \u001b[1;33m(\u001b[0m \u001b[0mnp\u001b[0m\u001b[1;33m.\u001b[0m\u001b[0mr_\u001b[0m\u001b[1;33m[\u001b[0m\u001b[1;36m1.\u001b[0m\u001b[1;33m,\u001b[0m \u001b[1;33m-\u001b[0m\u001b[1;36m1.\u001b[0m\u001b[1;33m]\u001b[0m \u001b[1;33m/\u001b[0m \u001b[0mprob\u001b[0m\u001b[1;33m.\u001b[0m\u001b[0mmesh\u001b[0m\u001b[1;33m.\u001b[0m\u001b[0mvol\u001b[0m\u001b[1;33m[\u001b[0m\u001b[0minds\u001b[0m\u001b[1;33m]\u001b[0m \u001b[1;33m)\u001b[0m\u001b[1;33m\u001b[0m\u001b[0m\n",
      "\u001b[1;32mC:\\Users\\micmitch\\Documents\\UBC\\GIF\\Programs\\SimPEG\\SimPEG\\Utils\\meshutils.pyc\u001b[0m in \u001b[0;36mclosestPoints\u001b[1;34m(mesh, pts, gridLoc)\u001b[0m\n\u001b[0;32m     91\u001b[0m     \"\"\"\n\u001b[0;32m     92\u001b[0m \u001b[1;33m\u001b[0m\u001b[0m\n\u001b[1;32m---> 93\u001b[1;33m     \u001b[0mpts\u001b[0m \u001b[1;33m=\u001b[0m \u001b[0masArray_N_x_Dim\u001b[0m\u001b[1;33m(\u001b[0m\u001b[0mpts\u001b[0m\u001b[1;33m,\u001b[0m \u001b[0mmesh\u001b[0m\u001b[1;33m.\u001b[0m\u001b[0mdim\u001b[0m\u001b[1;33m)\u001b[0m\u001b[1;33m\u001b[0m\u001b[0m\n\u001b[0m\u001b[0;32m     94\u001b[0m     \u001b[0mgrid\u001b[0m \u001b[1;33m=\u001b[0m \u001b[0mgetattr\u001b[0m\u001b[1;33m(\u001b[0m\u001b[0mmesh\u001b[0m\u001b[1;33m,\u001b[0m \u001b[1;34m'grid'\u001b[0m \u001b[1;33m+\u001b[0m \u001b[0mgridLoc\u001b[0m\u001b[1;33m)\u001b[0m\u001b[1;33m\u001b[0m\u001b[0m\n\u001b[0;32m     95\u001b[0m     \u001b[0mnodeInds\u001b[0m \u001b[1;33m=\u001b[0m \u001b[0mnp\u001b[0m\u001b[1;33m.\u001b[0m\u001b[0mempty\u001b[0m\u001b[1;33m(\u001b[0m\u001b[0mpts\u001b[0m\u001b[1;33m.\u001b[0m\u001b[0mshape\u001b[0m\u001b[1;33m[\u001b[0m\u001b[1;36m0\u001b[0m\u001b[1;33m]\u001b[0m\u001b[1;33m,\u001b[0m \u001b[0mdtype\u001b[0m\u001b[1;33m=\u001b[0m\u001b[0mint\u001b[0m\u001b[1;33m)\u001b[0m\u001b[1;33m\u001b[0m\u001b[0m\n",
      "\u001b[1;32mC:\\Users\\micmitch\\Documents\\UBC\\GIF\\Programs\\SimPEG\\SimPEG\\Utils\\codeutils.pyc\u001b[0m in \u001b[0;36masArray_N_x_Dim\u001b[1;34m(pts, dim)\u001b[0m\n\u001b[0;32m    185\u001b[0m             \u001b[0mpts\u001b[0m \u001b[1;33m=\u001b[0m \u001b[0mpts\u001b[0m\u001b[1;33m[\u001b[0m\u001b[1;33m:\u001b[0m\u001b[1;33m,\u001b[0m\u001b[0mnp\u001b[0m\u001b[1;33m.\u001b[0m\u001b[0mnewaxis\u001b[0m\u001b[1;33m]\u001b[0m\u001b[1;33m\u001b[0m\u001b[0m\n\u001b[0;32m    186\u001b[0m \u001b[1;33m\u001b[0m\u001b[0m\n\u001b[1;32m--> 187\u001b[1;33m         \u001b[1;32massert\u001b[0m \u001b[0mpts\u001b[0m\u001b[1;33m.\u001b[0m\u001b[0mshape\u001b[0m\u001b[1;33m[\u001b[0m\u001b[1;36m1\u001b[0m\u001b[1;33m]\u001b[0m \u001b[1;33m==\u001b[0m \u001b[0mdim\u001b[0m\u001b[1;33m,\u001b[0m \u001b[1;34m\"pts must be a column vector of shape (nPts, %d) not (%d, %d)\"\u001b[0m \u001b[1;33m%\u001b[0m \u001b[1;33m(\u001b[0m\u001b[1;33m(\u001b[0m\u001b[0mdim\u001b[0m\u001b[1;33m,\u001b[0m\u001b[1;33m)\u001b[0m\u001b[1;33m+\u001b[0m\u001b[0mpts\u001b[0m\u001b[1;33m.\u001b[0m\u001b[0mshape\u001b[0m\u001b[1;33m)\u001b[0m\u001b[1;33m\u001b[0m\u001b[0m\n\u001b[0m\u001b[0;32m    188\u001b[0m \u001b[1;33m\u001b[0m\u001b[0m\n\u001b[0;32m    189\u001b[0m         \u001b[1;32mreturn\u001b[0m \u001b[0mpts\u001b[0m\u001b[1;33m\u001b[0m\u001b[0m\n",
      "\u001b[1;31mTypeError\u001b[0m: not all arguments converted during string formatting"
     ]
    }
   ],
   "source": [
    "sigmaBackground = np.ones(mesh.nC)*sigmaFull\n",
    "\n",
    "# %%time\n",
    "dataPred = survey.dpred(sigmaBackground)"
   ]
  },
  {
   "cell_type": "code",
   "execution_count": null,
   "metadata": {
    "collapsed": false
   },
   "outputs": [],
   "source": [
    "u1 = problem.fields(sigma)\n",
    "u2 = problem.fields(sigmaBackground)"
   ]
  },
  {
   "cell_type": "code",
   "execution_count": null,
   "metadata": {
    "collapsed": false
   },
   "outputs": [],
   "source": [
    "Msig1 = Utils.sdiag(1./(mesh.aveF2CC.T*(1./sigma)))\n",
    "Msig2 = Utils.sdiag(1./(mesh.aveF2CC.T*(1./sigmaBackground)))\n"
   ]
  },
  {
   "cell_type": "code",
   "execution_count": null,
   "metadata": {
    "collapsed": true
   },
   "outputs": [],
   "source": [
    "j1 = Msig1*mesh.cellGrad*u1[tx, 'phi_sol']\n",
    "j2 = Msig2*mesh.cellGrad*u2[tx, 'phi_sol']"
   ]
  },
  {
   "cell_type": "code",
   "execution_count": null,
   "metadata": {
    "collapsed": false
   },
   "outputs": [],
   "source": [
    "us = u1-u2\n",
    "js = j1-j2\n"
   ]
  },
  {
   "cell_type": "code",
   "execution_count": null,
   "metadata": {
    "collapsed": false
   },
   "outputs": [],
   "source": [
    "mesh.plotSlice(mesh.aveF2CCV*j1, vType='CCv', normal='Y', view='vec', streamOpts={\"density\":3, \"color\":'w'})\n",
    "xlim(-300, 300)\n",
    "ylim(-300, 0)"
   ]
  },
  {
   "cell_type": "code",
   "execution_count": null,
   "metadata": {
    "collapsed": true
   },
   "outputs": [],
   "source": [
    "mesh.plotSlice(mesh.aveF2CCV*js, vType='CCv', normal='Y', view='vec', streamOpts={\"density\":3, \"color\":'w'})\n",
    "xlim(-300, 300)\n",
    "ylim(-300, 0)"
   ]
  },
  {
   "cell_type": "code",
   "execution_count": 46,
   "metadata": {
    "collapsed": false
   },
   "outputs": [],
   "source": [
    "problem.Solver??"
   ]
  },
  {
   "cell_type": "code",
   "execution_count": null,
   "metadata": {
    "collapsed": true
   },
   "outputs": [],
   "source": []
  }
 ],
 "metadata": {
  "kernelspec": {
   "display_name": "Python 2",
   "language": "python",
   "name": "python2"
  },
  "language_info": {
   "codemirror_mode": {
    "name": "ipython",
    "version": 2
   },
   "file_extension": ".py",
   "mimetype": "text/x-python",
   "name": "python",
   "nbconvert_exporter": "python",
   "pygments_lexer": "ipython2",
   "version": "2.7.11"
  }
 },
 "nbformat": 4,
 "nbformat_minor": 0
}
