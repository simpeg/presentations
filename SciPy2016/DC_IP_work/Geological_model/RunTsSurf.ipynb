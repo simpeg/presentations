{
 "cells": [
  {
   "cell_type": "code",
   "execution_count": 1,
   "metadata": {
    "collapsed": false
   },
   "outputs": [
    {
     "name": "stdout",
     "output_type": "stream",
     "text": [
      "  ---- 3-D TensorMesh ----  \n",
      "   x0: 556516.42\n",
      "   y0: 7132816.42\n",
      "   z0: -358.58\n",
      "  nCx: 124\n",
      "  nCy: 124\n",
      "  nCz: 74\n",
      "   hx: 62.75, 48.27, 37.13, 28.56, 21.97, 16.90, 13.00, 110*10.00, 13.00, 16.90, 21.97, 28.56, 37.13, 48.27, 62.75\n",
      "   hy: 62.75, 48.27, 37.13, 28.56, 21.97, 16.90, 13.00, 110*10.00, 13.00, 16.90, 21.97, 28.56, 37.13, 48.27, 62.75\n",
      "   hz: 62.75, 48.27, 37.13, 28.56, 21.97, 16.90, 13.00, 60*10.00, 13.00, 16.90, 21.97, 28.56, 37.13, 48.27, 62.75\n",
      "Computing indices with VTK: Till.ts\n",
      "Reading GOCAD ts file...\n",
      "Extracting indices from grid...\n",
      "VTK operation completed in 92.8691418171 sec\n",
      "Computing indices with VTK: XVK.ts\n",
      "Reading GOCAD ts file...\n",
      "Extracting indices from grid...\n",
      "VTK operation completed in 19.4536280632 sec\n",
      "Computing indices with VTK: PK1.ts\n",
      "Reading GOCAD ts file...\n",
      "Extracting indices from grid...\n",
      "VTK operation completed in 46.750701189 sec\n",
      "Computing indices with VTK: PK2.ts\n",
      "Reading GOCAD ts file...\n",
      "Extracting indices from grid...\n",
      "VTK operation completed in 18.508918047 sec\n",
      "Computing indices with VTK: PK3.ts\n",
      "Reading GOCAD ts file...\n",
      "Extracting indices from grid...\n",
      "VTK operation completed in 23.3327851295 sec\n",
      "Computing indices with VTK: HK1.ts\n",
      "Reading GOCAD ts file...\n",
      "Extracting indices from grid...\n",
      "VTK operation completed in 46.5305199623 sec\n",
      "Computing indices with VTK: VK.ts\n",
      "Reading GOCAD ts file...\n",
      "Extracting indices from grid...\n",
      "VTK operation completed in 45.7203378677 sec\n",
      "Reading GOCAD ts file...\n",
      "Extracting indices from grid...\n"
     ]
    }
   ],
   "source": [
    "run TsSurf_VTK_2_3DModel.py"
   ]
  },
  {
   "cell_type": "code",
   "execution_count": 2,
   "metadata": {
    "collapsed": false
   },
   "outputs": [
    {
     "name": "stdout",
     "output_type": "stream",
     "text": [
      "/Users/Mike/git/simpeg/presentations/SciPy2016/DC_IP_work/Geological_model\r\n"
     ]
    }
   ],
   "source": [
    "\n",
    "!pwd"
   ]
  },
  {
   "cell_type": "code",
   "execution_count": 3,
   "metadata": {
    "collapsed": false
   },
   "outputs": [
    {
     "data": {
      "text/plain": [
       "array([  1.00000000e-04,   1.00000000e-04,   1.00000000e-04, ...,\n",
       "         1.00000000e-08,   1.00000000e-08,   1.00000000e-08])"
      ]
     },
     "execution_count": 3,
     "metadata": {},
     "output_type": "execute_result"
    }
   ],
   "source": [
    "model"
   ]
  },
  {
   "cell_type": "code",
   "execution_count": 4,
   "metadata": {
    "collapsed": false
   },
   "outputs": [
    {
     "data": {
      "text/plain": [
       "array([], dtype=int64)"
      ]
     },
     "execution_count": 4,
     "metadata": {},
     "output_type": "execute_result"
    }
   ],
   "source": [
    "indx"
   ]
  },
  {
   "cell_type": "code",
   "execution_count": 6,
   "metadata": {
    "collapsed": false
   },
   "outputs": [
    {
     "data": {
      "text/plain": [
       "'CDED_Lake_Coarse.ts'"
      ]
     },
     "execution_count": 6,
     "metadata": {},
     "output_type": "execute_result"
    }
   ],
   "source": [
    "topsurf"
   ]
  },
  {
   "cell_type": "code",
   "execution_count": 7,
   "metadata": {
    "collapsed": false
   },
   "outputs": [
    {
     "name": "stdout",
     "output_type": "stream",
     "text": [
      "  ---- 3-D TensorMesh ----  \n",
      "   x0: -833.58\n",
      "   y0: -833.58\n",
      "   z0: -733.58\n",
      "  nCx: 134\n",
      "  nCy: 134\n",
      "  nCz: 64\n",
      "   hx: 62.75, 48.27, 37.13, 28.56, 21.97, 16.90, 13.00, 120*10.00, 13.00, 16.90, 21.97, 28.56, 37.13, 48.27, 62.75\n",
      "   hy: 62.75, 48.27, 37.13, 28.56, 21.97, 16.90, 13.00, 120*10.00, 13.00, 16.90, 21.97, 28.56, 37.13, 48.27, 62.75\n",
      "   hz: 62.75, 48.27, 37.13, 28.56, 21.97, 16.90, 13.00, 50*10.00, 13.00, 16.90, 21.97, 28.56, 37.13, 48.27, 62.75\n"
     ]
    }
   ],
   "source": [
    "print mesh"
   ]
  },
  {
   "cell_type": "code",
   "execution_count": null,
   "metadata": {
    "collapsed": true
   },
   "outputs": [],
   "source": [
    "mesh"
   ]
  }
 ],
 "metadata": {
  "kernelspec": {
   "display_name": "Python 2",
   "language": "python",
   "name": "python2"
  },
  "language_info": {
   "codemirror_mode": {
    "name": "ipython",
    "version": 2
   },
   "file_extension": ".py",
   "mimetype": "text/x-python",
   "name": "python",
   "nbconvert_exporter": "python",
   "pygments_lexer": "ipython2",
   "version": "2.7.11"
  }
 },
 "nbformat": 4,
 "nbformat_minor": 0
}
