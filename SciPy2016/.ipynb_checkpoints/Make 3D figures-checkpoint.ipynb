{
 "cells": [
  {
   "cell_type": "markdown",
   "metadata": {},
   "source": [
    "## Make 3d model sections "
   ]
  },
  {
   "cell_type": "code",
   "execution_count": 6,
   "metadata": {
    "collapsed": false
   },
   "outputs": [],
   "source": [
    "import telluricpy, numpy as np, gc\n",
    "import scipy\n",
    "\n",
    "import VTKUtil as pvtkUtil"
   ]
  },
  {
   "cell_type": "code",
   "execution_count": 7,
   "metadata": {
    "collapsed": true
   },
   "outputs": [],
   "source": [
    "%matplotlib qt"
   ]
  },
  {
   "cell_type": "code",
   "execution_count": 8,
   "metadata": {
    "collapsed": true
   },
   "outputs": [],
   "source": [
    "def simpeg2vtk(mesh,modDict):\n",
    "    \n",
    "    from vtk import vtkRectilinearGrid as rectGrid, vtkXMLRectilinearGridWriter as rectWriter, VTK_VERSION\n",
    "    from vtk.util.numpy_support import numpy_to_vtk\n",
    "\n",
    "    # Deal with dimensionalities\n",
    "    if mesh.dim >= 1:\n",
    "        vX = mesh.vectorNx\n",
    "        xD = mesh.nNx\n",
    "        yD,zD = 1,1\n",
    "        vY, vZ = np.array([0,0])\n",
    "    if mesh.dim >= 2:\n",
    "        vY = mesh.vectorNy\n",
    "        yD = mesh.nNy\n",
    "    if mesh.dim == 3:\n",
    "        vZ = mesh.vectorNz\n",
    "        zD = mesh.nNz\n",
    "    # Use rectilinear VTK grid.\n",
    "    # Assign the spatial information.\n",
    "    vtkObj = rectGrid()\n",
    "    vtkObj.SetDimensions(xD,yD,zD)\n",
    "    vtkObj.SetXCoordinates(numpy_to_vtk(vX,deep=1))\n",
    "    vtkObj.SetYCoordinates(numpy_to_vtk(vY,deep=1))\n",
    "    vtkObj.SetZCoordinates(numpy_to_vtk(vZ,deep=1))\n",
    "\n",
    "    # Assign the model('s) to the object\n",
    "    if modDict is not None:\n",
    "        for item in modDict.iteritems():\n",
    "            # Convert numpy array\n",
    "            vtkDoubleArr = numpy_to_vtk(item[1],deep=1)\n",
    "            vtkDoubleArr.SetName(item[0])\n",
    "            vtkObj.GetCellData().AddArray(vtkDoubleArr)\n",
    "        # Set the active scalar\n",
    "        vtkObj.GetCellData().SetActiveScalars(modDict.keys()[0])\n",
    "    return vtkObj"
   ]
  },
  {
   "cell_type": "code",
   "execution_count": 20,
   "metadata": {
    "collapsed": false
   },
   "outputs": [],
   "source": [
    "def plot3dSetion(mesh,mod,figName,lutName = 'Con', camera = None):\n",
    "    \n",
    "    # Convert the mesh and model\n",
    "    fullvtkObj = simpeg2vtk(mesh,mod)\n",
    "    \n",
    "    import VTKUtil as pvtkUtil\n",
    "    # Make scalar bar and lookup table\n",
    "    lutRes, scalarBarRes, vecNameRes = pvtkUtil.makeLookupTable(lutName)    \n",
    "    scalarBarRes.SetPosition(0.01,0.15)\n",
    "\n",
    "    # Set some sizes\n",
    "    renSize = [1280,800] \n",
    "    axesBounds = [556800.0, 557800.0, 7133100.0, 7134100.0, -500.0, 500.0]\n",
    "    screenSize = 14.0\n",
    "    xRange = [556.8, 557.8]\n",
    "    yRange = [7133.1, 7134.1]\n",
    "    zRange = [-0.5, 0.5]\n",
    "\n",
    "    # Read the model\n",
    "    boxImp = vtk.vtkBox()\n",
    "    boxImp.SetBounds(556800.0, 557800.0, 7133100.0, 7134100.0, -500.0, 500.0)\n",
    "    extractFilt = vtk.vtkExtractGeometry()\n",
    "    extractFilt.SetExtractInside(1)\n",
    "    extractFilt.SetExtractBoundaryCells(1)\n",
    "    extractFilt.SetInputData(fullvtkObj)\n",
    "    extractFilt.SetImplicitFunction(boxImp)\n",
    "#     extractFilt.Update()\n",
    "    # Remove air\n",
    "    thresFilt = vtk.vtkThreshold()\n",
    "    thresFilt.SetInputConnection(extractFilt.GetOutputPort())\n",
    "    thresFilt.ThresholdByUpper(1e-8)\n",
    "    thresFilt.AllScalarsOn()\n",
    "    thresFilt.SetInputArrayToProcess(0,0,0,vtk.vtkDataObject.FIELD_ASSOCIATION_CELLS,vecNameRes)\n",
    "#     thresFilt.Update()\n",
    "    vtkObjIn = thresFilt.GetOutput()\n",
    "#     print vtkObjIn.GetNumberOfCells()\n",
    "    \n",
    "    # Set the camera\n",
    "    if camera is None:\n",
    "        camera = vtk.vtkCamera()\n",
    "        camera.SetClippingRange(85.01306538179968, 85013.06538179968)\n",
    "        camera.SetFocalPoint(557170.1657806067, 7133465.5306818895, -8.100855224539828)\n",
    "        camera.SetPosition(555046.658444768, 7131550.331097811, 1643.4398007476757)\n",
    "        camera.SetViewUp(0.35030191124890564, 0.3579734646304746, 0.8655308022224387)\n",
    "        camera.SetParallelScale(1.0)\n",
    "    else:\n",
    "        camera = camera\n",
    "\n",
    "    # Make a renderer\n",
    "    ren = vtk.vtkRenderer()\n",
    "    ren.SetActiveCamera(camera)\n",
    "    # Make renderwindow. \n",
    "    renwin = vtk.vtkRenderWindow()\n",
    "    # Set to off screen rendering\n",
    "    renwin.AddRenderer(ren)\n",
    "    renwin.SetSize(renSize)\n",
    "    iren = vtk.vtkRenderWindowInteractor()\n",
    "\n",
    "    iren.GetInteractorStyle().SetCurrentStyleToTrackballCamera()\n",
    "    iren.SetRenderWindow(renwin)\n",
    "    iren.Initialize()\n",
    "\n",
    "    # Add the axes\n",
    "    axes = pvtkUtil.addAxes(screenSize,ren,xRange,yRange,zRange,axesBounds)\n",
    "\n",
    "    ## Organize the data\n",
    "    # Plane 1\n",
    "    global plane, actor1\n",
    "    plane = vtk.vtkPlane()\n",
    "    plane.SetOrigin(557100,7133600,0)\n",
    "    plane.SetNormal(0,-1,0)\n",
    "\n",
    "    vtkObjClip1 = vtk.vtkClipDataSet()\n",
    "#     vtkObjClip1.SetInputData(vtkObjIn)\n",
    "    vtkObjClip1.SetInputConnection(thresFilt.GetOutputPort())\n",
    "    vtkObjClip1.SetClipFunction(plane)\n",
    "    vtkObjClip1.InsideOutOn()\n",
    "#     vtkObjClip1.Update()\n",
    "\n",
    "    vtkObj1 = vtkObjClip1.GetOutput()\n",
    "    vtkObj1.GetCellData().SetActiveScalars(vecNameRes)\n",
    "\n",
    "    # Set the mapper's\n",
    "    # Clip 1\n",
    "    mapper1 = vtk.vtkDataSetMapper()\n",
    "    mapper1.SetInputData(vtkObj1)\n",
    "    mapper1.SetScalarVisibility(1)        \n",
    "    mapper1.SetLookupTable(lutRes)\n",
    "    mapper1.UseLookupTableScalarRangeOn()\n",
    "    mapper1.SetInterpolateScalarsBeforeMapping(1)\n",
    "    actor1 = vtk.vtkLODActor()\n",
    "    actor1.SetMapper(mapper1)\n",
    "    actor1.VisibilityOff()\n",
    "#     actor1.GetProperty().SetEdgeColor(1,0.5,0)\n",
    "    actor1.GetProperty().SetEdgeVisibility(0)\n",
    "#     actor1.SetScale(1.01, 1.01, 1.01)\n",
    "#     actor1.GetProperty().SetRepresentationToSurface()\n",
    "    if False:\n",
    "        # Create the widget, its representation, and callback\n",
    "        def MovePlane(widget, event_string):\n",
    "            rep.GetPlane(plane)\n",
    "\n",
    "        rep = vtk.vtkImplicitPlaneRepresentation()\n",
    "        rep.SetPlaceFactor(1.0);\n",
    "        rep.PlaceWidget(vtkObjClip1.GetOutput().GetBounds())\n",
    "        rep.DrawPlaneOn()\n",
    "        rep.SetOrigin(557100,7133600,0)\n",
    "        rep.SetNormal(0,-1,0)\n",
    "#         rep.SetPlane(plane)\n",
    "\n",
    "        planeWidget = vtk.vtkImplicitPlaneWidget2()\n",
    "        planeWidget.SetInteractor(iren)\n",
    "        planeWidget.SetRepresentation(rep)\n",
    "        planeWidget.SetEnabled(1)\n",
    "#         planeWidget.PlaceWidget()\n",
    "        planeWidget.AddObserver(\"InteractionEvent\",MovePlane)\n",
    "    else:\n",
    "        # Callback function\n",
    "        def movePlane(obj, event):\n",
    "            global plane, actor1\n",
    "            obj.GetPlane(plane)\n",
    "            actor1.VisibilityOn()\n",
    "        # Associate the line widget with the interactor\n",
    "        planeWidget = vtk.vtkImplicitPlaneWidget()\n",
    "    #     planeWidget.SetInputConnection(thresFilt.GetOutputPort())\n",
    "        planeWidget.SetInputConnection(vtkObjClip1.GetOutputPort())\n",
    "        planeWidget.SetInteractor(iren)\n",
    "        planeWidget.SetPlaceFactor(1.05) # Increases the size of the widget bounds\n",
    "    #     b1,b2,b3 = vtkObj1.GetBounds()[::2]\n",
    "    #     planeWidget.SetOrigin(b1,b2,b3)\n",
    "        planeWidget.SetOutsideBounds(0) # Not allow the widget to move outside the input bounds\n",
    "        planeWidget.SetScaleEnabled(0) # Ability to scale with the mouse\n",
    "        planeWidget.SetEnabled(1) # Starts the widget\n",
    "        planeWidget.SetOutlineTranslation(0) # Abiltiy to move the widget with the mouse\n",
    "        planeWidget.GetPlaneProperty().SetOpacity(0.1)\n",
    "        planeWidget.PlaceWidget()\n",
    "        planeWidget.AddObserver(\"InteractionEvent\",movePlane)\n",
    "   \n",
    "\n",
    "    # Orientation widget \n",
    "    oriWid = pvtkUtil.addDirectionWidget(iren,ren,150,35)\n",
    "\n",
    "    # Set renderer options\n",
    "    ren.SetBackground(1.0,1.0,1.0)\n",
    "    ren.AddActor(actor1)\n",
    "    ren.AddActor2D(scalarBarRes)\n",
    "    ren.AddViewProp(axes)\n",
    "\n",
    "    # Fix the colorbar title\n",
    "    title = scalarBarRes.GetTitle()\n",
    "    scalarBarRes.SetTitle('')\n",
    "    # Add the title at the top of the figure manually.\n",
    "    titText = vtk.vtkTextActor()\n",
    "    titText.GetPositionCoordinate().SetCoordinateSystemToNormalizedViewport()\n",
    "    titText.GetTextProperty().SetFontSize(35)\n",
    "    titText.GetTextProperty().SetColor(0.0,0.0,0.0)\n",
    "    titText.SetPosition(0.02,0.87)\n",
    "    titText.SetInput(title)\n",
    "    ren.AddActor(titText)\n",
    "\n",
    "\n",
    "    # Start the render Window\n",
    "    renwin.Render()\n",
    "    iren.Start()\n",
    "    # Save the fig\n",
    "    planeWidget.SetEnabled(0)\n",
    "    w2i = vtk.vtkWindowToImageFilter()\n",
    "    w2i.SetMagnification(1)\n",
    "\n",
    "    w2i.SetInput(renwin)\n",
    "    w2i.Update()\n",
    "    writer = vtk.vtkTIFFWriter()\n",
    "    writer.SetCompressionToNoCompression()\n",
    "    writer.SetInputConnection(w2i.GetOutputPort())\n",
    "    writer.SetFileName(figName + '.tif')\n",
    "    writer.Write()\n",
    "\n",
    "\n",
    "    if True:\n",
    "        camera = ren.GetActiveCamera()\n",
    "        # For playing around with the locations of the figures\n",
    "        # For printing out view information.\n",
    "        print('camera.GetClippingRange' + str(camera.GetClippingRange()))\n",
    "        print('camera.GetFocalPoint' + str(camera.GetFocalPoint()))\n",
    "        print('camera.GetPosition' + str(camera.GetPosition()))\n",
    "        print('camera.GetViewUp' + str(camera.GetViewUp()))\n",
    "        print('camera.GetParallelScale(' + str(camera.GetParallelScale()) +')')\n",
    "    # Close the window when exited\n",
    "    iren.TerminateApp()\n",
    "    renwin.Finalize()\n",
    "\n",
    "    del iren, renwin\n",
    "    # Gargage collect\n",
    "    gc.collect()"
   ]
  },
  {
   "cell_type": "code",
   "execution_count": null,
   "metadata": {
    "collapsed": false
   },
   "outputs": [],
   "source": []
  },
  {
   "cell_type": "code",
   "execution_count": 22,
   "metadata": {
    "collapsed": false
   },
   "outputs": [],
   "source": [
    "# Load the model and mesh"
   ]
  },
  {
   "cell_type": "code",
   "execution_count": 23,
   "metadata": {
    "collapsed": false
   },
   "outputs": [],
   "source": [
    "mesh, modDict = simpeg.Mesh.TensorMesh.readVTK('MTwork/inv3d_HPK1/run_thibaut4_off/recoveredMod_run_thibaut4_off_it10.vtr')"
   ]
  },
  {
   "cell_type": "code",
   "execution_count": 24,
   "metadata": {
    "collapsed": false,
    "scrolled": true
   },
   "outputs": [
    {
     "name": "stdout",
     "output_type": "stream",
     "text": [
      "camera.GetClippingRange(85.01306538179968, 85013.06538179968)\n",
      "camera.GetFocalPoint(557170.1657806067, 7133465.5306818895, -8.100855224539828)\n",
      "camera.GetPosition(555046.658444768, 7131550.331097811, 1643.4398007476757)\n",
      "camera.GetViewUp(0.35030191124890564, 0.3579734646304746, 0.8655308022224387)\n",
      "camera.GetParallelScale(1.0)\n"
     ]
    }
   ],
   "source": [
    "# Plot the section\n",
    "plot3dSetion(mesh,modDict,'GeologicalModel')"
   ]
  },
  {
   "cell_type": "code",
   "execution_count": 26,
   "metadata": {
    "collapsed": false
   },
   "outputs": [
    {
     "name": "stdout",
     "output_type": "stream",
     "text": [
      "camera.GetClippingRange(643.8947285937238, 5162.214427976893)\n",
      "camera.GetFocalPoint(557061.7569032186, 7133546.3072297545, -80.10586596226378)\n",
      "camera.GetPosition(555397.794220075, 7131771.239576306, 609.1514538663159)\n",
      "camera.GetViewUp(0.18631089702639847, 0.19894776570071399, 0.9621372231505818)\n",
      "camera.GetParallelScale(1.0)\n"
     ]
    }
   ],
   "source": [
    "# Plot the background model\n",
    "mesh, modDict = simpeg.Mesh.TensorMesh.readVTK('MTwork/inv3d_HPK1/run_thibaut4_off/nsmesh_CoarseHKPK1_NoExtension.vtr')\n",
    "plot3dSetion(mesh,modDict,'MTwork/OriginalModel')"
   ]
  },
  {
   "cell_type": "code",
   "execution_count": 91,
   "metadata": {
    "collapsed": true
   },
   "outputs": [],
   "source": [
    "import simpegViz"
   ]
  },
  {
   "cell_type": "code",
   "execution_count": 92,
   "metadata": {
    "collapsed": false
   },
   "outputs": [],
   "source": [
    "modView = simpegViz.vtkView(mesh,{'C':modDict})"
   ]
  },
  {
   "cell_type": "code",
   "execution_count": 93,
   "metadata": {
    "collapsed": false
   },
   "outputs": [],
   "source": [
    "modView.limits = 1e-5, 0.01\n",
    "modView.range = 1e-5, 0.01\n",
    "modView.extent = [8,28,8,33,8,55]"
   ]
  },
  {
   "cell_type": "code",
   "execution_count": 94,
   "metadata": {
    "collapsed": false
   },
   "outputs": [],
   "source": [
    "modView.Show()"
   ]
  },
  {
   "cell_type": "code",
   "execution_count": null,
   "metadata": {
    "collapsed": true
   },
   "outputs": [],
   "source": []
  }
 ],
 "metadata": {
  "kernelspec": {
   "display_name": "Python 2",
   "language": "python",
   "name": "python2"
  },
  "language_info": {
   "codemirror_mode": {
    "name": "ipython",
    "version": 2
   },
   "file_extension": ".py",
   "mimetype": "text/x-python",
   "name": "python",
   "nbconvert_exporter": "python",
   "pygments_lexer": "ipython2",
   "version": "2.7.11"
  }
 },
 "nbformat": 4,
 "nbformat_minor": 0
}
