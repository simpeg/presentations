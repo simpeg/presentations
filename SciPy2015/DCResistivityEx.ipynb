{
 "cells": [
  {
   "cell_type": "code",
   "execution_count": 2,
   "metadata": {
    "collapsed": false
   },
   "outputs": [],
   "source": [
    "from SimPEG import * \n",
    "%matplotlib inline\n",
    "import matplotlib.pyplot as plt"
   ]
  },
  {
   "cell_type": "markdown",
   "metadata": {},
   "source": [
    "# DC Resistivity Simulations\n",
    "\n",
    "DC resistivity is a zero-frequency electromagnetic problem. A DC resistivity geophysical survey is sensitive to variations in electrical conductivity. To conduct a DC resistivity survey, we use a source source electrode to inject a current into the subsurface and sink to pick up that current. \n",
    "\n",
    "The governing equation is: \n",
    "\n",
    "$$\n",
    "\\nabla \\cdot \\sigma \\nabla \\phi = -s\n",
    "$$\n",
    "\n",
    "where $\\sigma$ is the electrical conductivity (S/m) which varies depending on the subsurface materials, $\\phi$ is the electric potential (V), and $s$ is the source term, which captures the impact of both the source and sink.  "
   ]
  },
  {
   "cell_type": "markdown",
   "metadata": {},
   "source": [
    "## Set up a Mesh\n",
    "\n",
    "We will solve the DC problem using a finite volume simulation, which requires that we set up a mesh on which to compute. For this example, we use a 2D mesh, but this can be expanded to 3D using `mesh = Mesh.TensorMesh([nx,ny,nz])`. \n",
    "\n",
    "We use the SimPEG package (http://simpeg.xyz/) to perform the simulation.  "
   ]
  },
  {
   "cell_type": "code",
   "execution_count": 3,
   "metadata": {
    "collapsed": false
   },
   "outputs": [],
   "source": [
    "# Define a unit square domain \n",
    "# This can be hidden depending on how much you want to show\n",
    "nx,ny = 60,60 # number of cells in x,y\n",
    "mesh = Mesh.TensorMesh([nx,ny]) # build a tensor mesh\n",
    "sigma = np.ones(mesh.nC) # assign a conductivity model\n",
    "\n",
    "# create source\n",
    "xp, yp = 0.25, 0.5\n",
    "xn, yn = 0.75, 0.5\n",
    "s = np.zeros(mesh.nC)\n",
    "indp = Utils.closestPoints(mesh,np.r_[xp,yp],'CC')\n",
    "indn = Utils.closestPoints(mesh,np.r_[xn,yn],'CC')\n",
    "s[indp] = 1.\n",
    "s[indn] = -1\n",
    "\n",
    "# conductive block\n",
    "sigmabl = 100.\n",
    "p0 = np.r_[0.4,0.4]\n",
    "p1 = np.r_[0.6,0.6]"
   ]
  },
  {
   "cell_type": "code",
   "execution_count": 5,
   "metadata": {
    "collapsed": true
   },
   "outputs": [],
   "source": [
    "# Build differential operators using the SimPEG mesh class\n",
    "\n",
    "# This can be hidden and imported depending on how much you want to expose\n",
    "def getOperators(mesh,sigma):\n",
    "    Div = mesh.faceDiv\n",
    "    Sigma = Utils.sdiag(1/(mesh.aveF2CC.T * (1/sigma)))\n",
    "    Grad = mesh.cellGrad\n",
    "    return Div, Sigma, Grad\n",
    "\n",
    "def getA(mesh,sigma): \n",
    "    Div, Sigma, Grad = getOperators(mesh,sigma)\n",
    "    return Div * Sigma * Grad\n",
    "\n",
    "def getAinv(mesh,sigma):\n",
    "    return Solver(getA(mesh,sigma))"
   ]
  },
  {
   "cell_type": "markdown",
   "metadata": {},
   "source": [
    "## DC Resistivity\n",
    "### $ \\nabla \\cdot \\sigma \\nabla \\phi = -s $\n",
    "\n",
    "Here we set up and solve the DC resistivity problem"
   ]
  },
  {
   "cell_type": "code",
   "execution_count": 6,
   "metadata": {
    "collapsed": true
   },
   "outputs": [],
   "source": [
    "# Construct A Matrix\n",
    "Div, Sigma, Grad = getOperators(mesh,sigma)\n",
    "A = Div * Sigma * Grad # looks like the equation!\n",
    "Ainv = Solver(A)"
   ]
  },
  {
   "cell_type": "code",
   "execution_count": 7,
   "metadata": {
    "collapsed": false
   },
   "outputs": [],
   "source": [
    "phi = Ainv * -s"
   ]
  },
  {
   "cell_type": "code",
   "execution_count": 8,
   "metadata": {
    "collapsed": false
   },
   "outputs": [
    {
     "data": {
      "text/plain": [
       "<matplotlib.text.Text at 0x107329850>"
      ]
     },
     "execution_count": 8,
     "metadata": {},
     "output_type": "execute_result"
    },
    {
     "data": {
      "image/png": "[encoded data removed]",
      "text/plain": [
       "<matplotlib.figure.Figure at 0x10720f950>"
      ]
     },
     "metadata": {},
     "output_type": "display_data"
    }
   ],
   "source": [
    "mesh.plotImage(phi)\n",
    "plt.title('Electric Potential, $\\phi$')"
   ]
  },
  {
   "cell_type": "markdown",
   "metadata": {},
   "source": [
    "## Wrap this up"
   ]
  },
  {
   "cell_type": "code",
   "execution_count": 9,
   "metadata": {
    "collapsed": true
   },
   "outputs": [],
   "source": [
    "# this can be hidden and imported \n",
    "def SolveDCprimary(xp,yp,xn,yn,mesh,sigma):\n",
    "    s = np.zeros(mesh.nC)\n",
    "    indp = Utils.closestPoints(mesh,np.r_[xp,yp],'CC')\n",
    "    indn = Utils.closestPoints(mesh,np.r_[xn,yn],'CC')\n",
    "    s[indp] = 1.\n",
    "    s[indn] = -1.\n",
    "    \n",
    "    Ainv = getAinv(mesh,sigma)\n",
    "    phi = Ainv * -s\n",
    "\n",
    "    return phi \n",
    "\n",
    "def plotPhi(phi):\n",
    "    mesh.plotImage(phi)\n",
    "    plt.title('Electric Potential, $\\phi$')\n",
    "    plt.show()"
   ]
  },
  {
   "cell_type": "markdown",
   "metadata": {},
   "source": [
    "# Lets Explore using Interact"
   ]
  },
  {
   "cell_type": "markdown",
   "metadata": {},
   "source": [
    "### Move the source"
   ]
  },
  {
   "cell_type": "markdown",
   "metadata": {},
   "source": [
    "The model has a uniform background conductivity:\n",
    "\n",
    "- `sigma` = 1 S/m\n",
    "\n",
    "We excite the system using a source which has positive and negative electrodes (ie. a current source and a current). We will plot the electric potential; when a DC resistivity survey is conducted, the data are potential differences, measured in units of volts. \n",
    "\n",
    "The parameters you can explore here are:\n",
    "\n",
    "- `xp`: x-position of the positive electrode\n",
    "- `yp`: y-position of the positive electrode\n",
    "- `xn`: x-position of the negative electrode\n",
    "- `yn`: y-position of the negative electrode "
   ]
  },
  {
   "cell_type": "code",
   "execution_count": 10,
   "metadata": {
    "collapsed": false
   },
   "outputs": [
    {
     "data": {
      "image/png": "[encoded data removed]",
      "text/plain": [
       "<matplotlib.figure.Figure at 0x10a0cb590>"
      ]
     },
     "metadata": {},
     "output_type": "display_data"
    }
   ],
   "source": [
    "from IPython.html.widgets import interact\n",
    "\n",
    "interact(lambda xp,yp,xn,yn: plotPhi(SolveDCprimary(xp,yp,xn,yn,mesh,sigma)), xp=[0.1,0.8,0.05],yp=[0.1,0.9,0.05],xn=[0.2,0.9,0.05],yn=[0.1,0.9,0.05])"
   ]
  },
  {
   "cell_type": "markdown",
   "metadata": {},
   "source": [
    "## Add a Conductive Block"
   ]
  },
  {
   "cell_type": "code",
   "execution_count": 13,
   "metadata": {
    "collapsed": false
   },
   "outputs": [],
   "source": [
    "def CondBlock(xp,yp,xn,yn,mesh,sigma,sigmabl,p0,p1):  \n",
    "    sigmaBl = Utils.ModelBuilder.addBlock(mesh.gridCC, sigma, p0, p1, sigmabl)\n",
    "    return SolveDCprimary(xp,yp,xn,yn,mesh,sigmaBl)"
   ]
  },
  {
   "cell_type": "markdown",
   "metadata": {},
   "source": [
    "What happens if we add a conductive block?\n",
    "\n",
    "A conductive block with a conductivity of 100 S/m in the 1 S/m background. If you move the positive and negative electrodes around, can you find it? How big is it?"
   ]
  },
  {
   "cell_type": "code",
   "execution_count": 14,
   "metadata": {
    "collapsed": false
   },
   "outputs": [
    {
     "data": {
      "image/png": "[encoded data removed]",
      "text/plain": [
       "<matplotlib.figure.Figure at 0x1093db910>"
      ]
     },
     "metadata": {},
     "output_type": "display_data"
    }
   ],
   "source": [
    "interact(lambda xp,yp,xn,yn: plotPhi(CondBlock(xp,yp,xn,yn,mesh,sigma,sigmabl,p0,p1)), xp=[0.1,0.8,0.05],yp=[0.1,0.9,0.05],xn=[0.2,0.9,0.05],yn=[0.1,0.9,0.05])"
   ]
  },
  {
   "cell_type": "markdown",
   "metadata": {},
   "source": [
    "## Plot the secondary potential "
   ]
  },
  {
   "cell_type": "markdown",
   "metadata": {},
   "source": [
    "Write a function to compute the secondary field"
   ]
  },
  {
   "cell_type": "code",
   "execution_count": 17,
   "metadata": {
    "collapsed": true
   },
   "outputs": [],
   "source": [
    "def CondBlockSecondary(xp,yp,xn,yn,mesh,sigma,sigmabl,p0,p1):\n",
    "    sigmaBl = Utils.ModelBuilder.addBlock(mesh.gridCC, sigma, p0, p1, sigmabl)\n",
    "    sec = SolveDCprimary(xp,yp,xn,yn,mesh,sigmaBl) - SolveDCprimary(xp,yp,xn,yn,mesh,sigma)\n",
    "    return sec"
   ]
  },
  {
   "cell_type": "markdown",
   "metadata": {},
   "source": [
    "Here, we plot the difference in potentials computed with and without the block, ie. the signal due to the presence of the block"
   ]
  },
  {
   "cell_type": "code",
   "execution_count": 18,
   "metadata": {
    "collapsed": false
   },
   "outputs": [
    {
     "data": {
      "image/png": "[encoded data removed]",
      "text/plain": [
       "<matplotlib.figure.Figure at 0x108c0c990>"
      ]
     },
     "metadata": {},
     "output_type": "display_data"
    },
    {
     "data": {
      "text/plain": [
       "<function __main__.<lambda>>"
      ]
     },
     "execution_count": 18,
     "metadata": {},
     "output_type": "execute_result"
    }
   ],
   "source": [
    "interact(lambda xp,yp,xn,yn: plotPhi(CondBlockSecondary(xp,yp,xn,yn,mesh,sigma,sigmabl,p0,p1)), xp=[0.1,0.8,0.05],yp=[0.1,0.9,0.05],xn=[0.2,0.9,0.05],yn=[0.1,0.9,0.05])"
   ]
  },
  {
   "cell_type": "markdown",
   "metadata": {
    "collapsed": true
   },
   "source": [
    "## All parameters active\n",
    "\n",
    "Here, you can play with all of the parameters in this model:\n",
    "\n",
    "- `xp`: x-position of the positive electrode\n",
    "- `yp`: y-position of the positive electrode\n",
    "- `xn`: x-position of the negative electrode\n",
    "- `yn`: y-position of the negative electrode\n",
    "- `log10_sigmabl`: $log_{10}(\\sigma_{\\text{block}})$\n",
    "- `blcx` : x-center of the block\n",
    "- `blcy` : y-center of the block\n",
    "- `bldx` : x-width of the block\n",
    "- `bldy` : y-width of the block\n",
    "\n",
    "The first widget shows the measured potential and the second shows the secondary potential"
   ]
  },
  {
   "cell_type": "code",
   "execution_count": 19,
   "metadata": {
    "collapsed": false
   },
   "outputs": [
    {
     "data": {
      "image/png": "[encoded data removed]",
      "text/plain": [
       "<matplotlib.figure.Figure at 0x108c0d250>"
      ]
     },
     "metadata": {},
     "output_type": "display_data"
    },
    {
     "data": {
      "text/plain": [
       "<function __main__.<lambda>>"
      ]
     },
     "execution_count": 19,
     "metadata": {},
     "output_type": "execute_result"
    }
   ],
   "source": [
    "# total potential\n",
    "interact(lambda xp,yp,xn,yn,log10_sigmabl,blcx,blcy,bldx,bldy: plotPhi(CondBlock(xp,yp,xn,yn,mesh,sigma,10.**(log10_sigmabl),np.r_[blcx-bldx/2.,blcy-bldy/2.],np.r_[blcx+bldx/2.,blcy+bldy/2.])), xp=[0.1,0.8,0.05],yp=[0.1,0.9,0.05],xn=[0.2,0.9,0.05],yn=[0.1,0.9,0.05],log10_sigmabl=[-5,5,0.5],blcx=[0.,1.,0.05],blcy=[0.,1.,0.05],bldx=[0.,1.,0.05],bldy=[0.,1.,0.05])"
   ]
  },
  {
   "cell_type": "code",
   "execution_count": 20,
   "metadata": {
    "collapsed": false
   },
   "outputs": [
    {
     "data": {
      "image/png": "[encoded data removed]",
      "text/plain": [
       "<matplotlib.figure.Figure at 0x1090319d0>"
      ]
     },
     "metadata": {},
     "output_type": "display_data"
    },
    {
     "data": {
      "text/plain": [
       "<function __main__.<lambda>>"
      ]
     },
     "execution_count": 20,
     "metadata": {},
     "output_type": "execute_result"
    }
   ],
   "source": [
    "# secondary potential\n",
    "interact(lambda xp,yp,xn,yn,log10_sigmabl,blcx,blcy,bldx,bldy: plotPhi(CondBlockSecondary(xp,yp,xn,yn,mesh,sigma,10.**(log10_sigmabl),np.r_[blcx-bldx/2.,blcy-bldy/2.],np.r_[blcx+bldx/2.,blcy+bldy/2.])), xp=[0.1,0.8,0.05],yp=[0.1,0.9,0.05],xn=[0.2,0.9,0.05],yn=[0.1,0.9,0.05],log10_sigmabl=[-5,5,0.5],blcx=[0.,1.,0.05],blcy=[0.,1.,0.05],bldx=[0.,1.,0.05],bldy=[0.,1.,0.05])"
   ]
  },
  {
   "cell_type": "code",
   "execution_count": null,
   "metadata": {
    "collapsed": true
   },
   "outputs": [],
   "source": []
  },
  {
   "cell_type": "code",
   "execution_count": null,
   "metadata": {
    "collapsed": true
   },
   "outputs": [],
   "source": []
  }
 ],
 "metadata": {
  "kernelspec": {
   "display_name": "Python 2",
   "language": "python",
   "name": "python2"
  },
  "language_info": {
   "codemirror_mode": {
    "name": "ipython",
    "version": 2
   },
   "file_extension": ".py",
   "mimetype": "text/x-python",
   "name": "python",
   "nbconvert_exporter": "python",
   "pygments_lexer": "ipython2",
   "version": "2.7.10"
  }
 },
 "nbformat": 4,
 "nbformat_minor": 0
}
