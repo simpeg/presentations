{
 "cells": [
  {
   "cell_type": "code",
   "execution_count": 9,
   "metadata": {
    "collapsed": false
   },
   "outputs": [
    {
     "name": "stdout",
     "output_type": "stream",
     "text": [
      "Populating the interactive namespace from numpy and matplotlib\n"
     ]
    }
   ],
   "source": [
    "from SimPEG import * \n",
    "%pylab inline"
   ]
  },
  {
   "cell_type": "markdown",
   "metadata": {},
   "source": [
    "# DC Resistivity Simulations\n",
    "\n",
    "DC resistivity is a zero-frequency electromagnetic problem. A DC resistivity geophysical survey is sensitive to variations in electrical conductivity. \n",
    "\n",
    "The governing equation is: \n",
    "\n",
    "$$\n",
    "\\nabla \\cdot \\sigma \\nabla \\phi = s\n",
    "$$\n",
    "\n",
    "where $\\sigma$ is the electrical conductivity (S/m), $\\phi$ is the electrical potential (V), and $s$ is the source.  "
   ]
  },
  {
   "cell_type": "markdown",
   "metadata": {},
   "source": [
    "## Set up a Mesh"
   ]
  },
  {
   "cell_type": "code",
   "execution_count": 48,
   "metadata": {
    "collapsed": false
   },
   "outputs": [],
   "source": [
    "nx,ny = 50,50 # number of cells in x,y\n",
    "mesh = Mesh.TensorMesh([nx,ny]) # build a tensor mesh\n",
    "sigma = np.ones(mesh.nC) # assign a conductivity model\n",
    "\n",
    "# create source\n",
    "xp, yp = 0.25, 0.5\n",
    "xn, yn = 0.75, 0.5\n",
    "s = np.zeros(mesh.nC)\n",
    "indp = Utils.closestPoints(mesh,np.r_[xp,yp],'CC')\n",
    "indn = Utils.closestPoints(mesh,np.r_[xn,yn],'CC')\n",
    "s[indp] = 1.\n",
    "s[indn] = -1"
   ]
  },
  {
   "cell_type": "code",
   "execution_count": 55,
   "metadata": {
    "collapsed": true
   },
   "outputs": [],
   "source": [
    "# This can be hidden and imported depending on how much you want to expose\n",
    "def getOperators(mesh,sigma):\n",
    "    Div = mesh.faceDiv\n",
    "    Sigma = Utils.sdiag(1/(mesh.aveF2CC.T * (1/sigma)))\n",
    "    Grad = mesh.cellGrad\n",
    "    return Div, Sigma, Grad"
   ]
  },
  {
   "cell_type": "markdown",
   "metadata": {},
   "source": [
    "# DC Resistivity\n",
    "## $ \\nabla \\cdot \\sigma \\nabla \\phi = s $"
   ]
  },
  {
   "cell_type": "code",
   "execution_count": 51,
   "metadata": {
    "collapsed": true
   },
   "outputs": [],
   "source": [
    "# Construct A Matrix\n",
    "Div, Sigma, Grad = getOperators(mesh,sigma)\n",
    "A = Div * Sigma * Grad\n",
    "Ainv = Solver(A)"
   ]
  },
  {
   "cell_type": "code",
   "execution_count": 52,
   "metadata": {
    "collapsed": false
   },
   "outputs": [],
   "source": [
    "phi = Ainv * s"
   ]
  },
  {
   "cell_type": "code",
   "execution_count": 53,
   "metadata": {
    "collapsed": false
   },
   "outputs": [
    {
     "data": {
      "text/plain": [
       "<matplotlib.text.Text at 0x108507e90>"
      ]
     },
     "execution_count": 53,
     "metadata": {},
     "output_type": "execute_result"
    },
    {
     "data": {
      "image/png": "[encoded data removed]",
      "text/plain": [
       "<matplotlib.figure.Figure at 0x1083da6d0>"
      ]
     },
     "metadata": {},
     "output_type": "display_data"
    }
   ],
   "source": [
    "mesh.plotImage(phi)\n",
    "plt.title('Electric Potential, $\\phi$')"
   ]
  },
  {
   "cell_type": "code",
   "execution_count": 56,
   "metadata": {
    "collapsed": false
   },
   "outputs": [],
   "source": [
    "def MoveSrc(xp,yp,xn,yn):\n",
    "    s = np.zeros(mesh.nC)\n",
    "    indp = Utils.closestPoints(mesh,np.r_[xp,yp],'CC')\n",
    "    indn = Utils.closestPoints(mesh,np.r_[xn,yn],'CC')\n",
    "    s[indp] = 1.\n",
    "    s[indn] = -1.\n",
    "    \n",
    "    phi = Ainv * s\n",
    "    \n",
    "    mesh.plotImage(phi)\n",
    "    plt.title('Electric Potential, $\\phi$')\n",
    "    plt.show()"
   ]
  },
  {
   "cell_type": "code",
   "execution_count": 57,
   "metadata": {
    "collapsed": false
   },
   "outputs": [
    {
     "name": "stdout",
     "output_type": "stream",
     "text": [
      "### SolverWarning ###: Accuracy on solve is above tolerance: 9.765625e-03 > 1.000000e-06\n"
     ]
    },
    {
     "name": "stderr",
     "output_type": "stream",
     "text": [
      "/Users/lindseyjh/git/python_symlinks/SimPEG/Utils/SolverUtils.py:13: RuntimeWarning: ### SolverWarning ###: Accuracy on solve is above tolerance: 9.765625e-03 > 1.000000e-06\n",
      "  warnings.warn(msg, RuntimeWarning)\n"
     ]
    },
    {
     "data": {
      "image/png": "[encoded data removed]",
      "text/plain": [
       "<matplotlib.figure.Figure at 0x108639510>"
      ]
     },
     "metadata": {},
     "output_type": "display_data"
    },
    {
     "data": {
      "text/plain": [
       "<function __main__.MoveSrc>"
      ]
     },
     "execution_count": 57,
     "metadata": {},
     "output_type": "execute_result"
    }
   ],
   "source": [
    "from IPython.html.widgets import *\n",
    "interact(MoveSrc, xp=[0.25,0.5,0.05],yp=[0.25,0.75,0.05],xn=[0.5,0.75,0.05],yn=[0.25,0.75,0.05] )"
   ]
  },
  {
   "cell_type": "code",
   "execution_count": null,
   "metadata": {
    "collapsed": true
   },
   "outputs": [],
   "source": []
  }
 ],
 "metadata": {
  "kernelspec": {
   "display_name": "Python 2",
   "language": "python",
   "name": "python2"
  },
  "language_info": {
   "codemirror_mode": {
    "name": "ipython",
    "version": 2
   },
   "file_extension": ".py",
   "mimetype": "text/x-python",
   "name": "python",
   "nbconvert_exporter": "python",
   "pygments_lexer": "ipython2",
   "version": "2.7.10"
  }
 },
 "nbformat": 4,
 "nbformat_minor": 0
}
